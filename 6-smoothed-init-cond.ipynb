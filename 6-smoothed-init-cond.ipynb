{
  "nbformat": 4,
  "nbformat_minor": 0,
  "metadata": {
    "colab": {
      "name": "Heat.ipynb",
      "provenance": [],
      "toc_visible": true
    },
    "kernelspec": {
      "name": "python3",
      "display_name": "Python 3"
    },
    "accelerator": "GPU",
    "widgets": {
      "application/vnd.jupyter.widget-state+json": {
        "e8805babd46a4d3c95062ddc675573ba": {
          "model_module": "@jupyter-widgets/controls",
          "model_name": "HBoxModel",
          "state": {
            "_view_name": "HBoxView",
            "_dom_classes": [],
            "_model_name": "HBoxModel",
            "_view_module": "@jupyter-widgets/controls",
            "_model_module_version": "1.5.0",
            "_view_count": null,
            "_view_module_version": "1.5.0",
            "box_style": "",
            "layout": "IPY_MODEL_36fba389d73044318fdc26b3240ebeb6",
            "_model_module": "@jupyter-widgets/controls",
            "children": [
              "IPY_MODEL_44bbf722c4a74e7dbd490b42176ab977",
              "IPY_MODEL_86e99daad564437799c44d76d33c343d"
            ]
          }
        },
        "36fba389d73044318fdc26b3240ebeb6": {
          "model_module": "@jupyter-widgets/base",
          "model_name": "LayoutModel",
          "state": {
            "_view_name": "LayoutView",
            "grid_template_rows": null,
            "right": null,
            "justify_content": null,
            "_view_module": "@jupyter-widgets/base",
            "overflow": null,
            "_model_module_version": "1.2.0",
            "_view_count": null,
            "flex_flow": null,
            "width": null,
            "min_width": null,
            "border": null,
            "align_items": null,
            "bottom": null,
            "_model_module": "@jupyter-widgets/base",
            "top": null,
            "grid_column": null,
            "overflow_y": null,
            "overflow_x": null,
            "grid_auto_flow": null,
            "grid_area": null,
            "grid_template_columns": null,
            "flex": null,
            "_model_name": "LayoutModel",
            "justify_items": null,
            "grid_row": null,
            "max_height": null,
            "align_content": null,
            "visibility": null,
            "align_self": null,
            "height": null,
            "min_height": null,
            "padding": null,
            "grid_auto_rows": null,
            "grid_gap": null,
            "max_width": null,
            "order": null,
            "_view_module_version": "1.2.0",
            "grid_template_areas": null,
            "object_position": null,
            "object_fit": null,
            "grid_auto_columns": null,
            "margin": null,
            "display": null,
            "left": null
          }
        },
        "44bbf722c4a74e7dbd490b42176ab977": {
          "model_module": "@jupyter-widgets/controls",
          "model_name": "IntProgressModel",
          "state": {
            "_view_name": "ProgressView",
            "style": "IPY_MODEL_363255d0f3c843dca38b494df838878c",
            "_dom_classes": [],
            "description": "100%",
            "_model_name": "IntProgressModel",
            "bar_style": "success",
            "max": 30000,
            "_view_module": "@jupyter-widgets/controls",
            "_model_module_version": "1.5.0",
            "value": 30000,
            "_view_count": null,
            "_view_module_version": "1.5.0",
            "orientation": "horizontal",
            "min": 0,
            "description_tooltip": null,
            "_model_module": "@jupyter-widgets/controls",
            "layout": "IPY_MODEL_303268a71a6346579191833c14d4d195"
          }
        },
        "86e99daad564437799c44d76d33c343d": {
          "model_module": "@jupyter-widgets/controls",
          "model_name": "HTMLModel",
          "state": {
            "_view_name": "HTMLView",
            "style": "IPY_MODEL_5c3549aae9434c5a87b85f4fba9459c7",
            "_dom_classes": [],
            "description": "",
            "_model_name": "HTMLModel",
            "placeholder": "​",
            "_view_module": "@jupyter-widgets/controls",
            "_model_module_version": "1.5.0",
            "value": " 30000/30000 [02:28&lt;00:00, 202.26it/s]",
            "_view_count": null,
            "_view_module_version": "1.5.0",
            "description_tooltip": null,
            "_model_module": "@jupyter-widgets/controls",
            "layout": "IPY_MODEL_e1859e2d6b01457aa1167a517ad4b6d2"
          }
        },
        "363255d0f3c843dca38b494df838878c": {
          "model_module": "@jupyter-widgets/controls",
          "model_name": "ProgressStyleModel",
          "state": {
            "_view_name": "StyleView",
            "_model_name": "ProgressStyleModel",
            "description_width": "initial",
            "_view_module": "@jupyter-widgets/base",
            "_model_module_version": "1.5.0",
            "_view_count": null,
            "_view_module_version": "1.2.0",
            "bar_color": null,
            "_model_module": "@jupyter-widgets/controls"
          }
        },
        "303268a71a6346579191833c14d4d195": {
          "model_module": "@jupyter-widgets/base",
          "model_name": "LayoutModel",
          "state": {
            "_view_name": "LayoutView",
            "grid_template_rows": null,
            "right": null,
            "justify_content": null,
            "_view_module": "@jupyter-widgets/base",
            "overflow": null,
            "_model_module_version": "1.2.0",
            "_view_count": null,
            "flex_flow": null,
            "width": null,
            "min_width": null,
            "border": null,
            "align_items": null,
            "bottom": null,
            "_model_module": "@jupyter-widgets/base",
            "top": null,
            "grid_column": null,
            "overflow_y": null,
            "overflow_x": null,
            "grid_auto_flow": null,
            "grid_area": null,
            "grid_template_columns": null,
            "flex": null,
            "_model_name": "LayoutModel",
            "justify_items": null,
            "grid_row": null,
            "max_height": null,
            "align_content": null,
            "visibility": null,
            "align_self": null,
            "height": null,
            "min_height": null,
            "padding": null,
            "grid_auto_rows": null,
            "grid_gap": null,
            "max_width": null,
            "order": null,
            "_view_module_version": "1.2.0",
            "grid_template_areas": null,
            "object_position": null,
            "object_fit": null,
            "grid_auto_columns": null,
            "margin": null,
            "display": null,
            "left": null
          }
        },
        "5c3549aae9434c5a87b85f4fba9459c7": {
          "model_module": "@jupyter-widgets/controls",
          "model_name": "DescriptionStyleModel",
          "state": {
            "_view_name": "StyleView",
            "_model_name": "DescriptionStyleModel",
            "description_width": "",
            "_view_module": "@jupyter-widgets/base",
            "_model_module_version": "1.5.0",
            "_view_count": null,
            "_view_module_version": "1.2.0",
            "_model_module": "@jupyter-widgets/controls"
          }
        },
        "e1859e2d6b01457aa1167a517ad4b6d2": {
          "model_module": "@jupyter-widgets/base",
          "model_name": "LayoutModel",
          "state": {
            "_view_name": "LayoutView",
            "grid_template_rows": null,
            "right": null,
            "justify_content": null,
            "_view_module": "@jupyter-widgets/base",
            "overflow": null,
            "_model_module_version": "1.2.0",
            "_view_count": null,
            "flex_flow": null,
            "width": null,
            "min_width": null,
            "border": null,
            "align_items": null,
            "bottom": null,
            "_model_module": "@jupyter-widgets/base",
            "top": null,
            "grid_column": null,
            "overflow_y": null,
            "overflow_x": null,
            "grid_auto_flow": null,
            "grid_area": null,
            "grid_template_columns": null,
            "flex": null,
            "_model_name": "LayoutModel",
            "justify_items": null,
            "grid_row": null,
            "max_height": null,
            "align_content": null,
            "visibility": null,
            "align_self": null,
            "height": null,
            "min_height": null,
            "padding": null,
            "grid_auto_rows": null,
            "grid_gap": null,
            "max_width": null,
            "order": null,
            "_view_module_version": "1.2.0",
            "grid_template_areas": null,
            "object_position": null,
            "object_fit": null,
            "grid_auto_columns": null,
            "margin": null,
            "display": null,
            "left": null
          }
        },
        "52842f47a800454681b02f336415219d": {
          "model_module": "@jupyter-widgets/controls",
          "model_name": "VBoxModel",
          "state": {
            "_view_name": "VBoxView",
            "_dom_classes": [
              "widget-interact"
            ],
            "_model_name": "VBoxModel",
            "_view_module": "@jupyter-widgets/controls",
            "_model_module_version": "1.5.0",
            "_view_count": null,
            "_view_module_version": "1.5.0",
            "box_style": "",
            "layout": "IPY_MODEL_43ae959f189a41539cbb3a2c6185f4f1",
            "_model_module": "@jupyter-widgets/controls",
            "children": [
              "IPY_MODEL_0fbb7f876eb643d5b7afe8e970c5eccf",
              "IPY_MODEL_0f7d24d6bc6345e9a01d4e20bbb9c445"
            ]
          }
        },
        "43ae959f189a41539cbb3a2c6185f4f1": {
          "model_module": "@jupyter-widgets/base",
          "model_name": "LayoutModel",
          "state": {
            "_view_name": "LayoutView",
            "grid_template_rows": null,
            "right": null,
            "justify_content": null,
            "_view_module": "@jupyter-widgets/base",
            "overflow": null,
            "_model_module_version": "1.2.0",
            "_view_count": null,
            "flex_flow": null,
            "width": null,
            "min_width": null,
            "border": null,
            "align_items": null,
            "bottom": null,
            "_model_module": "@jupyter-widgets/base",
            "top": null,
            "grid_column": null,
            "overflow_y": null,
            "overflow_x": null,
            "grid_auto_flow": null,
            "grid_area": null,
            "grid_template_columns": null,
            "flex": null,
            "_model_name": "LayoutModel",
            "justify_items": null,
            "grid_row": null,
            "max_height": null,
            "align_content": null,
            "visibility": null,
            "align_self": null,
            "height": null,
            "min_height": null,
            "padding": null,
            "grid_auto_rows": null,
            "grid_gap": null,
            "max_width": null,
            "order": null,
            "_view_module_version": "1.2.0",
            "grid_template_areas": null,
            "object_position": null,
            "object_fit": null,
            "grid_auto_columns": null,
            "margin": null,
            "display": null,
            "left": null
          }
        },
        "0fbb7f876eb643d5b7afe8e970c5eccf": {
          "model_module": "@jupyter-widgets/controls",
          "model_name": "IntSliderModel",
          "state": {
            "_view_name": "IntSliderView",
            "style": "IPY_MODEL_d7533b1893b341da8525346a73e4bd70",
            "_dom_classes": [],
            "description": "index",
            "step": 1,
            "_model_name": "IntSliderModel",
            "orientation": "horizontal",
            "max": 29999,
            "_view_module": "@jupyter-widgets/controls",
            "_model_module_version": "1.5.0",
            "value": 1461,
            "_view_count": null,
            "disabled": false,
            "_view_module_version": "1.5.0",
            "min": 0,
            "continuous_update": true,
            "readout_format": "d",
            "description_tooltip": null,
            "readout": true,
            "_model_module": "@jupyter-widgets/controls",
            "layout": "IPY_MODEL_c0ee0cfb8a8347f98cdc50f6edb75533"
          }
        },
        "0f7d24d6bc6345e9a01d4e20bbb9c445": {
          "model_module": "@jupyter-widgets/output",
          "model_name": "OutputModel",
          "state": {
            "_view_name": "OutputView",
            "msg_id": "",
            "_dom_classes": [],
            "_model_name": "OutputModel",
            "outputs": [
              {
                "output_type": "display_data",
                "metadata": {
                  "tags": []
                },
                "image/png": "iVBORw0KGgoAAAANSUhEUgAAAf4AAAHrCAYAAAAudP8NAAAABHNCSVQICAgIfAhkiAAAAAlwSFlzAAALEgAACxIB0t1+/AAAADh0RVh0U29mdHdhcmUAbWF0cGxvdGxpYiB2ZXJzaW9uMy4yLjEsIGh0dHA6Ly9tYXRwbG90bGliLm9yZy+j8jraAAAgAElEQVR4nOy9eXxU1f3//7ozk0nYgiyWmmCg7JhGkY82cSNF4COL0iJosdTIIhbDphZk82MroKGiAsomSngE1F+qVSMiWnH5gLZafx9EBcQYEgGhFTERJixZZuZ+/6BMznnf3JM7w72TSeb95DEP5t732ebOZM7c83qf91vTdV0HwzAMwzBxgauxB8AwDMMwTPTgiZ9hGIZh4gie+BmGYRgmjuCJn2EYhmHiCJ74GYZhGCaO4ImfYRiGYeKIRpn4Dxw4gEmTJuHyyy9HVlYWFi1ahDNnzjTGUBiGYRgmrvBEu0Ofz4ecnBykpKRgxYoVqKioQF5eHioqKrBs2bJoD4dhGIZh4oqoT/yFhYXw+XwoKipC+/btAQButxuzZs1Cbm4uevbsGe0hMQzDMEzcEPWJf8eOHcjKygpN+gBwww03YP78+dixY4flif/tTmNDzz0ISrYEre44wSXbPMKx2yUHLfS462weT0CyuT1CPbdubkuQ+xOPXR65niuh7tjllUzQyDvj8mqCTZPLel31PgcAeARbgpvY3IKNdCjVSzCtB7fcpuYl7bjNy8IrtOuW62liWY+qTYXNUM9T//NwbADgcpnaNHdC/eVoWY3azOtpLkWbmvlY4HKbl6V9KGxyPUWbFKEdzWK5elHWdZvbYolgoOEy59CF75Bg0LyYTmyKsnKbAYVNbkPZB7El9rrWvP/zoPaHMkfaTejYzZF2mwJR1/hLS0vRo0cP6ZzX60VaWhrKypx5gxmGaaKoJn2GYSKiUTT+5ORkw/nk5GScOHEi2sNhGIZhYplwVksYS/DPaYZhGIaJI6J+x5+cnAyfz2c47/P50K2bdc3ljLAEmEDyCwb0Og08EJD18IRgXT2Pi+pZ9T8HAD1Y106QaPyi1GWoJxy7dVpPF54T3wCi+QeFsppXbkcTbUFi84j6HbH562w6tQVcCpu5bm/QBAW75iF6bCBQbzkA0EV9nvoRiD4HrlrT/gyat6JNpcav0upJWV2h/4vL1pIvAO1D1SZd+nYpXq9GdXyhLHlNeqQav6I/qMZtVs5Ku1Jdixp/U5UM6N+TCqt3xmG0SX0zdOkwStc0nGvAWCLqfw3du3dHaWmpdK6mpgaHDh0Ka+JnGCYOaKoTNsPEMFH/qxowYAA+/vhj/Pjjj6Fz27ZtQ01NDbKzs6M9HIZhGCaWCQadecQxUZ/4x44dizZt2iA3NxcffPABioqKsGjRIgwfPtzg7c8wDMPEN7oedOQRzzSKxl9QUIDFixdj+vTpSExMxIgRIzB79uyw2qnSBB2f/H4JoE6TFvV+AAgKbzj90adL5Wi9umM30bxF6Z7WE30DDDq+sMc/UOuGy23uZOCSdHx53C5R86cvStj/D/pZ9yqcGvzCNQ1SJwpzbV5TaPx6gOrqEer/qv6lGANE8/QL/gAqjR8gmruibDh79QUfA12lh6u0esP+e3PdPmJfgXD0eNFvQXObliWfIOVrMhBtjb+h8Zh10RxlCfp5Y3/wZkHUJ34A+NnPfob169c3Rtcxi8tt+GpkGosIv/gZB2iOkykTHnG+LO8E/FfFMAzDMHFEo9zxMwzDMIwl4lyPdwK+42cYhmGYOKLJ3vGfdtU5rXmJQ11AcFQLErci0U+NOv6JwX5om7pwrLvNf4GKznyGegrHP5rcRyfOdm5B53JRZzuhqiq4D00EJAbmkQL9AIBXcLyjzoxCAh/QegHiUCck/9EUzn1hOf7V+oX+ieOflKTHPKGMoU2lw54iMQ1NBCQ4nRpsNQqHNpVToMu8nuQk2FDgIatOghRF/2Kbuso3QuVM2GDZMNoVTVZfk4owHB2VXjp2JRqy6vOgeH22JUyKVoIkDtlrO41+x3/q1CkMGDAAvXv3xu7duxt7OAzDxBLsaMnoQWcecUyj/1WtXLkSAXqXyDAMwzCMIzTqxP/111+jsLAQM2bMaMxhMAzDMLEKR+6znUbV+BcuXIhx48aha9euYdc9o4gvIyXUIfV04bcO1dF1CPUUWr0hSI8YBycM2UuV3MdtWIoyT5qjS/o/qSXo+kHyYdc8wuvwyq9JvHA60fHFBD5ioh8A0L3yR0r0D9BJWXjqVnq0WnNdXTfo8YL+T30DBN8PY+AdoU3an8c8gI3BH8Cqxq/S8Q1auaJehMF9IvYVoCgD/0SWiCcs/T1CjV8ZsEhqPwx/A9W47PI3iPS9EKFfRJIvBh1bhL4ZHGOhydJo71xRUREOHjyIu+++u7GGwDBMrMMaf9zDIXvtp1Hu+CsrK7F06VLMmTMHrVq1aowhMAzDME2BOF+Wd4JG+Tm9fPlydOnSBSNHjmyM7hmGYRgmbon6HX9JSQkKCwuRn58Pn88HADh9+nTo/5MnT6J169YNtnNGkXsmKOn/NNmO8JxUlA6pEKaoZzW5j4f6Bggau9/vhkfQvA3xAIRODXv+xRdM/RbEffxUHvaKiX/I/n+PuMef6P9irAAPdbBQJPuhe/5rxT3v5hq/cv9/LRmbVa2e6v+0HTHBDC2rSuAj2DQXaTNS3wCVji9pvuavwVjWHq3ecrIdlU9BWHvHw9GjLWruYYw7Uv1dp34EEb4m5bjFsoZkWQl1z+n3lzjshu4FxVgY1N/EKeJ8Wd4Joj7xHzx4EH6/Hzk5OQZbTk4O+vTpg9deey3aw2p0xEmfaWRYV44d2IGMYWwn6hN///79sXHjRuncvn37kJeXh4ceegjp6enRHhLDMAwTq3DkPtuJ+sTfvn17ZGZm1mtLT09HRkZGlEfEMAzDxCy81G87vI7GMAzDMHFETCTpyczMRHFxcVh1qjQhMAyII5zw3OD4J5YlP3tkx7wgsYmBf8yT7YSDnMBHthkD+Jj3Jzr7GZL7iDbiwCcG+6EJfGQvSGoT2vRQp0AapEe4yAESCEhwRtOpc5/YDg3pLDnJEecnMTAPcbyTHAHDSeCjdNKj7QivSeVcp2qTBrsRy4YRlEfp7Hc+7ViuZ0MgmobKWnXMMzjbWXSoizTRUUNBiCz3QZNQCV/ZuqJ/w1d7bd1T0dHvbCd1T6nnsjsMx0en4O18tsN3/AzDxC7saMkwthMTd/wMwzAMUy+s8dsO/5xmGIZhmDiiyd7xV0uyIxHIYVVzJ8F2pCMXsYmZeBQRMGhQIEnHJ74Bbuu/ZHUpEBAJ4CMMjfoGiMF93AnmwXYM+r/wydAMOr4iuI+HBikSy4ah//tFPwJzvVRMGAQAuipJj2BTJgVSBPOh7dA+NMs6vkp/J9dQpaNb1f9RT0Ah07GFESRI0V+kwX0aDERkOrYoBCxSJFpSBiVS9K9RzV2VlEnc2kbqiXl5NMMOOI+5URwb1fRp4KFwfDPsgjV+22myEz/DMHEAa/xxj67zPn67aZS/qnfeeQdjxozB5ZdfjmuuuQbTp0/HgQMHGmMoDMMwDBNXRH3i/+ijjzBt2jR069YNK1euxAMPPICysjJMmDABJ0+ejPZwGIZhmFhGDzrziGOivtS/ZcsWpKSk4M9//nNoH3dqaipuueUW7Ny5E9nZ2ZbaqRLFdIPWJGrS1vfYEyVbUZLo/+KHiCb3kQpaHophX79HoXOpXAVE7Z7q+G6hTZrAR0ruQ9rXxEtPk/vQY7+4d16h/7uora4TquNLunYN9TEQdVZ5iVATbLpKfyd9KPf1G/aHK5LtKPV4ob8I6zW0LK6rEgGpfBNEVFp1hPUaTtLjcAKjiPfYW9f/Da9fKKvTv23xmhr21Vv7ytZpeAnxe8ngoxTfk2A8EvWJ3+/3o1WrVlLwljZt2kR7GAxjjmoCY6KLypmQiQ/Yuc92or7UP2rUKJSVlWHTpk3w+Xw4fPgw/vznP6N79+646qqroj0chmEYJpbhpX7bifrEn5WVhaeeegrLli3DlVdeiUGDBuHIkSPYsGEDvF4aN5ZhGIZhGDuJ+lL/p59+ijlz5mDMmDG4/vrrcfz4caxevRp33303XnjhBSQlJVlqp1oVkV/S0yLd40+xqPmTX5JijP+gYRt9XZs1ATc8gpieQDQ6uU2qh2umNo+glVONX/QjcAXIPn634BsQoLq9as+/PFZpz7+fxgMw1//hF56TOALS5SbL8pI/AF2yF/0BFLEBDHVr/eY2peZOxmZxj7/B/8BqbABKhP0r21Hsuad/aUod3S4/Ajs0fpX/gSEWhEWNn7ZLbeL3RIB8vhT6v6T5h3PXKsbx10g9xXcNTYmreYSbM7rH3yk4La/tRH3iX7x4MTIzMzF//vzQuX79+uGXv/wlXnvtNfzmN7+J9pBiAg/1oGsiUKfAZgFr/LFDU93HH63gNgwTAVH/dJaWlqJPnz7SuZ/+9Kdo164dDh06FO3hMAzDMLEMa/y2E/X7tZSUFOzdu1c6d+TIEfz4449ITU2N9nAYhmGYWIa9+m0n6nf848aNw3vvvYdFixbhH//4B7Zu3YopU6agQ4cOGDZsWLSHwzAMwzBxRdTv+MeNG4eEhAS88MILeOWVV9CqVStcdtllWL58Odq1a2e5nRrJoY8kI3EguI+mOJIh/enm45RsQeu/wVw0uo+A29wEt27u3Gdw/BMD/5B6LrGs3lAAH+E59X0KWnP80/3EwcilcgoUPRZlk+g0p9FEPIKzn2ZIkkMdw6wF6TEEJVI5BZq1b2gzcic5ZXAhVZuq5EJSsTACD6n6UzkQhhN4SOH4J7031PFO5RSoCtLjFj7sHtImdeALCHaV4x9B+e2luMa65CBJygnOczrpOya8XeJ8Wd4Joj7xa5qG3/zmN3HrxMcwTBhwAB+GsZ3m6JPNMAzDNBdY47cd3nPCMAzDMHFEk73jr4J5UAeX9HvGPLgP/dUT+aJiZMF9lDaF5u9WaYC6+VioVi8m91Fr/EFiq/85YNS1XWIAn3D0f4VWLwcFojq6+VikdmgAH78Q6AhQavWqID3yQMOoZzVJjmosDe0dtxpcSFVPqSM3cuAhVf8kEI/kK+CqlesJmrvhvXcL3zsGjV/oIxAwtwHqPyKLGEKTqYILiXfN9A461jV0vuO3nSY78TOMY3AAn5hB+YOEiQt0nSP32Y2tE//Bgwexfv16fP755ygpKUG3bt2wZcuWkD0QCCA/Px/bt2/H/v37EQgE0KtXL0ybNo0T9DAMwzBMFLD153RJSQm2b9+OLl26oHv37gZ7VVUVnn76afTp0wd5eXl44okn0KlTJ0yYMAHvv/++nUNhGIZhmgPBoDOPOMbWO/7rr78egwcPBgDMnTsXe/bskexJSUl499130bZt29C5a6+9FgcOHEB+fj4GDhxoua9qQZei+66JykyOdBMLlFuHRIvq15LRpqgpvIZauJEAvV4bgDD2+ZN6/jpt0U0+7Lq7bmwu0p+455+GDZD0f6rbu6ivgGgz1/+hSvxDL5voG0D6Ey+x5qFjsxgbgLRjSASk1OAt1gtDx9ekfezh6P+RxQoIL4GOtfGEtcdffJ+AMPbqh+EbIGruBq1e2NeusGkeotsHhQ8tnViCdK++IuBGhCj36rsThK7JZ1+l/zPNElvv+F0N6HFut1ua9IGzX2p9+vTB999/b+dQmhwJxtxmTGPBsnLswBo/w7H6bafRnfuCwSB27dpVrzTAMAzDxDm8CmE7jT7xb9q0Cd988w0WLVrU2ENhGIZhmHo5cOAAFi1ahE8//RSJiYkYMWIEZs2ahRYtWpjWOXz4MAYNGmRq/+CDD/CTn/wEwFmp/MiRI4YyH330Edq3b3/+L0CgUSf+Tz75BEuXLsXEiRNxxRVXNOZQGIZhmFgkBpblfT4fcnJykJKSghUrVqCiogJ5eXmoqKjAsmXLTOv95Cc/wV/+8hfD+fvuuw9t27YNTfrnuOGGGzBx4kTpXHJysj0vQqDRJv6vvvoKubm5GDx4MGbPnh12/VrBic1NgtZIfkqG9DpBoRxx/BNkduow6DJ5TqH9qdNqWAzuQ+3E0U/lHaArnPTEZD80uY9Yz02GFp5zn66wifVIIJ6AUM9N+6j/OT3W/dSmCAqktJkHCaLIDnyyTUoSZNFBkNZT99dA/AGxf5qIyKRcg+0qHOg06qRn1mZDDoMROgnqovOdwinQ4KTnVtQTbHqAfH2qHP8SDB6yMMXq0rbhuokBixJkW0AIUqRKCkTHRYN3iU7V1kbZLCgsLITP50NRUVHo7tvtdmPWrFnIzc1Fz549663n9XrRr18/6VxpaSmOHDmC22+/3VC+Y8eOhvJO0CieM4cOHcKdd96JSy65BI8++qjhS4hhGAYAB1NiYmI7344dO5CVlSUtud9www3wer3YsWNHWG1t3rwZbrcbI0aMCKuenUT9jv/YsWOYOHEiOnbsiNWrV8Pr9UZ7CAzDMExTwaGlfp/PB5/PZzifnJxsWF4vLS3F6NGjpXNerxdpaWkoKyuz3Keu63j99deRlZVlWOYHgNdffx0vvfQS3G43/uu//gv33Xcf0tPTLbdvFVsn/jNnzmD79u0AgCNHjuDkyZN46623AAAZGRno0KED7rzzTpSXl2Pu3LnYv3+/VD8aSxwMwzAMU1BQgJUrVxrOT5s2DdOnT5fO+Xy+erX25ORknDhxwnKfO3fuxJEjRzBjxgyD7frrr8ell16KlJQUHDlyBOvWrcO4cePw17/+FT169LDchxVsnfjLy8sxc+ZM6dy547y8PPziF7/AV199BQCYOnWqoX5xcbHlvmqEIBQugx5fd+wmAW3EBD7VRHkUm9GoHi4YIw3g4yIiu+Q3QF+DURStexpGcB+amIdUNBmNbNODsl4pBvtx6/QahqPxm9tEfVgzBPcR65Fha+Y2lW+ArHHTeoogQYZ2rPkKWPYTqKcdqT+rfgOkHZXmrvY/UOjvkfoNqHR70OsWRgCfgFWt3jyhjjFIjxhki1xFYfmYJrYyXFEa0EdCWAV1GRxVBBsN0lPXph6QEw9pbkVwoVjHofHeccd4jBo1ynDeCWe6c2zevBktWrTAkCFDDLYHHngg9PyKK67AgAEDMGzYMKxbtw6PPvqoreOwdeLv3Llzg5N3OJM7wzDxTYM/ZhgmQupb0leVrU8W8Pl86Natm6U2ampq8Le//Q2DBg1Cq1atGizfrl07ZGVlYe/evZbaDwcOi8UwDMPELjHg3Ne9e3eUlpZK52pqanDo0CHLE/+OHTtw/PhxjBw5Mqy+nYAnfoZhGIZRMGDAAHz88cf48ccfQ+e2bduGmpoaZGdnW2pj8+bN6NChA6655hpL5SsqKvDRRx8hIyMjojGraPTIfZEi7eMnOr64r98olwqaJFE6RTXPqLmLyX3M9/jX0v500Wa+bFkLDQmiZqgIB+AKY48/XIItQPY5i20SvVIXrqHbFSQ2l/CcXENDWVEDDkfjF2zkugUDCh1fqfFb8w2gdkNZk3IAItb/zcbZcFlrfgO0rAFFciFlG5H6DSjiD0hJiRooq0zgI2r39M3wKPbcCwmc9ID5Hn9NJ1+fimQ39NooBQzpw6fyaSCvKSD4A6j26hP9H8FE4Tnxd4gFf4AYCOAzduxYPPfcc8jNzUVubi7Ky8uxZMkSDB8+XHK8mz9/PoqKivDll19K9SsrK/G///u/uPXWW+HxGKfdLVu24P3338eAAQPQqVMnHDlyBM888wxqamowefJk219Pk534mxsJDmTrYiJDNdEzUYY1fiYGfnwkJyejoKAAixcvxvTp00Mhe2nwuWAwiAB1FgXwt7/9DdXV1abL/J07d8b333+PJUuWwOfzoXXr1vjFL36BJ5980pE8NpqudvsOi4MHD2L9+vX4/PPPUVJSgm7dumHLli2GctXV1Vi3bh1ee+01fPfdd2jXrh2ys7OxePFiy30NTxseep6kyb9fkoR790TyLS7avKC2ui+ZRGJL1MXnmqmNxMtCovCZpcG7xMmeTvw0W59U1rBSUddJgmZ+B+5W2FwuatPrLQfId6Qut/qOX755Id75bqt3/DC3OXDHr9oNQAnnjt+sXDhtGsuaRwpUllWNJ8I7fmOb53/H32AUQVXkQI/izRBshjt+sawiqp/mpZH73PU/BwCv/M2gJQjH9O7cK9yBJ5BvlARv/c8BwJtU/3MAWqIQT97jJbbW5vW8JA59UitTW0JHa1p3uJzZ/Jgj7bYYOcuRdpsCtt7xl5SUYPv27bjssssQDAbr3UoWDAaRm5uLAwcOYMqUKejSpQu+++477Nmzx86hMAzDMM2BGFjqb27YOvFff/31GDx4MABg7ty59U7mL7/8Mj777DNs3boVnTp1Cp2PBU9HhmEYhmnu2Drxu6izST289NJLGDp0qDTpR4IUwIc624krhWRZ3q2ZJ5lwC+uWLrKcLvZhiCEiPieLHKo0BJrYJrEZAviI7YQR3CcoOvuRZXjZEdDcKU+V3MdQjwT70RSSgcrxTyUniEU1w82AuLysCApk6M+8nqEH8bLRN9ysXD3HZjbV2xupw+DZuorXJfVh/qGlDoSROgxaTWZkLKsIIOQmzqt+oSxZstcCwufbTz5EogxgCJalCNIjLssH1Z8hVeou+BUOfC6FA5/o3BcggX/85vV04buUvl7Da2wMvT0GNP7mRlTdmGpra/Hll18iNTUVc+bMweWXX45+/fohNzcX//rXv6I5FIZhmgAcwIeBHnTmEcdEdeI/fvw4amtr8cwzz+CHH37Ak08+iYcffhhfffUV7rrrLvj9/oYbYRiGYRgmYqK6nS/4nyWbVq1aYdWqVUhKOutBmpaWhjFjxmDbtm0YNmxYNIfEMAzDxDK81G87UZ34k5OToWka+vfvH5r0gbOZ+1q3bo2SkhLLE79f0KVqycKFW0zSQ0RgyUbUVL9wbND4Jb8BeSyaIoGPeEzXMzTFkQHLUq714D5BQZ8OUl8ISY9XJPDRZe3UsJ1PzGkShv6viT4GQXP9X7XVDwGqFZsHBZK3+qnfC3nLoGrrm3X9XzaaBxMKp51wEhHJ9cIJIGQtKRH1XNBVPgXU30G1LdAj/mEqtHqi4+viVj8P9SERAlTRz55YltiUuj0dt6Dj6+SN0jS/eEDaEcpSHV/U7g1avaDj04lU+o5oYJKVyhr3qzNNg6hO/C1atEBqamq9Nk3TUF1dHc3hMAwT67DGz/Adv+1EPUbZwIEDsXPnTlRVVYXOffHFF6isrER6enq0h8MwDMPEMrruzCOOsfWO/8yZM9i+fTsA4MiRIzh58iTeeustAGeX81NTUzFp0iRs3rwZU6ZMwfjx4+Hz+bBs2TL06tWr3hzFDMMwDMPYh60Tf3l5OWbOnCmdO3ecl5eHm2++GRdddBE2btyIvLw8zJw5E16vF9nZ2Zg7dy4SaHhKBbWC1uSGrDWJyXBUCXzcNBGPoNIZ9X+hDVLPLfx6DBB1T0zao9L/A5oc0tfoDyAmFyIo9X/zPf5KlHv8hXgHRA/WyUZvKbkR1a4t6v+GUL+q8LqSjfQXtK7HK/V5TbNWTqX/K/f/O+A3AFiOORCW30DE+r/YhnlMBUBXhxMW/1A8pBNR16c24XOpUa1e+CxqHmoT6pGIuaiRRi0RjmChCzq+RvfxS/vxSVhg1T5+cblcEZtAaWssYmEMzQxbJ/7OnTujuLi4wXJ9+vRBQUGBnV03eWgcf6bxaCiADxNFOGESw9gOZ+djGIZhYhe+47cd/j3NMAzDMHFEk73jrxX2pbqJguYR9pYHiD4dEMTFWqJnidp9LVHpxB48xFYrWGs1HYmiHi/q9hrgFePMw9xmyD8g9qlKAKBcpTbf4x/QNUPa3pAt4JZ0dbFcICjvwdfJ2IKCluqmWq5F/Z/uuRc1Yc3gnUvzNljzB1Dv+Ycpas3dmp9AeHU1tQbvtO/AeeQmsJyPgO6rt+oPQO8Mzd1U5D34tD/BptdAjgcg6Pr6mQBJ0ys0ciYAJNR9vRr26kuBQciFCljV8cnXt2o/vlBPP10JTUivi0Btne1MrZym16D5B8xtThHn4XWdoMlO/LFKosKNx6uYlFW2aGA26QPGSVmqR4OmxBCqcasnyMZ9MyJ14FO9psZG6XgYYYCiqECdAkXopCySELtfrdKkT23ipB8r8FK/7dj2Z/Xmm28iNzcX2dnZ6NevH2666Sa88MILoTC959i+fTtGjRqFjIwMDB48GJs2bbJrCAzDMAzDNIBtP0s3bNiAlJQU3H///ejQoQP++c9/4uGHH8a3336LOXPmAAB27dqF3Nxc/OpXv8KcOXPw6aef4pFHHoHH48Ftt91m11AYhmGY5kKcB9txAtsm/rVr16J9+/ah46ysLJw+fRrPP/887r33Xni9XqxatQqXXHIJHnnkkVCZf//731i1ahV+85vfwEW1LoZhGIZhbMW2iV+c9M/Rt29fVFdX4/jx47jgggvw8ccf4w9/+INU5sYbb8SLL76IvXv3IiMjw3J/YpKegOY2tdXSYDsQA//INr9g8xCbGJjH4PgnFHWTH6eiwyANyiOOWp3ARw7gQ38BK+ObSEVpq9aC++gkgY+UDIUk/jEG2zFvR+UUqHL8Ex3xDIF3xP4UzoQqJ0Cjo5/cvVWnQIPNYhSX6DsMhhNsyPzaGIMgiQfW/RbEj9fZJD3mZSVHT0MyJ4XjnxjMidSTnP0Ud5s0gI8uBPAxJumRB677hc8wfVHuuu8v3S0HJ9M8wle2woHPEMBH5fgn2MRkPgCg0UQ84ST0sQvW+G3H0VvsnTt34oILLkCHDh1w6NAh1NbWonv37lKZnj17AgDKysqcHArDME0RXgRkgkFnHnGMY39Wu3fvxiuvvII77rgDbrcbJ06cAHA2Na/IueNzdoZhGIZhnMORPSfHjh3DjBkzkJGRgcmTJzvRBcMwDBMP8D5+27F94q+srMTkyZORlJSENWvWhBLvtG3bFgDg8/mk8ueOz9mtEhA+DLVElxK1ezGYDyAH9DHo/4IG7SeapJi0x6jV19Ujiph0TJdXJBuV0WF+bGynrrJBxpXynaiM5sF9DPqsqOuTffwa0fF1MVDBAIEAACAASURBVICOQed1mdok3wCFdk0D+EgBewzyrKiryhb61aJZDBKk8j8w9G51D74DfgOGdsKxqZISCR9i6icgJ0xSvCbapEGrr/85AGjiNxh9EwWtXqdtShq/4j0znKg7o5NvAim4j5++3lrpGMoAPsJFpVq9X/g+o3EEgkKSM4NPg0rHVyTp4Um3WWLrUn91dTXuvvtulJeX49lnn0W7du1CtrS0NCQkJBi0/P379wMAunXrZudQGCZiGjuAD1NHowfwYRodPag78ohnbPuz8vv9mDlzJoqLi/HMM88gNTVVsnu9XmRlZeHNN9+Uzm/ZsgUXXngh0tPT7RoKwzAM01xg5z7bsW2pf+HChXj//fcxe/ZsVFVV4bPPPgvZevTogdatW2Pq1Kn43e9+hwceeAA33XQTPv30U7z00kt48MEHeQ8/wzAMw0QB2yb+Dz/8EACwdOlSg23jxo3IzMzE5ZdfjtWrV+OJJ55AUVERfvKTn2DevHkRRe0T9+onUB1f0Bb9RM8SdX03WfAISDq+/IvQI+n4dI+/UI+IguK+frrPmu7jTzBJ4ANQjZ9YRS2V2sy3YBPN3/oef0nGb2Afv3hEI5sHhGapj4Oo66ti0CvrKfZgq+L4I6CR5X5zXV3lG0BRjceq30A4S9+G66aIfyDZwkhKJPsf0P4V8RZc5u+vyh9Ac1Otvu65S5GzRjN806neC2t3g4Y/J8HfRXPJF8Og+Ut79eW/DM0v1CX7+MV9/Rq9aw0oEuiIx+Hs8Vf6CnCSnqaKbRP/e++9Z6lcdnY2srOz7eq22ZAQ35JTTMEaf+zA7wXD2E/sppBiGIZhmDh3xHMCnvgZhmGY2CXOHfGcgD3qGIZhGCaOaLJ3/GIAnwBx/pBsGrXVLRsFiBNPQPCc8hNHLDGgj5s4BomuMjTxj+iaQy92OAF8xD4MCXx00fHQPIEPdfwTbUGaeEg1GslrigZBkouqfquL49apg5dwTK+N2GVAp4535vVEwgkKRFE5Bqp8BlUBhESUDoPEqHJ8PJ9ERGZ9GLpTOAXKQZBoPbF9Mk6PPE6p/6B5WRr4hzr7maO4hgYfA3OPVNEpT6c2+ochBekhXpEewdlP5WxH6wUVTnp+4RvEo2izAUc60aHP4FzoFHzHbzt8x88wTMyi/mHDMEwk2HbH/+abb+L111/H3r17ceLECVx88cW47bbbMHbs2Hr36O/Zswe33HILkpKSsGvXLruGwTAMwzQnGliBY8LHtol/w4YNSElJwf33348OHTrgn//8Jx5++GF8++23mDNnjlQ2GAziT3/6E9q3b4/Tp0/bNQSGYRiGYRrAtol/7dq1aN++feg4KysLp0+fxvPPP497770XXm9dBosXX3wRlZWVGD16NDZt2hRRf6okPR4hVEyA/FoUNf+AIYCPaDMP0kN19ADMNXYxbgeV+URtsyFtXDxWyKzKBD6GX86itqr8UW2eXMegCRK9Vlyp1RV6vCENjmX9nwQMkuopdPwGtHGVjn8+/gHnUAYQMrSptNY9ayBhjx5hcCFJrlb4BoQTMEgcK7XJQ9HgEv44aBfix49q+qLfSniapphcyDwgFU1QJV4oKQgPAHjkEYgBfTRVkB5isxxsRxWkh/7NSr4Biv5o2WgF1mGN33Zs0/jFSf8cffv2RXV1NY4fPx46V1FRgWXLlmHBggWhzH0ME0uEMykzzuKiv4iZ+COoO/OIYxx17tu5cycuuOACdOjQIXTuscceQ//+/TFgwAAnu2YYhmEYph4c2863e/duvPLKK5g6dSrc/4lFvWvXLrzxxhvYsmWLU90yDMMwzQmO1W87jkz8x44dw4wZM5CRkYHJkycDAAKBAB566CGMHz8eF1988Xn3YXUfv5/s4/eI9eg+fmEBhOrKonZP97zrkk0jNrENGfHiV2lyvH7Vvn6i3km6J/VNcIl6Jd0vLYipQboHm+isMqJRsccfgEvok143ly7aZMTl9iDxDYBF/Z86DohtGv0N6p6rYgPU167ch7lNaqIhQV7s3ya/AZWZfjZErPoGqF67primdFziXv2gH3B5xL3jpKxizVIVp8LqUid97VJ/fjJwMf4AWUrW/fLApX39dNk5qLCJvgMJNEmP8M0QJDKqYo+/LvhIaSpNHyA+BvQbjWkq2D7xV1ZWYvLkyUhKSsKaNWtCOv6LL76IY8eO4be//S18Ph8AoLq6GgDg8/ng9XqRlJRk93CaDJykh2GMuGiwGSb+iHM93glsnfirq6tx9913o7y8HIWFhWjXrl3IVlZWhh9++KFebf/KK69ETk4OFixYYOdwGIZhmCaOzl79tmPbxO/3+zFz5kwUFxdj06ZNSE1Nley/+93vMHjwYOncq6++iq1bt+KZZ57BT3/6U7uGwjAMwzCMCbZN/AsXLsT777+P2bNno6qqCp999lnI1qNHD3Tp0gVdunSR6nzyySdwu93IzMy0axgMwzBMc4KX+m3Hton/ww8/BAAsXbrUYNu4caPtk3tAcEgJ6G5iUzj+iUF6iFeRX3AA8hNnII+Y3EdRT5nAhzhQiYmAqM3g72Py/Ox46p4bk/vUGV3ESUxshybwkQ4NzmWSkdjkEQSFuh7SheRwRZy/ROc76lxn1fGPOrsFFG2KQ1EFBaJQnzjqGCiXNXc8FIm0f1XfQENBelQOfIo2hQGEEyBIdARUOf4FA245gA91trM4J9C/C6vBfQyvSSxMbaIDH03SQ/+gVUl6xGOFs50epNdCipYl17McwMfc8Q8ANHboaxbYNvG/9957YdeZPn06pk+fbtcQGIZpZnAAHyZWtvMdOHAAixYtwqefforExESMGDECs2bNQosWLZT1br/9dnzyySeG83/961+RkZEROq6trcWTTz6JV199FZWVlcjIyMCCBQvQt29f219Lk03LyzAMw8QBMbDU7/P5kJOTg5SUFKxYsQIVFRXIy8sLRaJtiP79+xty1nTv3l06zsvLQ1FREebOnYvU1FQ8++yzGD9+PDZv3oxOnTrZ+np44mcYhmEYBYWFhfD5fCgqKgqFp3e73Zg1axZyc3PRs2dPZf3k5GT069fP1H706FEUFhZiwYIFuPXWWwEAl112GQYNGoSCggLcf//99r0YNOGJ32oAnyCxiXKiKhCPMRGPuU08ootScgAf4jcgJfeRcZNjsSaVcqV4H6SeFG/EIAErEviIvgHEIuujmqmN2mm8E0kuVej/Lp32YY6oVRsC8YgHxKaspxKSFUGCDEVt0OrDCyZk3Vcg0sRDLlUgHikHFPHhcIn15Ipu4cMf8GvKYD9ykB7rqIL7uBU5qMQPMfU3kDR/D7EpkvbQ7WqaqOOTepoY8IMm4hGD9qgS+KiC8lCoTeUr4BQxsJ1vx44dyMrKknLS3HDDDZg/fz527NjR4MTfEB9++CECgQCGDx8eOte6dWsMHDgQO3bssH3idzRWP8MwzPmgzqLIMJHj8/lw+PBhw+NcgDmR0tJS9OjRQzrn9XqRlpaGsrKyBvv65JNPcPnllyMjIwO33XYbPvroI0P7HTt2lGLfAGd3xB04cABBm3/82HbH/+abb+L111/H3r17ceLECVx88cW47bbbMHbsWLhcZ39f+P1+5Ofn45VXXsG///1vdOjQAYMHD8aMGTPQunVru4bCMAzDNBcc0vgLCgqwcuVKw/lp06YZnM59Ph+Sk5MNZZOTk3HixAllP1deeSVGjhyJrl274ocffkBBQQEmTpyI/Px8XHXVVaH227RpY6jbtm1b1NbW4vTp07bOkbZN/Bs2bEBKSgruv/9+dOjQAf/85z/x8MMP49tvvw05NaxatQrr1q3D9OnT0a9fP5SWlmLZsmU4cuQIVq1aZddQGIZhGEbJHXfcgVGjRhnO1zfBnw8zZsyQjgcNGoSRI0di5cqVoYk/2tg28a9du1bSP7KysnD69Gk8//zzuPfee+H1erFlyxbceOONmDJlilTmiSeewOnTp9GyZUvL/QVEHYxobZLGb9hXX2fzKPb460QFEffuG2Q/q/v4DXp4HdXQIabVCNA9/8Jzg5YqPKe/jYOK/dLitQkngY+cXMdc06d2o00cON3nbd6HtFdftljW/ymR+gM01I7UpkVfATv8BMIei8U4BrQP6XoHzK+TQQ8XP1TkTZS3tWtSO6r3m9rEl68rcknRRD9BQcd3EZsm6f+K5DqGpDxyQ2Jdwx5/VZIeSatX2VTJdRT6f0NJelR9OIVDvgTJycmWJ/nk5OR6JQCfz4du3bqF1a/X68WgQYPw/PPPS+1XVlYayp44cQIJCQlhzY1WsE3jFyf9c/Tt2xfV1dU4fvw4gLNL/XQ5Izk5GbquQ7eYgay5ktBwESZKWM+bxzhNQxkHmTggqDvzCIPu3bujtLRUOldTU4NDhw6FPfGbtV9eXh6aK89RWlqKrl27huRyu3DUuW/nzp244IIL0KFDBwDAmDFj8Nprr+Ef//gHTp06hd27dyM/Px+jRo1Cq1atnBwKwzAMw0TEgAED8PHHH+PHH38Mndu2bRtqamqQnZ0dVls1NTV45513pOA91157LVwuF958883QuVOnTuG9996rN7Hd+eLYdr7du3fjlVdewdSpU+H+z/6cqVOnIhAIYOLEiaE7/KFDh2LRokVODYNhGIZpwsRCdr6xY8fiueeeQ25uLnJzc1FeXo4lS5Zg+PDhkrf//PnzUVRUhC+//BIA8H//93949tlnMWTIEKSmpuKHH37Axo0bcfjwYSxcuDBUr1OnThg7diwee+wxeDwepKSkID8/H8BZXwS7cWTiP3bsGGbMmIGMjAxMnjw5dP65557Dxo0bMXfuXKSnp6OkpAQrVqzA4sWL8ac//cmJoTAMwzDMeZGcnIyCggIsXrwY06dPD4XsnT17tlQuGAwiIDipXHjhhaitrcWyZctw/PhxJCUl4bLLLsPGjRvxX//1X1LdefPmoWXLlli+fHkoZO+GDRtsj9oHAJpus7heWVmJ22+/HdXV1XjhhRdC+xJ//PFHDBgwALNnz0ZOTk6o/ObNmzF79my89dZb+NnPfma5n05t+4SeJ3m8kq2FOzH0PNElq+ficUtq0+qOvZocQidJOE4i4XUSBY8fL1FPEiHaNFNbAnkXEkhZ0e41lK2/HACIoc5pTBHREdFgExMIySa4RGdG6pRnKFuHZnAEVNkEByuF6E7rqcYi1VNox+HoypH6A0SqXYezrz2s16G6xhavFW3Dcj3i+Efj84vt0NekSuAj2mibLuED706gjniCTf5qgSYcu7zEIVQ41rzyp09Lku+xtMSEep+fLSscJ3qJLcnc1kKwJZH48eJxEnEUE461FmRLWZIswWqJwjEpm9g9C05wcs7NjrTb+s+vONJuU8BWjb+6uhp33303ysvL8eyzz0rBCL799lvU1NQYEg5ccsklAIBDhw7ZORSGYZoBHMCHiQXnvuaGbRO/3+/HzJkzUVxcjGeeeQapqamSPSUlBQCwd+9e6fyePXsAAJ07d7ZrKAzDMAzDmGCbxr9w4UK8//77mD17NqqqqvDZZ5+FbD169EDHjh1xww03YMWKFQgEAkhPT8f+/fvx1FNP4eqrrzZkKmIYhmGYWEnL25ywbeL/8MMPAQBLly412DZu3IjMzEw88sgjWLNmDf7yl7/gu+++w4UXXoibbrrJEB7RCmJQF+qmIAbw0Q0JdXShHKmnmQfwUSXwCUrl6DjNbWI7HprEhJQVj2lAHatJemg9TRGIRwzo49Lp67WWwIdiV3AfqU2FOK0ciyK4zfl8zVjV1ZUBg1TthzGWcJINuRTXSjU6+X0ibYrBoxSBf1w0RgzpW9TnDe+NEOxHHcCHfA+IcWhI9iq3KkiPEEmLtql5pAxgMqpgO4agOYoAPopAPHJQoDAC7yhtNH2YST2mSWHbxP/ee+81WKZ169aYPXu2wROSYRimPqhTHhOHxLke7wRNNi0vwzAM0/wxrLow5w2n5WUYhmGYOKLJ3vGLun6AaGRBhU2Xks/olm2yVm/uN0B1ZdlmrmMbJEHqRyAmraFyoaodKUmPbFPp/6J8GY7fANXOrWr+qmQ/SiXRAf0fuhbxL+JIVU+nfQMA9a/8gJSIh+rKQhuGcVrT/40+BObvr6j5B4KatD/fRYJKiHUNwxY+Gzr5oKoT+Ah/s37ZJuv/5vXoH2k4iXjESHVGrV4oSz/7kt+A4WKIHcAMXZc1fU2VtCdaTnd8x287fMfPMAT+o4gdDFn9GIY5b2y743/77bexYcMGlJWV4fTp0+jUqROGDBmC3NxctGnTBoFAAPn5+di+fTv279+PQCCAXr16Ydq0aY2Wk5hhGIaJcXj3gO3YNvGfOHECV155JSZMmIC2bduiuLgYK1euRHFxMfLz81FVVYWnn34av/71rzFp0iR4PB68+uqrmDBhAtasWYOBAwfaNRSGYRiGYUywbeK/5ZZbpOPMzEwkJibiwQcfxNGjR9GxY0e8++67aNu2bajMtddeiwMHDiA/Pz/siT8g/AoM0j26oq6u2ONv0NEVsQGkNhV7ko1aff3tn6WuoWpNl+LzhyNriUXp9nSxHRpzX4WknRKtXNzXH4Amq7w0lro0IHO/iXD2+GsKvwmX9N5Dtom6rkKbDpA+wkEVH0CF074BABC0ODaV1GEYp0X93+gnIv6tadI+f6lsQJPaNbwExZ57XWiU1hP34Bu1esHfQaH/a4o/dr0qKMXup2MTNX+VLSz9X7HHX3nXLNY7cxJIFGL501gBgg+Aptrjbyes8duOo3LmuVj9tbW1cLvd0qQPnJ1Q+vTpg++//97JYTQJaFKepkLTHLWaSCd9JjJUCYIiTWbU2GjeJvqXkdiy4TLRhmP1247tXv2BQAB+vx8lJSVYtWoVrr/+etM4/MFgELt27eJwvQzDMAwTJWyf+DMzM1FZWQkAuO666/D444+blt20aRO++eYbLFq0yO5hMAzDMM0AmzPHM3Bg4t+0aRPOnDmDkpISrFmzBlOmTMGGDRvgdssK8yeffIKlS5di4sSJuOKKK+weBsMwDMMw9WD7xN+3b18AQP/+/ZGeno7Ro0dj27ZtGDp0aKjMV199hdzcXAwePDjiuP2SIx7RZAOCA4pOXqLSgU/QE6krjF9KqEOc1MRAIYbAP+I4zR3YjK431oP9mJUDZIc++rtZDu5j7iRnqCeVs44qEBBFtxjcp6E+5EZVwX7q77shqD+AVSc9Q0KZKDgFWtXLVU6AdNxisB9aTw7aY/55VgX3Ceia1IdmCFojfE6Is4D4cg1/60GF459C/xX94FQBfDRVJi0yHmVwH1UCHxUqZz6V419DQXlUF8Ap4lyPdwJHI/f17dsXLpcLhw4dCp07dOgQ7rzzTlxyySV49NFHDR7jDMMw51BlFGTiBJ74bcdRr/5du3YhGAyGnPuOHTuGiRMnomPHjli9ejW8Xq+T3TMMwzAMQ7Dtjn/SpEnIyspCz549kZiYiH379mH9+vXo3bs3Bg8ejKqqKtx5550oLy/H3LlzsX//fql+v3797BoKwzAM00zg7Hz2Y9vEn5GRgc2bN+Pw4cMAgM6dO2Ps2LGYMGECvF4vDh8+jK+++goAMHXqVEP94uLisPqTEnBQ/U5MtqMKxBOGVm/WxtljoQ1DWWs22pvqWK3VE5tJOVqWLv2IZWm4dFFLdZHrSwPqiJ2El8DHHJWPgajPG/V3hawUhuewHf4AEQfsIccq3wC6TK7U7sUgObQdRRvW3yd7gvvQZDvih5NeC3HC0ImkKCfpod8fisA7qihYkvxNg/LQsmKQHkUgHooUpEfhG2AYm0Kbtxrcp6GyTJPBton/nnvuwT333GNq79y5c9iTO8Mw8Q27ADGs8dtPk03LyzAMw8QBvMhgO5yBlGEYhmHiiCZ7xy/q8cpkOyodX6nVq3wDyFhU/SltQpIe6EhU6J7Snn+y/qlKxKPIkWMZVWyAcPbmh9OH3KYqSY95/1R/V8XgVyX7MZRVXEeXyo3Aoj+AepzWCSdhkPL6K/xdRM2flhO1cpWOr9rjDx1wCxo89TFwi39fRP8X/07oS1BFg5O3qpv7DdAXJdajVz6cRDwSKptKfzcGGai/XEO2cMo6BDv32Q/f8ccIic0y3U3TRDXpM9HFTT1LGYY5b2y743/77bexYcMGlJWV4fTp0+jUqROGDBmC3NxctGnTJlSuuroa69atw2uvvYbvvvsO7dq1Q3Z2NhYvXmzXUBiGYZjmAt/x245tE/+JEydw5ZVXYsKECWjbti2Ki4uxcuVKFBcXIz8/H8DZbHy5ubk4cOAApkyZgi5duuC7777Dnj177BoGwzAMwzAKbJv4b7nlFuk4MzMTiYmJePDBB3H06FF06tQJL7/8Mj777DNs3boVnTp1CpUdOXKkXcNgGIZhmhPs1W87jjr3tWvXDgBQW1sLAHjppZcwdOhQadKPFF0K8hFZAB9aL6hZs6nGEs5nVE7SY4/Gr1oUUznCGYP7CE5bCifIhpBeF7mGovNZOA5tLmWQHrGcjMq5TovwvaDXxuqqpB1OgEDkjoCqQECqwD8GBz6TcvWVNWvTrSgXCGqkHepsJ4zbbT0Qj+ihaggKJLRjiKWjCu4jHpzPZCUGHiIOdIaEPlK9urJGZ0KLAzqf4D4Owc599mO7c18gEEB1dTX27NmDVatW4frrr0fnzp1RW1uLL7/8EqmpqZgzZw4uv/xy9OvXD7m5ufjXv/5l9zAYhmkGWM0oyDCMdWy/48/MzERlZSUA4LrrrsPjjz8OADh+/Dhqa2vxzDPPoH///njyySfh8/nw+OOP46677kJRURE8nia7u5BhGIZxAl7qtx3bZ9pNmzbhzJkzKCkpwZo1azBlyhRs2LABwf8sGbVq1QqrVq1CUlISACAtLQ1jxozBtm3bMGzYMLuHwzAMwzCMgO0Tf9++fQEA/fv3R3p6OkaPHo1t27YhOzsbmqahf//+oUkfOJvcp3Xr1igpKQlr4g8qdHxVkB6rgX8MAXxUbSok2aDJc2M52qZ5kB5jcB9r/avyi6hQ5EUxjJMmu4m4T7E/RTlVkJ6wNG6L+j9F5Q8QaRAgQzsR+gOE5zchtKkI/GOop0juI/kG0LFJ/jS0l7p6AV2TylJ/ALEPTVdo7gRR16cvV9L83WG8UcokPeT7RDhW2gx9KJL0WEUVpKchX4BgwHpZm2CN334cXVvv27cvXC4XDh06hBYtWiA1NbXecpqmobq62smhMAzTBKGOhkwcwkv9tuNo5L5du3YhGAyic+fOAICBAwdi586dqKqqCpX54osvUFlZifT0dCeHwjAMwzAMbLzjnzRpErKystCzZ08kJiZi3759WL9+PXr37o3BgweHymzevBlTpkzB+PHj4fP5sGzZMvTq1QtDhgyxaygMwzBMMyFKuwbjCtsm/oyMDGzevBmHDx8GAHTu3Bljx47FhAkT4PV6AQAXXXQRNm7ciLy8PMycORNerxfZ2dmYO3cuEhISwupP0txVCTcUnxrV/n+daonSc5V2S9rURM2Z7oGuU/BqoMMrJemhfVjb263Ykmz0DTDfYq9cCgrHb0BOfGQIFlDXn26u1av6V2n1kWrclHCS/ch9RKb/G9pxICmQKv6BoQ+FTbXH36wcbdOQBErS/zWlP4DoYmJIqCMcUl8U1fUX+6D+Drq0x57UUyTpiRjFm2/Y4y8O3JBcR6//eQPoekA61ngWbhbYNvHfc889uOeeexos16dPHxQUFNjVbbPBa99XBcM0G1jjZ1jjtx/eOM8wDMPELLzIYD+clpdhGIZh4gi+42cYhmFiF77jt50mO/HrqmA7EdoixY52GmpBN3neUF1bAvjA3DEqGgqsMrmQwhaOU57VgEH1tWu1D7m/yBMBSe3Y5PhnddzU2U3U4FVJesLxYKHOdZJfHk0SpCs8VJV9CAF8wnB2s0xDUbZEJ0EaeEiZiMeBserB+p8DyiA91PGPaTo4ttR/6tQpDBgwAL1798bu3bslW1FREYYOHYqMjAyMGDECW7dudWoYDMM0YWhgSCb+0IPOPOIZxyb+lStXIhAw/iJ86623MGfOHAwZMgTPPPMMrrrqKtx3333Yvn27U0NhGIZhGOY/ODLxf/311ygsLMSMGTMMthUrVmDo0KH4wx/+gKysLDzwwAO4+uqr8dRTTzkxFIZhGKYJw3f89uOIxr9w4UKMGzcOXbt2lc5/++23KCsrw7333iudv/HGGzFv3jxUVFSgffv2YfenCsRDoQF2JJuo/ysD8SjGYmjTmi0aGHKvqKTESPOU0EApFvVTYyIga4F4wsGJ4D6qPiiRvg7RH+B8Av9Y1fxVwX0MAZPE9ykMjV30B6CJd+T25eV+6kfQUN36xvmfM5bGaQzSI/gGRCN5TDh6v6jHq7T680muo+rDIWJlkj5w4AAWLVqETz/9FImJiRgxYgRmzZqFFi1amNY5efIkNmzYgB07duCbb76Bx+NBeno67rvvPkOY+t69exvqt2zZErt27bL9tdg+8RcVFeHgwYN4+umnsWfPHslWVlYGAOjevbt0vkePHiF7JBM/wzDNE9b4mVjA5/MhJycHKSkpWLFiBSoqKpCXl4eKigosW7bMtN6//vUv/OUvf8Ho0aMxY8YM+P1+bNy4EWPHjkVhYaFh8r/99ttx4403ho5dLmfUeFsn/srKSixduhRz5sxBq1atDPYTJ04AAJKTk6Xzbdu2lewMwzAMA6CepcroU1hYCJ/Ph6KiotDNqdvtxqxZs5Cbm4uePXvWW69z587Ytm2btCpw9dVXY9CgQXjuueeQl5cnlb/ooovQr18/517If7D158Ty5cvRpUsXjBw50s5mGYZhGKbR2LFjB7KysqQV6RtuuAFerxc7duwwrdeyZUuDFJCYmIju3bvj+++/d2y8DWHbHX9JSQkKCwuRn58Pn88HADh9+nTo/5MnT4bu7H0+Hy688MJQI0tXmAAAIABJREFU3XN3+ufsVrC691aZwMc27fj826mGjkRBZw3HHyAoaaCyTbV3P5y962b9uRp46ao+ItaulW2a20Qi3ePfULsqnN7/39A1FD8bke7xD+daqBL4iD1Q/V3qQwfcDX3I6ukPANyqRDyKABd6xA4u5ibqD6BJWb8UWr2xIevjsYpK/48Bgd2pIfh8vtBcJZKcnGxYlS4tLcXo0aOlc16vF2lpaSEJ2yqnT5/Gvn378Ktf/cpgW7duHZ544gm0aNECV111FWbPno20tLSw2reCbRP/wYMH4ff7kZOTY7Dl5OSgT58+WLlyJYCzWr6o85eWlgIAunXrZtdwmhyJnKSHYQxYnfSZ5gvNumgXBQUFoTlJZNq0aZg+fbp0zufzGX4MAGd/JIQrUS9fvhxnzpzB7373O+n8r3/9a/zyl7/EhRdeiNLSUqxZswa33XYbXnvtNXTs2DGsPhrCtom/f//+2Lhxo3Ru3759yMvLw0MPPYT09HRcfPHF6NatG7Zu3YohQ4aEym3ZsgUZGRns2McwDMNEhTvuuAOjRo0ynK9vgreL119/HQUFBXjwwQfRpUsXyfbnP/859PyKK67AL37xC9x00014/vnnMXPmTFvHYdvE3759e2RmZtZrS09PR0ZGBgBgxowZuPfee5GWloarr74a7777Lv7+97/j6aeftmsoDMMwTDPBqaX++pb0VWXrkwV8Pp/lleq///3vmDdvHiZNmoRx48Y1WP5nP/sZ+vbti71791pqPxyiHqt/2LBhqKqqwtq1a7F+/XqkpaXh8ccfR3Z2drSHwjAMwzAN0r1795AkfY6amhocOnQIN998c4P1v/jiC0ybNg3Dhg3D7NmznRqmZRyd+DMzM1FcXGw4P2rUqHqXWMJBdNqjwXZUSXNUjniizehcp9dbjhJpwp5wftTSPtwK/4DmoJBGmlDGKVTvlR2Of3YE+jk7FuvJfSIN7iOVUyTwiZRAUJOT/ZBxin/6ke75N2jI4Tj0mbYpH0fdg0flMHg+AXx0m9oJp8sY2M43YMAArFmzBj/++CPatWsHANi2bRtqamoavGktLS3F5MmT0b9/fzzyyCPQLH5Qy8rKsG/fPvz+978/7/FTmmx2PoZhmj90NwATf8TAxgKMHTsWzz33HHJzc5Gbm4vy8nIsWbIEw4cPDwWgA4D58+ejqKgIX375JQCgvLwckyZNQkJCAu68805p2d7r9eKSSy4BAKxfvx6HDh1CZmYm2rdvj9LSUqxduxbt2rXDb3/7W9tfD0/8DMMwDKMgOTkZBQUFWLx4MaZPnx4K2UuX7YPBoJScbv/+/fj3v/8NABg/frxUNjU1Fe+99x6As3r+22+/jbfeegsnT55Eu3btcM011+Cee+5Bhw4dbH89mu5IMmrnSfCmhp4nerySrUVC3XELt2xLdCtsroTQ8yQtgdg8gk3+vZSk1W0E9pJNwaItkSwEe4XjBLIYSLf3JQjLXfLI5LoJ5N306GI5GXFF00PquU3KAfISMq1HF7HEWP10GVwsS5elVbu4xOVm1dJ6OMvudskHdkTEsm8s1ttRLfWL0LGpXq+41K/ax2+wKeq5yAdDtFOb2113q+giH2K3S2FLCNb7/Oyx0B+1CV8nmvzVAlcSkWGS6v7CtCT5O0NLrPt+0VokyrYk4a84KUm2iWUTaT2hbBKJLd9SiLKa1FK2kWMtSSibKEdnTervTOC2b68c5Ei7F///7zrSblOg2d/xqzR3VcKe8PowR5eCn+imtkZQAS2jukr0tasCBjmBKqBMOMFm7NDYaZ+NGejn7Fgi0/yt/gg424fYvv0EdVnjN+i9DksBVP+XAvFEmPgnzAFYt0WaNKgRdHumcWn2Ez/DME0X1viZprkmHds4k/oHwKlTpzBgwAD07t0bu3fvrrfMtm3b0Lt3bykbEcMwDMMwzuHYHf/KlSslJwfKmTNn8Mgjj9geipBhGIZpPjgVsjeeceSO/+uvv0ZhYSFmzJhhWmb16tXo3LkzrrvuuvPuT6f/9LpHWO1YrBeELj2cIEgedtSLtM3GIKjVPaKNDk16RIoT1/t8xhaEFnpEm6CuSQ8dCD2ojdaziq5r8iNo/jDrD4BULhz0YN2j4bJ66AH6UGG1nF0Eg+aPKKF6H8/nEc84MvEvXLgQ48aNQ9euXeu1l5aWYtOmTfif//kfJ7pnGKaZwBo/w9iP7RN/UVERDh48iLvvvtu0zMKFCzFmzBj06tXL7u4ZhmGYZoSuO/OIZ2yd+CsrK7F06VLMnj0brVq1qrfMG2+8ga+//lopAzAMwzAM4wy2OvctX74cXbp0wciR9QdyOHnyJJYsWYL77rvvvFMfRvqDzerefcOeeykouHk9VRx/FTUISgF9DOMR+7Tp16pKpbO6PzuoycF2In5fwthzHilO7zmP9f6toorjH07eBHHPfThx+8V6AV2Tgu00FYJVgEuMrxOWo04TuR2NUizdeNfjncC2ib+kpASFhYXIz88PpS88ffp06P+TJ09i7dq1uOCCCzBkyJBQmdraWgSDQfh8PiQlJcHr9Zr20ZxRTfqxjCrCHsOcL01x0gfIpM+cF7GQpKe5YdvEf/DgQfj9fuTk5BhsOTk56NOnD1JTU/H1118jMzPTUObKK6/EvHnzDPGMGYZhGIaxD9sm/v79+2Pjxo3SuX379iEvLw8PPfQQ0tPTkZiYiDvuuEMqs27dOnzzzTfIy8tDly5d7BoOwzAM0wyIhex8zQ3bJv727dvXeycPAOnp6cjIyKjX9uqrr+Lo0aOmdRmGYRiGsY9mH6tfFYwnUkc8JzAGAjLXteoLzHOOSJPkUP8ZmpEvUoJaXcMum/bQqBLqOOFAF45DW7SJNLlQNJwp7SAQdEmOgW7iJCgG4KG2uEOVbEe0GZL7xPYtdThBnBhrODrxZ2Zmori4WFlmyZIlTg6BYZgmTDi7AZjmCTv32U/TdCVnGIZhGCYimv1SP8MwDNN04X389tMsJ36rQXqiQWyrZ5Eh6sPhaMP0WojLTfH2p626Fk0VJ16TrmuOL/cbl5Jt6M+uP/xoB/NhF/q4oFlO/AzDNA9Y42di6D6u2eDYjcapU6cwYMAA9O7dG7t37w6dP336NB577DEMHjwYl112Gf77v/8bK1euRE1NjVNDYRiGYRjmPzh2x79y5UoEAgHD+T/96U945513cO+996Jnz5744osv8OSTT8Ln82H+/PlODYdhGIZpgrDGbz+O3PF//fXXKCwsNGTg8/v9eOuttzB+/HjcfvvtyMrKwl133YUxY8Zgy5YtTgwlKui6HnqoCCoeNTG6j7q5Qq9/OOjQQo9YQhxXrI0tUmJtK5eua6FHoxPU5YcT6EH50QgEdc2RRzzjyMS/cOFCjBs3Dl27dpXO67qOQCCANm3aSOeTk5MbnDSbO95m8kXNMHbCGj/D2I/tE39RUREOHjyIu+++22BLSEjAr371K2zatAmff/45Tp06hY8//hgvvvgixo0bZ/dQGIZhmCaOuMpi5yOesVXjr6ysxNKlSzFnzhy0atWq3jILFy7EH//4R9x6662hc+PHj8e0adPsHArDMAzDMPVg68S/fPlydOnSBSNHjjQt8/jjj2P79u1YvHgxunbtis8++wyrVq1Cx44dMXnyZDuHwzAMwzRx4lwFdgTbJv6SkhIUFhYiPz8fPp8PwNmte+f+P3nyJP71r38hPz8fq1evxqBBgwAAV155Jfx+P5588kncdtttaN26ddh92xWwx5goh2GigxPJhZoD0Qjgw4SBmNAnaNy15UiXcb4s7wS2TfwHDx6E3+9HTk6OwZaTk4M+ffrg97//PQCgb9++kv2SSy5BTU0Njh49GtHEzzBM84QnfYaxH9sm/v79+2Pjxo3SuX379iEvLw8PPfQQ0tPTEfzPr8W9e/ciJSUlVG7Pnj3QNE06xzAMwzDx7ojnBLZN/O3bt0dmZma9tvT0dGRkZCAQCODSSy/FH//4R5SXl6NLly744osvsG7dOowePRotWrSwazgMwzAMw9RDVGP1u91urF27FitWrMC6devwww8/4KKLLsLEiRNDMgDDMMw5GlvjV7kPcT6b6MDOffbj6MSfmZmJ4uJi6VyHDh2wcOFCJ7tlGKaZwBo/w8599sMOxAzDMAwTR3BaXoZhGCZmYec+++GJP0aogc7x+hmG0Ngav6b4k9R4vZRpovDEHyPwpM8wRljjZ1jjtx/bJv5XXnkF8+bNM5wfN24cHnzwQQQCAeTn52P79u3Yv38/AoEAevXqhWnTpuGqq66yaxgMwzAMwyiw/Y7/2WefldLuduzYEQBQVVWFp59+Gr/+9a8xadIkeDwevPrqq5gwYQLWrFmDgQMH2j0UhmEYponDaz72Y/vEn56ejvbt2xvOJyUl4d1330Xbtm1D56699locOHAA+fn5PPEzDMMwBnip336i5p7idrulSR8ANE1Dnz598P33359X2y5Nkx4RtwMt9GCYaOISHkwd7NEdY7hcwsMtP5gmg+13/DfddBMqKipw0UUX4eabb8aUKVPg8dTfTTAYxK5du9C9e3e7h8EwTDOAnfsY/vFnP7ZN/BdeeCGmT5+OSy+9FG63Gzt27MDq1atx+PBhLFmypN46mzZtwjfffINFixbZNQyGYRiGYRTYNvFfd911uO6660LH11xzDdq0aYOnnnoKubm5SEtLk8p/8sknWLp0KSZOnIgrrrjCrmEwDMMwzQhOiWA/jkqKw4YNA3A2Da/IV199hdzcXAwePBizZ892cghRQdO00EOFS/Fgosv5XH8NeugRS4jjirWxRUqsLfNqmh56NDouTX44geaSH42Abvhk2/OIZ6L+Th46dAh33nknLrnkEjz66KMNTpYMw8QvMTHBMkwzw9HIfW+88QY0TcPPf/5zAMCxY8cwceJEdOzYEatXr4bX63Wye4ZhGKaJE+TffrZj28Q/adIkZGZmolevXtA0DR988AFeeOEFjBkzBhdffDGqqqpw5513ory8HHPnzsX+/ful+v369bNrKAzDMAxjKwcOHMCiRYvw6aefIjExESNGjMCsWbPQokWLBusWFRVh7dq1OHLkCNLS0jB16lQMHz5cKlNbW4snn3wSr776KiorK5GRkYEFCxagb9++tr8W2yb+bt264eWXX8bRo0fh9/vRtWtXzJo1C3fccQcA4IcffsBXX30FAJg6daqhfnFxsV1DOa+9/HZjVUvxQ4eniehOrgj1Y3otmsardYbm6NfhxGuKRpIeR9q362I4pd2bEYOZh4Ix8E3h8/mQk5ODlJQUrFixAhUVFcjLy0NFRQWWLVumrPvWW29hzpw5uOuuu3DNNdfgnXfewX333YdWrVohOzs7VC4vLw9FRUWYO3cuUlNT8eyzz2L8+PHYvHkzOnXqZOvrsW3iX7BgARYsWGBq79y5s62Te3OjqUz6DBNNWONnYsERr7CwED6fD0VFRaHItG63G7NmzUJubi569uxpWnfFihUYOnQo/vCHPwAAsrKyUFZWhqeeeio08R89ehSFhYVYsGABbr31VgDAZZddhkGDBqGgoAD333+/ra8n9n7eMQzDMEwMsWPHDmRlZUnh6G+44QZ4vV7s2LHDtN63336LsrIyjBgxQjp/4403Yvfu3aioqAAAfPjhhwgEAtLyf+vWrTFw4EBl+5HCaXkZhmGYmMWpffw+nw8+n89wPjk5GcnJydK50tJSjB49Wjrn9XqRlpaGsrIy0z7O2Wh02h49eoTs7du3R2lpKTp27Ih27doZym3ZsgXBYBAul3336c1+4ldtF9QiXEKqDvqR6Kr/0lUjiESThZQaBOE1sfmhm9ootJQdHwc/AK/JqqpfAzwmtqAGuBSrsS7d/qVa1R51q9ciGEbZWN4TH+nYIvXTUKG6piqtXoe5v4eua3C7zL/6XQ5LAYFaF9wJ9fcfqNHgNvmjCVYBriQnR1YPoj5fXQO0SDKxVQNJgkOaOKFUnwYSWzo3xhiioKAAK1euNJyfNm0apk+fLp3z+XyGHwPA2R8JJ06cMO3jnI3WPZe35pzd5/NJWW3FcrW1tTh9+jRat27dwCuyTrOf+J3AbNIHYDrpA1BO7FYnfacwm/QB80kfUE/6sQxrXPajuqYqrV7181s16UcDs0kfgOmkDzTCpE9poRhAksILPQYnfac0/jvuuAOjRo0ynK9vgm9u2Dbxv/LKK5g3b57h/Lhx4/Dggw+Gjqurq7Fu3Tq89tpr+O6779CuXTtkZ2dj8eLFdg2FYRiGaSY49dOvviV9Vdn6ZAGfz4du3bqZ1jt3Z+/z+XDhhReGzp+70z9nT05ORmVlpaH+iRMnkJCQgJYt7f1BZvsd/7PPPistWXTs2DH0PBgMIjc3FwcOHMCUKVPQpUsXfPfdd9izZ4/dw2AYhmEYW+jevTtKS0ulczU1NTh06BBuvvlm03rnfhSUlZVJOv+5ts7Zu3fvjvLychw/fhwXXHCBVK5r16626vuAAxN/enq65Pko8vLLL+Ozzz7D1q1bpX2JI0eOtHsYDMMwTDMgFpL0DBgwAGvWrMGPP/4YcsDbtm0bampqpL34lIsvvhjdunXD1q1bMWTIkND5LVu2ICMjIzRXXnvttXC5XHjzzTdx2223AQBOnTqF9957z+BUaAdR1fhfeuklDB061JZgBJGqPlaD+7hID1ZzCkTqMNgQTmjpqt+Qkf6+jPh9iYIDXWPr+o3dv1VUMWPCcSaMdA++WC+oa4478EWFcN78aAftiZQYDPbjFGPHjsVzzz2H3Nxc5Obmory8HEuWLMHw4cNDHvoAMH/+fBQVFeHLL78MnZsxYwbuvfdepKWl4eqrr8a7776Lv//973j66adDZTp16oSxY8fiscceg8fjQUpKCvLz8wEgFATPTmyf+G+66SZUVFTgoosuws0334wpU6bA4/GgtrYWX375JX75y19izpw5ePvtt6HrOq6++mo88MADSElJsXsoDMM0cZrFpM+cF7EQwCc5ORkFBQVYvHgxpk+fHgrZS7PLBoNBBAIB6dywYcNQVVWFtWvXYv369UhLS8Pjjz9uWCmYN28eWrZsieXLl4dC9m7YsMH2qH0AoOm6PfutPvjgA3z++ee49NJL4Xa7sWPHDmzatAkjR47EkiVLcOzYMVx77bVo2bIl+vfvj/Hjx8Pn8+Hxxx9Hy5YtUVRUBI/H+u+QBG9q6LnXkyDZWnjqkv8keeREQC3ciaHniS65XpJw3MIl1xM9+b2aW66n1dmSINsShV/F1HNf3AFAbQnkw54opCeVRy2XdZN3U3Q8lkcGJAg26rkvlqWrDW7hrs9okxG386lC9qru+GkfkW7ni3wVw57Jx4n7Iye280V6x294fxWTtjih0+5ET3468dOFN7GsyuYifxgud53N4wkSW11Z6tUvHlOvfpfwB0W9+l1JZAXR6xJs8l+N1qLuL1xLkv/atUThe6lFomxLEjolXv2SjXr1i7HmqVd/knysJbUS6snbz5L6OyPZvtHpNkfaHXH0/3Ok3aaAbXf81113Ha677rrQ8TXXXIM2bdrgqaeeQm5uLhITz35IW7VqhVWrViHpPx/EtLQ0jBkzBtu2bcOwYcPsGg7DMAzTDAg2/g1/s8NRkebcRL53714kJydD0zT0798/NOkDQEZGBlq3bo2SkpKI+9HoP63uEVY7Fuu5oEkPJ3CRhx31Im2zMXDpdY/GQIMeekSKE9dbHFe4Y3NBDz2ijUvTpYcGhB7UJhLUrf99aZouP1zmD7P+AEjlwkFz1T0aLquFHqAPFVbL2YXLZf6IEkFojjzimai9ey1atEBqamq9Nk3TUF1dHa2hMIySWI7UF2+wxs8w9uPoxP/GG29A0zT8/Oc/BwAMHDgQO3fuRFVVVajMF198gcrKSqSnpzs5FIZhGKYJojv0iGds0/gnTZqEzMxM9OrVC5qm4YMPPsALL7yAMWPG4OKLLw6V2bx5M6ZMmRJy7lu2bBl69eol7XFkGIZhGMYZbJv4u3XrhpdffhlHjx6F3+9H165dMWvWLGkP4kUXXYSNGzciLy8PM2fOhNfrRXZ2NubOnYuEBOqrbg8qDd7qnv6G+zBH3NdviA0gHNdCN3jyxwqqUTW2r4BdXvyx5Llv31istxOpZOz0+0/38UcaGyBSqM4v6feKseg1gOY1NYczAOu2SN9EsZ0oavdWiYUAPs0N2yb+BQsWYMGCBQ2W69OnDwoKCuzqttkQq5M+wzQmTVXjt2XSZwAAQZtu0Jg6Yu/nHcMwDMMwjsFpeRmGYZiYpWmu+cQ2fMfPMAzDMHFEk73jF4PsUCc9lUOfKomOaKOlXJJN4TAYoVYfXpCeMIKahD+UmCPW9tXHUuhdEaec+ayOzQnHu6Cuwa0IpGOH/BtuoB5rbdreZHjQN9hlkwNfIzgCsnOf/TTZiZ9hmOaPatJn4gMO2Ws/tv9kKyoqws3/j703j4uq7P//XzPDgAQOruWNmgYqWyxabmmmQr9cU0mzXEIMNW+XNC0zbTG9cblzBUEtNcWs7L5xwaVyKTXX7syNj6VChWuZqaAoCJzfH36ZzrkO55pzxmt0gPezh4/mnOu63tc1G9ec83ovsbGIiIhAy5YtER8fj7/++svevnPnTvTq1Qvh4eGIiYlBWlqa6CUQBEEQBKGB0Cv+1NRULFmyBEOHDsWECROQl5eHAwcO4Pbt2wCAH3/8Ef/85z/Ro0cPTJgwAYcOHUJiYiI8PDzw4ouuqcBEEARBlF8qe159VyBs48/OzkZycjKSk5PRoUMH+/mYmBj744ULFyI0NBSJiYkAgFatWuHChQtYuHAh+vbtC7MBzUhvAR5eP55WbwRRdpQ2lXAT1cjuhhot6KM1H3ecgbuvvDmcLRYjImmPEU1dZIGdu+VuCuzo1fWdLXusnk+79K5iPsY3QD5OkvTr+EZi/vl5cZx8jbk2Wc1d/pijx6sNGV6WQ3j6/313ViBcgbB3NT09Hf7+/opNX05hYSH279+PLl26KM5369YNly5dQmZmpqilEARRQaDcLQTl6hePsI3/yJEjCAoKQkpKCtq0aYOwsDD07t0bBw8eBADk5OTg9u3bCAwMVIxr3LgxgDt3DAiCIAiCcC3CbvVfunQJx48fx08//YRJkybB19cXy5YtQ0JCAjZv3oxr164BAGw2m2Jc6XFpO0EQBEGUQl794hG28UuShPz8fKxevRohISEAgObNmyM6OhpLly5Ft27dRE2lgtXxebo+rzCPPD6e7acstsNZi8qmvrZ7UaTHSJi10zKn5KRuzwxzRez+vdD1XbFup30hBMXqcz/vTsbu69XjWY3fkI5vkj92bp2sxC3X/++J/M17E3m+AaoCPoLi73lzuAiK4xePsHfOZrOhWrVq9k0fALy9vREZGYlTp07Bz88PAJCbm6sYV3pc2l5ZoSI97gO5M7kPpPEThHiE/Y1r1KiRZltBQQEefvhhWK1WlZZ/+vRpAHfK+hIEQRCEHHLuE4+wjb9Dhw64evWqwjs/Pz8fhw8fRlhYGDw9PdGqVSts2bJFMW7jxo2oXbs2wsLCRC2FIAiCIAgNhGn8MTExiIiIwOjRozF27Fj4+Phg2bJluHXrFuLj4wEAI0aMwIABAzB58mR0794dhw4dwhdffIF33nnHUAw/QRAEUTkg5z7xCNv4zWYzFi9ejFmzZmHKlCkoKChAZGQkVq5ciQYNGgAAmjZtipSUFMyZMwfr1q3Dgw8+iIkTJzqVtU/pbMdzxNPf5iwi7DiyYNJ47GisiJ9TPOeye/GddDZhj6uc+e53Ih6FHSffAGefA89JjnW8c/azwer6vDmddtqTJxdyxYeY/UCpjmVFv9gFGHHoE4FJp1MgO8xkEb+WMiDnPvEITdlbo0YNzJgxg9vnqaeewlNPPSVyWoIgKiiuqPhHEJUdqs5HEARBuC10xS8eEtYJgiAIohJRbq/45boYtxAPJ8kEL/EPW3hHUVODo17yE/+wbdo46zfAS7yjkhk5xX1E+Q3I7bC6tnx+UXq8Xjv3QtMvTzq+s1cAehPqqPR/2THPhiSZdOvxbHEd+bGoxD88Odwl+Ww4b75JVVBHnumI02bAqUGl49+Hoj0SOfcJp9xu/ARBVHxI4yfoVr94hP98W7duHWJjYxEREYGWLVsiPj4ef/31l6rf8ePHERISgqZNm4peAkEQBEEQGgi94k9NTcWSJUswdOhQTJgwAXl5eThw4ABu376t6FdSUoL33nsPNWrUQH5+vsglEARBEBUIuuIXj7CNPzs7G8nJyUhOTkaHDh3s52NiYlR916xZg7y8PDz33HNIS0tzaj65ls7q6maeVm/S1tzNPD2e41OgN86c1+82JHjJerBaPc+Os3HueuH6DTBFeUTdQtJrx9niMkbs8LgXBXR4OL9ujk0DsfrKtWj35cfi8+fnzWl2Mh5fWWxH2zfAEAr9nx+br2jntanmkBfbcfJDxOr/Rgr4mGWaPyVdK7cIe+fS09Ph7++v2PTL4q+//sLcuXMxadIkWK1WUdOXe7wowIIgVBhxyiMqJpSrXzzCdpsjR44gKCgIKSkpaNOmDcLCwtC7d28cPHhQ0e+DDz5As2bN0K5dO1FTEwRBEAShE2G3+i9duoTjx4/jp59+wqRJk+Dr64tly5YhISEBmzdvRr169fDjjz9i06ZN2Lhxo6hpCYIgiAoM5eoXj7CNX5Ik5OfnY/Xq1QgJCQEANG/eHNHR0Vi6dCkmT56MKVOmYNCgQahfv76oaQmCIIgKDDn3iUfYxm+z2VCtWjX7pg8A3t7eiIyMxKlTp7BmzRpcunQJ/fr1Q25uLgCgoKAAAJCbmwtPT09UqVJF93xypz1eIh5eQh21k56+Nt5ajGgnZifH8TCSeEeRXEflTCimMI/cDjuHs8l2nHXo0z+f8wqgCKc9EUWAAIPOjQIc+ozo8Xr7lkgmWOSOeKqr4/mlAAAgAElEQVSEOvoK+PDyznBtqD58+mze1RdaXsBH5Yinz/FP7Vyoc0EGivTcj2Q+hBiEbfyNGjVCTk5OmW0FBQXIzs7Gn3/+Waa237x5c7z00kuYNGmSqOUQBFEBsDjrYU9UGOiKXzzCNv4OHTogPT0dmZmZCAsLAwDk5+fj8OHDeOaZZzBgwABVaN/atWuxefNmfPjhh6hTp46opRAEQRAEoYGwjT8mJgYREREYPXo0xo4dCx8fHyxbtgy3bt1CfHw8GjRogAYNGijGHDx4EBaLBS1bthS1DIIgCKICQfd8xCNs4zebzVi8eDFmzZqFKVOmoKCgAJGRkVi5cqVqwxcyn85EPLwEPmybsqAMr9gOsxbefNw2bXhz8JL7sIgIgzayTmclbl5SIldr+nfsGNGndXdVIEK7F6Xbq+waSMyjexynEA+vEI68ryQxtWd485m17ah8A7jFfrRtKmRtA0V6uAl9uLq9zoUCSj2eV0FIVcCH02akr4sgr37xCE3ZW6NGDcyYMUN3/1GjRmHUqFEil0AQRAXCSDY+giD0QdX5CIIgCLeFnPvEQ/EYBEEQBFGJKLdX/LyiOXrj+FW+ARz9X8vGnWOZDVVffW3sbLxjVTEUmQzJ08p5vgE8myxsYR6lTUZnlR2yGrfeAkbqObTh+wPwYtUNLEDnfDyE5W1wQey8EU1fb/w/rxAPT/9n+6o0d46vAF+r17c2Q6Hq3CI9bF+5xm/IWaBsG2UdK9o4+r+RWP37UJiHnPvEU243foIgKj5GftgQFZMS2vqFI3zjX7duHVauXInTp0/D29sboaGhmD17NmrUqIGioiIsW7YM6enpuHDhAmrWrImYmBiMHj0avr6+opdCEARBEPeFo0ePYvr06cjMzISfnx/69OmDESNGwGKxaI75448/8PHHH2PPnj3IycmBj48PmjVrhnHjximi486ePYvo6GjV+MaNG+uqhSN0409NTcWSJUswdOhQTJgwAXl5eThw4ABu374NAFi4cCGWLFmCUaNGISoqCllZWZg7dy7OnTuHhQsXilwKQRAEUQEoj859Z86cwaBBg9CiRQssXrwY2dnZmDVrFgoLCzF+/HjNcZmZmfj666/x3HPPISoqCrm5uVi8eDH69OmDDRs2qBLdvfbaa4o8OHrT3gvb+LOzs5GcnIzk5GR06NDBfl6erW/jxo3o1q0bXnnlFQBAq1atkJ+fjzlz5iA/Px8PPPCA7vl48fEWk0WzjZePnxer7+Gkb4C8721I8NSwUwzAylFX9erhfP2b6avwDdAfx+1s7L6hGHR5jn9Om3oOMTr+vdbunb2lbSQ/vu73SWdsvqNxemP1jfRV6fFmnq+AvnHcWH0GE0cql+v6UpEEk6d2rL7JpN2mOFZp7DrfRZ4Wz4vVL7wFeHH+DvNeAMLORx99BJvNhgULFsDT0xOtW7dGXl4eFi5ciISEBFSrVq3McY899hi+/PJLeHj8vTU3b94c7dq1w3/+8x+MHDlS0b9BgwaIiooyvD5h71x6ejr8/f0Vmz5LUVERqlatqjhns9kgSRIkjsNYRcGT86eXt+m7M+Vz1XxEFckh9MGL1Tfyw8adUGz65Qnepn+fkFz0z5Xs2rULMTEx8PT0tJ/r1q0bCgsLsX//fs1xNptNsekDd/Lj1KlTB3/88Yew9Qnb+I8cOYKgoCCkpKSgTZs2CAsLQ+/evXHw4EF7n969e2P9+vXYu3cvbty4gWPHjmHZsmXo1asXfHx8RC2FIAiCILjk5ubi7Nmzqn+l1WOdJT8/H+fPn0dgYKDifL169eDt7Y3s7GxD9i5cuIDz588jICBA1TZlyhSEhoaiZcuWmDhxIi5fvqzLprBb/ZcuXcLx48fx008/YdKkSfD19cWyZcuQkJCAzZs3o169ehgxYgSKi4sxePBg+xV+p06dMHXqVFHLIAiCICoQrtL4V6xYgeTkZNX5kSNH3lVG2by8PAB3rt5ZbDYbrl27ZsjetGnTYLPZ0KtXL/s5T09PvPjii2jbti1sNhsyMzOxaNEiHD58GGvXrnWo9Qvb+CVJQn5+PlavXo2QkBAAd7SJ6OhoLF26FO+++y5WrVqFlStX4s0330RYWBhOnTqF+fPnY9q0aXjvvfdELYUgCIKoILgqV39cXJxiMy2lrA07Ly9P1612f39/IWsrZfHixdixYwcWLlwIPz8/+/kHH3xQsWe2aNECYWFhGDhwIDZu3IjevXtz7Qrb+G02G6pVq2bf9AHA29sbkZGROHXqFK5cuYKZM2fi9ddfx0svvQTgzg8DX19fvP7664iLi8Mjjzyiez6LzCGFm6SHabPIHFK4xX14SYGYtfAc75RtHOc9A4V3WBTJfe7CjtY4ZxP2APoL7PCS+7jCmc/Zwj+OuBdOeor5XDCHsw58PDt35fjHc8TjJNvhj5P30x7HfqF4RXqUXxrm7wfHgc9IAR+T3BHvbortODnOJHOchlk7LK08YLPZytzky2Lr1q2YOHGiw34rV65EeHg4AJQpGeTm5io2cB5r167F3Llz8fbbb6Njx44O+7do0QI1a9ZEZmbmvdv4GzVqhJycnDLbCgoKcObMGRQWFip+GABAaGgoACAnJ8fQxk8QRMWH3bCJyoc7JPCJjY1FbGys7v7+/v7IyspSnDt37hxu3rxZplbPsn37dkyePBnDhg1D//79Da/XEcKc+zp06ICrV68iMzPTfi4/Px+HDx9GWFiY/RaIvB0Ajh8/DuCO4wNBEARBlHfatWuH7du3o7Cw0H5u06ZN9tA+HgcPHsTYsWPRo0cPjB07Vvec+/fvx+XLl+13HHgIu+KPiYlBREQERo8ejbFjx8LHxwfLli3DrVu3EB8fj1q1auGZZ57B/PnzUVxcjLCwMJw+fRpJSUl44oknVB6QBEEQBHH/r/eNk5CQgIyMDIwZMwYDBw5EdnY2UlJSEBcXp7jVHxcXh/Pnz2Pr1q0AgKysLPzzn/9E/fr18dxzz+Hw4cP2vr6+vmjUqBEAYMaMGTCZTIiKioLNZsPx48exZMkSNGnSBF27dnW4PmEbv9lsxuLFizFr1ixMmTIFBQUFiIyMxMqVK+2pBhMTE5GamorPP/8cFy9eRO3atdG9e3enPCjlmruFEenMnDalVs/T8Vn9X9ZPVaSHY5OTFIgvFzLz6y3Ew7Zxxpk0+qnaDI3TX4hHb5Ke+6Hju6tWfzdx7Ua0e+W4u7dpqEgP86EyW+R2eMl9eDo+r0iPto5vZv9C6kzgw9Xt2WMjOr4iuQ9r06zdxnNqUHRjdHtekZ57lMCnPGbuq1+/Pj7++GMkJiZi6NCh8PPzQ3x8vCoBT0lJCYqLi+3HR44cQV5eHvLy8tCvXz9F3xYtWiAtLQ0AEBgYiE8//RRffPEFbt68iQcffBDPPvssRo8eDS8vL4frM0nlNHNObb8g+2Nvi6eizUt2rGozW+2Pq5isTJuHrE35ja8i+0J4wqLZ5sVsKZ6yYy/mz7s8aY+XpN0GAFZJ3gbtNubd9JAds644sr+n8GA+BvK+bJuJ21b+N/67KQxDG3/ZNp3d+OWbflnzyceyfeXHZo8S7TZmnMVT1sZ8oeR/FszKPy0wV/n7U2XyZC44qii/fSYvD1mblWmTGfZSTmLylv1R92QW4O0ts8mEc1Xxlj1mkvTIjk3eVTXb7rTLnOG8lLlXvBo/AVcwsWE/x52cYPqvq11itzxA1fkIgiAIt8UdnPsqGpRsmSAIgiAqEeX2ip8Xcy/X9Xl6vIUdB53juPo/u07tNrmdIpPyNj3bl6er82+n88Zp32qXx+6rn5O8TfvWPntsJFZfsbb7cDtfd8y7rl7O21fNZ2CcoQI+Lr6dzx3H0fRZO+xzUuj/XB2fWZtCx2cdVTi5ATzkj1mNXeMxUIbGz9HKOfo/L+Ze4VfAi8c31MaJ1eflBhAIXe+Lp9xu/BUNVpsn7h/ltTBMReRu/C2IikF5dO5zd4Rt/AMHDlQU5JEzbtw4DB06FJ999hm2bt2Kn3/+GTdu3EBAQABefvlldOnSRdQyCIIgCILgIGzjf/fdd3H9+nXFufXr12P16tVo164dACA1NRVt2rTBCy+8AB8fH+zYsQNjx47FlStXXJKdiCAIgijfkHOfeISm7GWZNm0amjRpguDgYAB3cg/XqFHD3v7EE0/g4sWLWLp0KW38BEEQBHEPcJnG/+uvv+LYsWMYP368/Zx80y8lJCQE3377rWH7ZpmTi4VJOqF04FM6oPAc/+Q9PTgFfLhFgVROgWXbAPQn5WGPVY5/cjscxz+Vkx7HmVDpp6RdiMfRup2N1VfkKTHgwOdsrLpyXXxc7ZjnvH0xazES0++sAx83uY6BWH1ezL8yjp/nFKhcN68QD79IDycpjyrZjk4HPq7jH2dxRhLv8Ir0cPqa7lECH7reF4/L3rkNGzbAbDaje/fu3H4//PADpeslCKJMyNGSIMTjso0/IyMDzZs3R506dTT7bNu2DXv27MHgwYNdtQyCIAiiHFPion+VGZds/IcPH0ZOTg6effZZzT6nT5/GxIkT0alTJ/To0cMVyyAIgiDKOZKL/qvMuETj37BhA7y8vNCpU6cy2y9evIiEhAQ0adIEs2bNcmoOi1lbq5fr+Kyu7iH7rcPV/1XJfbSL7cj9AdjkPh6ccUq5kJmPk3OfUzeEq+OrdHRFP+18/LxCPDzdXr02/Ul6uHM4q09rtjjStV2TNEc5h95+bpzAh6Pjq2xyiuRYOAl8uAV8DBXikTu4MDYVSXqYhSukcra4jiypmAdHm2fHGijgo0y2w2szoONzkwkZSPZDlBuEb/xFRUXYvHkzOnToAF9fX1X7lStXMHjwYPj6+iI1NVVXJSGCIConlMCHqOy35V2B8I3/u+++w5UrV8q8zX/jxg0MGTIEN2/exKeffgqbzVaGBYIgCIIgXIXwjX/Dhg2oVq2aPWmPnNGjR+PEiROYOnUqLl68iIsXL9rbQkND4cmWmSQIgiAqNZTARzxCN/4bN25gx44d6NmzJ6xWtmr8nbsBADBx4kRV2/bt21GvXj3dc1lM+rR6M9PGi6vnFeKxcNqUNqHZxhtXBAleHH8AeV/27qfeIj1sLRKLTNdnS3HoLcTjqEiPvN2D1Vl1xufz4rpdpdvrjvkXFDvvzNwi5+e+VqyTh8b8/H6c95CVo50sxGMkjt+kaGMWywt5lxfmYYv0eHC0eQ/mGyb3B+Do6CZ2nPwFtzALd7YQDy8enxfzT3H85RahG7+Pjw8OHz6s2f7zzz+LnK5C4cXdwoh7CcWOuw/sZk4QxN1D1fkIgiAIt4Vu9YuH4jEIgiAIohJBV/wEQRCE20LhfOIptxu/vDAPz7mP28ZJtqMq0mPSdu7TncCHTcrDaeMn+1Eil0FVc0jajnC8Qjxyxz/VfJzkOhbma8ortuMKBz5RxWf02jQyh975nJ3f0dx6nfSMjZMnYeI5CGqPc5T4x+xRotnGde6TOfSZVG0yG8xfQZOijXHI9ZA75bFtMqc8Cz+BDyyWsh+zx5yEOuz8Sk9LI4V/tB3/TCbWKZF1A3Y9lT3LnisQtvEPHDgQBw8eLLNt3LhxGDp0KACgpKQEaWlp+Pzzz3HmzBn4+voiMjISKSkpMFMmKIIgZMg3fYIgxCBs43/33Xdx/fp1xbn169dj9erVipj+d955B9u3b8fw4cMRHByMy5cvY8+ePZAk+lVHEARBKKGffuIRtvE3atRIdW7atGlo0qQJgoODAQD79u1Deno6/vvf/yIkJMTer3PnzqKWQRAEQRAEB5dp/L/++iuOHTuG8ePH28+tWbMGLVq0UGz6zqJXx/eAEf1fpt9xEvjwEv/wE/job2PDl+XHbCIe+ZwWQYV49Nrkafp35tBXbEel1Stsauv4rtDtHWrlAvwBDCXp4Wjsyrmdt+N8ch99Nng6Pi8pD8Am8GHsyj8LBpL0mJzU+BUfcF4bR/931Jfb5sHR/+UJfQwk8FHo+I6K9CiK/dwbvZ80fvG4TFTfsGEDzGYzunfvbj935MgRBAYGIjExEc2bN8ejjz6KuLg4SuxDEESZUAIfghCPyzb+jIwMNG/eHHXq1LGfu3TpEtLT0/G///0PM2fOxPz583Ht2jXEx8cjLy/PVUshCIIgyiklLvpXmXHJrf7Dhw8jJycHw4YNU5yXJAnFxcVYvHgxateuDQB49NFHER0djc8//xwJCQmuWA5BEARRTikhx2/huGTj37BhA7y8vNCpUyfFeZvNhjp16tg3fQB46KGHEBAQgFOnThmaQ67PW5lYUwvkOj6r1WvH8fPbeAV8yu4HAB6Sdm4AuSRZDEBe1ogXx89Kubw4fl4hHg9FGxPHrzNWXxWeDP16vLM6vl6N3Vn9n7XD4mxBGyPz67UpKscAt04LJ+Ze2Y+16dw4lVbPKeij6MvmgtCt47Nt2jq+Io6f0e0VsftscR0mVl9RfMeD08bG+Ju0tXrFMVvAR3ccP2c+tu89KtJDiEf4O1dUVITNmzejQ4cO8PX1VbSV5flfSkFBgeillCvUtQyJ+4WRzZRwLfReEJKL/lVmhG/83333Ha5cuYJnn31W1dahQwecOnUKv//+u/3chQsXkJ2djbCwMNFLIQiCIAiCQfjGv2HDBlSrVk2RtKeUPn36oHbt2hg2bBi2bt2Kr7/+GsOGDUO1atXQp08f0UshCIIgyjklkFzyrzIjdOO/ceMGduzYgc6dO8NqVd+89vX1xcqVK+Hv74833ngDEyZMgL+/Pz755BNUq1ZN5FIIgiCICoDkov8qM0Kd+3x8fHD48GFun3r16iElJeWu59JfiEc7SY9qnLxID+NxpLcQjyoRj+yxyilP/piTsAdQOgKqE/hoO/DxCvHwkuvoTdLDc+a701e2Nicd+Iw42jk7TmHDgYOeiII2PJx1wjMyn6iCPXrtqMfJ+2m3sWPZYjsKXzf2r5l8DmcL8ajaOIV4ZE553IQ9AL9Ij24HPraADmech87kPg4+YCbe2ohyQ7mtzkcQRMVHb5QEUXGp7DH3roB+shEEQRBEJYKu+AmCIAi3pbI74rmCcrvxe8iS9pi5Wr1SB7PqTNKjKu7D1fFl4yRt/Z/V5hW6PWOTPVYmCVIaUur/2ol4LEybh0a/O8d/32BjtXmF/m9W3ohj5WG5Xs1quRazdptyHDThjhOlY99FQR+lXU6bC/R4Q3ac1OqVNthxnOI6Zu02NhEPL/eMQqvntLH3Nrk6vqdMx2eT9FjliXeYNg9t/d3EJvSR+wOo9HhOch+5XXachVNsR37MS+7D0/+ZY9M9SuBT2R3xXAHd6icIwm2h5HAEIR6hX6tt27ahd+/eaNq0Kdq0aYNRo0bh119/VfVbt24dOnXqhPDwcHTt2hWbN28WuQyCIAiigkBFesQjbOPft28fRo4ciYCAACQnJ2Py5MnIzs5GfHw8rl+/bu/35ZdfYsKECXj66afx4YcfonXr1njttdewc+dOUUshCIIgCEIDYRr/xo0b4e/vj5kzZ8L0/0TBunXrok+fPvjhhx/w1FNPAQDmz5+PTp06Ydy4cQCAVq1aITs7G0lJSfY+euAV6ZEfq4r0yMcxv3vksftsQR2l/s8r0gPn2hzE8esvxCNptqn9BuTjlL+B5bq+qkiPWVv/N6LVy+2oCrzoLbaj0uN5bc7G9WuvzdF6tNbGQ4QWb9wuZ5zO14YXq8/q9ry5ufH4nIQTqlh9s7aOD52x+qyOLz82eTITWuRx/My3nU1oxovjV7Qxc8jj8dk2Xhy/QpvnxP/zfAPuExJV5xOOsHe1qKgIPj4+9k0fAKpWraroc+bMGWRnZ6Nr166K8926dcOxY8fw119/iVoOQRAVgfu/7xBEhUPY16pXr17Izs5GWloacnNzcfbsWcycOROBgYFo3bo1ACA7OxsAEBgYqBhbWrWvtJ0gCIIgAMrV7wqEbfytWrVCUlIS5s6di+bNmyM6Ohrnzp3D8uXL4enpCQC4du0aAMBmsynG+vn5KdoJgiAIAiDnPlcgTOM/dOgQJkyYgN69e6Njx464evUqUlJSMHz4cKxevRpVqlQRNRUAZXy+Kne+rI3V8Xlx/B7cGH+5DWacxNH/OTn25W0lADw5fT0UOj5jR/aYlXGdjdW3cDR2VV+dWr2Fo7mrcu4rYvzBaTOQx5+TH56FN79WP0NtTtvUHnfHrpM6vt45jfhC6E0Bz4u/Z8eq5uDo+Ar9n9XqTZptihz8bJtc12dj9VnN38rpy4nVV8T4q/L4y56jKo6fo//zYvVNPP3fQB0BotwgbOOfNm0aWrZsibfeest+LioqCu3bt8f69evRt29f+5V9bm4uateube9XeqVf2l4Z8Synd57YBD4VgfKaH15vEaDyhBv4ljmHtdzmRnM7ymsCn6NHj2L69OnIzMyEn58f+vTpgxEjRsDC/phj6NixI86dO6c6v2/fPtSoUcN+fP36dcyaNQtfffUVCgsL0bJlS0yePBn16tVzuDZhn86srCx07NhRca5OnTqoXr06cnJyAAABAQEA7mj5cp0/KytL0U4QBEEQ5ZUzZ85g0KBBaNGiBRYvXozs7GzMmjULhYWFGD9+vMPxzzzzDAYPHqw4x0rk48aNQ2ZmJt5++234+vpiwYIFGDRoEDIyMuDt7c21L2zj9/f3R2ZmpuLcuXPncOXKFdStWxcAUL9+fQQEBGDz5s14+umn7f02btyI8PBwxa8ZgiAIgiiPjngfffQRbDYbFixYAE9PT7Ru3Rp5eXlYuHAhEhISUK1aNe74WrVqISoqSrP9yJEj+Pbbb7FkyRJ7GHyTJk3w9NNPIz09Hf379+faF3YjrX///tixYwemTp2KvXv3YvPmzXjllVdQs2ZNdO7c2d5v9OjR2LJlC+bOnYsDBw4gMTERe/bswahRo0QthSAIgqggSJLkkn+uZNeuXYiJibE7tgN3wtYLCwuxf//+u7a/c+dOVK1aFU8++aT9nL+/P5o1a4Zdu3Y5HC/sir9///6wWq1YvXo10tPT4ePjg8jISMybNw/Vq1e39+vcuTNu3bqFRYsWYenSpXj44Ycxe/ZsQ8l7AGWSHjaBjzxpj4URCeVOe1amTe6YxzrwWRVFetg22WOOcx2TwoNxvFOidsSTz8EW6fn72Koapy9JD8+5j9Xx5U5zZkYPZx3q5O2iHPiUhXiYcZwiPXod6hxp/M4WrVHacLETXpkd9Cbi4c3PnNDbl5cXhuOwx7Zz21gHPq5zn8yhzcK2yRPxaBfC4SXwURXXYR34uAl8ZHa5DnwGHO+4Nq3abarsSpxCQOWM3Nxc5Obmqs7bbDbVbXUj5Ofn4/z586qw9Xr16sHb21tX2HpGRga++OILWCwWPPbYY3jttdcQFhZmb8/KykJAQADMzPvVqFEjfPfddw7tC9v4TSYT+vbti759+zrs26tXL/Tq1UvU1ARBVFTK995CCMBV7sMrVqxAcnKy6vzIkSPv6g50Xl4eALUmX3rOUdh6x44dERERAX9/f5w7dw5LlixB//798Z///Mee8yY3N1eVIE+vfaAcl+UlCIIgCGeJi4sr8wK0rA07Ly8Pf/zxh0Ob/v7+d72uyZMn2x8//vjjaNeuHTp37owlS5Zg1qxZd20foI2fIAiCcGNcFc5n5Jb+1q1bMXHiRIf9Vq5cifDwcAAoU0bIzc01HLZevXp1tGrVSuE8b7PZcOHCBaftl9uNX67Pe7BFemT3B1UJfBRFevTr+HL9X5WIRzGOWaesL6/wDtvGS+DjIfF0fOeS9PCS8rCJd3gJe1h/AL06vnqc7LGTvgEsRsbp1eddosdzEg8ZsWMkaQ53nNM6PsepQqduf+fYpN3Xg9cmT0yj3abW42VtvMQ7rMYu0/xNbFEeNq5f3s70NfH0f16RHl4CH14hHr1t9wl38OqPjY1FbGys7v7+/v72MPVSzp07h5s3bwoJWw8MDMTevXshSZLis3369Gld9u//u0oQbkY591mqWPB+PBCEm9KuXTts374dhYWF9nObNm2yh/YZ4a+//sK+ffvsdxIA4KmnnkJubi52795tP3fhwgUcOnQI7dq1c2hT6J+4bdu2oXfv3mjatCnatGmDUaNG4ddff9Xsv3XrVgQFBaFbt24il0EQBEFUEMpjOF9CQgKuXbuGMWPGYN++ffjkk0+QkpKCuLg4xa34uLg4VU6bcePGYf369di/fz/++9//ol+/figsLMSQIUPs/SIjI9G+fXtMmjQJmzZtws6dOzFixAj84x//0HVnQtit/n379mHkyJF49tlnMXbsWOTm5iI5ORnx8fHIyMiAr6+vov/NmzeRmJiIWrVqiVoCQRAEQdx36tevj48//hiJiYkYOnQo/Pz8EB8fj5EjRyr6lZSUoLi42H5cr149/PHHH5gxYwZyc3Ph6+uLFi1aYMGCBarwwNmzZ2PWrFmYMmWKPWXv/PnzHWbtAwCTJOinz6RJk7Bv3z5s377drjkcPXoUffr0UWQXki/68OHDqFu3Lo4fP46NGzcami+m/jP2x1WYqh5VZJp/FbBtf9/k8GRueFSRHXsxbV6yQjxejP4vz7Pvxbyaco2fzcevPpbF43N0fLbNqjNW32rmxPGzGrvsKari+OXavEV7HCBGxzdb9Gv8Wv0cz8cfq9nXyaI1jvoqcLLYjfNz6NPmDfVl+inGcTR9dV/WH0Cm8bPx+PK+rI4vb1Pp6DLfAF78PWtTrtWzNlmN3/Pvvmp/AE9ZPy+mTdbXkyl8phinbDN5yjYDL2acl0/Z/QCAOTbJ+1bxUbRZa7km5XqHek877uQE35zd6hK75QFht/qLiorg4+OjcDQoK84QuJN8IC0tDW+//bao6cs9ni6+9UTop7wW6amIcH9YEAThFMI2/l69eiE7OxtpaWnIzc3F2bNnMXPmTAQGBqqcGd5//3307t0bTZo0ETU9QRAEUQGRXPRfZUaYxr+AfdEAACAASURBVN+qVSskJSVh/PjxmDZtGoA7RQOWL1+uyFe8adMmnDx5EklJSaKmJgiCICooJXQ3VDjCrvgPHTqECRMmoHfv3lixYgXmz58Pk8mE4cOH49atWwDu1A+eMWMGXnvttbvKhUwQBEEQhHMIu+KfNm0aWrZsibfeest+LioqCu3bt8f69evRt29fLFq0CNWqVcPTTz9tz2p0+/ZtlJSUIDc3F1WqVFHcHeDhKXPg82QS+HjK0uhYGe8vbnIfbpEe2WOOkx77gsrbVAV8ZL9kLRxnvjtjeYV4/naas/IS8XDa2GI7Fq5TnrbjnREHPvlYtSOezgI+3CI9+seBOw6a8JLd3JsEOhwnOV5f3no4/Rwm21G0cZLrcBz2VMl2uM59Zs02RSIe9kXlOfDJ+3Kc+7hFelTJfZgkPQpHQMaOB8dJUHcBH9am7Jh5LUwm7cI7JjdI6EPX++IRtvFnZWWhY8eOinN16tRB9erVkZOTAwDIzs7GyZMn0bJlS9X45s2bY+LEiRg0aJCoJREEUd4h5z6CEI6wjd/f31+RSxi4k6LwypUrqFu3LgBgzJgxiIuLU/RZsmQJfvnlF0yfPh0NGjQQtRyCIAiiAuAOKXsrGsI2/v79+2Pq1KmYOnUqoqOjcfXqVaSmpqJmzZro3LkzAJTpxb927Vr8/vvvZd4FIAiCICo3tPGLR+jGb7VasXr1aqSnp8PHxweRkZGYN28eqlevLmoaO3oL8bBJevg6vqyNTcSjGKdErsKx45Rt+nV7XgIfNkmPlZOIR67rezDJdrgav0W7EI9Z1mZhk+sY0PH5Gj/Hpsfda/VG9HdROr5ePV6Yju5gPU7Z4SXQ4WVT4mr8nMQ77HpYOyaexm/RbFNo5yqtXKbjG0jgozu5D6DU4Nk2uR7vYaAQD0//l79OFmY+hZ+ERbuNqDAI2/hNJhP69u2Lvn37Gho3Y8YMUUsgCKKCQQl8CFfn1a+M0M85giAIgqhECLviJwiCIAjRkMYvnnK78Svi+Lk6vrLNQ9amLrbD0f858fj8Nrk2r0R+XAITrJJMO2c1f52x+h6sxs+Jx+cV25Hr76pxsjZeAR22nd+maFLG3KvmKPux6tjZNqbdiOaut/iMkUI4uuPqHWr8AvR4VV+Oxq7XV0AVK87xI+D5A6hi9Tkav6wvV8fn+Qao9HeOb4DVU7Mvt42n47NtstfGxNXxy9eN3sqeXtcVlK9PQAVGvukT9xn6VrgPpPEThHCEXvFv27YNixYtQlZWFh544AE0a9YM48aNQ8OGDe198vPzkZKSgi+//BKXLl3CQw89hGeffRZDhw7VnbWPIAiCqByQc594hF3b7Nu3DyNHjkRAQACSk5MxefJkZGdnIz4+HtevX7f3e++997B69WrExcVh8eLF6N27NxYtWoQPPvhA1FIIgiAIgtBA2BX/xo0b4e/vj5kzZ9r1w7p166JPnz744Ycf8NRTT6GoqAhffvklEhISMHDgQAB3qvqdP38eGzduVOT5JwiCIAhy7hOPsI2/qKgIPj4+CqehqlWrKvpIkoTi4mLVeZvNZvh2jiKBD+PU46lI7qPUCL3kbRLjwMdL4KPbuY9NxMNrkznscZz5AKVDn9qBT+bcp0rSo9dJjxnHaXPeuQ/KNlkiHqiS9MhtKsdxE+jI25hPN8/xTq9TnqovC6fYjW5HPF7RGkPJdTg39JxdmyNHPI02Q055BgrxcBP48MbpTOBjLLmPR5n9VG2A0jGQl9zHg5E/PZxM4CN39jOS2cpR0Z57AN3qF4+wd7FXr17Izs5GWloacnNzcfbsWcycOROBgYFo3bo1AMBqtaJHjx5IS0vDkSNHcOPGDezfvx9r1qxB//79RS2FIIiKQjnzQCeI8oCwK/5WrVohKSkJ48ePx7Rp0wDcyc2/fPlyhdPe+++/j3fffRfPP/+8/dygQYMwcuRIUUshCIIgKgh0q188wjb+Q4cOYcKECejduzc6duyIq1evIiUlBcOHD8fq1atRpUoVAMDs2bOxc+dOTJs2DQ0bNsThw4excOFC1KpVC0OGDBG1HIIgCIIgykDYxj9t2jS0bNlS4aAXFRWF9u3bY/369ejbty9OnjyJZcuWISUlBdHR0QCA5s2bo6ioCAsWLMCLL74IX19fXfN5ybQmL0axkB97cgrxqBP4lP0YEJPAh43Vl+v6PE0fUOr6rFYv1/UtjMbu4VFsf8zq8YoiPRZtbd7sYUTjh7KvvKAOLxGPSo+XG2HaFPq/dnIdbpsHu1D5Yweavk49XJUkhzeOp0frXYsj/ZUzv0qDd2YOZ7V5B3a4Wj1H41fMz2ruXP3/7w+Y6vXm6ui8xDvM/DytXq7rs0mC5G3MOEXSHtamPGGRifdauJ+0Qgl8xCPsXc7KykJwcLDiXJ06dVC9enXk5OQAAE6fPg0ACAkJUfQLDQ1FYWEhfv/9d1HLIQiiAsD9QUIQhFMIu+L39/dHZmam4ty5c+dw5coV1K1bFwDs/8/MzIS/v7+93/Hjx2EymRTnCIIgCKKEvPqFI2zj79+/P6ZOnYqpU6ciOjoaV69eRWpqKmrWrInOnTsDAB599FFERETg3XffxeXLl9GgQQMcPXoUS5YswXPPPQdvb29RyyEIgiAqAHSrXzxCN36r1YrVq1cjPT0dPj4+iIyMxLx581C9enUAgMViwaJFizB//nwsWbIEf/75J/7xj39g8ODBGDZsmKH5qkC7SI+nQsdn9H+OHs/T+HnjvBQ6vmti9a0WmVbP6vhyjZ+Nx/eQt7E6vl6NX3+bIR2fE6tv8tAZc+/B0eONFMlhNH9u7LxiDu0YdKf1eGeL1LDw4uMNxPhzdXRFNwOx+rz5WDsm3uutV/9n3l95X06xG7B+Gno1flabZ58/r9iOByeOX+5/wBbisXC+UDwd/z7E5hP3F2Ebv8lkQt++fdG3b19uv5o1a+L9998XNW2FgXXmI+4f3Mp1xL2F3otKD93qFw/91CMIgiCISoTQ6nwEQRAEIRLS+MVTbjd+ua7PxuPzdH0vJj+/F0fX93Sxrs+L1QeUuj6bg1+u83uo4uxLOG3Oxefz4vEVefU5Oj7Aav6MPs/T9eUaPE+7V8Xny9rY28YeHN3TSC57biy5gHz1grRzl2jwvFvxRvR4OTx9Gsx7YUjL5rymHH8Abu5+Ra4Azoedp+M76svT9bm5+//uazLLxpWUML4KsudXXAQT61egxe0CwOqlr+9dQLf6xVPhb/V7cT4zvDb2R4BynHYjm6RH0QbtNt6mz8I69ynaLNpzsJu57jYPXptmkwre3sL+CFC2GdiU9LYZsMktymNkw3R1mxGcteNsXL2gcfwCSbwPmJPvIZt4R/d8Bp4vd37OF4z98aAYZ+W0aY/TvekD92TTJ1yD0Cv+Xbt2Yf78+Th58iT8/PzQtWtXjB071p6uFwA+++wzbN26FT///DNu3LiBgIAAvPzyy+jSpYvIpRAEQRAVALrVLx5hG//+/fsxbNgwdOnSBWPGjEFWVhbmzZuHS5cuYc6cOfZ+qampaNOmDV544QX4+Phgx44dGDt2LK5cuUIV+giCIAjCxQjb+FNSUhASEoLZs2cDAJ588kkAwPTp0zFkyBB7mt61a9eiRo0a9nFPPPEELl68iKVLl9LGTxAEQSggjV88wjb+Y8eOYcCAAYpzbdq0AQDs2LHDvvHLN/1SQkJC8O233xqaT+7QV8UFznzqBD76nPm8WGc+k8zRzsTo+DJdn3Xe4xbisWr3Zdt4DnvyvrxEPKyObzLkzCd3vGOd63gJdcQ77CkdBPU76Jk82KImLnDKc4UTIIuziXAUNrTHGfKFMFIYxlmnPJ4Tot6ENoacADnJfYwk8JG/prwkPRxnPm5SIiP+FmblZ1+S/a0zlWj7IYmEbvWLR5hzn8lkgqen0jHEar3zQczKyuKO/eGHHxAYGChqKQRBVBQogQ9BCEfYFX/Dhg1x9OhRxbnS42vXrmmO27ZtG/bs2YNZs2aJWgpBEARRQZA4kVKEcwi74u/Xrx927dqFFStW4OrVqzh06BDmzp0Li8WimQL19OnTmDhxIjp16oQePXqIWgpBEARBEBoIu+KPjY3FyZMnMWvWLCQmJsJqtWLUqFH4+OOPUbt2bVX/ixcvIiEhAU2aNHHqal+u67Px+HJdn23zVOj/yjaroo3V8SVZG6PVyzQoK6Pjy3V9K0e3ZzV+Dw+lfibX53kJe3gav4XJQiQiKQ83CQ/AaPVsX46ubpG1qTR+mQbK0f9VMdg8HZ3Tl6vVM+NMPK2cm+jHST1abzIbGNDgjWjlnPm4NrnjHBTt0Vwbb90G2nhz69XxHWn8PB1fd1Igbf3fZGI+zybO83XzIj0lpPELR9jGbzab8dZbb2HUqFE4d+4c6tati9u3b2POnDlo2rSpou+VK1cwePBg+Pr6IjU1FV5elAiCcCNEJckh7h5nE/8QBKGJ8JS9VatWRXBwMABg/vz5sNls6NSpk739xo0bGDJkCG7evIlPP/0UNptN9BIIgiCICoJE4XzCEbbxHz16FPv370doaCgKCgqwY8cOpKen44MPPlBs7qNHj8aJEycwdepUXLx4ERcvXrS3hYaGqiIDCIIgiMoL3eoXj7CN32q1Ytu2bUhNTYUkSQgLC8OHH36Itm3bKvp99913AICJEyeqbGzfvh316tXTNZ+zsfpeXB1f3sbo+PI4fk6svqdZqc17cGP1mSI9Ml3f4sFq/rKYewPx+PI2no5vZn5v6dbxHWj8Cg2e0eMVTp+sVi+LnVfp+CaOTYU+ytHt2dh8RudUxO7ztHqVHSdj5Tn6sO6iNOwxTyt3trgNi954eN44Rxqz3nWLGudkHL9KVxeSK4CxKdf82c+sfH5uHD9nnSxsrL58TvK2L7cI2/hDQkKwZs0ah/1+/vlnUVNWKFhnPuL+oUrYU16oiHp4eX1O5XXdbgjd6hcPfToJgiAIohIh3LmPIAiCIERBufrFQxs/QRAE4baU11z9R48exfTp05GZmQk/Pz/06dMHI0aMgIX1PZJx4MABvPTSS2W2eXp64tixY/bjoKAgVZ8HHngAP/74o8O1lduNvwonSY8XN0mPLBFPCeOkB3mSHsbxDrJEPLxiO4aS9MjaOAl7AKWTHjdJD+PNyC22I3PoUyfp4STe8eQk0GGd7RSJeDgJdVg7FrlzH+vgxHG8k/flOewZSdij6stzIOQUrVE4BbIvuIsL0aj6Ckpo43SSHgNFY/T2NeDAp3CEc3bdvL6qtXCcSQ08J+66uQWErGX3YzHim1BCzn1anDlzBoMGDUKLFi2wePFiZGdnY9asWSgsLMT48eM1x4WFheHzzz9XnCsqKkJCQoLKUR4ABg4ciG7dutmPzTrfv3K78RMEUQlw86xyhOspj859H330EWw2GxYsWABPT0+0bt0aeXl5WLhwIRISElCtWrUyx/n6+iIqKkpxbufOnbh58yaeffZZVf9//OMfqv56EPqt2rVrF5577jmEh4ejbdu2mD59Om7duqXqV1JSghUrVqBLly4IDw9H69at8corr6CEfkESBEEQ5Zxdu3YhJiZGkZemW7duKCwsxP79+w3Z2rBhA2w2G9q3by9sfcKu+Pfv349hw4ahS5cuGDNmDLKysjBv3jxcunQJc+bMUfR95513sH37dgwfPhzBwcG4fPky9uzZUy5/2REEQRCuw1UJfHJzc5Gbm6s6b7PZ7iqjbH5+Ps6fP68qNV+vXj14e3sjOzvbkK0dO3agW7duZSa3W7JkCebMmQNvb2+0bt0ar7/+Oh5++GGHdoVt/CkpKQgJCcHs2bMBAE8++SQAYPr06RgyZAhCQkIAAPv27UN6ejr++9//2s8BQOfOnQ3N583R8b1kNw6szI8JuXbPtsk1frmmDwBeJm0d32r5W59X6ficAjoWM6dNdSzT6tlEPIoEPlC26dXxPXmJd7TbFBo+AHh6aPZV6eFyOzxdnaPxq/R/XpEeC0cf5ST0Uc3hrFbPLfCiM/EPr2iLgcIw4rRr53wDVMluOH0N6fpOrY2zFmf9HVgzRp6vK54TN/GQgRu/sqQ9UnGR/nF3gasuCFesWIHk5GTV+ZEjR2LUqFFO283LywOAMn882Gw2bpl6lq+//hr5+fll3ubv2bMn2rdvj9q1ayMrKwupqal48cUXsX79etSqVYtrV9jGf+zYMQwYMEBxrk2bNgCAHTt22Df5NWvWoEWLFopNnyDcCtKV3QdKhEO4iLi4OPTq1Ut1vqwNOy8vD3/88YdDm/7+/kLWVkpGRgbq1q2Lxx9/XNU2c+ZM++PHH38cLVq0QPfu3fHJJ5/g1Vdf5doVtvGbTCbVrQir9Y4naVZWlv3ckSNH0KFDByQmJmLt2rW4efMmHnvsMbz11ltlhicQBEEQlRdXxfEbuaW/devWMtPMs6xcuRLh4eEAUKaMkJubCz8/P11z/vnnn9i3bx8SEhKU6c01eOSRRxASEoLMzEyHfYVt/A0bNsTRo0cV50qP5bc2Ll26hPT0dDzyyCOYOXMmJElCUlIS4uPj8dVXX6Fq1aqilkQQBEEQd01sbCxiY2N19/f391dc8ALAuXPncPPmTQQEBOiysXHjRhQXF5d5m/9uEbbx9+vXD5MmTcKKFSvQo0cPZGdnY+7cubBYLIpfK5Ikobi4GIsXL0bt2rUBAI8++iiio6Px+eefIyEhQdd83jIJnC3E4yn7heipKsQji8dni+3IdH1PVsfnFNtR6Phmba3egym8wxbi0Vtsx2xlNH553Q5OsR2zJ3PblBurL9PRWR1fof8rtURVPL7VQ9bG0dyN6Pi8Ijk8mzzdnlfUhPUV0Kvxq9p4cdbaxVd0a/O85+Bgft0atLPx+I7i2rl9ndP4DenqTtg3JEM462NgxI7CJu91cU7TBwCF69M9UmHKo9N3u3btsH37drzxxhv2O+GbNm2yh/bpISMjA6GhoWjUqJGu/tnZ2Thx4gSGDRvmsK+wjT82NhYnT57ErFmzkJiYCKvVilGjRuHjjz+2b/DAndsrderUUZx76KGHEBAQgFOnTolaTrmDdeYj7iOkK7sP9F4Q5ZCEhARkZGRgzJgxGDhwILKzs5GSkoK4uDjFrf64uDicP38eW7duVYzPzs7G8ePH8eabb5Zpf+nSpcjJyUHLli1Ro0YNZGVlYdGiRahevTr69evncH3CNn6z2Yy33noLo0aNwrlz51C3bl3cvn0bc+bMQdOmTe39GjVqhOvXr5dpo6CgQNRyCIIgiAqAq8L5XEn9+vXx8ccfIzExEUOHDoWfnx/i4+MxcuRIRb+SkhIUF6srs2ZkZMBisaBr165l2n/kkUfw9ddf48svv8T169dRvXp1tGnTBmPGjEHNmjUdrs8kufA+yvz587Fq1Sps377d7kSxfPlyzJkzB9u2bcNDDz0EALhw4QKefvppvPrqqxgyZIgu28vr/h1BUBFu9avS8NKtfu1xrr7V7yhlL93q12VTsx+g/1a/kXS+bBPd6i/bxN08J8V7o1y3Z/1IPSszjM1HnyZulNwb+uPpKxrCrviPHj2K/fv3IzQ0FAUFBdixYwfS09PxwQcfKDwn+/Tpg7S0NAwbNgwjRoyAJElITk5GtWrV0KdPH1HLIQiCIAiiDIRt/FarFdu2bUNqaiokSUJYWBg+/PBDVWEBX19frFy5EomJiXjjjTcAAC1btkRSUpJm/uKyeKBEXyIets1TQLEdi5kp4CMrsMM67HlwruoVV/FsUR5PNknP38dsIh5lkh72yl27EI682A63uI6BpDwmpq/TV/XycarEPx6abcpCPAYc9oxc8XP7cq7cPXRe1RtI0sMt2sJ7/rwrcCeT1qiusPXeAbiLq3rdV8tGHNqc9Csw5DTnrrBp09nXQu7sV3xv/JKoLK94hG38ISEhWLNmja6+9erVQ0pKiqipCYKoqFSEzZQg3AyqzkcQBEG4LVI5dO5zd2jjJwiCINwWutUvnnK78VdRFNthtHq5xs8U27GaZIV4nCy2w+rxCo2fo+NbWG98mR0zO47jna/23JcX2zFz2hg9XK+Ob2XbOPo7R+MXpuP/v1TQAPh6PKtxc2wq+jryjtfbl6PVmyxWZRtvnF5tnucbAAf+AHqL/TiZeEeYJ7lqrAs0fneCTaDDo0QdFmbYJqvxM8eSkfUQbku53fgJgqgElNcNmxBGeczc5+7o+lb99ttveOedd9CjRw+EhoaiW7duZfbbuXMnevXqhfDwcMTExCAtLa3MfkuXLkXHjh0RERGB2NhY7Nu3z/lnQBAEQRCEbnRt/KdOncLOnTvRoEEDBAYGltnnxx9/xD//+U+EhITgww8/RGxsLBITE/Hpp58q+i1duhRz585F//79sXjxYjRs2BBDhw7FTz/9dPfPhiAIgqhQSC76rzKjK3NfSUkJzP9Ph3vzzTdx/PhxbNy4UdEnISEB165dwxdffGE/9/bbb+Obb77Brl27YDabUVhYiCeeeALPP/+8PYa/uLgY3bt3R+PGjTF//nzdC//6oRfsjz1UOr4sVp+Nxzdz4vFlOr5ctweYLHtszL3eWH0P7dh8gI3HB9PGy7JnLvMxAEV8vsnK6ugy/d3K6uHycYwezdH4uXH8Kn8AmV1GnzYp4v95Nnl5A9g2jjbPOzag4yu0eyMx/pxxJjPHJjdzHyfjoCofgJMav07t/r5r/Pcbvfo7oNTgWc1d3k1VQIejvytsFnPaHGj68namzauJMmeLKDy96rnEbmHBWZfYLQ/ouuI3O/hiFhYWYv/+/ejSpYvifLdu3XDp0iV7feBDhw4hLy9PkX/YYrGgc+fO2LVrV6XWcsyejvsQ9wh2AyXuH6TxE4RwhHyrcnJycPv2bZUM0LhxYwB3Kg0BsNcnZvs1atQI+fn5+P3330UshyAIgqggSJLkkn+VGSEb/7Vr1wBAkZNfflzanpubC09PT1SpUkXRr7RM4dWrV0UshyAIgiAIDeieJkEQBOG2VO5rc9cgZOMvvWLPzc1VnC89Lm232WwoLCxEQUEBvLy87P1K7wgYKdLz//3+2V2tmSAIgnB/igrP3e8lVDiE3Op/+OGHYbVa7Vp+KadPnwYABATcqadcqu2Xav2lZGVlwcfHBw899JCI5RAEQRAEoYGQjd/T0xOtWrXCli1bFOc3btyI2rVrIywsDADQrFkzVK1aFZs3b7b3KS4uxpYtW/Dkk0/CZFKGqREEQRAEIRbLe++9956jTjdv3sT27dtx+vRp7NmzB3/++Sfq1KmD06dPw9vbGzabDfXr18eiRYtw4cIF+Pj4ICMjA8uXL8frr7+OiIiIO5NZLLBYLFi0aBGqVKmCgoICzJ8/H4cOHcKsWbNQq1YtVz9fgiAIgqjU6Ergc/bsWURHR5fZNn36dMTGxgK4k7J3zpw5yMrKwoMPPohBgwbhpZdeUo1ZunQpVq1ahT///BONGzfG66+/jtatW9/lUyEIgiAIwhG6Nn6CIAiCICoGlBaLIAiCICoRtPETBEEQRCWCNn6CIAiCqETQxk8QBEEQlQja+AmCIAiiEkEbP0EQBEFUImjjJwiCIIhKRLmpzpeVlYVdu3YhOzvbXtTHz88PAQEBaNeunb0OgFHOnDmD//u//wMAhIWFoV69esLWTNx/rly5gl9++UXxmXnkkUdQvXr1+7wywp1xl89Nbm4u9u/fX+bfvdatW6Nq1apO2b1165a9lkrjxo0VRdOIio/bJ/C5desWJk2ahM2bN8NqteLhhx+GzWYDcOdLkZOTg9u3b6NLly5ITEzU/ABPmzYNgwcPhr+/P4A7NQImT56MdevWofQlMJvN6N27N6ZMmaKrbkBmZmaZX8jS2gTOcuXKFQAw9EeG1qJk9+7dSEpKwrFjxwAA8o+5yWRCeHg4Ro8ejbZt22rayMzMRGBgIKpUqWI/d+DAASQnJ+P48eMAgIiICIwaNQqPP/64rufgDq+NO67FXTY4d/nclJSUYN68eVixYgUKCgrsqdGBO6/VzZs34eXlhUGDBmHMmDGaf6+WL1+O7t27K9KhJycn46OPPkJBQQEAoEqVKhg+fDiGDh3KfW3k/P7774r3iQqslTMkN2fq1KlSy5YtpYyMDKmgoEDVXlBQIG3cuFFq1aqVNHXqVE07wcHB0pEjR+zHSUlJUmhoqJSUlCSdPn1aOn36tDR//nwpNDRUWr58OXdNn332mdS2bVspODhYCgoKUvwLDg6W2rZtK33++edcG1999ZV07do1xbm1a9dKHTp0kIKDg6Xg4GCpY8eOUkZGBq3F4Fo2bdokBQcHS4MHD5bS09Olo0ePSr/99pv022+/SUePHpXS09OlwYMHSyEhIdLmzZs17bCfmb1790ohISFSp06dpH//+9/Sv//9b+mZZ56RwsLCpB9//LFcvDbutpbi4mJp9uzZUkREhBQUFCRFRUVJ7dq1k9q1aydFRUVJQUFBUkREhDRnzhyppKRE086yZcukS5cuKc4lJSVJkZGR9vVERUVJixcv1rThTp+bBQsWSJGRkdKiRYuks2fPqtrPnTsnLV68WIqKipKSkpJ0r2XVqlVSUFCQ9Oabb0o7d+6Udu7cKb3xxhtScHCwtHbtWk07kiRJP/30kzRmzBipWbNm9te09N9jjz0mjR07Vvr555+5Ngj3wO03/latWknr1q1z2G/t2rVSq1atNNuDgoIUX4COHTtKM2bMUPWbOnWq1K1bN007aWlpUkhIiPT2229LBw4ckC5fviwVFRVJRUVF0uXLl6WDBw9Kb7/9thQaGiqtWrVK0w77hdy0aZMUFBQkvfTSS9Lq1aul1atXSwMGDJCCg4Olb7/9ltZiYC1du3aV/vWvf2nOUcq//vUvqWvXrprt7GfmxRdflF588UXFD9CCggKpT58+UkJCgqYdd3pt3GktkuReG5w7fW6efPJJ6ZNPPnG4llWrVklPPvmkeyQgdwAADv5JREFU7rV06tRJmjhxoqrfuHHjpOeee07Tzt69e6Xw8HCpS5cuUlJSkrRlyxZp79690t69e6UtW7ZISUlJUteuXaWIiAhp//79DtdN3F/cfuOPioqSvvvuO4f9du/eLUVFRWm2s1+AkJAQae/evap+O3fulMLDwzXtxMTESKmpqQ7Xk5KSIkVHR+teT8+ePaVXXnlF1e/ll1+WBgwYQGsxsJbw8HDpwIEDDtdy4MAB7nvNriU8PFz68ssvVf0yMjKk5s2ba9pxp9fGndYiSe61wbnT5yYiIkLat2+fw7Xs3btXioiI0L2W0NBQaefOnap+O3bskCIjIzXtxMbGSq+99ppUXFys2ae4uFh67bXXpNjYWIfrJu4vbu/V36xZMyxcuNCuJ5XFtWvXkJKS4lBnvX79Oq5evYqrV6+iRo0aKC4uVvWRJAkWi0XTxu+//45mzZo5XPdjjz2GP/74w2G/Uk6dOoU+ffqozvfp0weZmZm0FgNrqVu3Lvbs2ePQ9p49e1C3bl3da7FYLKhZs6bqfO3atXHz5k3Nce702rjTWoA7392AgACH9gMCArh/A1hycnLQqVMn1fmuXbvaNX8Wd/rchIWFIS0tDbdv39a0W1RUhFWrVhnyyfDz84Onp6fqvNVq5Y47ffo0nn/+eZjN2luG2WzG888/r/n6Eu6D23v1v/POOxg4cCDat2+P1q1bo1GjRnZHn7y8PGRlZWHfvn2w2WxYsWIF19bLL79sfyxJEo4ePapy0jl58iTq1KmjaaNRo0bIyMhAixYtuHNlZGQYijTw9vYu04HJZrOhqKiI1mJgLcOGDcObb76JM2fOoEuXLggMDFQ4RmVlZWHLli3YsmULEhMTufPPnDnTPr/ZbMZvv/2m+oF57tw5VKtWTdOGO7027rQW4O8N7rHHHtPcfO7VBudOn5s333wT8fHxeOaZZxAdHV3m371t27YhNzcXy5cv564lLi7O7vxXUFCAEydOoFWrVoo+v/zyC2rXrq1po1atWjhx4gRatmzJnev//u//yvyRQ7gXbr/xN2jQAJs2bcKnn36K3bt34z//+Q9yc3MB3PmjEhgYiOHDh+OFF17gev5Onz5dda6sD/r+/fvRrl07TTuvvvoqRowYgZMnT3L/OBw/fhwpKSnc5zZ+/Hi7l/Ht27dx6tQpNG/eXNEnJydH84tEayl7LT179kSVKlWwYMECbN68WeXxLEkSAgICMGfOnDKvCkspnfPGjRsAgNDQUFy4cEHVb+vWrQgODta0406vjTutBXCvDc6dPjcRERFYt24dPvroI2zfvh1paWmKdn9/f7Rr1w4vv/wy6tevr7mWkSNHqs7JPfxLWbt2LcLDwzXt9OvXDx988AEuX75s/9yU/rAqLCxEdnY2Nm/ejOXLl+O1117TtEO4B24fzueO/Pjjj1i4cCEOHDiA27dv2/9ASJIEq9WKVq1aYcSIEYiKitK0MXHiRNW50NBQDBw4UHFu4MCBsNlsWLhwIa3FwFpKOXv2LLKyslQ/FkXma/jf//6HBx98EA8//LBmH3d6bcpaS+mfAb1refPNN1Ubo7Pv05kzZ/DRRx9h9+7dOH/+vKJN7waXnJysOtegQQN0795dcS42NhYNGzbEnDlzNG0B7vO5KeXmzZuKtXh7ewtbh16WLl2KRYsW4fr16wCg2PgBwNfXF8OHD8fgwYPv+doIY9DGfxcUFhbizJkzinjW+vXrl3mL0VnOnz8PHx8f+Pn50VqcWAvLjRs3MGDAAEybNu2u4tWdteNOr407raUUd9jgCG0KCwtx6NAhZGdnq34UNW3aVOhnh3Adbn+r353x9PTU1EHPnz+PgwcPomfPnnc9zzfffMO1c/v2beTm5iIgIKDMRB7Xr1/HiRMnVLdhy7Jz7do11KxZs0w7NpvNoZ1Lly7h9u3b9tdFkiRs3boVO3bswMMPP4zo6Gh4eDj+2JXaKU24VGrnt99+c2iH50yWn5+PEydO2LM1AtDcuEXZkSP/zJRmjczKykJoaKjTV5NGsk9evXoVhYWFePDBB+1rOX/+PJYuXYqTJ0+isLAQjz76KAYNGsS9wpbbKUXLDm/T//DDD9G+fXs0btwYwB1fAWc2e9aOs9y4cQOHDh2CJElo3bo1rFYrCgsLsX79euTk5KBu3bro3Lmzwx8yjuzUq1cPnTp1cmjnp59+wjfffIPTp0/j2rVrMJvNqF27Npo2bYpOnTrB19dX1/MSZcfT0xOtWrVSSShE+YKu+F3EV199hTFjxuDEiRMusyNJEj744AN88sknKCgogJ+fH+Lj45GQkKCITDhy5AheeOEFzbWIsHP9+nW8+uqr2Lt3LwAgOjoaH3zwAYYNG4YDBw7AbDajpKQEISEhWLVqFXx8fMpciwg7wcHBilvpZWm1pbe3TSaT5usiyo6orJEi7Lz88sto1KiRXTb4/vvvMWTIEPj4+CAyMhIAcPjwYdy6dQurVq1CaGhomWsRZaf0NW7SpAl69OiBrl27OpUFToSd3377DfHx8Xa5oXHjxli6dCleeeUVnDhxAtWrV8eVK1dQq1YtrFixQjMaQYSdgoICvPXWW9i8ebMie6CHhwdsNhv++usv+Pn54b333kPnzp01n5MoO3JclfGRuIfcg5DBSsmXX34pBQcHu9TO6tWrpbCwMGn69OnSunXrpMmTJ0thYWFSv379pKtXr9r7HT58mLsWEXZmzJghtWjRQvr888+lr776SurRo4c0ZMgQqX379tLx48el4uJi6fvvv5fatGkjJScna65FhJ0nn3xSatOmjbRmzRrpwIEDin87duyQgoKCpI8//th+TgtRdkRljRRhp0WLFtK2bdvsx71795YGDRok3bx5037uxo0b0oABA6S4uDjNtYiyExQUJE2ZMkXq3bu3FBQUJIWGhkpxcXFSenq6dP36dc1xrrAzatQoqWvXrtKRI0ek7Oxs6ZVXXpG6d+8u9ejRQ7p48aIkSZJ09uxZqVu3btKoUaNcamf69OlSVFSUtHz5cunUqVPSr7/+Kq1fv17q0KGDtHjxYuny5cvSvHnzpNDQ0DLzkYi2I0liMj4S7gFt/Abp1q2brn+lqUtdaad79+7SggULFOeOHj0qtW/fXuratat04cIFSZIcb/wi7MTExEhpaWn242PHjklBQUHSmjVrFP2WLl0qde/eXXMtIuzcuHFDmjFjhtS0aVNpzpw5Un5+vr0tNzdXCgoKkg4ePKi5BtF2RGWNFGEnIiJCseawsDBp9+7dqn6OErqIsiN/Tr/88os0f/586emnn5aCgoKkyMhIaezYsdI333wjFRUVadoQZadNmzaKRDtnzpyRgoKCpK+++krRb9OmTVLbtm1daqdNmzbSihUrVOd/+OEHKTw83P5j5q233uImSBJlR1TGR8I9cPsEPu5GdnY2zGYzHn30Ue4/R3qtCDtnzpxRxdWGh4djzZo18PDwQN++fXHq1CmHz0mEnd9//x1BQUH24yZNmgCASnMNCQnBuXPnXGrngQcewIQJE/DZZ5/h0KFD6NSpEzZt2sRdvyvtsFy4cKHMkNF27drht99+c6mdwMBA/Pjjj/bjatWq2cPO5OTn53ML2oiyI6dhw4YYPXo0vv76a3z22WeIjY3Fvn37MHz4cLRt2xZTp051qZ38/Hx7aCMAu/7OxtpXr169zOcq0k5ubm6Z/kOBgYEoLCy0f/ajo6PthX9caWfFihUYPXo03n//fbRo0QI1atSAxWKBxWJBjRo10Lx5c7z//vsYOXKkw7BL4v5Dzn0Gady4MRo0aFBmXgA5X331Fb7//nuX2vHz88Off/6pOl+7dm2sWrUKr7zyCgYMGIBhw4Zx5xBh54EHHlBkVvPw8EDVqlUVFcqAv0N/XG0HuPOjIS0tDevWrcP06dPx2WefYfTo0boqL4q2U5o1EoDTWSNF2HnppZfw/vvvIygoCE899RT69++P2bNno2HDhvYfXCdOnMC8efPQsWNHzXWIsqNFVFQUoqKiMGnSJOzevRsbNmxAeno63n77bZfZCQwMxIYNG9C6dWsAwIYNG+Dj44NvvvlGkfBo+/btaNCggeacIuw0adIE69evR5s2bRTn169fDw8PD7ufh5eXFzebnig7RjI+pqamOuxH3F9o4zdIREQEdu/erauvxPGbFGEnLCwM27ZtQ5cuXVRtvr6+WLZsGUaPHo1Zs2ZxNykRdgICAnDs2DHExMQAuONkVtYPllOnTnHvYoiyI6dnz56IiYnB3LlzER8fr2uMaDsiskaKsNOzZ09cuHABI0aMQN26dREUFIQ///wTPXv2tF+RXr16FeHh4ZgwYYLmOkTZcYTFYkH79u3Rvn175Ofnu9TOsGHDMGrUKHz//ffw8fFBVlYWkpKSMGHCBJz7/9u7f9VEojiK4wdB21Q2qSymEARtBBsbiS9gSgexSCMIPoMKvoJY+gRaSQpBMASSKqBD0vgHEcRGwTJFDCmWDUvizLqbayL4/ZR6+TnYHJi598xioXA4rMfHR/V6PVWrVdffMjGnVCqpUChoMpkomUzK7/fLcRzd3Nwon8+/78J/enqSZVmu12JqzqEaH/Ez2NX/j+bzuUajkS4uLjzXPT8/a71eu3Z6m5hzfX2tZrOpRqPh+u7z7XarSqWi29tb9Xq9nWtMzOl2u9psNjv72v90dXWlWCymUqm083tTc9yMx2PNZjPF43HPml2Tc9rt9qfPgsHgp8D+uFP+UHOkX4+aWq2WBoOBVquVXl9fdXZ2JsuylEqllE6n97qj8dU5uVxO5XL5y2Fhas7d3Z06nY5eXl6UyWSUSCT08PCgWq2myWSi8/Nz2bYt27YPPuf+/l71el2O48jn8ykUCimbzery8vL9Px0OhwoEAp7NkSbm9Pt9FYtFRSKRvRofvdpP8fMIfgDAX5lon8RxIPgBAHv7jsZHHBbBDwAwwmRjKQ6H43wAACMcx/HcW4LjQPADAHBCOM4HAPD08fXGbryKjXA8CH4AgKfpdCrLslxftvTbYrHQcrn8pqvC/yL4AQCeTDWW4jjwjB8A4CkajWo4HO61loNix4/jfAAAT6YaS3EcCH4AAE4It/oBADghBD8AACeE4AcA4IQQ/AAAnJA3Xd8T1HUep3QAAAAASUVORK5CYII=\n",
                "text/plain": "<Figure size 576x576 with 2 Axes>"
              }
            ],
            "_view_module": "@jupyter-widgets/output",
            "_model_module_version": "1.0.0",
            "_view_count": null,
            "_view_module_version": "1.0.0",
            "layout": "IPY_MODEL_1d15521ab7b74c849bc630217d1fc06b",
            "_model_module": "@jupyter-widgets/output"
          }
        },
        "d7533b1893b341da8525346a73e4bd70": {
          "model_module": "@jupyter-widgets/controls",
          "model_name": "SliderStyleModel",
          "state": {
            "_view_name": "StyleView",
            "handle_color": null,
            "_model_name": "SliderStyleModel",
            "description_width": "",
            "_view_module": "@jupyter-widgets/base",
            "_model_module_version": "1.5.0",
            "_view_count": null,
            "_view_module_version": "1.2.0",
            "_model_module": "@jupyter-widgets/controls"
          }
        },
        "c0ee0cfb8a8347f98cdc50f6edb75533": {
          "model_module": "@jupyter-widgets/base",
          "model_name": "LayoutModel",
          "state": {
            "_view_name": "LayoutView",
            "grid_template_rows": null,
            "right": null,
            "justify_content": null,
            "_view_module": "@jupyter-widgets/base",
            "overflow": null,
            "_model_module_version": "1.2.0",
            "_view_count": null,
            "flex_flow": null,
            "width": null,
            "min_width": null,
            "border": null,
            "align_items": null,
            "bottom": null,
            "_model_module": "@jupyter-widgets/base",
            "top": null,
            "grid_column": null,
            "overflow_y": null,
            "overflow_x": null,
            "grid_auto_flow": null,
            "grid_area": null,
            "grid_template_columns": null,
            "flex": null,
            "_model_name": "LayoutModel",
            "justify_items": null,
            "grid_row": null,
            "max_height": null,
            "align_content": null,
            "visibility": null,
            "align_self": null,
            "height": null,
            "min_height": null,
            "padding": null,
            "grid_auto_rows": null,
            "grid_gap": null,
            "max_width": null,
            "order": null,
            "_view_module_version": "1.2.0",
            "grid_template_areas": null,
            "object_position": null,
            "object_fit": null,
            "grid_auto_columns": null,
            "margin": null,
            "display": null,
            "left": null
          }
        },
        "1d15521ab7b74c849bc630217d1fc06b": {
          "model_module": "@jupyter-widgets/base",
          "model_name": "LayoutModel",
          "state": {
            "_view_name": "LayoutView",
            "grid_template_rows": null,
            "right": null,
            "justify_content": null,
            "_view_module": "@jupyter-widgets/base",
            "overflow": null,
            "_model_module_version": "1.2.0",
            "_view_count": null,
            "flex_flow": null,
            "width": null,
            "min_width": null,
            "border": null,
            "align_items": null,
            "bottom": null,
            "_model_module": "@jupyter-widgets/base",
            "top": null,
            "grid_column": null,
            "overflow_y": null,
            "overflow_x": null,
            "grid_auto_flow": null,
            "grid_area": null,
            "grid_template_columns": null,
            "flex": null,
            "_model_name": "LayoutModel",
            "justify_items": null,
            "grid_row": null,
            "max_height": null,
            "align_content": null,
            "visibility": null,
            "align_self": null,
            "height": null,
            "min_height": null,
            "padding": null,
            "grid_auto_rows": null,
            "grid_gap": null,
            "max_width": null,
            "order": null,
            "_view_module_version": "1.2.0",
            "grid_template_areas": null,
            "object_position": null,
            "object_fit": null,
            "grid_auto_columns": null,
            "margin": null,
            "display": null,
            "left": null
          }
        },
        "fb195c7ecb8647d3960a445ead53113d": {
          "model_module": "@jupyter-widgets/controls",
          "model_name": "HBoxModel",
          "state": {
            "_view_name": "HBoxView",
            "_dom_classes": [],
            "_model_name": "HBoxModel",
            "_view_module": "@jupyter-widgets/controls",
            "_model_module_version": "1.5.0",
            "_view_count": null,
            "_view_module_version": "1.5.0",
            "box_style": "",
            "layout": "IPY_MODEL_ce74f85567c2416d88b2f42b1363bc49",
            "_model_module": "@jupyter-widgets/controls",
            "children": [
              "IPY_MODEL_c862433eb87b4ae693d0f65b56d32294",
              "IPY_MODEL_4dea705d30844c10a8f564cb7b3eedf1"
            ]
          }
        },
        "ce74f85567c2416d88b2f42b1363bc49": {
          "model_module": "@jupyter-widgets/base",
          "model_name": "LayoutModel",
          "state": {
            "_view_name": "LayoutView",
            "grid_template_rows": null,
            "right": null,
            "justify_content": null,
            "_view_module": "@jupyter-widgets/base",
            "overflow": null,
            "_model_module_version": "1.2.0",
            "_view_count": null,
            "flex_flow": null,
            "width": null,
            "min_width": null,
            "border": null,
            "align_items": null,
            "bottom": null,
            "_model_module": "@jupyter-widgets/base",
            "top": null,
            "grid_column": null,
            "overflow_y": null,
            "overflow_x": null,
            "grid_auto_flow": null,
            "grid_area": null,
            "grid_template_columns": null,
            "flex": null,
            "_model_name": "LayoutModel",
            "justify_items": null,
            "grid_row": null,
            "max_height": null,
            "align_content": null,
            "visibility": null,
            "align_self": null,
            "height": null,
            "min_height": null,
            "padding": null,
            "grid_auto_rows": null,
            "grid_gap": null,
            "max_width": null,
            "order": null,
            "_view_module_version": "1.2.0",
            "grid_template_areas": null,
            "object_position": null,
            "object_fit": null,
            "grid_auto_columns": null,
            "margin": null,
            "display": null,
            "left": null
          }
        },
        "c862433eb87b4ae693d0f65b56d32294": {
          "model_module": "@jupyter-widgets/controls",
          "model_name": "IntProgressModel",
          "state": {
            "_view_name": "ProgressView",
            "style": "IPY_MODEL_7a69f0b7c86a4e9aaa00877128415861",
            "_dom_classes": [],
            "description": "100%",
            "_model_name": "IntProgressModel",
            "bar_style": "success",
            "max": 59,
            "_view_module": "@jupyter-widgets/controls",
            "_model_module_version": "1.5.0",
            "value": 59,
            "_view_count": null,
            "_view_module_version": "1.5.0",
            "orientation": "horizontal",
            "min": 0,
            "description_tooltip": null,
            "_model_module": "@jupyter-widgets/controls",
            "layout": "IPY_MODEL_c9f19bdeaba545e08284f1757bd9a5b5"
          }
        },
        "4dea705d30844c10a8f564cb7b3eedf1": {
          "model_module": "@jupyter-widgets/controls",
          "model_name": "HTMLModel",
          "state": {
            "_view_name": "HTMLView",
            "style": "IPY_MODEL_19962fa056bb4ac2819c3359ab29998b",
            "_dom_classes": [],
            "description": "",
            "_model_name": "HTMLModel",
            "placeholder": "​",
            "_view_module": "@jupyter-widgets/controls",
            "_model_module_version": "1.5.0",
            "value": " 59/59 [00:34&lt;00:00,  1.73it/s]",
            "_view_count": null,
            "_view_module_version": "1.5.0",
            "description_tooltip": null,
            "_model_module": "@jupyter-widgets/controls",
            "layout": "IPY_MODEL_419c32078c6e4073b2ab7e154874550c"
          }
        },
        "7a69f0b7c86a4e9aaa00877128415861": {
          "model_module": "@jupyter-widgets/controls",
          "model_name": "ProgressStyleModel",
          "state": {
            "_view_name": "StyleView",
            "_model_name": "ProgressStyleModel",
            "description_width": "initial",
            "_view_module": "@jupyter-widgets/base",
            "_model_module_version": "1.5.0",
            "_view_count": null,
            "_view_module_version": "1.2.0",
            "bar_color": null,
            "_model_module": "@jupyter-widgets/controls"
          }
        },
        "c9f19bdeaba545e08284f1757bd9a5b5": {
          "model_module": "@jupyter-widgets/base",
          "model_name": "LayoutModel",
          "state": {
            "_view_name": "LayoutView",
            "grid_template_rows": null,
            "right": null,
            "justify_content": null,
            "_view_module": "@jupyter-widgets/base",
            "overflow": null,
            "_model_module_version": "1.2.0",
            "_view_count": null,
            "flex_flow": null,
            "width": null,
            "min_width": null,
            "border": null,
            "align_items": null,
            "bottom": null,
            "_model_module": "@jupyter-widgets/base",
            "top": null,
            "grid_column": null,
            "overflow_y": null,
            "overflow_x": null,
            "grid_auto_flow": null,
            "grid_area": null,
            "grid_template_columns": null,
            "flex": null,
            "_model_name": "LayoutModel",
            "justify_items": null,
            "grid_row": null,
            "max_height": null,
            "align_content": null,
            "visibility": null,
            "align_self": null,
            "height": null,
            "min_height": null,
            "padding": null,
            "grid_auto_rows": null,
            "grid_gap": null,
            "max_width": null,
            "order": null,
            "_view_module_version": "1.2.0",
            "grid_template_areas": null,
            "object_position": null,
            "object_fit": null,
            "grid_auto_columns": null,
            "margin": null,
            "display": null,
            "left": null
          }
        },
        "19962fa056bb4ac2819c3359ab29998b": {
          "model_module": "@jupyter-widgets/controls",
          "model_name": "DescriptionStyleModel",
          "state": {
            "_view_name": "StyleView",
            "_model_name": "DescriptionStyleModel",
            "description_width": "",
            "_view_module": "@jupyter-widgets/base",
            "_model_module_version": "1.5.0",
            "_view_count": null,
            "_view_module_version": "1.2.0",
            "_model_module": "@jupyter-widgets/controls"
          }
        },
        "419c32078c6e4073b2ab7e154874550c": {
          "model_module": "@jupyter-widgets/base",
          "model_name": "LayoutModel",
          "state": {
            "_view_name": "LayoutView",
            "grid_template_rows": null,
            "right": null,
            "justify_content": null,
            "_view_module": "@jupyter-widgets/base",
            "overflow": null,
            "_model_module_version": "1.2.0",
            "_view_count": null,
            "flex_flow": null,
            "width": null,
            "min_width": null,
            "border": null,
            "align_items": null,
            "bottom": null,
            "_model_module": "@jupyter-widgets/base",
            "top": null,
            "grid_column": null,
            "overflow_y": null,
            "overflow_x": null,
            "grid_auto_flow": null,
            "grid_area": null,
            "grid_template_columns": null,
            "flex": null,
            "_model_name": "LayoutModel",
            "justify_items": null,
            "grid_row": null,
            "max_height": null,
            "align_content": null,
            "visibility": null,
            "align_self": null,
            "height": null,
            "min_height": null,
            "padding": null,
            "grid_auto_rows": null,
            "grid_gap": null,
            "max_width": null,
            "order": null,
            "_view_module_version": "1.2.0",
            "grid_template_areas": null,
            "object_position": null,
            "object_fit": null,
            "grid_auto_columns": null,
            "margin": null,
            "display": null,
            "left": null
          }
        },
        "43ac4ce916a34b7a998a16a2b3e9f5c6": {
          "model_module": "@jupyter-widgets/controls",
          "model_name": "HBoxModel",
          "state": {
            "_view_name": "HBoxView",
            "_dom_classes": [],
            "_model_name": "HBoxModel",
            "_view_module": "@jupyter-widgets/controls",
            "_model_module_version": "1.5.0",
            "_view_count": null,
            "_view_module_version": "1.5.0",
            "box_style": "",
            "layout": "IPY_MODEL_017477ea0b3346e0959b6d91bf64cc1e",
            "_model_module": "@jupyter-widgets/controls",
            "children": [
              "IPY_MODEL_e5d416cda3184f66b222738ac0fc1b90",
              "IPY_MODEL_b723d8f88365493eaca63a9d0f4f154d"
            ]
          }
        },
        "017477ea0b3346e0959b6d91bf64cc1e": {
          "model_module": "@jupyter-widgets/base",
          "model_name": "LayoutModel",
          "state": {
            "_view_name": "LayoutView",
            "grid_template_rows": null,
            "right": null,
            "justify_content": null,
            "_view_module": "@jupyter-widgets/base",
            "overflow": null,
            "_model_module_version": "1.2.0",
            "_view_count": null,
            "flex_flow": null,
            "width": null,
            "min_width": null,
            "border": null,
            "align_items": null,
            "bottom": null,
            "_model_module": "@jupyter-widgets/base",
            "top": null,
            "grid_column": null,
            "overflow_y": null,
            "overflow_x": null,
            "grid_auto_flow": null,
            "grid_area": null,
            "grid_template_columns": null,
            "flex": null,
            "_model_name": "LayoutModel",
            "justify_items": null,
            "grid_row": null,
            "max_height": null,
            "align_content": null,
            "visibility": null,
            "align_self": null,
            "height": null,
            "min_height": null,
            "padding": null,
            "grid_auto_rows": null,
            "grid_gap": null,
            "max_width": null,
            "order": null,
            "_view_module_version": "1.2.0",
            "grid_template_areas": null,
            "object_position": null,
            "object_fit": null,
            "grid_auto_columns": null,
            "margin": null,
            "display": null,
            "left": null
          }
        },
        "e5d416cda3184f66b222738ac0fc1b90": {
          "model_module": "@jupyter-widgets/controls",
          "model_name": "IntProgressModel",
          "state": {
            "_view_name": "ProgressView",
            "style": "IPY_MODEL_af6c457948aa47daa6f838fb1f7225e7",
            "_dom_classes": [],
            "description": "100%",
            "_model_name": "IntProgressModel",
            "bar_style": "success",
            "max": 100,
            "_view_module": "@jupyter-widgets/controls",
            "_model_module_version": "1.5.0",
            "value": 100,
            "_view_count": null,
            "_view_module_version": "1.5.0",
            "orientation": "horizontal",
            "min": 0,
            "description_tooltip": null,
            "_model_module": "@jupyter-widgets/controls",
            "layout": "IPY_MODEL_43e0bdddb5a44eed88ded541ff84baf3"
          }
        },
        "b723d8f88365493eaca63a9d0f4f154d": {
          "model_module": "@jupyter-widgets/controls",
          "model_name": "HTMLModel",
          "state": {
            "_view_name": "HTMLView",
            "style": "IPY_MODEL_50766c7a62114c45bd3de3b3bbfd236f",
            "_dom_classes": [],
            "description": "",
            "_model_name": "HTMLModel",
            "placeholder": "​",
            "_view_module": "@jupyter-widgets/controls",
            "_model_module_version": "1.5.0",
            "value": " 100/100 [00:20&lt;00:00,  4.85it/s]",
            "_view_count": null,
            "_view_module_version": "1.5.0",
            "description_tooltip": null,
            "_model_module": "@jupyter-widgets/controls",
            "layout": "IPY_MODEL_544d86deb5784f879f5b2b25da7b2361"
          }
        },
        "af6c457948aa47daa6f838fb1f7225e7": {
          "model_module": "@jupyter-widgets/controls",
          "model_name": "ProgressStyleModel",
          "state": {
            "_view_name": "StyleView",
            "_model_name": "ProgressStyleModel",
            "description_width": "initial",
            "_view_module": "@jupyter-widgets/base",
            "_model_module_version": "1.5.0",
            "_view_count": null,
            "_view_module_version": "1.2.0",
            "bar_color": null,
            "_model_module": "@jupyter-widgets/controls"
          }
        },
        "43e0bdddb5a44eed88ded541ff84baf3": {
          "model_module": "@jupyter-widgets/base",
          "model_name": "LayoutModel",
          "state": {
            "_view_name": "LayoutView",
            "grid_template_rows": null,
            "right": null,
            "justify_content": null,
            "_view_module": "@jupyter-widgets/base",
            "overflow": null,
            "_model_module_version": "1.2.0",
            "_view_count": null,
            "flex_flow": null,
            "width": null,
            "min_width": null,
            "border": null,
            "align_items": null,
            "bottom": null,
            "_model_module": "@jupyter-widgets/base",
            "top": null,
            "grid_column": null,
            "overflow_y": null,
            "overflow_x": null,
            "grid_auto_flow": null,
            "grid_area": null,
            "grid_template_columns": null,
            "flex": null,
            "_model_name": "LayoutModel",
            "justify_items": null,
            "grid_row": null,
            "max_height": null,
            "align_content": null,
            "visibility": null,
            "align_self": null,
            "height": null,
            "min_height": null,
            "padding": null,
            "grid_auto_rows": null,
            "grid_gap": null,
            "max_width": null,
            "order": null,
            "_view_module_version": "1.2.0",
            "grid_template_areas": null,
            "object_position": null,
            "object_fit": null,
            "grid_auto_columns": null,
            "margin": null,
            "display": null,
            "left": null
          }
        },
        "50766c7a62114c45bd3de3b3bbfd236f": {
          "model_module": "@jupyter-widgets/controls",
          "model_name": "DescriptionStyleModel",
          "state": {
            "_view_name": "StyleView",
            "_model_name": "DescriptionStyleModel",
            "description_width": "",
            "_view_module": "@jupyter-widgets/base",
            "_model_module_version": "1.5.0",
            "_view_count": null,
            "_view_module_version": "1.2.0",
            "_model_module": "@jupyter-widgets/controls"
          }
        },
        "544d86deb5784f879f5b2b25da7b2361": {
          "model_module": "@jupyter-widgets/base",
          "model_name": "LayoutModel",
          "state": {
            "_view_name": "LayoutView",
            "grid_template_rows": null,
            "right": null,
            "justify_content": null,
            "_view_module": "@jupyter-widgets/base",
            "overflow": null,
            "_model_module_version": "1.2.0",
            "_view_count": null,
            "flex_flow": null,
            "width": null,
            "min_width": null,
            "border": null,
            "align_items": null,
            "bottom": null,
            "_model_module": "@jupyter-widgets/base",
            "top": null,
            "grid_column": null,
            "overflow_y": null,
            "overflow_x": null,
            "grid_auto_flow": null,
            "grid_area": null,
            "grid_template_columns": null,
            "flex": null,
            "_model_name": "LayoutModel",
            "justify_items": null,
            "grid_row": null,
            "max_height": null,
            "align_content": null,
            "visibility": null,
            "align_self": null,
            "height": null,
            "min_height": null,
            "padding": null,
            "grid_auto_rows": null,
            "grid_gap": null,
            "max_width": null,
            "order": null,
            "_view_module_version": "1.2.0",
            "grid_template_areas": null,
            "object_position": null,
            "object_fit": null,
            "grid_auto_columns": null,
            "margin": null,
            "display": null,
            "left": null
          }
        },
        "67fc2f09e3c64afe961af2020664855b": {
          "model_module": "@jupyter-widgets/controls",
          "model_name": "VBoxModel",
          "state": {
            "_view_name": "VBoxView",
            "_dom_classes": [
              "widget-interact"
            ],
            "_model_name": "VBoxModel",
            "_view_module": "@jupyter-widgets/controls",
            "_model_module_version": "1.5.0",
            "_view_count": null,
            "_view_module_version": "1.5.0",
            "box_style": "",
            "layout": "IPY_MODEL_24e1f83fce7040f89a86c5972fdb5d2a",
            "_model_module": "@jupyter-widgets/controls",
            "children": [
              "IPY_MODEL_7b955f1fda0c46dabcb2b353736f565e",
              "IPY_MODEL_ffb2d725554c4119a74062abd557d7b3"
            ]
          }
        },
        "24e1f83fce7040f89a86c5972fdb5d2a": {
          "model_module": "@jupyter-widgets/base",
          "model_name": "LayoutModel",
          "state": {
            "_view_name": "LayoutView",
            "grid_template_rows": null,
            "right": null,
            "justify_content": null,
            "_view_module": "@jupyter-widgets/base",
            "overflow": null,
            "_model_module_version": "1.2.0",
            "_view_count": null,
            "flex_flow": null,
            "width": null,
            "min_width": null,
            "border": null,
            "align_items": null,
            "bottom": null,
            "_model_module": "@jupyter-widgets/base",
            "top": null,
            "grid_column": null,
            "overflow_y": null,
            "overflow_x": null,
            "grid_auto_flow": null,
            "grid_area": null,
            "grid_template_columns": null,
            "flex": null,
            "_model_name": "LayoutModel",
            "justify_items": null,
            "grid_row": null,
            "max_height": null,
            "align_content": null,
            "visibility": null,
            "align_self": null,
            "height": null,
            "min_height": null,
            "padding": null,
            "grid_auto_rows": null,
            "grid_gap": null,
            "max_width": null,
            "order": null,
            "_view_module_version": "1.2.0",
            "grid_template_areas": null,
            "object_position": null,
            "object_fit": null,
            "grid_auto_columns": null,
            "margin": null,
            "display": null,
            "left": null
          }
        },
        "7b955f1fda0c46dabcb2b353736f565e": {
          "model_module": "@jupyter-widgets/controls",
          "model_name": "IntSliderModel",
          "state": {
            "_view_name": "IntSliderView",
            "style": "IPY_MODEL_1d1fa535064f49b79aec6cdd12f59ae2",
            "_dom_classes": [],
            "description": "index",
            "step": 100,
            "_model_name": "IntSliderModel",
            "orientation": "horizontal",
            "max": 4998,
            "_view_module": "@jupyter-widgets/controls",
            "_model_module_version": "1.5.0",
            "value": 2400,
            "_view_count": null,
            "disabled": false,
            "_view_module_version": "1.5.0",
            "min": 0,
            "continuous_update": true,
            "readout_format": "d",
            "description_tooltip": null,
            "readout": true,
            "_model_module": "@jupyter-widgets/controls",
            "layout": "IPY_MODEL_94b4c1c8957e449a9f7544854731e851"
          }
        },
        "ffb2d725554c4119a74062abd557d7b3": {
          "model_module": "@jupyter-widgets/output",
          "model_name": "OutputModel",
          "state": {
            "_view_name": "OutputView",
            "msg_id": "",
            "_dom_classes": [],
            "_model_name": "OutputModel",
            "outputs": [
              {
                "output_type": "stream",
                "metadata": {
                  "tags": []
                },
                "text": "Текущая невязка LSTM:  1.1098283723670355e-16\n",
                "stream": "stdout"
              },
              {
                "output_type": "display_data",
                "metadata": {
                  "tags": []
                },
                "image/png": "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\n",
                "text/plain": "<Figure size 1152x576 with 4 Axes>"
              }
            ],
            "_view_module": "@jupyter-widgets/output",
            "_model_module_version": "1.0.0",
            "_view_count": null,
            "_view_module_version": "1.0.0",
            "layout": "IPY_MODEL_d6cfd6a3456e411dbfd853431162a455",
            "_model_module": "@jupyter-widgets/output"
          }
        },
        "1d1fa535064f49b79aec6cdd12f59ae2": {
          "model_module": "@jupyter-widgets/controls",
          "model_name": "SliderStyleModel",
          "state": {
            "_view_name": "StyleView",
            "handle_color": null,
            "_model_name": "SliderStyleModel",
            "description_width": "",
            "_view_module": "@jupyter-widgets/base",
            "_model_module_version": "1.5.0",
            "_view_count": null,
            "_view_module_version": "1.2.0",
            "_model_module": "@jupyter-widgets/controls"
          }
        },
        "94b4c1c8957e449a9f7544854731e851": {
          "model_module": "@jupyter-widgets/base",
          "model_name": "LayoutModel",
          "state": {
            "_view_name": "LayoutView",
            "grid_template_rows": null,
            "right": null,
            "justify_content": null,
            "_view_module": "@jupyter-widgets/base",
            "overflow": null,
            "_model_module_version": "1.2.0",
            "_view_count": null,
            "flex_flow": null,
            "width": null,
            "min_width": null,
            "border": null,
            "align_items": null,
            "bottom": null,
            "_model_module": "@jupyter-widgets/base",
            "top": null,
            "grid_column": null,
            "overflow_y": null,
            "overflow_x": null,
            "grid_auto_flow": null,
            "grid_area": null,
            "grid_template_columns": null,
            "flex": null,
            "_model_name": "LayoutModel",
            "justify_items": null,
            "grid_row": null,
            "max_height": null,
            "align_content": null,
            "visibility": null,
            "align_self": null,
            "height": null,
            "min_height": null,
            "padding": null,
            "grid_auto_rows": null,
            "grid_gap": null,
            "max_width": null,
            "order": null,
            "_view_module_version": "1.2.0",
            "grid_template_areas": null,
            "object_position": null,
            "object_fit": null,
            "grid_auto_columns": null,
            "margin": null,
            "display": null,
            "left": null
          }
        },
        "d6cfd6a3456e411dbfd853431162a455": {
          "model_module": "@jupyter-widgets/base",
          "model_name": "LayoutModel",
          "state": {
            "_view_name": "LayoutView",
            "grid_template_rows": null,
            "right": null,
            "justify_content": null,
            "_view_module": "@jupyter-widgets/base",
            "overflow": null,
            "_model_module_version": "1.2.0",
            "_view_count": null,
            "flex_flow": null,
            "width": null,
            "min_width": null,
            "border": null,
            "align_items": null,
            "bottom": null,
            "_model_module": "@jupyter-widgets/base",
            "top": null,
            "grid_column": null,
            "overflow_y": null,
            "overflow_x": null,
            "grid_auto_flow": null,
            "grid_area": null,
            "grid_template_columns": null,
            "flex": null,
            "_model_name": "LayoutModel",
            "justify_items": null,
            "grid_row": null,
            "max_height": null,
            "align_content": null,
            "visibility": null,
            "align_self": null,
            "height": null,
            "min_height": null,
            "padding": null,
            "grid_auto_rows": null,
            "grid_gap": null,
            "max_width": null,
            "order": null,
            "_view_module_version": "1.2.0",
            "grid_template_areas": null,
            "object_position": null,
            "object_fit": null,
            "grid_auto_columns": null,
            "margin": null,
            "display": null,
            "left": null
          }
        }
      }
    }
  },
  "cells": [
    {
      "cell_type": "markdown",
      "metadata": {
        "id": "soLmRvyATngF",
        "colab_type": "text"
      },
      "source": [
        "# Задача теплопроводности"
      ]
    },
    {
      "cell_type": "markdown",
      "metadata": {
        "id": "Brbxy0SHU0he",
        "colab_type": "text"
      },
      "source": [
        "Запишем явную разностную схему:\n",
        "\n",
        "$$\n",
        "\\frac{\\theta_{x, y}^{n + 1} - \\theta_{x, y}^n}{\\Delta t} = \\frac{\\theta_{x + 1, y}^n + \\theta_{x, y+1}^n - 4 \\theta_{x, y}^n + \\theta_{x-1, y}^n + \\theta_{x, y-1}^n}{h^2}\n",
        "$$"
      ]
    },
    {
      "cell_type": "code",
      "metadata": {
        "id": "_-Lt2oOVgPlE",
        "colab_type": "code",
        "outputId": "a046e1c1-455e-4354-c9fb-dbbeb51098ca",
        "colab": {
          "base_uri": "https://localhost:8080/",
          "height": 73
        }
      },
      "source": [
        "import numba\n",
        "import numpy as np\n",
        "from tqdm.notebook import tqdm\n",
        "from ipywidgets import interact\n",
        "import matplotlib.pyplot as plt\n",
        "import seaborn as sns\n",
        "\n",
        "from sklearn.decomposition import PCA\n",
        "\n",
        "import torch\n",
        "from torch import nn\n",
        "from torch.utils.data import DataLoader\n",
        "\n",
        "sns.set(font_scale=1.4)"
      ],
      "execution_count": 2,
      "outputs": [
        {
          "output_type": "stream",
          "text": [
            "/usr/local/lib/python3.6/dist-packages/statsmodels/tools/_testing.py:19: FutureWarning: pandas.util.testing is deprecated. Use the functions in the public API at pandas.testing instead.\n",
            "  import pandas.util.testing as tm\n"
          ],
          "name": "stderr"
        }
      ]
    },
    {
      "cell_type": "markdown",
      "metadata": {
        "id": "RYjJPUm2iaLM",
        "colab_type": "text"
      },
      "source": [
        "Разностная схема:"
      ]
    },
    {
      "cell_type": "code",
      "metadata": {
        "id": "uYoqRRh9k3kp",
        "colab_type": "code",
        "colab": {}
      },
      "source": [
        "def get_next_step(theta, h, tau):\n",
        "    \"\"\"\n",
        "    theta --- (N + 1, N + 1) array\n",
        "    h --- space step\n",
        "    tau --- time step\n",
        "    \"\"\"\n",
        "\n",
        "    N = len(theta) - 1\n",
        "    x_index = np.repeat(np.arange(1, N)[:, np.newaxis], \n",
        "                                N-1, axis=1)\n",
        "    y_index = np.repeat(np.arange(1, N)[np.newaxis, :], \n",
        "                            N-1, axis=0)\n",
        "    \n",
        "    vicinity = theta[x_index + 1, y_index] + theta[x_index, y_index + 1] + \\\n",
        "               theta[x_index - 1, y_index] + theta[x_index, y_index -1]\n",
        "    \n",
        "    right_side = (vicinity - 4 * theta[x_index, y_index]) * tau / h ** 2\n",
        "    theta[x_index, y_index] += right_side\n",
        "\n",
        "    return theta\n",
        "\n",
        "N = 100\n",
        "\n",
        "X = np.linspace(-1, 1, N + 1)\n",
        "Y = np.linspace(-1, 1, N + 1)\n",
        "\n",
        "\n",
        "\n",
        "X, Y = np.meshgrid(X, Y)\n",
        "\n",
        "theta = np.sin(X + Y ** 2)\n",
        "theta[1:N, 1:N] = 0"
      ],
      "execution_count": 0,
      "outputs": []
    },
    {
      "cell_type": "markdown",
      "metadata": {
        "id": "amwUzNlJbaYi",
        "colab_type": "text"
      },
      "source": [
        "Запишем ход движения и сохраним:"
      ]
    },
    {
      "cell_type": "code",
      "metadata": {
        "id": "XpHAWvPU6lcd",
        "colab_type": "code",
        "outputId": "ecd2087e-9f8b-4907-dc07-bb736d853dd3",
        "colab": {
          "base_uri": "https://localhost:8080/",
          "height": 67,
          "referenced_widgets": [
            "e8805babd46a4d3c95062ddc675573ba",
            "36fba389d73044318fdc26b3240ebeb6",
            "44bbf722c4a74e7dbd490b42176ab977",
            "86e99daad564437799c44d76d33c343d",
            "363255d0f3c843dca38b494df838878c",
            "303268a71a6346579191833c14d4d195",
            "5c3549aae9434c5a87b85f4fba9459c7",
            "e1859e2d6b01457aa1167a517ad4b6d2"
          ]
        }
      },
      "source": [
        "history = np.zeros((3 * 10 ** 4, N + 1, N + 1))\n",
        "print_every = 1\n",
        "\n",
        "for i in tqdm(range(3 * 10 ** 4)):\n",
        "    if (i % print_every == 0):\n",
        "        history[i // print_every] = theta\n",
        "    theta = get_next_step(theta, 2 / N, 0.4 / N ** 2)"
      ],
      "execution_count": 4,
      "outputs": [
        {
          "output_type": "display_data",
          "data": {
            "application/vnd.jupyter.widget-view+json": {
              "model_id": "e8805babd46a4d3c95062ddc675573ba",
              "version_minor": 0,
              "version_major": 2
            },
            "text/plain": [
              "HBox(children=(IntProgress(value=0, max=30000), HTML(value='')))"
            ]
          },
          "metadata": {
            "tags": []
          }
        },
        {
          "output_type": "stream",
          "text": [
            "\n"
          ],
          "name": "stdout"
        }
      ]
    },
    {
      "cell_type": "code",
      "metadata": {
        "id": "aYiUgz0iN-yb",
        "colab_type": "code",
        "colab": {}
      },
      "source": [
        "np.save('/content/drive/My Drive/NN_PDE_SPEEDUP/Heat_proccess/history.npy',\n",
        "        history\n",
        "        )"
      ],
      "execution_count": 0,
      "outputs": []
    },
    {
      "cell_type": "code",
      "metadata": {
        "id": "BkI1yiG9UCWm",
        "colab_type": "code",
        "colab": {}
      },
      "source": [
        "history = np.load(\n",
        "    '/content/drive/My Drive/NN_PDE_SPEEDUP/Heat_proccess/history.npy'\n",
        "    )"
      ],
      "execution_count": 0,
      "outputs": []
    },
    {
      "cell_type": "markdown",
      "metadata": {
        "id": "f9gYnIa8bj-4",
        "colab_type": "text"
      },
      "source": [
        "Псомтрим, как решение выглядит в зависимости от времени:"
      ]
    },
    {
      "cell_type": "code",
      "metadata": {
        "id": "FrYSgQjp9Sbs",
        "colab_type": "code",
        "colab": {}
      },
      "source": [
        "def plot(index):\n",
        "    plt.figure(figsize=(8, 8))\n",
        "    sns.heatmap(history[index])\n",
        "    plt.show()"
      ],
      "execution_count": 0,
      "outputs": []
    },
    {
      "cell_type": "code",
      "metadata": {
        "id": "VAOtY8F_99CU",
        "colab_type": "code",
        "outputId": "056b8981-6dbe-45ad-c40e-983adef2ce3b",
        "colab": {
          "base_uri": "https://localhost:8080/",
          "height": 558,
          "referenced_widgets": [
            "52842f47a800454681b02f336415219d",
            "43ae959f189a41539cbb3a2c6185f4f1",
            "0fbb7f876eb643d5b7afe8e970c5eccf",
            "0f7d24d6bc6345e9a01d4e20bbb9c445",
            "d7533b1893b341da8525346a73e4bd70",
            "c0ee0cfb8a8347f98cdc50f6edb75533",
            "1d15521ab7b74c849bc630217d1fc06b"
          ]
        }
      },
      "source": [
        "interact(plot, index=(0, 30000 - 1))"
      ],
      "execution_count": 8,
      "outputs": [
        {
          "output_type": "display_data",
          "data": {
            "application/vnd.jupyter.widget-view+json": {
              "model_id": "52842f47a800454681b02f336415219d",
              "version_minor": 0,
              "version_major": 2
            },
            "text/plain": [
              "interactive(children=(IntSlider(value=14999, description='index', max=29999), Output()), _dom_classes=('widget…"
            ]
          },
          "metadata": {
            "tags": []
          }
        },
        {
          "output_type": "execute_result",
          "data": {
            "text/plain": [
              "<function __main__.plot>"
            ]
          },
          "metadata": {
            "tags": []
          },
          "execution_count": 8
        }
      ]
    },
    {
      "cell_type": "markdown",
      "metadata": {
        "id": "A4q_I9vrQ65e",
        "colab_type": "text"
      },
      "source": [
        "Отлично, у нас есть данные, попробуем обучить LSTM. Вопрос: сможем ли мы предсказть довольно простую динамику по первым 3000 объектов."
      ]
    },
    {
      "cell_type": "markdown",
      "metadata": {
        "id": "E5ep57udRZxv",
        "colab_type": "text"
      },
      "source": [
        "Преобрузуем данные. Будем сжимать с помощью PCA:"
      ]
    },
    {
      "cell_type": "code",
      "metadata": {
        "id": "QK2u5FZYSb1c",
        "colab_type": "code",
        "outputId": "02208145-f4dc-4509-aeec-ef767eb61ef4",
        "colab": {
          "base_uri": "https://localhost:8080/",
          "height": 67,
          "referenced_widgets": [
            "fb195c7ecb8647d3960a445ead53113d",
            "ce74f85567c2416d88b2f42b1363bc49",
            "c862433eb87b4ae693d0f65b56d32294",
            "4dea705d30844c10a8f564cb7b3eedf1",
            "7a69f0b7c86a4e9aaa00877128415861",
            "c9f19bdeaba545e08284f1757bd9a5b5",
            "19962fa056bb4ac2819c3359ab29998b",
            "419c32078c6e4073b2ab7e154874550c"
          ]
        }
      },
      "source": [
        "PCA_list = []\n",
        "archived_history = np.zeros((30000, 10))\n",
        "\n",
        "for i in tqdm(range(0, 30000 - 500, 500)):\n",
        "    new_pca = PCA(n_components=10)\n",
        "    archived_history[i:i+500] = \\\n",
        "        new_pca.fit_transform(history[i:i + 500].reshape(-1, (N + 1) * (N + 1)))\n",
        "    PCA_list.append(new_pca)"
      ],
      "execution_count": 9,
      "outputs": [
        {
          "output_type": "display_data",
          "data": {
            "application/vnd.jupyter.widget-view+json": {
              "model_id": "fb195c7ecb8647d3960a445ead53113d",
              "version_minor": 0,
              "version_major": 2
            },
            "text/plain": [
              "HBox(children=(IntProgress(value=0, max=59), HTML(value='')))"
            ]
          },
          "metadata": {
            "tags": []
          }
        },
        {
          "output_type": "stream",
          "text": [
            "\n"
          ],
          "name": "stdout"
        }
      ]
    },
    {
      "cell_type": "markdown",
      "metadata": {
        "id": "_zVTbkO1Tm5k",
        "colab_type": "text"
      },
      "source": [
        "Посмотрим на невязку:"
      ]
    },
    {
      "cell_type": "code",
      "metadata": {
        "id": "8c-xaj1yT8Bz",
        "colab_type": "code",
        "outputId": "e7b732c9-50b2-4bab-a195-078ef6dc8c42",
        "colab": {
          "base_uri": "https://localhost:8080/",
          "height": 35
        }
      },
      "source": [
        "result = PCA_list[0].inverse_transform(archived_history[20])\n",
        "result = result.reshape(-1, N + 1, N + 1)\n",
        "np.max(np.abs(result - history[20])) / np.max(np.abs(history[20]))"
      ],
      "execution_count": 10,
      "outputs": [
        {
          "output_type": "execute_result",
          "data": {
            "text/plain": [
              "0.0002635814859925365"
            ]
          },
          "metadata": {
            "tags": []
          },
          "execution_count": 10
        }
      ]
    },
    {
      "cell_type": "markdown",
      "metadata": {
        "id": "1yW3rt8UUvcX",
        "colab_type": "text"
      },
      "source": [
        "Неплохой результат."
      ]
    },
    {
      "cell_type": "markdown",
      "metadata": {
        "id": "iCzaGylJZ5I_",
        "colab_type": "text"
      },
      "source": [
        "Создадим класс самой простой модели. HiddenState в нашем случае мы поставили равным 100."
      ]
    },
    {
      "cell_type": "code",
      "metadata": {
        "id": "vqS2EIONUyas",
        "colab_type": "code",
        "colab": {}
      },
      "source": [
        "class SimpleModel(nn.Module):\n",
        "\n",
        "    def __init__(self):\n",
        "        super().__init__()\n",
        "\n",
        "        self.rnn = nn.LSTM(10, 100)\n",
        "        self.decoder = nn.Linear(100, 10)\n",
        "\n",
        "    def forward(self, seq, hidden=None):\n",
        "        output, last_hidden = self.rnn(seq, hidden)\n",
        "        return self.decoder(output), last_hidden\n"
      ],
      "execution_count": 0,
      "outputs": []
    },
    {
      "cell_type": "code",
      "metadata": {
        "id": "hkQo3G4HWhhX",
        "colab_type": "code",
        "colab": {}
      },
      "source": [
        "model = SimpleModel().double().cuda()"
      ],
      "execution_count": 0,
      "outputs": []
    },
    {
      "cell_type": "markdown",
      "metadata": {
        "id": "riIphDeIaDo0",
        "colab_type": "text"
      },
      "source": [
        "Зададим параметры обучения:"
      ]
    },
    {
      "cell_type": "code",
      "metadata": {
        "id": "IGrGcfujWmJE",
        "colab_type": "code",
        "colab": {}
      },
      "source": [
        "loss_func = nn.MSELoss()\n",
        "optimizer = torch.optim.Adam(model.parameters(), lr=1e-3)\n",
        "num_epochs = 100"
      ],
      "execution_count": 0,
      "outputs": []
    },
    {
      "cell_type": "code",
      "metadata": {
        "id": "TRh2KhLCaVxb",
        "colab_type": "code",
        "colab": {}
      },
      "source": [
        "train = torch.from_numpy(archived_history[:1500]).cuda()\n",
        "val = torch.from_numpy(archived_history[1500:3000]).cuda()\n",
        "test = torch.from_numpy(archived_history[3000:]).cuda()\n",
        "\n",
        "train_loss = []\n",
        "val_loss = []"
      ],
      "execution_count": 0,
      "outputs": []
    },
    {
      "cell_type": "code",
      "metadata": {
        "id": "l-k-zJq4W2eF",
        "colab_type": "code",
        "outputId": "cf439886-0926-4d89-aa2d-8c57dbf521c8",
        "colab": {
          "base_uri": "https://localhost:8080/",
          "height": 67,
          "referenced_widgets": [
            "43ac4ce916a34b7a998a16a2b3e9f5c6",
            "017477ea0b3346e0959b6d91bf64cc1e",
            "e5d416cda3184f66b222738ac0fc1b90",
            "b723d8f88365493eaca63a9d0f4f154d",
            "af6c457948aa47daa6f838fb1f7225e7",
            "43e0bdddb5a44eed88ded541ff84baf3",
            "50766c7a62114c45bd3de3b3bbfd236f",
            "544d86deb5784f879f5b2b25da7b2361"
          ]
        }
      },
      "source": [
        "for epoch in tqdm(range(num_epochs)):\n",
        "    model.train()\n",
        "    output, last_hidden = model(train[:-1].view(-1, 1, 10))\n",
        "    loss = loss_func(output.view(-1, 10), train[1:])\n",
        "    train_loss.append(loss.item())\n",
        "\n",
        "    optimizer.zero_grad()\n",
        "\n",
        "    loss.backward()\n",
        "\n",
        "    optimizer.step()\n",
        "\n",
        "    model.eval()\n",
        "\n",
        "    output, _ = model(val[:-1].view(-1, 1, 10), last_hidden)\n",
        "\n",
        "    loss = loss_func(output.view(-1, 10), val[1:])\n",
        "    val_loss.append(loss.item())"
      ],
      "execution_count": 15,
      "outputs": [
        {
          "output_type": "display_data",
          "data": {
            "application/vnd.jupyter.widget-view+json": {
              "model_id": "43ac4ce916a34b7a998a16a2b3e9f5c6",
              "version_minor": 0,
              "version_major": 2
            },
            "text/plain": [
              "HBox(children=(IntProgress(value=0), HTML(value='')))"
            ]
          },
          "metadata": {
            "tags": []
          }
        },
        {
          "output_type": "stream",
          "text": [
            "\n"
          ],
          "name": "stdout"
        }
      ]
    },
    {
      "cell_type": "code",
      "metadata": {
        "id": "XQcjE1aMYteO",
        "colab_type": "code",
        "outputId": "88482d85-9b55-42b0-d3fe-ac1352ffd3fd",
        "colab": {
          "base_uri": "https://localhost:8080/",
          "height": 293
        }
      },
      "source": [
        "plt.plot(train_loss, label='train')\n",
        "plt.plot(val_loss, label='Val')\n",
        "plt.title('Ошибка MSE')\n",
        "plt.legend()\n",
        "plt.show()"
      ],
      "execution_count": 16,
      "outputs": [
        {
          "output_type": "display_data",
          "data": {
            "image/png": "[encoded data removed]",
            "text/plain": [
              "<Figure size 432x288 with 1 Axes>"
            ]
          },
          "metadata": {
            "tags": []
          }
        }
      ]
    },
    {
      "cell_type": "markdown",
      "metadata": {
        "id": "TUBU9iRJbEYl",
        "colab_type": "text"
      },
      "source": [
        "Невязка на валидационном датасете:"
      ]
    },
    {
      "cell_type": "code",
      "metadata": {
        "id": "sDNWkK1ucVIz",
        "colab_type": "code",
        "colab": {}
      },
      "source": [
        "val_results = output.view(-1, 10).cpu().detach().numpy()\n",
        "reshaped_results = np.zeros((5000, (N + 1) * (N + 1)))\n",
        "\n",
        "new_output = val[0].view(-1, 1, 10)\n",
        "new_hidden = last_hidden\n",
        "\n",
        "for i in range(5000):\n",
        "    new_output, new_hidden = model(new_output, new_hidden)\n",
        "    reshaped_results[i] = \\\n",
        "        PCA_list[(1500 + i) // 500].inverse_transform(\n",
        "            new_output.cpu().detach().numpy().reshape(1, -1)\n",
        "            )[0]\n",
        "\n",
        "\n",
        "reshaped_results = reshaped_results.reshape(-1, N + 1, N + 1)  "
      ],
      "execution_count": 0,
      "outputs": []
    },
    {
      "cell_type": "code",
      "metadata": {
        "id": "Ej5Q5oH1iefq",
        "colab_type": "code",
        "colab": {}
      },
      "source": [
        "def plot(index):\n",
        "    plt.figure(figsize=(16, 8))\n",
        "\n",
        "    plt.subplot(1, 2, 1)\n",
        "    plt.title('Предсказание LSTM')\n",
        "    sns.heatmap(reshaped_results[index])\n",
        "    tol = np.max(np.abs(reshaped_results[index] - reshaped_results[index + 1]))/\\\n",
        "            np.max(np.abs(reshaped_results[index + 1]))\n",
        "    print('Текущая невязка LSTM: ', tol)\n",
        "\n",
        "    plt.subplot(1, 2, 2)\n",
        "    plt.title('Истинная функция')\n",
        "    sns.heatmap(history[1500 + index])\n",
        "    plt.show()"
      ],
      "execution_count": 0,
      "outputs": []
    },
    {
      "cell_type": "markdown",
      "metadata": {
        "id": "oHhrhLR8aQ0x",
        "colab_type": "text"
      },
      "source": [
        "Сохраним резльтат, чтобы потом его показать:"
      ]
    },
    {
      "cell_type": "code",
      "metadata": {
        "id": "YU0UzyVeY56w",
        "colab_type": "code",
        "colab": {}
      },
      "source": [
        "for i in range(0, 4999, 100):\n",
        "    plt.figure(figsize=(16, 8))\n",
        "\n",
        "    plt.subplot(1, 2, 1)\n",
        "    plt.title(f'Предсказание LSTM {i}')\n",
        "    sns.heatmap(reshaped_results[i])\n",
        "\n",
        "    plt.subplot(1, 2, 2)\n",
        "    plt.title(f'Истинная функция {i}')\n",
        "    sns.heatmap(history[1500 + i])\n",
        "    plt.savefig(\n",
        "        f'/content/drive/My Drive/NN_PDE_SPEEDUP/Animated_Heat/step_{i}'\n",
        "        )\n",
        "    plt.close()"
      ],
      "execution_count": 0,
      "outputs": []
    },
    {
      "cell_type": "code",
      "metadata": {
        "id": "2RpNsMs9irPi",
        "colab_type": "code",
        "outputId": "80fe0e1b-f90d-42e1-d959-30e090bee961",
        "colab": {
          "base_uri": "https://localhost:8080/",
          "height": 526,
          "referenced_widgets": [
            "67fc2f09e3c64afe961af2020664855b",
            "24e1f83fce7040f89a86c5972fdb5d2a",
            "7b955f1fda0c46dabcb2b353736f565e",
            "ffb2d725554c4119a74062abd557d7b3",
            "1d1fa535064f49b79aec6cdd12f59ae2",
            "94b4c1c8957e449a9f7544854731e851",
            "d6cfd6a3456e411dbfd853431162a455"
          ]
        }
      },
      "source": [
        "interact(plot, index=(0, 4998, 100))"
      ],
      "execution_count": 20,
      "outputs": [
        {
          "output_type": "display_data",
          "data": {
            "application/vnd.jupyter.widget-view+json": {
              "model_id": "67fc2f09e3c64afe961af2020664855b",
              "version_minor": 0,
              "version_major": 2
            },
            "text/plain": [
              "interactive(children=(IntSlider(value=2400, description='index', max=4998, step=100), Output()), _dom_classes=…"
            ]
          },
          "metadata": {
            "tags": []
          }
        },
        {
          "output_type": "execute_result",
          "data": {
            "text/plain": [
              "<function __main__.plot>"
            ]
          },
          "metadata": {
            "tags": []
          },
          "execution_count": 20
        }
      ]
    },
    {
      "cell_type": "markdown",
      "metadata": {
        "id": "JIubW6_ukGp8",
        "colab_type": "text"
      },
      "source": [
        "Невязка LSTM:"
      ]
    },
    {
      "cell_type": "code",
      "metadata": {
        "id": "2OVkQaBdkKau",
        "colab_type": "code",
        "colab": {}
      },
      "source": [
        "tol_list = []\n",
        "\n",
        "for index in range(4999):\n",
        "    tol_list.append(\n",
        "        np.max(np.abs(reshaped_results[index] - reshaped_results[index + 1]))/\n",
        "        np.max(np.abs(reshaped_results[index + 1]))\n",
        "    )"
      ],
      "execution_count": 0,
      "outputs": []
    },
    {
      "cell_type": "code",
      "metadata": {
        "id": "9Un_lmgYlRvR",
        "colab_type": "code",
        "outputId": "7c2c3418-c426-4435-ccf1-e88dec225493",
        "colab": {
          "base_uri": "https://localhost:8080/",
          "height": 532
        }
      },
      "source": [
        "plt.figure(figsize=(8,8))\n",
        "plt.semilogy(np.arange(1500, 6500 - 1), tol_list)\n",
        "plt.title('Невязка')\n",
        "plt.xlabel('Итерация метода')\n",
        "plt.show()"
      ],
      "execution_count": 25,
      "outputs": [
        {
          "output_type": "display_data",
          "data": {
            "image/png": "[encoded data removed]",
            "text/plain": [
              "<Figure size 576x576 with 1 Axes>"
            ]
          },
          "metadata": {
            "tags": []
          }
        }
      ]
    },
    {
      "cell_type": "markdown",
      "metadata": {
        "id": "t4GgSNOBmGua",
        "colab_type": "text"
      },
      "source": [
        "Как видим, невязка выдает довльно странные результаты. В момент смены PCA она подскакивает до 0.1, но после идет своим ходом. Здесь она рассчитывалась как максимум абсолютной разности между предыдущим и последующим шагами, деленная на их "
      ]
    }
  ]
}