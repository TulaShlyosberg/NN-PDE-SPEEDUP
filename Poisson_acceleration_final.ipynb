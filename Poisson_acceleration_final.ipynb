{
  "nbformat": 4,
  "nbformat_minor": 0,
  "metadata": {
    "colab": {
      "name": "Poisson-acceleration-final.ipynb",
      "provenance": [],
      "collapsed_sections": [],
      "machine_shape": "hm"
    },
    "kernelspec": {
      "name": "python3",
      "display_name": "Python 3"
    },
    "widgets": {
      "application/vnd.jupyter.widget-state+json": {
        "de9bd0bf4705451c90d3f816561694c4": {
          "model_module": "@jupyter-widgets/controls",
          "model_name": "HBoxModel",
          "state": {
            "_view_name": "HBoxView",
            "_dom_classes": [],
            "_model_name": "HBoxModel",
            "_view_module": "@jupyter-widgets/controls",
            "_model_module_version": "1.5.0",
            "_view_count": null,
            "_view_module_version": "1.5.0",
            "box_style": "",
            "layout": "IPY_MODEL_f67b1f02105c41bca2726f5b417bcdc9",
            "_model_module": "@jupyter-widgets/controls",
            "children": [
              "IPY_MODEL_ab588d134a0c4fe1be96ce3b3cbc3836",
              "IPY_MODEL_5e81e944555440e798cd87d13eab3975"
            ]
          }
        },
        "f67b1f02105c41bca2726f5b417bcdc9": {
          "model_module": "@jupyter-widgets/base",
          "model_name": "LayoutModel",
          "state": {
            "_view_name": "LayoutView",
            "grid_template_rows": null,
            "right": null,
            "justify_content": null,
            "_view_module": "@jupyter-widgets/base",
            "overflow": null,
            "_model_module_version": "1.2.0",
            "_view_count": null,
            "flex_flow": null,
            "width": null,
            "min_width": null,
            "border": null,
            "align_items": null,
            "bottom": null,
            "_model_module": "@jupyter-widgets/base",
            "top": null,
            "grid_column": null,
            "overflow_y": null,
            "overflow_x": null,
            "grid_auto_flow": null,
            "grid_area": null,
            "grid_template_columns": null,
            "flex": null,
            "_model_name": "LayoutModel",
            "justify_items": null,
            "grid_row": null,
            "max_height": null,
            "align_content": null,
            "visibility": null,
            "align_self": null,
            "height": null,
            "min_height": null,
            "padding": null,
            "grid_auto_rows": null,
            "grid_gap": null,
            "max_width": null,
            "order": null,
            "_view_module_version": "1.2.0",
            "grid_template_areas": null,
            "object_position": null,
            "object_fit": null,
            "grid_auto_columns": null,
            "margin": null,
            "display": null,
            "left": null
          }
        },
        "ab588d134a0c4fe1be96ce3b3cbc3836": {
          "model_module": "@jupyter-widgets/controls",
          "model_name": "FloatProgressModel",
          "state": {
            "_view_name": "ProgressView",
            "style": "IPY_MODEL_862c4d3b5461479983a8646b8eff16b9",
            "_dom_classes": [],
            "description": "100%",
            "_model_name": "FloatProgressModel",
            "bar_style": "success",
            "max": 10000,
            "_view_module": "@jupyter-widgets/controls",
            "_model_module_version": "1.5.0",
            "value": 10000,
            "_view_count": null,
            "_view_module_version": "1.5.0",
            "orientation": "horizontal",
            "min": 0,
            "description_tooltip": null,
            "_model_module": "@jupyter-widgets/controls",
            "layout": "IPY_MODEL_510cc899856b477193cfb5b45203b09f"
          }
        },
        "5e81e944555440e798cd87d13eab3975": {
          "model_module": "@jupyter-widgets/controls",
          "model_name": "HTMLModel",
          "state": {
            "_view_name": "HTMLView",
            "style": "IPY_MODEL_0534242bc5ad41d390b0370dde56a93b",
            "_dom_classes": [],
            "description": "",
            "_model_name": "HTMLModel",
            "placeholder": "​",
            "_view_module": "@jupyter-widgets/controls",
            "_model_module_version": "1.5.0",
            "value": " 10000/10000 [00:07&lt;00:00, 1265.32it/s]",
            "_view_count": null,
            "_view_module_version": "1.5.0",
            "description_tooltip": null,
            "_model_module": "@jupyter-widgets/controls",
            "layout": "IPY_MODEL_51768d0ebcfa40e59f014737611e55eb"
          }
        },
        "862c4d3b5461479983a8646b8eff16b9": {
          "model_module": "@jupyter-widgets/controls",
          "model_name": "ProgressStyleModel",
          "state": {
            "_view_name": "StyleView",
            "_model_name": "ProgressStyleModel",
            "description_width": "initial",
            "_view_module": "@jupyter-widgets/base",
            "_model_module_version": "1.5.0",
            "_view_count": null,
            "_view_module_version": "1.2.0",
            "bar_color": null,
            "_model_module": "@jupyter-widgets/controls"
          }
        },
        "510cc899856b477193cfb5b45203b09f": {
          "model_module": "@jupyter-widgets/base",
          "model_name": "LayoutModel",
          "state": {
            "_view_name": "LayoutView",
            "grid_template_rows": null,
            "right": null,
            "justify_content": null,
            "_view_module": "@jupyter-widgets/base",
            "overflow": null,
            "_model_module_version": "1.2.0",
            "_view_count": null,
            "flex_flow": null,
            "width": null,
            "min_width": null,
            "border": null,
            "align_items": null,
            "bottom": null,
            "_model_module": "@jupyter-widgets/base",
            "top": null,
            "grid_column": null,
            "overflow_y": null,
            "overflow_x": null,
            "grid_auto_flow": null,
            "grid_area": null,
            "grid_template_columns": null,
            "flex": null,
            "_model_name": "LayoutModel",
            "justify_items": null,
            "grid_row": null,
            "max_height": null,
            "align_content": null,
            "visibility": null,
            "align_self": null,
            "height": null,
            "min_height": null,
            "padding": null,
            "grid_auto_rows": null,
            "grid_gap": null,
            "max_width": null,
            "order": null,
            "_view_module_version": "1.2.0",
            "grid_template_areas": null,
            "object_position": null,
            "object_fit": null,
            "grid_auto_columns": null,
            "margin": null,
            "display": null,
            "left": null
          }
        },
        "0534242bc5ad41d390b0370dde56a93b": {
          "model_module": "@jupyter-widgets/controls",
          "model_name": "DescriptionStyleModel",
          "state": {
            "_view_name": "StyleView",
            "_model_name": "DescriptionStyleModel",
            "description_width": "",
            "_view_module": "@jupyter-widgets/base",
            "_model_module_version": "1.5.0",
            "_view_count": null,
            "_view_module_version": "1.2.0",
            "_model_module": "@jupyter-widgets/controls"
          }
        },
        "51768d0ebcfa40e59f014737611e55eb": {
          "model_module": "@jupyter-widgets/base",
          "model_name": "LayoutModel",
          "state": {
            "_view_name": "LayoutView",
            "grid_template_rows": null,
            "right": null,
            "justify_content": null,
            "_view_module": "@jupyter-widgets/base",
            "overflow": null,
            "_model_module_version": "1.2.0",
            "_view_count": null,
            "flex_flow": null,
            "width": null,
            "min_width": null,
            "border": null,
            "align_items": null,
            "bottom": null,
            "_model_module": "@jupyter-widgets/base",
            "top": null,
            "grid_column": null,
            "overflow_y": null,
            "overflow_x": null,
            "grid_auto_flow": null,
            "grid_area": null,
            "grid_template_columns": null,
            "flex": null,
            "_model_name": "LayoutModel",
            "justify_items": null,
            "grid_row": null,
            "max_height": null,
            "align_content": null,
            "visibility": null,
            "align_self": null,
            "height": null,
            "min_height": null,
            "padding": null,
            "grid_auto_rows": null,
            "grid_gap": null,
            "max_width": null,
            "order": null,
            "_view_module_version": "1.2.0",
            "grid_template_areas": null,
            "object_position": null,
            "object_fit": null,
            "grid_auto_columns": null,
            "margin": null,
            "display": null,
            "left": null
          }
        },
        "5f9fc8db41e14a259aa430ed8b129917": {
          "model_module": "@jupyter-widgets/controls",
          "model_name": "VBoxModel",
          "state": {
            "_view_name": "VBoxView",
            "_dom_classes": [
              "widget-interact"
            ],
            "_model_name": "VBoxModel",
            "_view_module": "@jupyter-widgets/controls",
            "_model_module_version": "1.5.0",
            "_view_count": null,
            "_view_module_version": "1.5.0",
            "box_style": "",
            "layout": "IPY_MODEL_218fc45655fb42f3b5d5a64929acdb45",
            "_model_module": "@jupyter-widgets/controls",
            "children": [
              "IPY_MODEL_242e4bf55b164d4eb0602812f7194fde",
              "IPY_MODEL_b09e2f74de5d42cabfa15ea3d7a893c6"
            ]
          }
        },
        "218fc45655fb42f3b5d5a64929acdb45": {
          "model_module": "@jupyter-widgets/base",
          "model_name": "LayoutModel",
          "state": {
            "_view_name": "LayoutView",
            "grid_template_rows": null,
            "right": null,
            "justify_content": null,
            "_view_module": "@jupyter-widgets/base",
            "overflow": null,
            "_model_module_version": "1.2.0",
            "_view_count": null,
            "flex_flow": null,
            "width": null,
            "min_width": null,
            "border": null,
            "align_items": null,
            "bottom": null,
            "_model_module": "@jupyter-widgets/base",
            "top": null,
            "grid_column": null,
            "overflow_y": null,
            "overflow_x": null,
            "grid_auto_flow": null,
            "grid_area": null,
            "grid_template_columns": null,
            "flex": null,
            "_model_name": "LayoutModel",
            "justify_items": null,
            "grid_row": null,
            "max_height": null,
            "align_content": null,
            "visibility": null,
            "align_self": null,
            "height": null,
            "min_height": null,
            "padding": null,
            "grid_auto_rows": null,
            "grid_gap": null,
            "max_width": null,
            "order": null,
            "_view_module_version": "1.2.0",
            "grid_template_areas": null,
            "object_position": null,
            "object_fit": null,
            "grid_auto_columns": null,
            "margin": null,
            "display": null,
            "left": null
          }
        },
        "242e4bf55b164d4eb0602812f7194fde": {
          "model_module": "@jupyter-widgets/controls",
          "model_name": "IntSliderModel",
          "state": {
            "_view_name": "IntSliderView",
            "style": "IPY_MODEL_1eca3e7a16014b2ca006612ddb4c4f61",
            "_dom_classes": [],
            "description": "index",
            "step": 1,
            "_model_name": "IntSliderModel",
            "orientation": "horizontal",
            "max": 9999,
            "_view_module": "@jupyter-widgets/controls",
            "_model_module_version": "1.5.0",
            "value": 4999,
            "_view_count": null,
            "disabled": false,
            "_view_module_version": "1.5.0",
            "min": 0,
            "continuous_update": true,
            "readout_format": "d",
            "description_tooltip": null,
            "readout": true,
            "_model_module": "@jupyter-widgets/controls",
            "layout": "IPY_MODEL_428aaf9702aa4d68b093c0fcebe3b784"
          }
        },
        "b09e2f74de5d42cabfa15ea3d7a893c6": {
          "model_module": "@jupyter-widgets/output",
          "model_name": "OutputModel",
          "state": {
            "_view_name": "OutputView",
            "msg_id": "",
            "_dom_classes": [],
            "_model_name": "OutputModel",
            "outputs": [
              {
                "output_type": "display_data",
                "metadata": {
                  "tags": []
                },
                "image/png": "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\n",
                "text/plain": "<Figure size 576x576 with 2 Axes>"
              }
            ],
            "_view_module": "@jupyter-widgets/output",
            "_model_module_version": "1.0.0",
            "_view_count": null,
            "_view_module_version": "1.0.0",
            "layout": "IPY_MODEL_0577584aa71d45849a9889fb050654b3",
            "_model_module": "@jupyter-widgets/output"
          }
        },
        "1eca3e7a16014b2ca006612ddb4c4f61": {
          "model_module": "@jupyter-widgets/controls",
          "model_name": "SliderStyleModel",
          "state": {
            "_view_name": "StyleView",
            "handle_color": null,
            "_model_name": "SliderStyleModel",
            "description_width": "",
            "_view_module": "@jupyter-widgets/base",
            "_model_module_version": "1.5.0",
            "_view_count": null,
            "_view_module_version": "1.2.0",
            "_model_module": "@jupyter-widgets/controls"
          }
        },
        "428aaf9702aa4d68b093c0fcebe3b784": {
          "model_module": "@jupyter-widgets/base",
          "model_name": "LayoutModel",
          "state": {
            "_view_name": "LayoutView",
            "grid_template_rows": null,
            "right": null,
            "justify_content": null,
            "_view_module": "@jupyter-widgets/base",
            "overflow": null,
            "_model_module_version": "1.2.0",
            "_view_count": null,
            "flex_flow": null,
            "width": null,
            "min_width": null,
            "border": null,
            "align_items": null,
            "bottom": null,
            "_model_module": "@jupyter-widgets/base",
            "top": null,
            "grid_column": null,
            "overflow_y": null,
            "overflow_x": null,
            "grid_auto_flow": null,
            "grid_area": null,
            "grid_template_columns": null,
            "flex": null,
            "_model_name": "LayoutModel",
            "justify_items": null,
            "grid_row": null,
            "max_height": null,
            "align_content": null,
            "visibility": null,
            "align_self": null,
            "height": null,
            "min_height": null,
            "padding": null,
            "grid_auto_rows": null,
            "grid_gap": null,
            "max_width": null,
            "order": null,
            "_view_module_version": "1.2.0",
            "grid_template_areas": null,
            "object_position": null,
            "object_fit": null,
            "grid_auto_columns": null,
            "margin": null,
            "display": null,
            "left": null
          }
        },
        "0577584aa71d45849a9889fb050654b3": {
          "model_module": "@jupyter-widgets/base",
          "model_name": "LayoutModel",
          "state": {
            "_view_name": "LayoutView",
            "grid_template_rows": null,
            "right": null,
            "justify_content": null,
            "_view_module": "@jupyter-widgets/base",
            "overflow": null,
            "_model_module_version": "1.2.0",
            "_view_count": null,
            "flex_flow": null,
            "width": null,
            "min_width": null,
            "border": null,
            "align_items": null,
            "bottom": null,
            "_model_module": "@jupyter-widgets/base",
            "top": null,
            "grid_column": null,
            "overflow_y": null,
            "overflow_x": null,
            "grid_auto_flow": null,
            "grid_area": null,
            "grid_template_columns": null,
            "flex": null,
            "_model_name": "LayoutModel",
            "justify_items": null,
            "grid_row": null,
            "max_height": null,
            "align_content": null,
            "visibility": null,
            "align_self": null,
            "height": null,
            "min_height": null,
            "padding": null,
            "grid_auto_rows": null,
            "grid_gap": null,
            "max_width": null,
            "order": null,
            "_view_module_version": "1.2.0",
            "grid_template_areas": null,
            "object_position": null,
            "object_fit": null,
            "grid_auto_columns": null,
            "margin": null,
            "display": null,
            "left": null
          }
        }
      }
    }
  },
  "cells": [
    {
      "cell_type": "code",
      "metadata": {
        "id": "eBXhNgigLM8e",
        "colab_type": "code",
        "outputId": "57ba5c65-6c39-4b85-ccfc-4b678ebfb414",
        "colab": {
          "base_uri": "https://localhost:8080/",
          "height": 171
        }
      },
      "source": [
        "!pip install pysindy"
      ],
      "execution_count": 1,
      "outputs": [
        {
          "output_type": "stream",
          "text": [
            "Collecting pysindy\n",
            "  Downloading https://files.pythonhosted.org/packages/f3/61/f9dd09a319ede3232a4e458ca8d1c68b2cc90982c5b02e4ae7642fc5f4b5/pysindy-1.0.0-py3-none-any.whl\n",
            "Requirement already satisfied: numpy in /usr/local/lib/python3.6/dist-packages (from pysindy) (1.18.4)\n",
            "Requirement already satisfied: scikit-learn[alldeps]>=0.21 in /usr/local/lib/python3.6/dist-packages (from pysindy) (0.22.2.post1)\n",
            "Requirement already satisfied: scipy in /usr/local/lib/python3.6/dist-packages (from pysindy) (1.4.1)\n",
            "Requirement already satisfied: joblib>=0.11 in /usr/local/lib/python3.6/dist-packages (from scikit-learn[alldeps]>=0.21->pysindy) (0.14.1)\n",
            "Installing collected packages: pysindy\n",
            "Successfully installed pysindy-1.0.0\n"
          ],
          "name": "stdout"
        }
      ]
    },
    {
      "cell_type": "code",
      "metadata": {
        "id": "eAaAF0oH9WRo",
        "colab_type": "code",
        "colab": {
          "base_uri": "https://localhost:8080/",
          "height": 70
        },
        "outputId": "ddcf7321-78a1-47cb-a13b-15bcfa7aadef"
      },
      "source": [
        "import numba\n",
        "import numpy as np\n",
        "from tqdm.notebook import tqdm\n",
        "from ipywidgets import interact\n",
        "import matplotlib.pyplot as plt\n",
        "import seaborn as sns\n",
        "\n",
        "from sklearn.decomposition import PCA\n",
        "\n",
        "import torch\n",
        "from torch import nn\n",
        "from torch.utils.data import DataLoader\n",
        "from google.colab import files\n",
        "import pysindy as ps\n",
        "sns.set(font_scale=1.4)"
      ],
      "execution_count": 2,
      "outputs": [
        {
          "output_type": "stream",
          "text": [
            "/usr/local/lib/python3.6/dist-packages/statsmodels/tools/_testing.py:19: FutureWarning: pandas.util.testing is deprecated. Use the functions in the public API at pandas.testing instead.\n",
            "  import pandas.util.testing as tm\n"
          ],
          "name": "stderr"
        }
      ]
    },
    {
      "cell_type": "markdown",
      "metadata": {
        "id": "HbfEIu-XCxZi",
        "colab_type": "text"
      },
      "source": [
        "Check GPU"
      ]
    },
    {
      "cell_type": "code",
      "metadata": {
        "id": "qdZ4bUyLCWVV",
        "colab_type": "code",
        "outputId": "e331af74-d7b1-4001-f236-b05379617af2",
        "colab": {
          "base_uri": "https://localhost:8080/",
          "height": 34
        }
      },
      "source": [
        "train_on_gpu = torch.cuda.is_available()\n",
        "\n",
        "if not train_on_gpu:\n",
        "    print('CUDA is not available.  Training on CPU ...')\n",
        "else:\n",
        "    print('CUDA is available!  Training on GPU ...')"
      ],
      "execution_count": 3,
      "outputs": [
        {
          "output_type": "stream",
          "text": [
            "CUDA is not available.  Training on CPU ...\n"
          ],
          "name": "stdout"
        }
      ]
    },
    {
      "cell_type": "code",
      "metadata": {
        "id": "6ZlhpZIiCsCr",
        "colab_type": "code",
        "outputId": "8dcf5b64-96a5-4e30-b9ce-dd37f99428f3",
        "colab": {
          "base_uri": "https://localhost:8080/",
          "height": 87
        }
      },
      "source": [
        "!nvidia-smi\n",
        "torch.cuda.is_available()"
      ],
      "execution_count": 4,
      "outputs": [
        {
          "output_type": "stream",
          "text": [
            "NVIDIA-SMI has failed because it couldn't communicate with the NVIDIA driver. Make sure that the latest NVIDIA driver is installed and running.\n",
            "\n"
          ],
          "name": "stdout"
        },
        {
          "output_type": "execute_result",
          "data": {
            "text/plain": [
              "False"
            ]
          },
          "metadata": {
            "tags": []
          },
          "execution_count": 4
        }
      ]
    },
    {
      "cell_type": "markdown",
      "metadata": {
        "id": "3mAsD90Q-RF6",
        "colab_type": "text"
      },
      "source": [
        "Next function implements one time step of explicit finite-difference scheme for Laplace equaion:\n",
        "$$\n",
        "u_t = u_{xx} + u_{yy}\n",
        "$$"
      ]
    },
    {
      "cell_type": "code",
      "metadata": {
        "id": "a8JDnTzw-L0P",
        "colab_type": "code",
        "colab": {}
      },
      "source": [
        "def get_next_step(u, h, tau):\n",
        "    \"\"\"\n",
        "    u --- (N + 1, N + 1) array\n",
        "    h --- space step\n",
        "    tau --- time step\n",
        "    \"\"\"\n",
        "\n",
        "    N = len(u) - 1\n",
        "    x_index = np.repeat(np.arange(1, N)[:, np.newaxis], \n",
        "                                N-1, axis=1)\n",
        "    y_index = np.repeat(np.arange(1, N)[np.newaxis, :], \n",
        "                            N-1, axis=0)\n",
        "    \n",
        "    vicinity = u[x_index + 1, y_index] + u[x_index, y_index + 1] + \\\n",
        "               u[x_index - 1, y_index] + u[x_index, y_index -1]\n",
        "    \n",
        "    right_side = (vicinity - 4 * u[x_index, y_index]) * tau / h ** 2\n",
        "    u[x_index, y_index] += right_side\n",
        "\n",
        "    residual = np.linalg.norm(right_side[:]/tau) * h**0.5\n",
        "\n",
        "    return u, residual\n",
        "\n",
        "def compute_residual(u, h, tau):\n",
        "    \"\"\"\n",
        "    u --- (N + 1, N + 1) array\n",
        "    h --- space step\n",
        "    tau --- time step\n",
        "    \"\"\"\n",
        "\n",
        "    N = len(u) - 1\n",
        "    x_index = np.repeat(np.arange(1, N)[:, np.newaxis], \n",
        "                                N-1, axis=1)\n",
        "    y_index = np.repeat(np.arange(1, N)[np.newaxis, :], \n",
        "                            N-1, axis=0)\n",
        "    \n",
        "    vicinity = u[x_index + 1, y_index] + u[x_index, y_index + 1] + \\\n",
        "               u[x_index - 1, y_index] + u[x_index, y_index -1]\n",
        "    \n",
        "    right_side = (vicinity - 4 * u[x_index, y_index]) * tau / h ** 2\n",
        "\n",
        "    residual = np.linalg.norm(right_side[:]/tau) * h**0.5\n",
        "\n",
        "    return  residual"
      ],
      "execution_count": 0,
      "outputs": []
    },
    {
      "cell_type": "markdown",
      "metadata": {
        "id": "d_P4VU3w_Bgk",
        "colab_type": "text"
      },
      "source": [
        "Задаём размер сетки и начальное и граничное условия"
      ]
    },
    {
      "cell_type": "markdown",
      "metadata": {
        "id": "DbTVK3md_KlH",
        "colab_type": "text"
      },
      "source": [
        "Compute solution for prescribed number of time steps. Save solution each ```print_every``` time steps."
      ]
    },
    {
      "cell_type": "code",
      "metadata": {
        "id": "ehvk6ACn_AGK",
        "colab_type": "code",
        "outputId": "468a0ae6-4c05-48c9-9638-60407e09cb31",
        "colab": {
          "base_uri": "https://localhost:8080/",
          "height": 66,
          "referenced_widgets": [
            "de9bd0bf4705451c90d3f816561694c4",
            "f67b1f02105c41bca2726f5b417bcdc9",
            "ab588d134a0c4fe1be96ce3b3cbc3836",
            "5e81e944555440e798cd87d13eab3975",
            "862c4d3b5461479983a8646b8eff16b9",
            "510cc899856b477193cfb5b45203b09f",
            "0534242bc5ad41d390b0370dde56a93b",
            "51768d0ebcfa40e59f014737611e55eb"
          ]
        }
      },
      "source": [
        "n_of_time_steps = 10 * 10 ** 3\n",
        "N = 100\n",
        "history = np.zeros((n_of_time_steps, N + 1, N + 1))\n",
        "residual = np.zeros(n_of_time_steps + 1)\n",
        "print_every = 1 # \n",
        "\n",
        "\n",
        "X = np.linspace(-1, 1, N + 1)\n",
        "Y = np.linspace(-1, 1, N + 1)\n",
        "\n",
        "\n",
        "\n",
        "X, Y = np.meshgrid(X, Y)\n",
        "u_in = np.sin(X + Y ** 2) # Boundary condition\n",
        "u_in[1:N, 1:N] = 0 # Initial condition \n",
        "\n",
        "u = u_in\n",
        "\n",
        "h = 2 / N # space step\n",
        "tau = 0.1 * h**2 # time step\n",
        "for i in tqdm(range(n_of_time_steps)):\n",
        "    if (i % print_every == 0):\n",
        "        history[i // print_every] = u\n",
        "    u, residual[i] = get_next_step(u, h, tau)\n",
        "residual[-1] = compute_residual(u, h, tau)"
      ],
      "execution_count": 6,
      "outputs": [
        {
          "output_type": "display_data",
          "data": {
            "application/vnd.jupyter.widget-view+json": {
              "model_id": "de9bd0bf4705451c90d3f816561694c4",
              "version_minor": 0,
              "version_major": 2
            },
            "text/plain": [
              "HBox(children=(FloatProgress(value=0.0, max=10000.0), HTML(value='')))"
            ]
          },
          "metadata": {
            "tags": []
          }
        },
        {
          "output_type": "stream",
          "text": [
            "\n"
          ],
          "name": "stdout"
        }
      ]
    },
    {
      "cell_type": "code",
      "metadata": {
        "id": "c08V0QCzoczN",
        "colab_type": "code",
        "colab": {}
      },
      "source": [
        "print_every = 1"
      ],
      "execution_count": 0,
      "outputs": []
    },
    {
      "cell_type": "markdown",
      "metadata": {
        "id": "AHdu1QLIEvJQ",
        "colab_type": "text"
      },
      "source": [
        "Plot residual norm"
      ]
    },
    {
      "cell_type": "code",
      "metadata": {
        "id": "WspDFYtGGLlI",
        "colab_type": "code",
        "outputId": "e161aa67-6db2-4e7f-bcac-6f02aacfb09f",
        "colab": {
          "base_uri": "https://localhost:8080/",
          "height": 332
        }
      },
      "source": [
        "plt.semilogy(residual)\n",
        "plt.title('Residual')\n",
        "plt.xlabel('step')\n",
        "plt.ylabel('$\\Vert R \\Vert$', rotation = 0)"
      ],
      "execution_count": 8,
      "outputs": [
        {
          "output_type": "execute_result",
          "data": {
            "text/plain": [
              "Text(0, 0.5, '$\\\\Vert R \\\\Vert$')"
            ]
          },
          "metadata": {
            "tags": []
          },
          "execution_count": 8
        },
        {
          "output_type": "display_data",
          "data": {
            "image/png": "[encoded data removed]",
            "text/plain": [
              "<Figure size 432x288 with 1 Axes>"
            ]
          },
          "metadata": {
            "tags": []
          }
        }
      ]
    },
    {
      "cell_type": "markdown",
      "metadata": {
        "id": "4hzMgNlwABZr",
        "colab_type": "text"
      },
      "source": [
        "Save solution on the drive\n",
        "\n"
      ]
    },
    {
      "cell_type": "code",
      "metadata": {
        "id": "DW9QoMxw_Ofz",
        "colab_type": "code",
        "colab": {}
      },
      "source": [
        "np.save('./history.npy',\n",
        "        history\n",
        "        )"
      ],
      "execution_count": 0,
      "outputs": []
    },
    {
      "cell_type": "code",
      "metadata": {
        "id": "T_EGx1L2_kGS",
        "colab_type": "code",
        "colab": {}
      },
      "source": [
        "history = np.load(\n",
        "    './history.npy'\n",
        "    )"
      ],
      "execution_count": 0,
      "outputs": []
    },
    {
      "cell_type": "markdown",
      "metadata": {
        "id": "BMiGoE5pAINQ",
        "colab_type": "text"
      },
      "source": [
        "Visualize solution.\n"
      ]
    },
    {
      "cell_type": "code",
      "metadata": {
        "id": "KAZDsaP8_90u",
        "colab_type": "code",
        "colab": {}
      },
      "source": [
        "def plot(index):\n",
        "    plt.figure(figsize=(8, 8))\n",
        "    sns.heatmap(history[index])\n",
        "    plt.show()"
      ],
      "execution_count": 0,
      "outputs": []
    },
    {
      "cell_type": "code",
      "metadata": {
        "id": "FQ9QSJUuAOBu",
        "colab_type": "code",
        "outputId": "fc75b476-2aad-4c7c-de08-7f9fa6ebe747",
        "colab": {
          "base_uri": "https://localhost:8080/",
          "height": 557,
          "referenced_widgets": [
            "5f9fc8db41e14a259aa430ed8b129917",
            "218fc45655fb42f3b5d5a64929acdb45",
            "242e4bf55b164d4eb0602812f7194fde",
            "b09e2f74de5d42cabfa15ea3d7a893c6",
            "1eca3e7a16014b2ca006612ddb4c4f61",
            "428aaf9702aa4d68b093c0fcebe3b784",
            "0577584aa71d45849a9889fb050654b3"
          ]
        }
      },
      "source": [
        "interact(plot, index=(0, n_of_time_steps - 1))"
      ],
      "execution_count": 12,
      "outputs": [
        {
          "output_type": "display_data",
          "data": {
            "application/vnd.jupyter.widget-view+json": {
              "model_id": "5f9fc8db41e14a259aa430ed8b129917",
              "version_minor": 0,
              "version_major": 2
            },
            "text/plain": [
              "interactive(children=(IntSlider(value=4999, description='index', max=9999), Output()), _dom_classes=('widget-i…"
            ]
          },
          "metadata": {
            "tags": []
          }
        },
        {
          "output_type": "execute_result",
          "data": {
            "text/plain": [
              "<function __main__.plot>"
            ]
          },
          "metadata": {
            "tags": []
          },
          "execution_count": 12
        }
      ]
    },
    {
      "cell_type": "code",
      "metadata": {
        "id": "0EnAtWtPPW-O",
        "colab_type": "code",
        "colab": {}
      },
      "source": [
        "# Move from solutions to delta U\n",
        "\n",
        "# history = history[1:] - history[:-1]"
      ],
      "execution_count": 0,
      "outputs": []
    },
    {
      "cell_type": "markdown",
      "metadata": {
        "id": "7_QTJA1jBJbZ",
        "colab_type": "text"
      },
      "source": [
        "Construct encoder-decoder using small part of history"
      ]
    },
    {
      "cell_type": "code",
      "metadata": {
        "id": "Iqcjm97WFw5c",
        "colab_type": "code",
        "colab": {}
      },
      "source": [
        "start = 1000 # start index in history\n",
        "batch = 500 # batch size\n",
        "low_dim = 3 # number of dimensions in low-dimensional space"
      ],
      "execution_count": 0,
      "outputs": []
    },
    {
      "cell_type": "markdown",
      "metadata": {
        "id": "7e9oWaw0GfXM",
        "colab_type": "text"
      },
      "source": [
        "Construct autoencoder based on Principal Component Analysis (PCA)."
      ]
    },
    {
      "cell_type": "code",
      "metadata": {
        "id": "U8yRFVdjAP15",
        "colab_type": "code",
        "colab": {}
      },
      "source": [
        "class PCA_autoenc:\n",
        "    def __init__(self, low_dim):\n",
        "        self.pca = PCA(n_components = low_dim)\n",
        "    \n",
        "    def fit(self, x):\n",
        "      '''x = (n_of_snapshots, vector_size)\n",
        "      '''\n",
        "      self.pca.fit_transform(x)\n",
        "    \n",
        "    def encode(self, x_high_dim):\n",
        "        return self.pca.transform(x_high_dim)\n",
        "\n",
        "    def decode(self, x_low_dim):\n",
        "        return self.pca.inverse_transform(x_low_dim)"
      ],
      "execution_count": 0,
      "outputs": []
    },
    {
      "cell_type": "code",
      "metadata": {
        "id": "_law9AhMGeyL",
        "colab_type": "code",
        "colab": {}
      },
      "source": [
        "pca_autoenc = PCA_autoenc(low_dim = 3)\n",
        "\n",
        "sub_hist = history[start:start + batch].reshape(-1, (N + 1) * (N + 1))\n",
        "\n",
        "mean = 0.# np.mean(sub_hist)\n",
        "std = 1.#np.std(sub_hist)\n",
        "\n",
        "sub_hist = (sub_hist - mean) / std \n",
        "pca_autoenc.fit(sub_hist)"
      ],
      "execution_count": 0,
      "outputs": []
    },
    {
      "cell_type": "code",
      "metadata": {
        "id": "1teHN7MiGEZR",
        "colab_type": "code",
        "colab": {}
      },
      "source": [
        "history_low_dim =pca_autoenc.encode(history.reshape(-1, (N + 1) * (N + 1)))"
      ],
      "execution_count": 0,
      "outputs": []
    },
    {
      "cell_type": "markdown",
      "metadata": {
        "id": "vBnN8yc8GTS0",
        "colab_type": "text"
      },
      "source": [
        "Note: components of low-dimensional vector decrease exponentially with number (this is general result for SVD of projection of smooth function on a mesh). \n",
        "\n",
        "But for future solutions all components get large. We have to account for that when training predictive model."
      ]
    },
    {
      "cell_type": "markdown",
      "metadata": {
        "id": "wg-EDT1EELhu",
        "colab_type": "text"
      },
      "source": [
        "Let's check compression accuracy on 'test set' - future time steps"
      ]
    },
    {
      "cell_type": "code",
      "metadata": {
        "id": "BoIc7v9eDUg0",
        "colab_type": "code",
        "outputId": "59be996a-6a86-4433-e2c0-5543207901cb",
        "colab": {
          "base_uri": "https://localhost:8080/",
          "height": 67
        }
      },
      "source": [
        "future_batches = 3\n",
        "X_ = history[start + batch : start + batch + future_batches * batch]\n",
        "X = X_.reshape(future_batches * batch, -1)\n",
        "\n",
        "X = (X - mean) / std\n",
        "print('X.shape = ', X.shape)\n",
        "x = pca_autoenc.encode(X)\n",
        "print('x.shape = ', x.shape)\n",
        "\n",
        "X_decode = pca_autoenc.decode(x)\n",
        "error = np.linalg.norm(X[:] - X_decode[:]) / (batch * (N+1) **2)\n",
        "print('error in fro-norm = {0:5.2e}'.format(error))"
      ],
      "execution_count": 18,
      "outputs": [
        {
          "output_type": "stream",
          "text": [
            "X.shape =  (1500, 10201)\n",
            "x.shape =  (1500, 3)\n",
            "error in fro-norm = 1.22e-06\n"
          ],
          "name": "stdout"
        }
      ]
    },
    {
      "cell_type": "markdown",
      "metadata": {
        "id": "wpkWaxzoEHQZ",
        "colab_type": "text"
      },
      "source": [
        "Plot graphs for different components of low-dimentional vector. It can be seen that dependence on time is very smooth. Therefore we hope that we can effectively predict future states. "
      ]
    },
    {
      "cell_type": "code",
      "metadata": {
        "id": "WjAF7KGvEGIa",
        "colab_type": "code",
        "outputId": "b59c1741-b156-4339-9e33-bc9f4bfe6eec",
        "colab": {
          "base_uri": "https://localhost:8080/",
          "height": 347
        }
      },
      "source": [
        "fig, axes = plt.subplots(1,3, figsize = (15,5))\n",
        "for i in range(low_dim): \n",
        "    axes[i].plot(history_low_dim[start : start + (future_batches + 1) * batch, i], lw = 2)\n",
        "    axes[i].plot(history_low_dim[start : start + 1 * batch, i], lw = 4, label = 'Train batch')\n",
        "    # plt.plot(np.arange(batch, (future_batches + 1) * batch), x[:, i], label = 'test set')\n",
        "    axes[i].legend(loc = 'upper right')\n",
        "    axes[i].set_title('Component # ' + str(i+1))\n",
        "fname = 'PCA_on_iter.png'\n",
        "plt.savefig(fname, format = 'png', dpi = 600, bbox_inches = 'tight')\n",
        "files.download(fname)"
      ],
      "execution_count": 68,
      "outputs": [
        {
          "output_type": "display_data",
          "data": {
            "image/png": "[encoded data removed]",
            "text/plain": [
              "<Figure size 1080x360 with 3 Axes>"
            ]
          },
          "metadata": {
            "tags": []
          }
        }
      ]
    },
    {
      "cell_type": "code",
      "metadata": {
        "id": "lAUjQKuAGtNK",
        "colab_type": "code",
        "colab": {}
      },
      "source": [
        "x_train = pca_autoenc.encode(\n",
        "    history[start : start + batch].reshape(-1, (N + 1) * (N + 1))\n",
        "    )\n"
      ],
      "execution_count": 0,
      "outputs": []
    },
    {
      "cell_type": "markdown",
      "metadata": {
        "id": "fxcGwww_KK9b",
        "colab_type": "text"
      },
      "source": [
        "Try to use [https://github.com/dynamicslab/pysindy] library"
      ]
    },
    {
      "cell_type": "code",
      "metadata": {
        "id": "RGxWc8-3KKcs",
        "colab_type": "code",
        "colab": {}
      },
      "source": [
        "class Sindy_predictor:\n",
        "    def __init__(self):\n",
        "        self.model = ps.SINDy()\n",
        "\n",
        "    def fit(self, snapshots, dt):\n",
        "      self.model.fit(snapshots, t = dt)\n",
        "      self.dt = dt\n",
        "\n",
        "    def predict(self, x0, t):\n",
        "      # predict solution for times in array \"t\"\n",
        "      x = self.model.simulate(x0, t)\n",
        "      return x\n",
        "\n"
      ],
      "execution_count": 0,
      "outputs": []
    },
    {
      "cell_type": "code",
      "metadata": {
        "id": "Tx-Il7BkGxRF",
        "colab_type": "code",
        "outputId": "9c8a563a-fee4-4d10-978d-991e0ade98d1",
        "colab": {
          "base_uri": "https://localhost:8080/",
          "height": 104
        }
      },
      "source": [
        "sindy_predictor = Sindy_predictor()\n",
        "\n",
        "# scales = np.std(x_train, axis = 0)\n",
        "scales = 1\n",
        "x_train_scaled = x_train / scales\n",
        "print(scales)\n",
        "\n",
        "# stlsq_optimizer = ps.STLSQ(threshold=1e-1, fit_intercept = True)\n",
        "# # sr3_optimizer = ps.SR3(threshold=1e+0, nu=1)\n",
        "# smoothedFD = ps.SmoothedFiniteDifference()\n",
        "model = ps.SINDy()\n",
        "dt = tau\n",
        "sub_batch = batch//2\n",
        "model.fit(x_train_scaled[-sub_batch:, :], t = dt)\n",
        "sindy_predictor.fit(x_train_scaled[-sub_batch:, :], dt)\n",
        "model.print()"
      ],
      "execution_count": 51,
      "outputs": [
        {
          "output_type": "stream",
          "text": [
            "1\n",
            "x0' = -15662.877 1 + -1204.180 x0 + -249969.109 x1 + -66496.990 x2 + 5018.589 x0^2 + 2433.188 x0 x1 + 224.677 x0 x2 + 50.479 x1^2\n",
            "x1' = 1.402 1 + -12.128 x0 + -0.764 x0^2 + -0.660 x0 x1\n",
            "x2' = 0.816 1 + 0.107 x0 + -0.437 x0^2 + -1.340 x0 x1\n"
          ],
          "name": "stdout"
        }
      ]
    },
    {
      "cell_type": "markdown",
      "metadata": {
        "id": "CwH6cUuCLlAV",
        "colab_type": "text"
      },
      "source": [
        "Plot results on training set"
      ]
    },
    {
      "cell_type": "code",
      "metadata": {
        "id": "bi0c4NAGMDcH",
        "colab_type": "code",
        "outputId": "9680312a-5e80-4896-8072-b611b25e75c6",
        "colab": {
          "base_uri": "https://localhost:8080/",
          "height": 785
        }
      },
      "source": [
        "x0_train_scaled = x_train[-sub_batch, :] / scales # Initial condition for integration\n",
        "t_train = np.arange(2*sub_batch ) * dt\n",
        "\n",
        "# integrator_args = {'rtol' : 1e-16, 'hmax' : 1e-3* dt, 'h0' : 1e-3 * dt}\n",
        "x_test_sim_scaled = sindy_predictor.predict(x0_train_scaled,\n",
        "                            t_train)\n",
        "x_test_sim = x_test_sim_scaled * scales\n",
        "\n",
        "for i in range(low_dim):\n",
        "    plt.plot(x_train[-sub_batch:, i],'k.', label = 'true')\n",
        "    plt.plot(x_test_sim[:, i], 'r-',label = 'prediction')\n",
        "    # plt.plot(np.arange(sub_batch, sub_batch + batch), x[:batch, i], 'g.')\n",
        "    plt.legend()\n",
        "    plt.show()"
      ],
      "execution_count": 52,
      "outputs": [
        {
          "output_type": "display_data",
          "data": {
            "image/png": "[encoded data removed]",
            "text/plain": [
              "<Figure size 432x288 with 1 Axes>"
            ]
          },
          "metadata": {
            "tags": []
          }
        },
        {
          "output_type": "display_data",
          "data": {
            "image/png": "[encoded data removed]",
            "text/plain": [
              "<Figure size 432x288 with 1 Axes>"
            ]
          },
          "metadata": {
            "tags": []
          }
        },
        {
          "output_type": "display_data",
          "data": {
            "image/png": "[encoded data removed]",
            "text/plain": [
              "<Figure size 432x288 with 1 Axes>"
            ]
          },
          "metadata": {
            "tags": []
          }
        }
      ]
    },
    {
      "cell_type": "markdown",
      "metadata": {
        "id": "eDaysAomkJwf",
        "colab_type": "text"
      },
      "source": [
        "Plot results for future points"
      ]
    },
    {
      "cell_type": "code",
      "metadata": {
        "id": "flWiBEUdkIuu",
        "colab_type": "code",
        "outputId": "70a4f59d-a674-4dac-b40f-1826e6a6196e",
        "colab": {
          "base_uri": "https://localhost:8080/",
          "height": 347
        }
      },
      "source": [
        "x0_train_scaled = x_train[-1, :] / scales # Initial condition for integration\n",
        "t_train = np.arange((future_batches + 2) * batch) * dt\n",
        "\n",
        "# integrator_args = {'rtol' : 1e-16, 'hmax' : dt, 'h0' : dt}\n",
        "x_test_sim_scaled = sindy_predictor.predict(\n",
        "                            x0_train_scaled,\n",
        "                            t_train)\n",
        "\n",
        "x_test_sim = x_test_sim_scaled * scales\n",
        "\n",
        "fig, axes = plt.subplots(1,3, figsize = (15,5))\n",
        "for i in range(low_dim):\n",
        "    axes[i].plot(x_train[-batch:, i], 'k-', lw = 5, label = 'Train batch')\n",
        "    axes[i].plot(np.arange(batch, batch + len(x_test_sim), 100), x_test_sim[::100, i], 'ro',label = 'SINDy prediction')\n",
        "    axes[i].plot( np.arange(batch, batch + len(x_test_sim)),\n",
        "             history_low_dim[start + batch : start + (future_batches + 3) * batch, i], \n",
        "             'g-', label = 'explicit scheme'\n",
        "             )\n",
        "    axes[i].set_title('PCA coefficient #' + str(i+1))\n",
        "    axes[i].legend(loc = 'upper right')\n",
        "\n",
        "fname = 'SINDY_components.png'\n",
        "plt.savefig(fname, format = 'png', dpi = 600, bbox_inches = 'tight')\n",
        "files.download(fname)"
      ],
      "execution_count": 75,
      "outputs": [
        {
          "output_type": "display_data",
          "data": {
            "image/png": "[encoded data removed]",
            "text/plain": [
              "<Figure size 1080x360 with 3 Axes>"
            ]
          },
          "metadata": {
            "tags": []
          }
        }
      ]
    },
    {
      "cell_type": "markdown",
      "metadata": {
        "id": "YO8t4WL44yJ8",
        "colab_type": "text"
      },
      "source": [
        "Посмотрим, как меняется невязкая для предсказанных значений. "
      ]
    },
    {
      "cell_type": "code",
      "metadata": {
        "id": "kvXuM88f4wWf",
        "colab_type": "code",
        "outputId": "c574bde3-b5f1-489c-d09f-685823a3d4d6",
        "colab": {
          "base_uri": "https://localhost:8080/",
          "height": 546
        }
      },
      "source": [
        "# Сначала декодируем\n",
        "U_pred= pca_autoenc.decode(x_test_sim)\n",
        "U_pred = U_pred.reshape(-1, N + 1, N + 1)  \n",
        "#\n",
        "residual_sindy = []\n",
        "\n",
        "for k in range(U_pred.shape[0] - sub_batch):\n",
        "    residual_sindy.append(\n",
        "        compute_residual(U_pred[k + sub_batch, :, :],  h, tau)\n",
        "    )\n",
        "residual_sindy = np.array(residual_sindy)\n",
        "i_min = np.argmin(residual_sindy)\n",
        "plt.semilogy(residual[:start + batch])\n",
        "\n",
        "plt.semilogy(np.arange(start + batch, start + batch + i_min),\n",
        "             residual_sindy[: i_min])\n",
        "plt.show()\n",
        "plt.semilogy(np.concatenate(\n",
        "    (residual[: start + batch],\n",
        "    np.array([residual_sindy[i_min]]))))"
      ],
      "execution_count": 25,
      "outputs": [
        {
          "output_type": "display_data",
          "data": {
            "image/png": "[encoded data removed]",
            "text/plain": [
              "<Figure size 432x288 with 1 Axes>"
            ]
          },
          "metadata": {
            "tags": []
          }
        },
        {
          "output_type": "execute_result",
          "data": {
            "text/plain": [
              "[<matplotlib.lines.Line2D at 0x7f4adc03dc50>]"
            ]
          },
          "metadata": {
            "tags": []
          },
          "execution_count": 25
        },
        {
          "output_type": "display_data",
          "data": {
            "image/png": "[encoded data removed]",
            "text/plain": [
              "<Figure size 432x288 with 1 Axes>"
            ]
          },
          "metadata": {
            "tags": []
          }
        }
      ]
    },
    {
      "cell_type": "markdown",
      "metadata": {
        "id": "TU80kliObzZE",
        "colab_type": "text"
      },
      "source": [
        "### Final experiments\n",
        "General function for testing different approaches. It gets autoencoder, predictor, and set of numerical parameters, and return residuals for each iteration. Then we compare it with baseline explicit scheme."
      ]
    },
    {
      "cell_type": "code",
      "metadata": {
        "id": "OfqQw1oscJeX",
        "colab_type": "code",
        "colab": {}
      },
      "source": [
        "import copy\n",
        "\n",
        "def my_solver(u_in, h, tau, autoenc, predictor, parameters):\n",
        "    '''my_solver function\n",
        "\n",
        "    Arguments:\n",
        "    u_in (int) -- initial condition\n",
        "\n",
        "    Returns:\n",
        "\n",
        "    '''\n",
        "    \n",
        "    iter_counter = 0\n",
        "    residuals = []\n",
        "    nx = u_in.shape[0]\n",
        "    ny = u_in.shape[1]\n",
        "    u = copy.deepcopy(u_in)\n",
        "    # Skip first iterations\n",
        "    residuals.append(compute_residual(u, h, tau))\n",
        "    for i in range(parameters.skip_first):\n",
        "        u, _ = get_next_step(u, h, tau)\n",
        "        residual = compute_residual(u, h, tau)\n",
        "        residuals.append(residual)\n",
        "        iter_counter = iter_counter + 1\n",
        "\n",
        "    # Start main cycle\n",
        "    history = np.zeros((parameters.batch_size,\n",
        "                        nx,\n",
        "                        ny))\n",
        "    sparse_history = np.zeros((parameters.batch_size, nx * ny))\n",
        "    number_of_pred = 0\n",
        "    while(iter_counter < parameters.iter_num):\n",
        "        # Compute batch solutions\n",
        "        for it in range(parameters.batch_size):\n",
        "            u, _ = get_next_step(u, h, tau)\n",
        "            history[it, :, :] = u\n",
        "            residual = compute_residual(u, h, tau)\n",
        "            residuals.append(residual)\n",
        "            iter_counter = iter_counter + 1\n",
        "\n",
        "        number_of_pred = number_of_pred + 1\n",
        "        print('Start prediction # {0:d}'.format(number_of_pred))\n",
        "        sparse_history[:, :] = history.reshape(-1, nx * ny)\n",
        "\n",
        "        # Normalize snapshots\n",
        "        # mean = np.mean(sparse_history)\n",
        "        # std = np.std(sparse_history)\n",
        "        # sparse_history = (sparse_history - mean) / std\n",
        "\n",
        "\n",
        "        # Train autoencoder\n",
        "        # pca_autoenc.fit(history[start:start + batch].reshape(-1, (N + 1) * (N + 1)))\n",
        "        autoenc.fit(\n",
        "            sparse_history\n",
        "        )\n",
        "        # encode solutions\n",
        "        sparse_history_low_dim = autoenc.encode(sparse_history)\n",
        "\n",
        "        # Normalize sparse_history_low_dim\n",
        "        # mean = np.mean(sparse_history_low_dim[:, 0])\n",
        "        std = np.std(sparse_history_low_dim[:, 0])\n",
        "        sparse_history_low_dim = sparse_history_low_dim / std\n",
        "\n",
        "\n",
        "        # Train predictor\n",
        "        # sindy_predictor.fit(x_train_scaled[-sub_batch:, :], dt)\n",
        "        predictor.fit(\n",
        "            sparse_history_low_dim[-parameters.pred_batch_size::parameters.pred_train_step, :],\n",
        "            dt = tau * parameters.pred_train_step\n",
        "        )\n",
        "        # Predict future solution \n",
        "        x0 = sparse_history_low_dim[-parameters.pred_batch_size, :]\n",
        "        pred_residuals = [residuals[-parameters.pred_batch_size]]\n",
        "\n",
        "        pred_step_num = 0\n",
        "        while(True):\n",
        "            pred_step_num = pred_step_num + 1\n",
        "            x_pred = predictor.predict(x0, np.array([0., tau]))\n",
        "\n",
        "            # Denormalize \n",
        "            # Decode\n",
        "            x_pred_high_dim = autoenc.decode(x_pred[-1] * std)\n",
        "            \n",
        "            # Denormalize\n",
        "            # x_pred_high_dim  = x_pred_high_dim * std + mean\n",
        "\n",
        "            x_pred_high_dim = x_pred_high_dim.reshape(-1, nx, ny)\n",
        "            res = compute_residual(x_pred_high_dim[0],  h, tau)\n",
        "            if (res < 1e-4):\n",
        "                print('Residual is very low, stop')\n",
        "                break\n",
        "            if (res < pred_residuals[-1]):\n",
        "                pred_residuals.append(res)\n",
        "                x0 = x_pred[-1, :]\n",
        "            else:\n",
        "                break\n",
        "        print('pred_step_num = {0:d}'.format(pred_step_num))\n",
        "        u = autoenc.decode(x0 * std).reshape(nx, ny)\n",
        "\n",
        "    return u, residuals "
      ],
      "execution_count": 0,
      "outputs": []
    },
    {
      "cell_type": "code",
      "metadata": {
        "id": "uBrze92odZqg",
        "colab_type": "code",
        "colab": {}
      },
      "source": [
        "class Parameters:\n",
        "  def __init__(self):\n",
        "      self.skip_first = 1500\n",
        "      self.save_every = 1\n",
        "      # number of time steps before prediction\n",
        "      self.batch_size = 500\n",
        "\n",
        "      # number of last shapshots\n",
        "      # used to train predictor\n",
        "      self.pred_batch_size = 400\n",
        "\n",
        "      # \n",
        "      self.pred_train_step = 1\n",
        "      \n",
        "      # number of steps for predictor\n",
        "      # 2 - 3 batch_size\n",
        "      self.pred_step_num = 1000   \n",
        "      # Max number of iterations\n",
        "      self.iter_num = 10**4"
      ],
      "execution_count": 0,
      "outputs": []
    },
    {
      "cell_type": "code",
      "metadata": {
        "id": "lA35mfvgaH7b",
        "colab_type": "code",
        "outputId": "3e0025f4-9ce6-40ae-f3b8-a84ec3e563b8",
        "colab": {
          "base_uri": "https://localhost:8080/",
          "height": 642
        }
      },
      "source": [
        "p = Parameters()\n",
        "N = 100\n",
        "\n",
        "X = np.linspace(-1, 1, N + 1)\n",
        "Y = np.linspace(-1, 1, N + 1)\n",
        "\n",
        "\n",
        "\n",
        "X, Y = np.meshgrid(X, Y)\n",
        "u_in = np.sin(X + Y ** 2) # Boundary condition\n",
        "u_in[1:N, 1:N] = 0 # Initial condition \n",
        "\n",
        "h = 2 / N # space step\n",
        "tau = 0.1 * h**2 # time step\n",
        "\n",
        "pca_autoenc = PCA_autoenc(low_dim = 3)\n",
        "sindy_predictor = Sindy_predictor()\n",
        "stlsq_optimizer = ps.STLSQ(\n",
        "    threshold= 1e-1, \n",
        "    alpha=0.05\n",
        "    )\n",
        "\n",
        "fourier_library = ps.FourierLibrary(n_frequencies=3)\n",
        "pol_library = ps.PolynomialLibrary(degree = 2)\n",
        "combined_library = pol_library\n",
        "\n",
        "sindy_predictor.model = ps.SINDy(\n",
        "    feature_library= combined_library,\n",
        "    optimizer = stlsq_optimizer\n",
        "    )\n",
        "\n",
        "u, residuals_accelerated = my_solver(u_in, h, tau, pca_autoenc, sindy_predictor, p)"
      ],
      "execution_count": 97,
      "outputs": [
        {
          "output_type": "stream",
          "text": [
            "Start prediction # 1\n",
            "pred_step_num = 2916\n",
            "Start prediction # 2\n",
            "pred_step_num = 2853\n",
            "Start prediction # 3\n",
            "pred_step_num = 2264\n",
            "Start prediction # 4\n",
            "pred_step_num = 4792\n",
            "Start prediction # 5\n",
            "pred_step_num = 11981\n",
            "Start prediction # 6\n",
            "pred_step_num = 2068\n",
            "Start prediction # 7\n",
            "pred_step_num = 1577\n",
            "Start prediction # 8\n",
            "pred_step_num = 3340\n",
            "Start prediction # 9\n",
            "pred_step_num = 835\n",
            "Start prediction # 10\n",
            "pred_step_num = 630\n",
            "Start prediction # 11\n",
            "pred_step_num = 1484\n",
            "Start prediction # 12\n",
            "pred_step_num = 834\n",
            "Start prediction # 13\n",
            "pred_step_num = 801\n",
            "Start prediction # 14\n",
            "pred_step_num = 154\n",
            "Start prediction # 15\n"
          ],
          "name": "stdout"
        },
        {
          "output_type": "stream",
          "text": [
            "/usr/local/lib/python3.6/dist-packages/pysindy/optimizers/stlsq.py:156: UserWarning: Sparsity parameter is too big (0.1) and eliminated all coefficients\n",
            "  \"coefficients\".format(self.threshold)\n"
          ],
          "name": "stderr"
        },
        {
          "output_type": "stream",
          "text": [
            "pred_step_num = 1169\n",
            "Start prediction # 16\n",
            "pred_step_num = 703\n",
            "Start prediction # 17\n",
            "pred_step_num = 986\n"
          ],
          "name": "stdout"
        }
      ]
    },
    {
      "cell_type": "code",
      "metadata": {
        "id": "pyoTzC8NKJR0",
        "colab_type": "code",
        "outputId": "9c19c7d8-94a5-4cec-a135-8f8fc443299d",
        "colab": {
          "base_uri": "https://localhost:8080/",
          "height": 34
        }
      },
      "source": [
        "print('Minimal residual = {0:5.2e}'.format(residuals_accelerated[-1]))"
      ],
      "execution_count": 94,
      "outputs": [
        {
          "output_type": "stream",
          "text": [
            "Minimal residual = 2.04e-01\n"
          ],
          "name": "stdout"
        }
      ]
    },
    {
      "cell_type": "code",
      "metadata": {
        "id": "J4aBcr2DEqHK",
        "colab_type": "code",
        "outputId": "5ab05cbd-e026-46ac-f3cd-3ba32b8d7f2a",
        "colab": {
          "base_uri": "https://localhost:8080/",
          "height": 293
        }
      },
      "source": [
        "plt.semilogy(residuals_accelerated/residuals_accelerated[0], label = 'accelerated method')\n",
        "plt.semilogy(residual/residual[0], label = 'original method')\n",
        "plt.legend()\n",
        "plt.title('Normilized residual')\n",
        "fname = 'compare_residuals.png'\n",
        "plt.savefig(fname, format = 'png', dpi = 600, bbox_inches = 'tight')\n",
        "# files.download(fname)"
      ],
      "execution_count": 95,
      "outputs": [
        {
          "output_type": "display_data",
          "data": {
            "image/png": "[encoded data removed]",
            "text/plain": [
              "<Figure size 432x288 with 1 Axes>"
            ]
          },
          "metadata": {
            "tags": []
          }
        }
      ]
    },
    {
      "cell_type": "code",
      "metadata": {
        "id": "50Q7_PDLML3K",
        "colab_type": "code",
        "outputId": "2b5d0df6-cef5-4adc-af60-1044fbbcde1a",
        "colab": {
          "base_uri": "https://localhost:8080/",
          "height": 370
        }
      },
      "source": [
        "import torch.nn.functional as F\n",
        "\n",
        "# define the NN architecture\n",
        "class ConvAutoencoder(nn.Module):\n",
        "    def __init__(self):\n",
        "        super(ConvAutoencoder, self).__init__()\n",
        "        ## encoder layers ##\n",
        "        # conv layer (depth from 1 --> 16), 3x3 kernels\n",
        "        self.conv1 = nn.Conv2d(1, 8, 3, stride = 2,  padding=0)  \n",
        "        # conv layer (depth from 16 --> 4), 3x3 kernels\n",
        "        self.conv2 = nn.Conv2d(8, 2, 3, stride = 2, padding=0)\n",
        "        # pooling layer to reduce x-y dims by two; kernel and stride of 2\n",
        "        self.pool = nn.MaxPool2d(2, 2)\n",
        "        \n",
        "        ## decoder layers ##\n",
        "        ## a kernel of 2 and a stride of 2 will increase the spatial dims by 2\n",
        "        self.t_conv1 = nn.ConvTranspose2d(2, 4, 4, stride=1)\n",
        "        self.t_conv2 = nn.ConvTranspose2d(4, 4, 4, stride=2, padding = 0)\n",
        "        self.t_conv3 = nn.ConvTranspose2d(4, 1, 4, stride=2, padding = 0)\n",
        "        self.t_conv4 = nn.ConvTranspose2d(1, 1, 4, stride=2, padding = 0)\n",
        "\n",
        "    def forward(self, x):\n",
        "        ## encode ##\n",
        "        # add hidden layers with relu activation function\n",
        "        # and maxpooling after\n",
        "        x = torch.sigmoid(self.conv1(x))\n",
        "        x = self.pool(x)\n",
        "        # add second hidden layer\n",
        "        x = torch.sigmoid(self.conv2(x))\n",
        "        x = self.pool(x)  # compressed representation\n",
        "        \n",
        "        ## decode ##\n",
        "        # add transpose conv layers, with relu activation function\n",
        "        x = torch.sigmoid(self.t_conv1(x))\n",
        "        # output layer (with sigmoid for scaling from 0 to 1)\n",
        "        x = torch.sigmoid(self.t_conv2(x))\n",
        "\n",
        "        x = torch.sigmoid(self.t_conv3(x))\n",
        "        x = self.t_conv4(x)\n",
        "        return x\n",
        "    \n",
        "    def encode(self, x):\n",
        "        ## encode ##\n",
        "        # add hidden layers with relu activation function\n",
        "        # and maxpooling after\n",
        "        x = torch.sigmoid(self.conv1(x))\n",
        "        x = self.pool(x)\n",
        "        # add second hidden layer\n",
        "        x = torch.sigmoid(self.conv2(x))\n",
        "        x = self.pool(x)  # compressed representation\n",
        "        return x\n",
        "\n",
        "    def decode(self, x):\n",
        "        return \n",
        "\n",
        "# initialize the NN\n",
        "auto_enc = ConvAutoencoder().cuda()\n",
        "# print(model)\n",
        "from torchsummary import summary\n",
        "summary(auto_enc, (1, 101,101))"
      ],
      "execution_count": 0,
      "outputs": [
        {
          "output_type": "stream",
          "text": [
            "----------------------------------------------------------------\n",
            "        Layer (type)               Output Shape         Param #\n",
            "================================================================\n",
            "            Conv2d-1            [-1, 8, 50, 50]              80\n",
            "         MaxPool2d-2            [-1, 8, 25, 25]               0\n",
            "            Conv2d-3            [-1, 2, 12, 12]             146\n",
            "         MaxPool2d-4              [-1, 2, 6, 6]               0\n",
            "   ConvTranspose2d-5              [-1, 4, 9, 9]             132\n",
            "   ConvTranspose2d-6            [-1, 4, 20, 20]             260\n",
            "   ConvTranspose2d-7            [-1, 1, 42, 42]              65\n",
            "   ConvTranspose2d-8            [-1, 1, 86, 86]              17\n",
            "================================================================\n",
            "Total params: 700\n",
            "Trainable params: 700\n",
            "Non-trainable params: 0\n",
            "----------------------------------------------------------------\n",
            "Input size (MB): 0.04\n",
            "Forward/backward pass size (MB): 0.28\n",
            "Params size (MB): 0.00\n",
            "Estimated Total Size (MB): 0.32\n",
            "----------------------------------------------------------------\n"
          ],
          "name": "stdout"
        }
      ]
    },
    {
      "cell_type": "code",
      "metadata": {
        "id": "AgyGiXxpD9Xe",
        "colab_type": "code",
        "colab": {}
      },
      "source": [
        "hidden_dim = 100\n",
        "\n",
        "class SimpleModel(nn.Module):\n",
        "\n",
        "    def __init__(self):\n",
        "        super().__init__()\n",
        "\n",
        "        self.rnn = nn.LSTM(low_dim, hidden_dim)\n",
        "        self.decoder = nn.Linear(hidden_dim, low_dim)\n",
        "\n",
        "    def forward(self, seq, hidden=None):\n",
        "        output, last_hidden = self.rnn(seq, hidden)\n",
        "        return self.decoder(output), last_hidden\n"
      ],
      "execution_count": 0,
      "outputs": []
    },
    {
      "cell_type": "code",
      "metadata": {
        "id": "IPCIOA7zXoWU",
        "colab_type": "code",
        "colab": {}
      },
      "source": [
        "model = SimpleModel().double().cuda()\n",
        "loss_func = nn.MSELoss()\n",
        "optimizer = torch.optim.Adam(model.parameters(), lr=1e-3)\n",
        "train = torch.from_numpy(history_low_dim).cuda()\n",
        "\n",
        "# Разбиваем последовательность на пары вход-выход\n",
        "def create_inout_sequences(input_data, in_size):\n",
        "    '''\n",
        "    input_data[i] - i-й элемент последовательности\n",
        "    in_size - длина входной последовательности\n",
        "    по in_size элементам мы будем предсказывать \n",
        "    следующий элемент\n",
        "    '''\n",
        "    inout_seq = []\n",
        "    seq_len = len(input_data)\n",
        "    for i in range(seq_len - in_size):\n",
        "        train_seq = input_data[i : i + in_size]\n",
        "        train_label = input_data[i + in_size : i + in_size + 1]\n",
        "        inout_seq.append((train_seq, train_label))\n",
        "    return inout_seq\n",
        "\t\n",
        "model.train()\n",
        "train_loss = []\n",
        "num_epochs = 10\n",
        "\n",
        "for epoch in tqdm(range(num_epochs)):\n",
        "    output, last_hidden = model(train[:-1].view(-1, 1, low_dim))\n",
        "    loss = loss_func(output.view(-1, low_dim), train[1:, :])\n",
        "    train_loss.append(loss.item())\n",
        "    optimizer.zero_grad()\n",
        "\n",
        "    loss.backward()\n",
        "\n",
        "    optimizer.step()\n",
        "\n",
        "\n",
        "    # model.eval()\n",
        "\n",
        "    # output, _ = model(val[:-1].view(-1, 1, 10), last_hidden)\n",
        "\n",
        "    # loss = loss_func(output.view(-1, 10), val[1:])\n",
        "    # val_loss.append(loss.item())\n",
        "\t\n",
        "in_size = 100\n",
        "\n",
        "train_inout_seq = create_inout_sequences(train, in_size)\n",
        "\n",
        "# model.train()\n",
        "# train_loss = []\n",
        "# num_epochs = 1000\n",
        "# for epoch in tqdm(range(num_epochs)):\n",
        "#     for seq, label in train_inout_seq:\n",
        "#       # Зануляем hidden_state\n",
        "#       hidden_state = (torch.zeros(1, 1, hidden_dim),\n",
        "#                         torch.zeros(1, 1, hidden_dim))\n",
        "#       # Вычисляем \n",
        "#       output, last_hidden = model(train[:-1].view(-1, 1, 10))\n",
        "#       loss = loss_func(output.view(-1, 10), train[1:, :])\n",
        "#       train_loss.append(loss.item())\n",
        "#       optimizer.zero_grad()\n",
        "\n",
        "#       loss.backward()\n",
        "\n",
        "#       optimizer.step()\n",
        "\n",
        "\n",
        "#     # model.eval()\n",
        "\n",
        "#     # output, _ = model(val[:-1].view(-1, 1, 10), last_hidden)\n",
        "\n",
        "#     # loss = loss_func(output.view(-1, 10), val[1:])\n",
        "#     # val_loss.append(loss.item())\n",
        "\n",
        "\n",
        "plt.semilogy(train_loss, label='train')\n",
        "# plt.plot(val_loss, label='Val')\n",
        "plt.title('Ошибка MSE')\n",
        "plt.legend()\n",
        "plt.show()\n",
        "\n",
        "\n",
        "model.eval()\n",
        "\n",
        "seq_len = 200\n",
        "\n",
        "predicted = np.zeros((batch - seq_len, low_dim))\n",
        "\n",
        "for i in range(batch - seq_len):\n",
        "    output, last_hidden = model(train[i : i + seq_len].view(-1, 1, low_dim))\n",
        "    \n",
        "    predicted[i, :] = output[-1, :, :].cpu().detach().numpy()\n",
        "output.shape\n",
        "\n",
        "# Теперь экстраполируем \n",
        "\n",
        "i = 0 # number of component\n",
        "plt.plot(history_low_dim[seq_len:, i], label = 'true' +  str(i+1) + '-component')\n",
        "plt.plot(predicted[:, i], 'k.', label = 'LSTM prediction')\n",
        "\n",
        "plt.legend()\n",
        "plt.show()\n",
        "\n",
        "model.eval()\n",
        "import copy\n",
        "seq_len = 100\n",
        "sequence = torch.from_numpy(history_low_dim).cuda()\n",
        "print(sequence.shape)\n",
        "# output, last_hidden = model(sequence[-batch:].view(-1, 1, low_dim))\n",
        "# TODO: как использовать hidden_state с предыдущих шагов?\n",
        "for i in tqdm(range(batch)):\n",
        "    # Предсказываем следующий элемент последовательности и hidden_state \n",
        "    output, last_hidden = model(sequence[-seq_len:].view(-1, 1, low_dim))\n",
        "    # Добавляем новый элемент в конец\n",
        "    sequence = torch.cat((sequence, output[-1]))\n",
        "print(output.shape)\n",
        "\n",
        "\n",
        "residual_lstm = []\n",
        "sequence_numpy = sequence.data.cpu().numpy()\n",
        "\n",
        "u = decode(sequence_numpy[:, :])\n",
        "u = u.reshape((-1, N+1, N+1))\n",
        "\n",
        "for i in tqdm(range(len(u))):\n",
        "    res = compute_residual(u[i, :, :], h, tau)\n",
        "    residual_lstm.append(res)\n",
        "\t\n",
        "\t\n",
        "plt.plot(residual_lstm)\n",
        "plt.show()\n",
        "plt.plot(residual_lstm[batch:])\n",
        "\n",
        "\n",
        "# val_results = output.view(-1, 10).cpu().detach().numpy()\n",
        "# reshaped_results = np.zeros((5000, (N + 1) * (N + 1)))\n",
        "\n",
        "# new_output = val[0].view(-1, 1, 10)\n",
        "# new_hidden = last_hidden\n",
        "\n",
        "# for i in range(5000):\n",
        "#     new_output, new_hidden = model(new_output, new_hidden)\n",
        "#     reshaped_results[i] = \\\n",
        "#         PCA_list[(1500 + i) // 500].inverse_transform(\n",
        "#             new_output.cpu().detach().numpy().reshape(1, -1)\n",
        "#             )[0]\n",
        "\n",
        "\n",
        "# reshaped_results = reshaped_results.reshape(-1, N + 1, N + 1)  \n",
        "\n",
        "\n",
        "def plot(index):\n",
        "    plt.figure(figsize=(16, 8))\n",
        "\n",
        "    plt.subplot(1, 2, 1)\n",
        "    plt.title('Предсказание LSTM')\n",
        "    sns.heatmap(reshaped_results[index])\n",
        "    tol = np.max(np.abs(reshaped_results[index] - reshaped_results[index + 1]))/\\\n",
        "            np.max(np.abs(reshaped_results[index + 1]))\n",
        "    print('Текущая невязка LSTM: ', tol)\n",
        "\n",
        "    plt.subplot(1, 2, 2)\n",
        "    plt.title('Истинная функция')\n",
        "    sns.heatmap(history[1500 + index])\n",
        "    plt.show()\n",
        "\t\n",
        "for i in range(0, 4999, 100):\n",
        "    plt.figure(figsize=(16, 8))\n",
        "\n",
        "    plt.subplot(1, 2, 1)\n",
        "    plt.title(f'Предсказание LSTM {i}')\n",
        "    sns.heatmap(reshaped_results[i])\n",
        "\n",
        "    plt.subplot(1, 2, 2)\n",
        "    plt.title(f'Истинная функция {i}')\n",
        "    sns.heatmap(history[1500 + i])\n",
        "    plt.savefig(\n",
        "        f'./step_{i}'\n",
        "        )\n",
        "    plt.close()\n",
        "\t\n",
        "tol_list = []\n",
        "\n",
        "for index in range(4999):\n",
        "    tol_list.append(\n",
        "        compute_residual(reshaped_results[index + 1],  h, tau)\n",
        "    )\n",
        "\t\n",
        "plt.figure(figsize=(8,8))\n",
        "plt.semilogy(np.arange(1500, 6500 - 1), tol_list)\n",
        "plt.title('Невязка')\n",
        "plt.xlabel('Итерация метода')\n",
        "plt.show()"
      ],
      "execution_count": 0,
      "outputs": []
    }
  ]
}