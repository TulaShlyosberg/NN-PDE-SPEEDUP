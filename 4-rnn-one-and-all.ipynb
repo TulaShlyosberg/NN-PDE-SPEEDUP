{
  "nbformat": 4,
  "nbformat_minor": 0,
  "metadata": {
    "colab": {
      "name": "Right_approach.ipynb",
      "provenance": [],
      "machine_shape": "hm"
    },
    "kernelspec": {
      "name": "python3",
      "display_name": "Python 3"
    },
    "accelerator": "GPU",
    "widgets": {
      "application/vnd.jupyter.widget-state+json": {
        "c5fc677837c24db29eb071a8a6b037b9": {
          "model_module": "@jupyter-widgets/controls",
          "model_name": "HBoxModel",
          "state": {
            "_view_name": "HBoxView",
            "_dom_classes": [],
            "_model_name": "HBoxModel",
            "_view_module": "@jupyter-widgets/controls",
            "_model_module_version": "1.5.0",
            "_view_count": null,
            "_view_module_version": "1.5.0",
            "box_style": "",
            "layout": "IPY_MODEL_8fbd6242f3e34a1f9bda1a6be0e33ff9",
            "_model_module": "@jupyter-widgets/controls",
            "children": [
              "IPY_MODEL_6fd9d077b0684e1cbca4a686fabe435e",
              "IPY_MODEL_e327a47557f047cbb644197ae40ac8be"
            ]
          }
        },
        "8fbd6242f3e34a1f9bda1a6be0e33ff9": {
          "model_module": "@jupyter-widgets/base",
          "model_name": "LayoutModel",
          "state": {
            "_view_name": "LayoutView",
            "grid_template_rows": null,
            "right": null,
            "justify_content": null,
            "_view_module": "@jupyter-widgets/base",
            "overflow": null,
            "_model_module_version": "1.2.0",
            "_view_count": null,
            "flex_flow": null,
            "width": null,
            "min_width": null,
            "border": null,
            "align_items": null,
            "bottom": null,
            "_model_module": "@jupyter-widgets/base",
            "top": null,
            "grid_column": null,
            "overflow_y": null,
            "overflow_x": null,
            "grid_auto_flow": null,
            "grid_area": null,
            "grid_template_columns": null,
            "flex": null,
            "_model_name": "LayoutModel",
            "justify_items": null,
            "grid_row": null,
            "max_height": null,
            "align_content": null,
            "visibility": null,
            "align_self": null,
            "height": null,
            "min_height": null,
            "padding": null,
            "grid_auto_rows": null,
            "grid_gap": null,
            "max_width": null,
            "order": null,
            "_view_module_version": "1.2.0",
            "grid_template_areas": null,
            "object_position": null,
            "object_fit": null,
            "grid_auto_columns": null,
            "margin": null,
            "display": null,
            "left": null
          }
        },
        "6fd9d077b0684e1cbca4a686fabe435e": {
          "model_module": "@jupyter-widgets/controls",
          "model_name": "IntProgressModel",
          "state": {
            "_view_name": "ProgressView",
            "style": "IPY_MODEL_6bbb3d147336432cb7ca91d08821d33e",
            "_dom_classes": [],
            "description": "100%",
            "_model_name": "IntProgressModel",
            "bar_style": "success",
            "max": 1,
            "_view_module": "@jupyter-widgets/controls",
            "_model_module_version": "1.5.0",
            "value": 1,
            "_view_count": null,
            "_view_module_version": "1.5.0",
            "orientation": "horizontal",
            "min": 0,
            "description_tooltip": null,
            "_model_module": "@jupyter-widgets/controls",
            "layout": "IPY_MODEL_124da78e8b894b6aa2624113e3f79d6b"
          }
        },
        "e327a47557f047cbb644197ae40ac8be": {
          "model_module": "@jupyter-widgets/controls",
          "model_name": "HTMLModel",
          "state": {
            "_view_name": "HTMLView",
            "style": "IPY_MODEL_04e09c486a1c44a48d7810888b06502c",
            "_dom_classes": [],
            "description": "",
            "_model_name": "HTMLModel",
            "placeholder": "​",
            "_view_module": "@jupyter-widgets/controls",
            "_model_module_version": "1.5.0",
            "value": " 1/1 [04:31&lt;00:00, 271.24s/it]",
            "_view_count": null,
            "_view_module_version": "1.5.0",
            "description_tooltip": null,
            "_model_module": "@jupyter-widgets/controls",
            "layout": "IPY_MODEL_b247d73ae0be4ebdb98cbab9f9716985"
          }
        },
        "6bbb3d147336432cb7ca91d08821d33e": {
          "model_module": "@jupyter-widgets/controls",
          "model_name": "ProgressStyleModel",
          "state": {
            "_view_name": "StyleView",
            "_model_name": "ProgressStyleModel",
            "description_width": "initial",
            "_view_module": "@jupyter-widgets/base",
            "_model_module_version": "1.5.0",
            "_view_count": null,
            "_view_module_version": "1.2.0",
            "bar_color": null,
            "_model_module": "@jupyter-widgets/controls"
          }
        },
        "124da78e8b894b6aa2624113e3f79d6b": {
          "model_module": "@jupyter-widgets/base",
          "model_name": "LayoutModel",
          "state": {
            "_view_name": "LayoutView",
            "grid_template_rows": null,
            "right": null,
            "justify_content": null,
            "_view_module": "@jupyter-widgets/base",
            "overflow": null,
            "_model_module_version": "1.2.0",
            "_view_count": null,
            "flex_flow": null,
            "width": null,
            "min_width": null,
            "border": null,
            "align_items": null,
            "bottom": null,
            "_model_module": "@jupyter-widgets/base",
            "top": null,
            "grid_column": null,
            "overflow_y": null,
            "overflow_x": null,
            "grid_auto_flow": null,
            "grid_area": null,
            "grid_template_columns": null,
            "flex": null,
            "_model_name": "LayoutModel",
            "justify_items": null,
            "grid_row": null,
            "max_height": null,
            "align_content": null,
            "visibility": null,
            "align_self": null,
            "height": null,
            "min_height": null,
            "padding": null,
            "grid_auto_rows": null,
            "grid_gap": null,
            "max_width": null,
            "order": null,
            "_view_module_version": "1.2.0",
            "grid_template_areas": null,
            "object_position": null,
            "object_fit": null,
            "grid_auto_columns": null,
            "margin": null,
            "display": null,
            "left": null
          }
        },
        "04e09c486a1c44a48d7810888b06502c": {
          "model_module": "@jupyter-widgets/controls",
          "model_name": "DescriptionStyleModel",
          "state": {
            "_view_name": "StyleView",
            "_model_name": "DescriptionStyleModel",
            "description_width": "",
            "_view_module": "@jupyter-widgets/base",
            "_model_module_version": "1.5.0",
            "_view_count": null,
            "_view_module_version": "1.2.0",
            "_model_module": "@jupyter-widgets/controls"
          }
        },
        "b247d73ae0be4ebdb98cbab9f9716985": {
          "model_module": "@jupyter-widgets/base",
          "model_name": "LayoutModel",
          "state": {
            "_view_name": "LayoutView",
            "grid_template_rows": null,
            "right": null,
            "justify_content": null,
            "_view_module": "@jupyter-widgets/base",
            "overflow": null,
            "_model_module_version": "1.2.0",
            "_view_count": null,
            "flex_flow": null,
            "width": null,
            "min_width": null,
            "border": null,
            "align_items": null,
            "bottom": null,
            "_model_module": "@jupyter-widgets/base",
            "top": null,
            "grid_column": null,
            "overflow_y": null,
            "overflow_x": null,
            "grid_auto_flow": null,
            "grid_area": null,
            "grid_template_columns": null,
            "flex": null,
            "_model_name": "LayoutModel",
            "justify_items": null,
            "grid_row": null,
            "max_height": null,
            "align_content": null,
            "visibility": null,
            "align_self": null,
            "height": null,
            "min_height": null,
            "padding": null,
            "grid_auto_rows": null,
            "grid_gap": null,
            "max_width": null,
            "order": null,
            "_view_module_version": "1.2.0",
            "grid_template_areas": null,
            "object_position": null,
            "object_fit": null,
            "grid_auto_columns": null,
            "margin": null,
            "display": null,
            "left": null
          }
        },
        "db2b5f0cf0b547e4a48cc4dec14a045b": {
          "model_module": "@jupyter-widgets/controls",
          "model_name": "HBoxModel",
          "state": {
            "_view_name": "HBoxView",
            "_dom_classes": [],
            "_model_name": "HBoxModel",
            "_view_module": "@jupyter-widgets/controls",
            "_model_module_version": "1.5.0",
            "_view_count": null,
            "_view_module_version": "1.5.0",
            "box_style": "",
            "layout": "IPY_MODEL_f043363fb6964e06ab16de1b8eba375b",
            "_model_module": "@jupyter-widgets/controls",
            "children": [
              "IPY_MODEL_542f7402e82742ab88a4aa7430253d17",
              "IPY_MODEL_4b3db74d70bb4f398683131e1f2c9471"
            ]
          }
        },
        "f043363fb6964e06ab16de1b8eba375b": {
          "model_module": "@jupyter-widgets/base",
          "model_name": "LayoutModel",
          "state": {
            "_view_name": "LayoutView",
            "grid_template_rows": null,
            "right": null,
            "justify_content": null,
            "_view_module": "@jupyter-widgets/base",
            "overflow": null,
            "_model_module_version": "1.2.0",
            "_view_count": null,
            "flex_flow": null,
            "width": null,
            "min_width": null,
            "border": null,
            "align_items": null,
            "bottom": null,
            "_model_module": "@jupyter-widgets/base",
            "top": null,
            "grid_column": null,
            "overflow_y": null,
            "overflow_x": null,
            "grid_auto_flow": null,
            "grid_area": null,
            "grid_template_columns": null,
            "flex": null,
            "_model_name": "LayoutModel",
            "justify_items": null,
            "grid_row": null,
            "max_height": null,
            "align_content": null,
            "visibility": null,
            "align_self": null,
            "height": null,
            "min_height": null,
            "padding": null,
            "grid_auto_rows": null,
            "grid_gap": null,
            "max_width": null,
            "order": null,
            "_view_module_version": "1.2.0",
            "grid_template_areas": null,
            "object_position": null,
            "object_fit": null,
            "grid_auto_columns": null,
            "margin": null,
            "display": null,
            "left": null
          }
        },
        "542f7402e82742ab88a4aa7430253d17": {
          "model_module": "@jupyter-widgets/controls",
          "model_name": "IntProgressModel",
          "state": {
            "_view_name": "ProgressView",
            "style": "IPY_MODEL_520620294d2445a0a1ca50bf556caa07",
            "_dom_classes": [],
            "description": "100%",
            "_model_name": "IntProgressModel",
            "bar_style": "success",
            "max": 10000,
            "_view_module": "@jupyter-widgets/controls",
            "_model_module_version": "1.5.0",
            "value": 10000,
            "_view_count": null,
            "_view_module_version": "1.5.0",
            "orientation": "horizontal",
            "min": 0,
            "description_tooltip": null,
            "_model_module": "@jupyter-widgets/controls",
            "layout": "IPY_MODEL_d22156a7c9cd42afaa3318418d6c7db9"
          }
        },
        "4b3db74d70bb4f398683131e1f2c9471": {
          "model_module": "@jupyter-widgets/controls",
          "model_name": "HTMLModel",
          "state": {
            "_view_name": "HTMLView",
            "style": "IPY_MODEL_706d77c8fefc486da16d0e0140bdcc99",
            "_dom_classes": [],
            "description": "",
            "_model_name": "HTMLModel",
            "placeholder": "​",
            "_view_module": "@jupyter-widgets/controls",
            "_model_module_version": "1.5.0",
            "value": " 10000/10000 [04:30&lt;00:00, 36.97it/s]",
            "_view_count": null,
            "_view_module_version": "1.5.0",
            "description_tooltip": null,
            "_model_module": "@jupyter-widgets/controls",
            "layout": "IPY_MODEL_866409e7a1404961baaf8524bdbd1f75"
          }
        },
        "520620294d2445a0a1ca50bf556caa07": {
          "model_module": "@jupyter-widgets/controls",
          "model_name": "ProgressStyleModel",
          "state": {
            "_view_name": "StyleView",
            "_model_name": "ProgressStyleModel",
            "description_width": "initial",
            "_view_module": "@jupyter-widgets/base",
            "_model_module_version": "1.5.0",
            "_view_count": null,
            "_view_module_version": "1.2.0",
            "bar_color": null,
            "_model_module": "@jupyter-widgets/controls"
          }
        },
        "d22156a7c9cd42afaa3318418d6c7db9": {
          "model_module": "@jupyter-widgets/base",
          "model_name": "LayoutModel",
          "state": {
            "_view_name": "LayoutView",
            "grid_template_rows": null,
            "right": null,
            "justify_content": null,
            "_view_module": "@jupyter-widgets/base",
            "overflow": null,
            "_model_module_version": "1.2.0",
            "_view_count": null,
            "flex_flow": null,
            "width": null,
            "min_width": null,
            "border": null,
            "align_items": null,
            "bottom": null,
            "_model_module": "@jupyter-widgets/base",
            "top": null,
            "grid_column": null,
            "overflow_y": null,
            "overflow_x": null,
            "grid_auto_flow": null,
            "grid_area": null,
            "grid_template_columns": null,
            "flex": null,
            "_model_name": "LayoutModel",
            "justify_items": null,
            "grid_row": null,
            "max_height": null,
            "align_content": null,
            "visibility": null,
            "align_self": null,
            "height": null,
            "min_height": null,
            "padding": null,
            "grid_auto_rows": null,
            "grid_gap": null,
            "max_width": null,
            "order": null,
            "_view_module_version": "1.2.0",
            "grid_template_areas": null,
            "object_position": null,
            "object_fit": null,
            "grid_auto_columns": null,
            "margin": null,
            "display": null,
            "left": null
          }
        },
        "706d77c8fefc486da16d0e0140bdcc99": {
          "model_module": "@jupyter-widgets/controls",
          "model_name": "DescriptionStyleModel",
          "state": {
            "_view_name": "StyleView",
            "_model_name": "DescriptionStyleModel",
            "description_width": "",
            "_view_module": "@jupyter-widgets/base",
            "_model_module_version": "1.5.0",
            "_view_count": null,
            "_view_module_version": "1.2.0",
            "_model_module": "@jupyter-widgets/controls"
          }
        },
        "866409e7a1404961baaf8524bdbd1f75": {
          "model_module": "@jupyter-widgets/base",
          "model_name": "LayoutModel",
          "state": {
            "_view_name": "LayoutView",
            "grid_template_rows": null,
            "right": null,
            "justify_content": null,
            "_view_module": "@jupyter-widgets/base",
            "overflow": null,
            "_model_module_version": "1.2.0",
            "_view_count": null,
            "flex_flow": null,
            "width": null,
            "min_width": null,
            "border": null,
            "align_items": null,
            "bottom": null,
            "_model_module": "@jupyter-widgets/base",
            "top": null,
            "grid_column": null,
            "overflow_y": null,
            "overflow_x": null,
            "grid_auto_flow": null,
            "grid_area": null,
            "grid_template_columns": null,
            "flex": null,
            "_model_name": "LayoutModel",
            "justify_items": null,
            "grid_row": null,
            "max_height": null,
            "align_content": null,
            "visibility": null,
            "align_self": null,
            "height": null,
            "min_height": null,
            "padding": null,
            "grid_auto_rows": null,
            "grid_gap": null,
            "max_width": null,
            "order": null,
            "_view_module_version": "1.2.0",
            "grid_template_areas": null,
            "object_position": null,
            "object_fit": null,
            "grid_auto_columns": null,
            "margin": null,
            "display": null,
            "left": null
          }
        },
        "57954d106f794b37b84a7ffb866cb3ae": {
          "model_module": "@jupyter-widgets/controls",
          "model_name": "HBoxModel",
          "state": {
            "_view_name": "HBoxView",
            "_dom_classes": [],
            "_model_name": "HBoxModel",
            "_view_module": "@jupyter-widgets/controls",
            "_model_module_version": "1.5.0",
            "_view_count": null,
            "_view_module_version": "1.5.0",
            "box_style": "",
            "layout": "IPY_MODEL_aa8270c265a6462da4282e14342a0def",
            "_model_module": "@jupyter-widgets/controls",
            "children": [
              "IPY_MODEL_9061d865dd5e4762ad7ef55301114eb1",
              "IPY_MODEL_3350d1da632e407cb6db6393cf11c84a"
            ]
          }
        },
        "aa8270c265a6462da4282e14342a0def": {
          "model_module": "@jupyter-widgets/base",
          "model_name": "LayoutModel",
          "state": {
            "_view_name": "LayoutView",
            "grid_template_rows": null,
            "right": null,
            "justify_content": null,
            "_view_module": "@jupyter-widgets/base",
            "overflow": null,
            "_model_module_version": "1.2.0",
            "_view_count": null,
            "flex_flow": null,
            "width": null,
            "min_width": null,
            "border": null,
            "align_items": null,
            "bottom": null,
            "_model_module": "@jupyter-widgets/base",
            "top": null,
            "grid_column": null,
            "overflow_y": null,
            "overflow_x": null,
            "grid_auto_flow": null,
            "grid_area": null,
            "grid_template_columns": null,
            "flex": null,
            "_model_name": "LayoutModel",
            "justify_items": null,
            "grid_row": null,
            "max_height": null,
            "align_content": null,
            "visibility": null,
            "align_self": null,
            "height": null,
            "min_height": null,
            "padding": null,
            "grid_auto_rows": null,
            "grid_gap": null,
            "max_width": null,
            "order": null,
            "_view_module_version": "1.2.0",
            "grid_template_areas": null,
            "object_position": null,
            "object_fit": null,
            "grid_auto_columns": null,
            "margin": null,
            "display": null,
            "left": null
          }
        },
        "9061d865dd5e4762ad7ef55301114eb1": {
          "model_module": "@jupyter-widgets/controls",
          "model_name": "IntProgressModel",
          "state": {
            "_view_name": "ProgressView",
            "style": "IPY_MODEL_c9855aa40b5e40ccb9015d600b56449b",
            "_dom_classes": [],
            "description": "100%",
            "_model_name": "IntProgressModel",
            "bar_style": "success",
            "max": 1000,
            "_view_module": "@jupyter-widgets/controls",
            "_model_module_version": "1.5.0",
            "value": 1000,
            "_view_count": null,
            "_view_module_version": "1.5.0",
            "orientation": "horizontal",
            "min": 0,
            "description_tooltip": null,
            "_model_module": "@jupyter-widgets/controls",
            "layout": "IPY_MODEL_55f6a9dfd6db42f5b31dd37cb812b7c0"
          }
        },
        "3350d1da632e407cb6db6393cf11c84a": {
          "model_module": "@jupyter-widgets/controls",
          "model_name": "HTMLModel",
          "state": {
            "_view_name": "HTMLView",
            "style": "IPY_MODEL_7277779f66cf4c6ca8caf954357d65c4",
            "_dom_classes": [],
            "description": "",
            "_model_name": "HTMLModel",
            "placeholder": "​",
            "_view_module": "@jupyter-widgets/controls",
            "_model_module_version": "1.5.0",
            "value": " 1000/1000 [07:51&lt;00:00,  2.12it/s]",
            "_view_count": null,
            "_view_module_version": "1.5.0",
            "description_tooltip": null,
            "_model_module": "@jupyter-widgets/controls",
            "layout": "IPY_MODEL_a68a1d0d744e468dbf6f656d9e486066"
          }
        },
        "c9855aa40b5e40ccb9015d600b56449b": {
          "model_module": "@jupyter-widgets/controls",
          "model_name": "ProgressStyleModel",
          "state": {
            "_view_name": "StyleView",
            "_model_name": "ProgressStyleModel",
            "description_width": "initial",
            "_view_module": "@jupyter-widgets/base",
            "_model_module_version": "1.5.0",
            "_view_count": null,
            "_view_module_version": "1.2.0",
            "bar_color": null,
            "_model_module": "@jupyter-widgets/controls"
          }
        },
        "55f6a9dfd6db42f5b31dd37cb812b7c0": {
          "model_module": "@jupyter-widgets/base",
          "model_name": "LayoutModel",
          "state": {
            "_view_name": "LayoutView",
            "grid_template_rows": null,
            "right": null,
            "justify_content": null,
            "_view_module": "@jupyter-widgets/base",
            "overflow": null,
            "_model_module_version": "1.2.0",
            "_view_count": null,
            "flex_flow": null,
            "width": null,
            "min_width": null,
            "border": null,
            "align_items": null,
            "bottom": null,
            "_model_module": "@jupyter-widgets/base",
            "top": null,
            "grid_column": null,
            "overflow_y": null,
            "overflow_x": null,
            "grid_auto_flow": null,
            "grid_area": null,
            "grid_template_columns": null,
            "flex": null,
            "_model_name": "LayoutModel",
            "justify_items": null,
            "grid_row": null,
            "max_height": null,
            "align_content": null,
            "visibility": null,
            "align_self": null,
            "height": null,
            "min_height": null,
            "padding": null,
            "grid_auto_rows": null,
            "grid_gap": null,
            "max_width": null,
            "order": null,
            "_view_module_version": "1.2.0",
            "grid_template_areas": null,
            "object_position": null,
            "object_fit": null,
            "grid_auto_columns": null,
            "margin": null,
            "display": null,
            "left": null
          }
        },
        "7277779f66cf4c6ca8caf954357d65c4": {
          "model_module": "@jupyter-widgets/controls",
          "model_name": "DescriptionStyleModel",
          "state": {
            "_view_name": "StyleView",
            "_model_name": "DescriptionStyleModel",
            "description_width": "",
            "_view_module": "@jupyter-widgets/base",
            "_model_module_version": "1.5.0",
            "_view_count": null,
            "_view_module_version": "1.2.0",
            "_model_module": "@jupyter-widgets/controls"
          }
        },
        "a68a1d0d744e468dbf6f656d9e486066": {
          "model_module": "@jupyter-widgets/base",
          "model_name": "LayoutModel",
          "state": {
            "_view_name": "LayoutView",
            "grid_template_rows": null,
            "right": null,
            "justify_content": null,
            "_view_module": "@jupyter-widgets/base",
            "overflow": null,
            "_model_module_version": "1.2.0",
            "_view_count": null,
            "flex_flow": null,
            "width": null,
            "min_width": null,
            "border": null,
            "align_items": null,
            "bottom": null,
            "_model_module": "@jupyter-widgets/base",
            "top": null,
            "grid_column": null,
            "overflow_y": null,
            "overflow_x": null,
            "grid_auto_flow": null,
            "grid_area": null,
            "grid_template_columns": null,
            "flex": null,
            "_model_name": "LayoutModel",
            "justify_items": null,
            "grid_row": null,
            "max_height": null,
            "align_content": null,
            "visibility": null,
            "align_self": null,
            "height": null,
            "min_height": null,
            "padding": null,
            "grid_auto_rows": null,
            "grid_gap": null,
            "max_width": null,
            "order": null,
            "_view_module_version": "1.2.0",
            "grid_template_areas": null,
            "object_position": null,
            "object_fit": null,
            "grid_auto_columns": null,
            "margin": null,
            "display": null,
            "left": null
          }
        },
        "c0149718c7f242179f166de7d4ada55f": {
          "model_module": "@jupyter-widgets/controls",
          "model_name": "HBoxModel",
          "state": {
            "_view_name": "HBoxView",
            "_dom_classes": [],
            "_model_name": "HBoxModel",
            "_view_module": "@jupyter-widgets/controls",
            "_model_module_version": "1.5.0",
            "_view_count": null,
            "_view_module_version": "1.5.0",
            "box_style": "",
            "layout": "IPY_MODEL_c55b10719b3f466387fb2f5d69675f12",
            "_model_module": "@jupyter-widgets/controls",
            "children": [
              "IPY_MODEL_d626318cd56446c4b83f7c0121f68ab7",
              "IPY_MODEL_bcce500ba81d4cc08c09bf520a97bc64"
            ]
          }
        },
        "c55b10719b3f466387fb2f5d69675f12": {
          "model_module": "@jupyter-widgets/base",
          "model_name": "LayoutModel",
          "state": {
            "_view_name": "LayoutView",
            "grid_template_rows": null,
            "right": null,
            "justify_content": null,
            "_view_module": "@jupyter-widgets/base",
            "overflow": null,
            "_model_module_version": "1.2.0",
            "_view_count": null,
            "flex_flow": null,
            "width": null,
            "min_width": null,
            "border": null,
            "align_items": null,
            "bottom": null,
            "_model_module": "@jupyter-widgets/base",
            "top": null,
            "grid_column": null,
            "overflow_y": null,
            "overflow_x": null,
            "grid_auto_flow": null,
            "grid_area": null,
            "grid_template_columns": null,
            "flex": null,
            "_model_name": "LayoutModel",
            "justify_items": null,
            "grid_row": null,
            "max_height": null,
            "align_content": null,
            "visibility": null,
            "align_self": null,
            "height": null,
            "min_height": null,
            "padding": null,
            "grid_auto_rows": null,
            "grid_gap": null,
            "max_width": null,
            "order": null,
            "_view_module_version": "1.2.0",
            "grid_template_areas": null,
            "object_position": null,
            "object_fit": null,
            "grid_auto_columns": null,
            "margin": null,
            "display": null,
            "left": null
          }
        },
        "d626318cd56446c4b83f7c0121f68ab7": {
          "model_module": "@jupyter-widgets/controls",
          "model_name": "IntProgressModel",
          "state": {
            "_view_name": "ProgressView",
            "style": "IPY_MODEL_c7cd28d0634d443881be7c240124cffa",
            "_dom_classes": [],
            "description": "100%",
            "_model_name": "IntProgressModel",
            "bar_style": "success",
            "max": 100,
            "_view_module": "@jupyter-widgets/controls",
            "_model_module_version": "1.5.0",
            "value": 100,
            "_view_count": null,
            "_view_module_version": "1.5.0",
            "orientation": "horizontal",
            "min": 0,
            "description_tooltip": null,
            "_model_module": "@jupyter-widgets/controls",
            "layout": "IPY_MODEL_8d2acc4bc21245f1a8f300cc322d8924"
          }
        },
        "bcce500ba81d4cc08c09bf520a97bc64": {
          "model_module": "@jupyter-widgets/controls",
          "model_name": "HTMLModel",
          "state": {
            "_view_name": "HTMLView",
            "style": "IPY_MODEL_67e0eef0be6a4f938bfee00f4c54daca",
            "_dom_classes": [],
            "description": "",
            "_model_name": "HTMLModel",
            "placeholder": "​",
            "_view_module": "@jupyter-widgets/controls",
            "_model_module_version": "1.5.0",
            "value": " 100/100 [10:45&lt;00:00,  6.45s/it]",
            "_view_count": null,
            "_view_module_version": "1.5.0",
            "description_tooltip": null,
            "_model_module": "@jupyter-widgets/controls",
            "layout": "IPY_MODEL_9fcf252a7200435ba19e33ba9c941c69"
          }
        },
        "c7cd28d0634d443881be7c240124cffa": {
          "model_module": "@jupyter-widgets/controls",
          "model_name": "ProgressStyleModel",
          "state": {
            "_view_name": "StyleView",
            "_model_name": "ProgressStyleModel",
            "description_width": "initial",
            "_view_module": "@jupyter-widgets/base",
            "_model_module_version": "1.5.0",
            "_view_count": null,
            "_view_module_version": "1.2.0",
            "bar_color": null,
            "_model_module": "@jupyter-widgets/controls"
          }
        },
        "8d2acc4bc21245f1a8f300cc322d8924": {
          "model_module": "@jupyter-widgets/base",
          "model_name": "LayoutModel",
          "state": {
            "_view_name": "LayoutView",
            "grid_template_rows": null,
            "right": null,
            "justify_content": null,
            "_view_module": "@jupyter-widgets/base",
            "overflow": null,
            "_model_module_version": "1.2.0",
            "_view_count": null,
            "flex_flow": null,
            "width": null,
            "min_width": null,
            "border": null,
            "align_items": null,
            "bottom": null,
            "_model_module": "@jupyter-widgets/base",
            "top": null,
            "grid_column": null,
            "overflow_y": null,
            "overflow_x": null,
            "grid_auto_flow": null,
            "grid_area": null,
            "grid_template_columns": null,
            "flex": null,
            "_model_name": "LayoutModel",
            "justify_items": null,
            "grid_row": null,
            "max_height": null,
            "align_content": null,
            "visibility": null,
            "align_self": null,
            "height": null,
            "min_height": null,
            "padding": null,
            "grid_auto_rows": null,
            "grid_gap": null,
            "max_width": null,
            "order": null,
            "_view_module_version": "1.2.0",
            "grid_template_areas": null,
            "object_position": null,
            "object_fit": null,
            "grid_auto_columns": null,
            "margin": null,
            "display": null,
            "left": null
          }
        },
        "67e0eef0be6a4f938bfee00f4c54daca": {
          "model_module": "@jupyter-widgets/controls",
          "model_name": "DescriptionStyleModel",
          "state": {
            "_view_name": "StyleView",
            "_model_name": "DescriptionStyleModel",
            "description_width": "",
            "_view_module": "@jupyter-widgets/base",
            "_model_module_version": "1.5.0",
            "_view_count": null,
            "_view_module_version": "1.2.0",
            "_model_module": "@jupyter-widgets/controls"
          }
        },
        "9fcf252a7200435ba19e33ba9c941c69": {
          "model_module": "@jupyter-widgets/base",
          "model_name": "LayoutModel",
          "state": {
            "_view_name": "LayoutView",
            "grid_template_rows": null,
            "right": null,
            "justify_content": null,
            "_view_module": "@jupyter-widgets/base",
            "overflow": null,
            "_model_module_version": "1.2.0",
            "_view_count": null,
            "flex_flow": null,
            "width": null,
            "min_width": null,
            "border": null,
            "align_items": null,
            "bottom": null,
            "_model_module": "@jupyter-widgets/base",
            "top": null,
            "grid_column": null,
            "overflow_y": null,
            "overflow_x": null,
            "grid_auto_flow": null,
            "grid_area": null,
            "grid_template_columns": null,
            "flex": null,
            "_model_name": "LayoutModel",
            "justify_items": null,
            "grid_row": null,
            "max_height": null,
            "align_content": null,
            "visibility": null,
            "align_self": null,
            "height": null,
            "min_height": null,
            "padding": null,
            "grid_auto_rows": null,
            "grid_gap": null,
            "max_width": null,
            "order": null,
            "_view_module_version": "1.2.0",
            "grid_template_areas": null,
            "object_position": null,
            "object_fit": null,
            "grid_auto_columns": null,
            "margin": null,
            "display": null,
            "left": null
          }
        },
        "9c02e375282340be967a8e673582810d": {
          "model_module": "@jupyter-widgets/controls",
          "model_name": "VBoxModel",
          "state": {
            "_view_name": "VBoxView",
            "_dom_classes": [
              "widget-interact"
            ],
            "_model_name": "VBoxModel",
            "_view_module": "@jupyter-widgets/controls",
            "_model_module_version": "1.5.0",
            "_view_count": null,
            "_view_module_version": "1.5.0",
            "box_style": "",
            "layout": "IPY_MODEL_f71198f806a1451d8d0e5e5b2023623d",
            "_model_module": "@jupyter-widgets/controls",
            "children": [
              "IPY_MODEL_8a25aebf31404528b544bd2ab4511ee3",
              "IPY_MODEL_ca37cce595a64b598169f52b88c864bf"
            ]
          }
        },
        "f71198f806a1451d8d0e5e5b2023623d": {
          "model_module": "@jupyter-widgets/base",
          "model_name": "LayoutModel",
          "state": {
            "_view_name": "LayoutView",
            "grid_template_rows": null,
            "right": null,
            "justify_content": null,
            "_view_module": "@jupyter-widgets/base",
            "overflow": null,
            "_model_module_version": "1.2.0",
            "_view_count": null,
            "flex_flow": null,
            "width": null,
            "min_width": null,
            "border": null,
            "align_items": null,
            "bottom": null,
            "_model_module": "@jupyter-widgets/base",
            "top": null,
            "grid_column": null,
            "overflow_y": null,
            "overflow_x": null,
            "grid_auto_flow": null,
            "grid_area": null,
            "grid_template_columns": null,
            "flex": null,
            "_model_name": "LayoutModel",
            "justify_items": null,
            "grid_row": null,
            "max_height": null,
            "align_content": null,
            "visibility": null,
            "align_self": null,
            "height": null,
            "min_height": null,
            "padding": null,
            "grid_auto_rows": null,
            "grid_gap": null,
            "max_width": null,
            "order": null,
            "_view_module_version": "1.2.0",
            "grid_template_areas": null,
            "object_position": null,
            "object_fit": null,
            "grid_auto_columns": null,
            "margin": null,
            "display": null,
            "left": null
          }
        },
        "8a25aebf31404528b544bd2ab4511ee3": {
          "model_module": "@jupyter-widgets/controls",
          "model_name": "IntSliderModel",
          "state": {
            "_view_name": "IntSliderView",
            "style": "IPY_MODEL_edf6202470654ecc822e165d23895190",
            "_dom_classes": [],
            "description": "index",
            "step": 1,
            "_model_name": "IntSliderModel",
            "orientation": "horizontal",
            "max": 99,
            "_view_module": "@jupyter-widgets/controls",
            "_model_module_version": "1.5.0",
            "value": 21,
            "_view_count": null,
            "disabled": false,
            "_view_module_version": "1.5.0",
            "min": 0,
            "continuous_update": true,
            "readout_format": "d",
            "description_tooltip": null,
            "readout": true,
            "_model_module": "@jupyter-widgets/controls",
            "layout": "IPY_MODEL_309af177646c4d00a9f156b9fc327abf"
          }
        },
        "ca37cce595a64b598169f52b88c864bf": {
          "model_module": "@jupyter-widgets/output",
          "model_name": "OutputModel",
          "state": {
            "_view_name": "OutputView",
            "msg_id": "",
            "_dom_classes": [],
            "_model_name": "OutputModel",
            "outputs": [
              {
                "output_type": "stream",
                "metadata": {
                  "tags": []
                },
                "text": "Невязка: 0.7619416059093216\n",
                "stream": "stdout"
              },
              {
                "output_type": "display_data",
                "metadata": {
                  "tags": []
                },
                "image/png": "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\n",
                "text/plain": "<Figure size 1440x720 with 4 Axes>"
              }
            ],
            "_view_module": "@jupyter-widgets/output",
            "_model_module_version": "1.0.0",
            "_view_count": null,
            "_view_module_version": "1.0.0",
            "layout": "IPY_MODEL_907e2d70eeff42288cbba734217b401f",
            "_model_module": "@jupyter-widgets/output"
          }
        },
        "edf6202470654ecc822e165d23895190": {
          "model_module": "@jupyter-widgets/controls",
          "model_name": "SliderStyleModel",
          "state": {
            "_view_name": "StyleView",
            "handle_color": null,
            "_model_name": "SliderStyleModel",
            "description_width": "",
            "_view_module": "@jupyter-widgets/base",
            "_model_module_version": "1.5.0",
            "_view_count": null,
            "_view_module_version": "1.2.0",
            "_model_module": "@jupyter-widgets/controls"
          }
        },
        "309af177646c4d00a9f156b9fc327abf": {
          "model_module": "@jupyter-widgets/base",
          "model_name": "LayoutModel",
          "state": {
            "_view_name": "LayoutView",
            "grid_template_rows": null,
            "right": null,
            "justify_content": null,
            "_view_module": "@jupyter-widgets/base",
            "overflow": null,
            "_model_module_version": "1.2.0",
            "_view_count": null,
            "flex_flow": null,
            "width": null,
            "min_width": null,
            "border": null,
            "align_items": null,
            "bottom": null,
            "_model_module": "@jupyter-widgets/base",
            "top": null,
            "grid_column": null,
            "overflow_y": null,
            "overflow_x": null,
            "grid_auto_flow": null,
            "grid_area": null,
            "grid_template_columns": null,
            "flex": null,
            "_model_name": "LayoutModel",
            "justify_items": null,
            "grid_row": null,
            "max_height": null,
            "align_content": null,
            "visibility": null,
            "align_self": null,
            "height": null,
            "min_height": null,
            "padding": null,
            "grid_auto_rows": null,
            "grid_gap": null,
            "max_width": null,
            "order": null,
            "_view_module_version": "1.2.0",
            "grid_template_areas": null,
            "object_position": null,
            "object_fit": null,
            "grid_auto_columns": null,
            "margin": null,
            "display": null,
            "left": null
          }
        },
        "907e2d70eeff42288cbba734217b401f": {
          "model_module": "@jupyter-widgets/base",
          "model_name": "LayoutModel",
          "state": {
            "_view_name": "LayoutView",
            "grid_template_rows": null,
            "right": null,
            "justify_content": null,
            "_view_module": "@jupyter-widgets/base",
            "overflow": null,
            "_model_module_version": "1.2.0",
            "_view_count": null,
            "flex_flow": null,
            "width": null,
            "min_width": null,
            "border": null,
            "align_items": null,
            "bottom": null,
            "_model_module": "@jupyter-widgets/base",
            "top": null,
            "grid_column": null,
            "overflow_y": null,
            "overflow_x": null,
            "grid_auto_flow": null,
            "grid_area": null,
            "grid_template_columns": null,
            "flex": null,
            "_model_name": "LayoutModel",
            "justify_items": null,
            "grid_row": null,
            "max_height": null,
            "align_content": null,
            "visibility": null,
            "align_self": null,
            "height": null,
            "min_height": null,
            "padding": null,
            "grid_auto_rows": null,
            "grid_gap": null,
            "max_width": null,
            "order": null,
            "_view_module_version": "1.2.0",
            "grid_template_areas": null,
            "object_position": null,
            "object_fit": null,
            "grid_auto_columns": null,
            "margin": null,
            "display": null,
            "left": null
          }
        },
        "70ef905144e34f85af9054192c1cb0da": {
          "model_module": "@jupyter-widgets/controls",
          "model_name": "HBoxModel",
          "state": {
            "_view_name": "HBoxView",
            "_dom_classes": [],
            "_model_name": "HBoxModel",
            "_view_module": "@jupyter-widgets/controls",
            "_model_module_version": "1.5.0",
            "_view_count": null,
            "_view_module_version": "1.5.0",
            "box_style": "",
            "layout": "IPY_MODEL_5b60920707df40c2a2154366b46421e8",
            "_model_module": "@jupyter-widgets/controls",
            "children": [
              "IPY_MODEL_7e42970696204885b4b1bf18b3f08e2b",
              "IPY_MODEL_7c8aba1c6c744cc0bddba3143da807ce"
            ]
          }
        },
        "5b60920707df40c2a2154366b46421e8": {
          "model_module": "@jupyter-widgets/base",
          "model_name": "LayoutModel",
          "state": {
            "_view_name": "LayoutView",
            "grid_template_rows": null,
            "right": null,
            "justify_content": null,
            "_view_module": "@jupyter-widgets/base",
            "overflow": null,
            "_model_module_version": "1.2.0",
            "_view_count": null,
            "flex_flow": null,
            "width": null,
            "min_width": null,
            "border": null,
            "align_items": null,
            "bottom": null,
            "_model_module": "@jupyter-widgets/base",
            "top": null,
            "grid_column": null,
            "overflow_y": null,
            "overflow_x": null,
            "grid_auto_flow": null,
            "grid_area": null,
            "grid_template_columns": null,
            "flex": null,
            "_model_name": "LayoutModel",
            "justify_items": null,
            "grid_row": null,
            "max_height": null,
            "align_content": null,
            "visibility": null,
            "align_self": null,
            "height": null,
            "min_height": null,
            "padding": null,
            "grid_auto_rows": null,
            "grid_gap": null,
            "max_width": null,
            "order": null,
            "_view_module_version": "1.2.0",
            "grid_template_areas": null,
            "object_position": null,
            "object_fit": null,
            "grid_auto_columns": null,
            "margin": null,
            "display": null,
            "left": null
          }
        },
        "7e42970696204885b4b1bf18b3f08e2b": {
          "model_module": "@jupyter-widgets/controls",
          "model_name": "IntProgressModel",
          "state": {
            "_view_name": "ProgressView",
            "style": "IPY_MODEL_012d774a7b7c42b2afcb01471634bbf0",
            "_dom_classes": [],
            "description": "  0%",
            "_model_name": "IntProgressModel",
            "bar_style": "",
            "max": 1,
            "_view_module": "@jupyter-widgets/controls",
            "_model_module_version": "1.5.0",
            "value": 0,
            "_view_count": null,
            "_view_module_version": "1.5.0",
            "orientation": "horizontal",
            "min": 0,
            "description_tooltip": null,
            "_model_module": "@jupyter-widgets/controls",
            "layout": "IPY_MODEL_1f74a906c9cb49309acbc5ddb4dd1fa3"
          }
        },
        "7c8aba1c6c744cc0bddba3143da807ce": {
          "model_module": "@jupyter-widgets/controls",
          "model_name": "HTMLModel",
          "state": {
            "_view_name": "HTMLView",
            "style": "IPY_MODEL_eb475225866a41a3ba8a99b392e6dff7",
            "_dom_classes": [],
            "description": "",
            "_model_name": "HTMLModel",
            "placeholder": "​",
            "_view_module": "@jupyter-widgets/controls",
            "_model_module_version": "1.5.0",
            "value": " 0/1 [00:00&lt;?, ?it/s]",
            "_view_count": null,
            "_view_module_version": "1.5.0",
            "description_tooltip": null,
            "_model_module": "@jupyter-widgets/controls",
            "layout": "IPY_MODEL_51718ba5a60b43fbbf0faa402593d57e"
          }
        },
        "012d774a7b7c42b2afcb01471634bbf0": {
          "model_module": "@jupyter-widgets/controls",
          "model_name": "ProgressStyleModel",
          "state": {
            "_view_name": "StyleView",
            "_model_name": "ProgressStyleModel",
            "description_width": "initial",
            "_view_module": "@jupyter-widgets/base",
            "_model_module_version": "1.5.0",
            "_view_count": null,
            "_view_module_version": "1.2.0",
            "bar_color": null,
            "_model_module": "@jupyter-widgets/controls"
          }
        },
        "1f74a906c9cb49309acbc5ddb4dd1fa3": {
          "model_module": "@jupyter-widgets/base",
          "model_name": "LayoutModel",
          "state": {
            "_view_name": "LayoutView",
            "grid_template_rows": null,
            "right": null,
            "justify_content": null,
            "_view_module": "@jupyter-widgets/base",
            "overflow": null,
            "_model_module_version": "1.2.0",
            "_view_count": null,
            "flex_flow": null,
            "width": null,
            "min_width": null,
            "border": null,
            "align_items": null,
            "bottom": null,
            "_model_module": "@jupyter-widgets/base",
            "top": null,
            "grid_column": null,
            "overflow_y": null,
            "overflow_x": null,
            "grid_auto_flow": null,
            "grid_area": null,
            "grid_template_columns": null,
            "flex": null,
            "_model_name": "LayoutModel",
            "justify_items": null,
            "grid_row": null,
            "max_height": null,
            "align_content": null,
            "visibility": null,
            "align_self": null,
            "height": null,
            "min_height": null,
            "padding": null,
            "grid_auto_rows": null,
            "grid_gap": null,
            "max_width": null,
            "order": null,
            "_view_module_version": "1.2.0",
            "grid_template_areas": null,
            "object_position": null,
            "object_fit": null,
            "grid_auto_columns": null,
            "margin": null,
            "display": null,
            "left": null
          }
        },
        "eb475225866a41a3ba8a99b392e6dff7": {
          "model_module": "@jupyter-widgets/controls",
          "model_name": "DescriptionStyleModel",
          "state": {
            "_view_name": "StyleView",
            "_model_name": "DescriptionStyleModel",
            "description_width": "",
            "_view_module": "@jupyter-widgets/base",
            "_model_module_version": "1.5.0",
            "_view_count": null,
            "_view_module_version": "1.2.0",
            "_model_module": "@jupyter-widgets/controls"
          }
        },
        "51718ba5a60b43fbbf0faa402593d57e": {
          "model_module": "@jupyter-widgets/base",
          "model_name": "LayoutModel",
          "state": {
            "_view_name": "LayoutView",
            "grid_template_rows": null,
            "right": null,
            "justify_content": null,
            "_view_module": "@jupyter-widgets/base",
            "overflow": null,
            "_model_module_version": "1.2.0",
            "_view_count": null,
            "flex_flow": null,
            "width": null,
            "min_width": null,
            "border": null,
            "align_items": null,
            "bottom": null,
            "_model_module": "@jupyter-widgets/base",
            "top": null,
            "grid_column": null,
            "overflow_y": null,
            "overflow_x": null,
            "grid_auto_flow": null,
            "grid_area": null,
            "grid_template_columns": null,
            "flex": null,
            "_model_name": "LayoutModel",
            "justify_items": null,
            "grid_row": null,
            "max_height": null,
            "align_content": null,
            "visibility": null,
            "align_self": null,
            "height": null,
            "min_height": null,
            "padding": null,
            "grid_auto_rows": null,
            "grid_gap": null,
            "max_width": null,
            "order": null,
            "_view_module_version": "1.2.0",
            "grid_template_areas": null,
            "object_position": null,
            "object_fit": null,
            "grid_auto_columns": null,
            "margin": null,
            "display": null,
            "left": null
          }
        },
        "a2115a6a71684d6cadefa38f07c44ccf": {
          "model_module": "@jupyter-widgets/controls",
          "model_name": "HBoxModel",
          "state": {
            "_view_name": "HBoxView",
            "_dom_classes": [],
            "_model_name": "HBoxModel",
            "_view_module": "@jupyter-widgets/controls",
            "_model_module_version": "1.5.0",
            "_view_count": null,
            "_view_module_version": "1.5.0",
            "box_style": "",
            "layout": "IPY_MODEL_048176063e654732a380a102ebcb2728",
            "_model_module": "@jupyter-widgets/controls",
            "children": [
              "IPY_MODEL_00659dbf2e024c3ba69f76cedddfdbe4",
              "IPY_MODEL_9da8a7ca7a364250939ac0cb5e9d779c"
            ]
          }
        },
        "048176063e654732a380a102ebcb2728": {
          "model_module": "@jupyter-widgets/base",
          "model_name": "LayoutModel",
          "state": {
            "_view_name": "LayoutView",
            "grid_template_rows": null,
            "right": null,
            "justify_content": null,
            "_view_module": "@jupyter-widgets/base",
            "overflow": null,
            "_model_module_version": "1.2.0",
            "_view_count": null,
            "flex_flow": null,
            "width": null,
            "min_width": null,
            "border": null,
            "align_items": null,
            "bottom": null,
            "_model_module": "@jupyter-widgets/base",
            "top": null,
            "grid_column": null,
            "overflow_y": null,
            "overflow_x": null,
            "grid_auto_flow": null,
            "grid_area": null,
            "grid_template_columns": null,
            "flex": null,
            "_model_name": "LayoutModel",
            "justify_items": null,
            "grid_row": null,
            "max_height": null,
            "align_content": null,
            "visibility": null,
            "align_self": null,
            "height": null,
            "min_height": null,
            "padding": null,
            "grid_auto_rows": null,
            "grid_gap": null,
            "max_width": null,
            "order": null,
            "_view_module_version": "1.2.0",
            "grid_template_areas": null,
            "object_position": null,
            "object_fit": null,
            "grid_auto_columns": null,
            "margin": null,
            "display": null,
            "left": null
          }
        },
        "00659dbf2e024c3ba69f76cedddfdbe4": {
          "model_module": "@jupyter-widgets/controls",
          "model_name": "IntProgressModel",
          "state": {
            "_view_name": "ProgressView",
            "style": "IPY_MODEL_e9109984f12a4a699009058877b21ccc",
            "_dom_classes": [],
            "description": "  1%",
            "_model_name": "IntProgressModel",
            "bar_style": "",
            "max": 1800,
            "_view_module": "@jupyter-widgets/controls",
            "_model_module_version": "1.5.0",
            "value": 14,
            "_view_count": null,
            "_view_module_version": "1.5.0",
            "orientation": "horizontal",
            "min": 0,
            "description_tooltip": null,
            "_model_module": "@jupyter-widgets/controls",
            "layout": "IPY_MODEL_7e73d58555d94729bfc954a1d8cd7d9c"
          }
        },
        "9da8a7ca7a364250939ac0cb5e9d779c": {
          "model_module": "@jupyter-widgets/controls",
          "model_name": "HTMLModel",
          "state": {
            "_view_name": "HTMLView",
            "style": "IPY_MODEL_94b5423817ff4d0aa15ec8426e06097e",
            "_dom_classes": [],
            "description": "",
            "_model_name": "HTMLModel",
            "placeholder": "​",
            "_view_module": "@jupyter-widgets/controls",
            "_model_module_version": "1.5.0",
            "value": " 13/1800 [00:29&lt;1:06:38,  2.24s/it]",
            "_view_count": null,
            "_view_module_version": "1.5.0",
            "description_tooltip": null,
            "_model_module": "@jupyter-widgets/controls",
            "layout": "IPY_MODEL_1b8c16c285cf48799afd15e735292721"
          }
        },
        "e9109984f12a4a699009058877b21ccc": {
          "model_module": "@jupyter-widgets/controls",
          "model_name": "ProgressStyleModel",
          "state": {
            "_view_name": "StyleView",
            "_model_name": "ProgressStyleModel",
            "description_width": "initial",
            "_view_module": "@jupyter-widgets/base",
            "_model_module_version": "1.5.0",
            "_view_count": null,
            "_view_module_version": "1.2.0",
            "bar_color": null,
            "_model_module": "@jupyter-widgets/controls"
          }
        },
        "7e73d58555d94729bfc954a1d8cd7d9c": {
          "model_module": "@jupyter-widgets/base",
          "model_name": "LayoutModel",
          "state": {
            "_view_name": "LayoutView",
            "grid_template_rows": null,
            "right": null,
            "justify_content": null,
            "_view_module": "@jupyter-widgets/base",
            "overflow": null,
            "_model_module_version": "1.2.0",
            "_view_count": null,
            "flex_flow": null,
            "width": null,
            "min_width": null,
            "border": null,
            "align_items": null,
            "bottom": null,
            "_model_module": "@jupyter-widgets/base",
            "top": null,
            "grid_column": null,
            "overflow_y": null,
            "overflow_x": null,
            "grid_auto_flow": null,
            "grid_area": null,
            "grid_template_columns": null,
            "flex": null,
            "_model_name": "LayoutModel",
            "justify_items": null,
            "grid_row": null,
            "max_height": null,
            "align_content": null,
            "visibility": null,
            "align_self": null,
            "height": null,
            "min_height": null,
            "padding": null,
            "grid_auto_rows": null,
            "grid_gap": null,
            "max_width": null,
            "order": null,
            "_view_module_version": "1.2.0",
            "grid_template_areas": null,
            "object_position": null,
            "object_fit": null,
            "grid_auto_columns": null,
            "margin": null,
            "display": null,
            "left": null
          }
        },
        "94b5423817ff4d0aa15ec8426e06097e": {
          "model_module": "@jupyter-widgets/controls",
          "model_name": "DescriptionStyleModel",
          "state": {
            "_view_name": "StyleView",
            "_model_name": "DescriptionStyleModel",
            "description_width": "",
            "_view_module": "@jupyter-widgets/base",
            "_model_module_version": "1.5.0",
            "_view_count": null,
            "_view_module_version": "1.2.0",
            "_model_module": "@jupyter-widgets/controls"
          }
        },
        "1b8c16c285cf48799afd15e735292721": {
          "model_module": "@jupyter-widgets/base",
          "model_name": "LayoutModel",
          "state": {
            "_view_name": "LayoutView",
            "grid_template_rows": null,
            "right": null,
            "justify_content": null,
            "_view_module": "@jupyter-widgets/base",
            "overflow": null,
            "_model_module_version": "1.2.0",
            "_view_count": null,
            "flex_flow": null,
            "width": null,
            "min_width": null,
            "border": null,
            "align_items": null,
            "bottom": null,
            "_model_module": "@jupyter-widgets/base",
            "top": null,
            "grid_column": null,
            "overflow_y": null,
            "overflow_x": null,
            "grid_auto_flow": null,
            "grid_area": null,
            "grid_template_columns": null,
            "flex": null,
            "_model_name": "LayoutModel",
            "justify_items": null,
            "grid_row": null,
            "max_height": null,
            "align_content": null,
            "visibility": null,
            "align_self": null,
            "height": null,
            "min_height": null,
            "padding": null,
            "grid_auto_rows": null,
            "grid_gap": null,
            "max_width": null,
            "order": null,
            "_view_module_version": "1.2.0",
            "grid_template_areas": null,
            "object_position": null,
            "object_fit": null,
            "grid_auto_columns": null,
            "margin": null,
            "display": null,
            "left": null
          }
        },
        "841d7034680b4f38bfd993c4678bd555": {
          "model_module": "@jupyter-widgets/controls",
          "model_name": "HBoxModel",
          "state": {
            "_view_name": "HBoxView",
            "_dom_classes": [],
            "_model_name": "HBoxModel",
            "_view_module": "@jupyter-widgets/controls",
            "_model_module_version": "1.5.0",
            "_view_count": null,
            "_view_module_version": "1.5.0",
            "box_style": "",
            "layout": "IPY_MODEL_3a201e33718241469a8724efdcad3e3e",
            "_model_module": "@jupyter-widgets/controls",
            "children": [
              "IPY_MODEL_85e8d1f5a0bf4dc08ce82fb3ee4975bd",
              "IPY_MODEL_4966ee75674849f69bb573589fa8c717"
            ]
          }
        },
        "3a201e33718241469a8724efdcad3e3e": {
          "model_module": "@jupyter-widgets/base",
          "model_name": "LayoutModel",
          "state": {
            "_view_name": "LayoutView",
            "grid_template_rows": null,
            "right": null,
            "justify_content": null,
            "_view_module": "@jupyter-widgets/base",
            "overflow": null,
            "_model_module_version": "1.2.0",
            "_view_count": null,
            "flex_flow": null,
            "width": null,
            "min_width": null,
            "border": null,
            "align_items": null,
            "bottom": null,
            "_model_module": "@jupyter-widgets/base",
            "top": null,
            "grid_column": null,
            "overflow_y": null,
            "overflow_x": null,
            "grid_auto_flow": null,
            "grid_area": null,
            "grid_template_columns": null,
            "flex": null,
            "_model_name": "LayoutModel",
            "justify_items": null,
            "grid_row": null,
            "max_height": null,
            "align_content": null,
            "visibility": null,
            "align_self": null,
            "height": null,
            "min_height": null,
            "padding": null,
            "grid_auto_rows": null,
            "grid_gap": null,
            "max_width": null,
            "order": null,
            "_view_module_version": "1.2.0",
            "grid_template_areas": null,
            "object_position": null,
            "object_fit": null,
            "grid_auto_columns": null,
            "margin": null,
            "display": null,
            "left": null
          }
        },
        "85e8d1f5a0bf4dc08ce82fb3ee4975bd": {
          "model_module": "@jupyter-widgets/controls",
          "model_name": "IntProgressModel",
          "state": {
            "_view_name": "ProgressView",
            "style": "IPY_MODEL_165f6fa42c674c5aae86e1816a7fe0cd",
            "_dom_classes": [],
            "description": "100%",
            "_model_name": "IntProgressModel",
            "bar_style": "success",
            "max": 200,
            "_view_module": "@jupyter-widgets/controls",
            "_model_module_version": "1.5.0",
            "value": 200,
            "_view_count": null,
            "_view_module_version": "1.5.0",
            "orientation": "horizontal",
            "min": 0,
            "description_tooltip": null,
            "_model_module": "@jupyter-widgets/controls",
            "layout": "IPY_MODEL_8b591ea49e5a4d1bb95fa7eb70be8ef1"
          }
        },
        "4966ee75674849f69bb573589fa8c717": {
          "model_module": "@jupyter-widgets/controls",
          "model_name": "HTMLModel",
          "state": {
            "_view_name": "HTMLView",
            "style": "IPY_MODEL_52314f9468d246cb8885f4b075d77309",
            "_dom_classes": [],
            "description": "",
            "_model_name": "HTMLModel",
            "placeholder": "​",
            "_view_module": "@jupyter-widgets/controls",
            "_model_module_version": "1.5.0",
            "value": " 200/200 [09:34&lt;00:00,  2.87s/it]",
            "_view_count": null,
            "_view_module_version": "1.5.0",
            "description_tooltip": null,
            "_model_module": "@jupyter-widgets/controls",
            "layout": "IPY_MODEL_cd21303fdc0b4a828269b99efaa4cdbb"
          }
        },
        "165f6fa42c674c5aae86e1816a7fe0cd": {
          "model_module": "@jupyter-widgets/controls",
          "model_name": "ProgressStyleModel",
          "state": {
            "_view_name": "StyleView",
            "_model_name": "ProgressStyleModel",
            "description_width": "initial",
            "_view_module": "@jupyter-widgets/base",
            "_model_module_version": "1.5.0",
            "_view_count": null,
            "_view_module_version": "1.2.0",
            "bar_color": null,
            "_model_module": "@jupyter-widgets/controls"
          }
        },
        "8b591ea49e5a4d1bb95fa7eb70be8ef1": {
          "model_module": "@jupyter-widgets/base",
          "model_name": "LayoutModel",
          "state": {
            "_view_name": "LayoutView",
            "grid_template_rows": null,
            "right": null,
            "justify_content": null,
            "_view_module": "@jupyter-widgets/base",
            "overflow": null,
            "_model_module_version": "1.2.0",
            "_view_count": null,
            "flex_flow": null,
            "width": null,
            "min_width": null,
            "border": null,
            "align_items": null,
            "bottom": null,
            "_model_module": "@jupyter-widgets/base",
            "top": null,
            "grid_column": null,
            "overflow_y": null,
            "overflow_x": null,
            "grid_auto_flow": null,
            "grid_area": null,
            "grid_template_columns": null,
            "flex": null,
            "_model_name": "LayoutModel",
            "justify_items": null,
            "grid_row": null,
            "max_height": null,
            "align_content": null,
            "visibility": null,
            "align_self": null,
            "height": null,
            "min_height": null,
            "padding": null,
            "grid_auto_rows": null,
            "grid_gap": null,
            "max_width": null,
            "order": null,
            "_view_module_version": "1.2.0",
            "grid_template_areas": null,
            "object_position": null,
            "object_fit": null,
            "grid_auto_columns": null,
            "margin": null,
            "display": null,
            "left": null
          }
        },
        "52314f9468d246cb8885f4b075d77309": {
          "model_module": "@jupyter-widgets/controls",
          "model_name": "DescriptionStyleModel",
          "state": {
            "_view_name": "StyleView",
            "_model_name": "DescriptionStyleModel",
            "description_width": "",
            "_view_module": "@jupyter-widgets/base",
            "_model_module_version": "1.5.0",
            "_view_count": null,
            "_view_module_version": "1.2.0",
            "_model_module": "@jupyter-widgets/controls"
          }
        },
        "cd21303fdc0b4a828269b99efaa4cdbb": {
          "model_module": "@jupyter-widgets/base",
          "model_name": "LayoutModel",
          "state": {
            "_view_name": "LayoutView",
            "grid_template_rows": null,
            "right": null,
            "justify_content": null,
            "_view_module": "@jupyter-widgets/base",
            "overflow": null,
            "_model_module_version": "1.2.0",
            "_view_count": null,
            "flex_flow": null,
            "width": null,
            "min_width": null,
            "border": null,
            "align_items": null,
            "bottom": null,
            "_model_module": "@jupyter-widgets/base",
            "top": null,
            "grid_column": null,
            "overflow_y": null,
            "overflow_x": null,
            "grid_auto_flow": null,
            "grid_area": null,
            "grid_template_columns": null,
            "flex": null,
            "_model_name": "LayoutModel",
            "justify_items": null,
            "grid_row": null,
            "max_height": null,
            "align_content": null,
            "visibility": null,
            "align_self": null,
            "height": null,
            "min_height": null,
            "padding": null,
            "grid_auto_rows": null,
            "grid_gap": null,
            "max_width": null,
            "order": null,
            "_view_module_version": "1.2.0",
            "grid_template_areas": null,
            "object_position": null,
            "object_fit": null,
            "grid_auto_columns": null,
            "margin": null,
            "display": null,
            "left": null
          }
        }
      }
    }
  },
  "cells": [
    {
      "cell_type": "markdown",
      "metadata": {
        "id": "uGadNkkkAB_Y",
        "colab_type": "text"
      },
      "source": [
        "# Еще раз пытаемся построить RNN"
      ]
    },
    {
      "cell_type": "code",
      "metadata": {
        "id": "RLcPCF3vAHXO",
        "colab_type": "code",
        "outputId": "40a42332-aa83-4376-98ab-959a8594eaab",
        "colab": {
          "base_uri": "https://localhost:8080/",
          "height": 73
        }
      },
      "source": [
        "import pandas as pd\n",
        "import numpy as np\n",
        "import torch\n",
        "\n",
        "from torch.utils.data import DataLoader\n",
        "\n",
        "import torch.nn as nn\n",
        "import torch.nn.functional as F\n",
        "import torch.optim as optim\n",
        "\n",
        "from tqdm.notebook import tqdm\n",
        "from jacobi import DatasetGenerator\n",
        "\n",
        "from sklearn.decomposition import PCA\n",
        "\n",
        "import matplotlib.pyplot as plt\n",
        "import seaborn as sns\n",
        "\n",
        "sns.set(font_scale=1.4)"
      ],
      "execution_count": 2,
      "outputs": [
        {
          "output_type": "stream",
          "text": [
            "/usr/local/lib/python3.6/dist-packages/statsmodels/tools/_testing.py:19: FutureWarning: pandas.util.testing is deprecated. Use the functions in the public API at pandas.testing instead.\n",
            "  import pandas.util.testing as tm\n"
          ],
          "name": "stderr"
        }
      ]
    },
    {
      "cell_type": "markdown",
      "metadata": {
        "id": "-ntkfxUeAYcl",
        "colab_type": "text"
      },
      "source": [
        "## Сжатие с помощью PCA"
      ]
    },
    {
      "cell_type": "markdown",
      "metadata": {
        "id": "smwSp1eOj-CA",
        "colab_type": "text"
      },
      "source": [
        "Постановка эксепримента:\n",
        "\n",
        "Делаем следующее: снижаем размерность с помощью PCA. Дальше надеемся, что на первых 1000 шагах сеть выучит, какое преобразование связывает преобразование картинки на каждом шаге алгоритма Якоби в низкоразмерном прстранстве и сможет продолжить некоторое количество шагов вперед."
      ]
    },
    {
      "cell_type": "code",
      "metadata": {
        "id": "V6ltzK14C-YT",
        "colab_type": "code",
        "outputId": "5699f92b-08bd-4f3f-ae67-c304d4cb2f21",
        "colab": {
          "base_uri": "https://localhost:8080/",
          "height": 117,
          "referenced_widgets": [
            "c5fc677837c24db29eb071a8a6b037b9",
            "8fbd6242f3e34a1f9bda1a6be0e33ff9",
            "6fd9d077b0684e1cbca4a686fabe435e",
            "e327a47557f047cbb644197ae40ac8be",
            "6bbb3d147336432cb7ca91d08821d33e",
            "124da78e8b894b6aa2624113e3f79d6b",
            "04e09c486a1c44a48d7810888b06502c",
            "b247d73ae0be4ebdb98cbab9f9716985",
            "db2b5f0cf0b547e4a48cc4dec14a045b",
            "f043363fb6964e06ab16de1b8eba375b",
            "542f7402e82742ab88a4aa7430253d17",
            "4b3db74d70bb4f398683131e1f2c9471",
            "520620294d2445a0a1ca50bf556caa07",
            "d22156a7c9cd42afaa3318418d6c7db9",
            "706d77c8fefc486da16d0e0140bdcc99",
            "866409e7a1404961baaf8524bdbd1f75"
          ]
        }
      },
      "source": [
        "dg = DatasetGenerator(100)\n",
        "dg(num_sample=1, batch_size=1, print_every=1, save=True,\n",
        "   dir='/content/drive/My Drive/NN_PDE_SPEEDUP/Jacobi_data/full_history')"
      ],
      "execution_count": 0,
      "outputs": [
        {
          "output_type": "display_data",
          "data": {
            "application/vnd.jupyter.widget-view+json": {
              "model_id": "c5fc677837c24db29eb071a8a6b037b9",
              "version_minor": 0,
              "version_major": 2
            },
            "text/plain": [
              "HBox(children=(IntProgress(value=0, max=1), HTML(value='')))"
            ]
          },
          "metadata": {
            "tags": []
          }
        },
        {
          "output_type": "display_data",
          "data": {
            "application/vnd.jupyter.widget-view+json": {
              "model_id": "db2b5f0cf0b547e4a48cc4dec14a045b",
              "version_minor": 0,
              "version_major": 2
            },
            "text/plain": [
              "HBox(children=(IntProgress(value=0, max=10000), HTML(value='')))"
            ]
          },
          "metadata": {
            "tags": []
          }
        },
        {
          "output_type": "stream",
          "text": [
            "\n",
            "\n"
          ],
          "name": "stdout"
        }
      ]
    },
    {
      "cell_type": "code",
      "metadata": {
        "id": "Vp8CoHXqXSHw",
        "colab_type": "code",
        "colab": {}
      },
      "source": [
        "data = next(DatasetGenerator(100).load(\n",
        "    dir=\"/content/drive/My Drive/NN_PDE_SPEEDUP/Jacobi_data/full_history\",\n",
        "    load_history=True\n",
        "    ))"
      ],
      "execution_count": 0,
      "outputs": []
    },
    {
      "cell_type": "code",
      "metadata": {
        "id": "VIy34ssyCXjk",
        "colab_type": "code",
        "outputId": "64423ef5-06c5-463f-c02c-f3d5d184eaf8",
        "colab": {
          "base_uri": "https://localhost:8080/",
          "height": 35
        }
      },
      "source": [
        "data['history'].shape"
      ],
      "execution_count": 4,
      "outputs": [
        {
          "output_type": "execute_result",
          "data": {
            "text/plain": [
              "(1, 10000, 101, 101)"
            ]
          },
          "metadata": {
            "tags": []
          },
          "execution_count": 4
        }
      ]
    },
    {
      "cell_type": "code",
      "metadata": {
        "id": "QB1cV-zXEUy9",
        "colab_type": "code",
        "colab": {}
      },
      "source": [
        "decomposer = PCA(n_components=40)\n",
        "decomposer.fit(data['history'][0][:5000].reshape(-1, 101 * 101))\n",
        "X_transformed = decomposer.transform(data['history'].reshape(-1, 101 * 101))"
      ],
      "execution_count": 0,
      "outputs": []
    },
    {
      "cell_type": "markdown",
      "metadata": {
        "id": "Q85gCX7qFIEO",
        "colab_type": "text"
      },
      "source": [
        "Сравним качество восстановления:"
      ]
    },
    {
      "cell_type": "code",
      "metadata": {
        "id": "evSI0Y2pFRTo",
        "colab_type": "code",
        "outputId": "52266f50-4ed7-4f21-e3ad-7ea992353f1a",
        "colab": {
          "base_uri": "https://localhost:8080/",
          "height": 53
        }
      },
      "source": [
        "last_vector = X_transformed[-1:, :]\n",
        "last_image = decomposer.inverse_transform(last_vector).reshape(1, 101, 101)\n",
        "last_dump = data['history'][:, -1, :, :]\n",
        "print('Невязка:')\n",
        "np.max(np.abs(last_dump - last_image)) / np.max(np.abs(last_dump))"
      ],
      "execution_count": 6,
      "outputs": [
        {
          "output_type": "stream",
          "text": [
            "Невязка:\n"
          ],
          "name": "stdout"
        },
        {
          "output_type": "execute_result",
          "data": {
            "text/plain": [
              "1.819024891257824e-07"
            ]
          },
          "metadata": {
            "tags": []
          },
          "execution_count": 6
        }
      ]
    },
    {
      "cell_type": "markdown",
      "metadata": {
        "id": "9uG82jjXGaTp",
        "colab_type": "text"
      },
      "source": [
        "В рамках одной задачи допустимо сжатие до 40 компонент. Т.е. траектория метода Якоби лежит в малоразмерном пространстве (напомним, что сам вектор лежит в пространстве размерности 101 * 101)."
      ]
    },
    {
      "cell_type": "code",
      "metadata": {
        "id": "PguX7AcuGtEG",
        "colab_type": "code",
        "colab": {}
      },
      "source": [
        "history = data['history'][0].reshape(-1, 101 * 101)\n",
        "\n",
        "history_trsmd = decomposer.transform(history)\n",
        "\n",
        "train_index = 3000\n",
        "X_train = history_trsmd[:train_index].reshape(100, -1, 40)\n",
        "X_test = history_trsmd[train_index:].reshape(-1, 1, 40)"
      ],
      "execution_count": 0,
      "outputs": []
    },
    {
      "cell_type": "markdown",
      "metadata": {
        "id": "B9IJPdDkW6sw",
        "colab_type": "text"
      },
      "source": [
        "Построим модель:"
      ]
    },
    {
      "cell_type": "code",
      "metadata": {
        "id": "jc_5yswJJXws",
        "colab_type": "code",
        "colab": {}
      },
      "source": [
        "class OneStepModel(nn.Module):\n",
        "\n",
        "    def __init__(self, hidden_size):\n",
        "        super().__init__()\n",
        "        self.rnn = nn.LSTM(40, hidden_size)\n",
        "        self.decoder = nn.Linear(hidden_size, 40)\n",
        "\n",
        "    def forward(self, seq, hidden=None):\n",
        "        output, last_hidden = self.rnn(seq, hidden)\n",
        "        x = self.decoder(output)\n",
        "        return x, last_hidden"
      ],
      "execution_count": 0,
      "outputs": []
    },
    {
      "cell_type": "code",
      "metadata": {
        "id": "AzHGAF3qKUHe",
        "colab_type": "code",
        "colab": {}
      },
      "source": [
        "model = OneStepModel(500)\n",
        "model = model.float()"
      ],
      "execution_count": 0,
      "outputs": []
    },
    {
      "cell_type": "markdown",
      "metadata": {
        "id": "oY9EyEfwXK3t",
        "colab_type": "text"
      },
      "source": [
        "Зададим основные конфигурации обучения:"
      ]
    },
    {
      "cell_type": "code",
      "metadata": {
        "id": "WRFvHKrRLc1E",
        "colab_type": "code",
        "colab": {}
      },
      "source": [
        "num_epochs = 1000\n",
        "optimizer = optim.Adam(model.parameters(), lr=1e-3)\n",
        "criterion = nn.MSELoss()"
      ],
      "execution_count": 0,
      "outputs": []
    },
    {
      "cell_type": "markdown",
      "metadata": {
        "id": "M6t_aeiaXEi0",
        "colab_type": "text"
      },
      "source": [
        "Переведем данные в тензоры PyTorch."
      ]
    },
    {
      "cell_type": "code",
      "metadata": {
        "id": "97CPRzpKKkZk",
        "colab_type": "code",
        "colab": {}
      },
      "source": [
        "X_train = torch.from_numpy(X_train).float().transpose(1, 0)\n",
        "X_test = torch.from_numpy(X_test).float()\n",
        "loss_train = []\n",
        "loss_test = []\n"
      ],
      "execution_count": 0,
      "outputs": []
    },
    {
      "cell_type": "code",
      "metadata": {
        "id": "iJ1Tk296Nhku",
        "colab_type": "code",
        "outputId": "f57d6a26-0514-42b8-b911-d477295c949f",
        "colab": {
          "base_uri": "https://localhost:8080/",
          "height": 67,
          "referenced_widgets": [
            "57954d106f794b37b84a7ffb866cb3ae",
            "aa8270c265a6462da4282e14342a0def",
            "9061d865dd5e4762ad7ef55301114eb1",
            "3350d1da632e407cb6db6393cf11c84a",
            "c9855aa40b5e40ccb9015d600b56449b",
            "55f6a9dfd6db42f5b31dd37cb812b7c0",
            "7277779f66cf4c6ca8caf954357d65c4",
            "a68a1d0d744e468dbf6f656d9e486066"
          ]
        }
      },
      "source": [
        "model.cuda()\n",
        "X_train = X_train.cuda()\n",
        "X_test = X_test.cuda()\n",
        "\n",
        "for epoch in tqdm(range(num_epochs)):\n",
        "    model.train()\n",
        "    scores, last_hidden = model(X_train[:-1])\n",
        "    loss = criterion(scores, X_train[1:])\n",
        "    loss_train.append(loss.item())\n",
        "    \n",
        "    optimizer.zero_grad()\n",
        "    loss.backward()\n",
        "    optimizer.step()\n",
        "\n",
        "    model.eval()\n",
        "    test_scores, _ = model(X_test[:-1])\n",
        "    loss = criterion(test_scores, X_test[1:])\n",
        "    loss_test.append(loss.item())"
      ],
      "execution_count": 12,
      "outputs": [
        {
          "output_type": "display_data",
          "data": {
            "application/vnd.jupyter.widget-view+json": {
              "model_id": "57954d106f794b37b84a7ffb866cb3ae",
              "version_minor": 0,
              "version_major": 2
            },
            "text/plain": [
              "HBox(children=(IntProgress(value=0, max=1000), HTML(value='')))"
            ]
          },
          "metadata": {
            "tags": []
          }
        },
        {
          "output_type": "stream",
          "text": [
            "\n"
          ],
          "name": "stdout"
        }
      ]
    },
    {
      "cell_type": "markdown",
      "metadata": {
        "id": "zzZuepiwXVJt",
        "colab_type": "text"
      },
      "source": [
        "Псмотрим на графики обучения:"
      ]
    },
    {
      "cell_type": "code",
      "metadata": {
        "id": "j_XGBZwoTmXa",
        "colab_type": "code",
        "outputId": "af3164de-0ff9-40f7-83f9-18b8a3a9ae5c",
        "colab": {
          "base_uri": "https://localhost:8080/",
          "height": 315
        }
      },
      "source": [
        "plt.plot(loss_test, label='test')\n",
        "plt.plot(loss_train, label='train')\n",
        "plt.legend()\n",
        "plt.xlabel('Номер эпохи')\n",
        "plt.ylabel('Ошибка MSE')\n",
        "\n",
        "plt.title('Обучение')\n",
        "plt.show()"
      ],
      "execution_count": 13,
      "outputs": [
        {
          "output_type": "display_data",
          "data": {
            "image/png": "[encoded data removed]",
            "text/plain": [
              "<Figure size 432x288 with 1 Axes>"
            ]
          },
          "metadata": {
            "tags": []
          }
        }
      ]
    },
    {
      "cell_type": "markdown",
      "metadata": {
        "id": "a47t2Lj3XcsS",
        "colab_type": "text"
      },
      "source": [
        "Ниже прелдставлен график падения точности. В данном случае используется не совсем неувязка. Чтобы проверить качество работы алгоритма, рассчитывается слудедующая величина:\n",
        "\n",
        "$$\n",
        "LSTMtol = \\frac{\\max|LSTMstep[i] - StatSolution|}{\\max |StatSolution|},\n",
        "$$\n",
        "\n",
        "где $LSTMstep[i]$ --- предсказание LSTM на шаге $i$, $StatSolution$ --- стационарное решение задачи методом Якоби. Обычную невязку мы здесь не использовали т.к., как мы позже увидим, неподвижная точка нейронной сетки не является стационарным состоянием."
      ]
    },
    {
      "cell_type": "code",
      "metadata": {
        "id": "D7fg4ms1XeEs",
        "colab_type": "code",
        "outputId": "778ae3c8-9328-4e72-b628-7e9d7b6c7a3f",
        "colab": {
          "base_uri": "https://localhost:8080/",
          "height": 35
        }
      },
      "source": [
        "output, hidden = model(X_train.reshape(-1, 1, 40))\n",
        "lstm_tol = []\n",
        "jacobi_tol = []\n",
        "\n",
        "for i in range(train_index, 10000):\n",
        "    output, hidden = model(output[-1:], hidden)\n",
        "    current_output = output[0].cpu().detach().numpy()\n",
        "    current_output = decomposer.inverse_transform(current_output)\n",
        "\n",
        "    lstm_tol.append(\n",
        "        np.max(np.abs(current_output[0] - history[-1])) /\n",
        "        np.max(np.abs(history[-1]))\n",
        "    )\n",
        "\n",
        "    jacobi_tol.append(\n",
        "        np.max(np.abs(history[-1] - history[i])) /\n",
        "        np.max(np.abs(history[-1]))\n",
        "    )\n",
        "result = output[0].cpu().detach().numpy()\n",
        "result = decomposer.inverse_transform(result)\n",
        "result.shape"
      ],
      "execution_count": 20,
      "outputs": [
        {
          "output_type": "execute_result",
          "data": {
            "text/plain": [
              "(1, 10201)"
            ]
          },
          "metadata": {
            "tags": []
          },
          "execution_count": 20
        }
      ]
    },
    {
      "cell_type": "code",
      "metadata": {
        "id": "1UDJdpQYmhLf",
        "colab_type": "code",
        "outputId": "9568d3a6-2b90-4e88-a7ef-bf7209e82b03",
        "colab": {
          "base_uri": "https://localhost:8080/",
          "height": 532
        }
      },
      "source": [
        "plt.figure(figsize=(8, 8))\n",
        "\n",
        "plt.plot(np.arange(train_index, 10000), lstm_tol, label='LSTM + PCA')\n",
        "plt.plot(np.arange(train_index, 10000), jacobi_tol, label='Jacobi')\n",
        "\n",
        "plt.xlabel('Номер итерации')\n",
        "plt.ylabel('LSTM_tol')\n",
        "plt.title('Ошибка метода')\n",
        "plt.legend()\n",
        "plt.show()"
      ],
      "execution_count": 21,
      "outputs": [
        {
          "output_type": "display_data",
          "data": {
            "image/png": "[encoded data removed]",
            "text/plain": [
              "<Figure size 576x576 with 1 Axes>"
            ]
          },
          "metadata": {
            "tags": []
          }
        }
      ]
    },
    {
      "cell_type": "markdown",
      "metadata": {
        "id": "5GMNc6uisRKv",
        "colab_type": "text"
      },
      "source": [
        "Посмотрим на то, как метод продолжит траекторию до финальной точки:"
      ]
    },
    {
      "cell_type": "code",
      "metadata": {
        "id": "2yP44w7OYhC4",
        "colab_type": "code",
        "outputId": "43ce728c-a143-44b7-8086-820c7b7cc395",
        "colab": {
          "base_uri": "https://localhost:8080/",
          "height": 359
        }
      },
      "source": [
        "fig = plt.figure(figsize=(18, 6))\n",
        "\n",
        "plt.subplot(1, 3, 1)\n",
        "im = plt.imshow(history[-1].reshape(101, 101))\n",
        "plt.colorbar(im)\n",
        "plt.grid(False)\n",
        "plt.title('Изначальная функция')\n",
        "\n",
        "plt.subplot(1, 3, 2)\n",
        "im = plt.imshow(result.reshape(101, 101))\n",
        "plt.colorbar(im)\n",
        "plt.grid(False)\n",
        "plt.title('Предсказание LSTM')\n",
        "\n",
        "plt.subplot(1, 3, 3)\n",
        "im = plt.imshow(history[train_index].reshape(101, 101))\n",
        "plt.colorbar(im)\n",
        "plt.grid(False)\n",
        "plt.title('Стартовая точка')\n",
        "plt.show()"
      ],
      "execution_count": 18,
      "outputs": [
        {
          "output_type": "display_data",
          "data": {
            "image/png": "[encoded data removed]",
            "text/plain": [
              "<Figure size 1296x432 with 6 Axes>"
            ]
          },
          "metadata": {
            "tags": []
          }
        }
      ]
    },
    {
      "cell_type": "code",
      "metadata": {
        "id": "SmhfDASaZhSg",
        "colab_type": "code",
        "outputId": "6276bdb1-80c3-4665-f5d5-045263a95939",
        "colab": {
          "base_uri": "https://localhost:8080/",
          "height": 125
        }
      },
      "source": [
        "print(f'''LSTM_tol предсказания\n",
        "{np.max(np.abs(result - history[-1])) / np.max(np.abs(history[-1]))}\n",
        "''')\n",
        "\n",
        "print(f'''LSTM_tol стартовой точки:\n",
        "{np.max(np.abs(history[train_index] - history[-1])) / np.max(np.abs(history[-1]))}\n",
        "''')"
      ],
      "execution_count": 17,
      "outputs": [
        {
          "output_type": "stream",
          "text": [
            "LSTM_tol предсказания\n",
            "0.08487487240211437\n",
            "\n",
            "LSTM_tol стартовой точки:\n",
            "0.11205143666848642\n",
            "\n"
          ],
          "name": "stdout"
        }
      ]
    },
    {
      "cell_type": "markdown",
      "metadata": {
        "id": "hGY4XkKHvAyM",
        "colab_type": "text"
      },
      "source": [
        "Кртакий вывод: стоит заметить, что в конце концов сеть выходит на фиксированнную невязку, полсе чего ничего уже не делает. Т.е. в качестве имитации алгоритма Якоби она работает ограниченное количество времени. Возможно, что дело в очень малой выборке. Загрузим давно сгенерированный нами датасет."
      ]
    },
    {
      "cell_type": "markdown",
      "metadata": {
        "id": "AZGXeHUr7sJh",
        "colab_type": "text"
      },
      "source": [
        "## PCA + RNN"
      ]
    },
    {
      "cell_type": "markdown",
      "metadata": {
        "id": "ONJN9VxFenSK",
        "colab_type": "text"
      },
      "source": [
        "Загрузим данные:"
      ]
    },
    {
      "cell_type": "code",
      "metadata": {
        "id": "OSgXsk-S7vQL",
        "colab_type": "code",
        "colab": {}
      },
      "source": [
        "data = next(DatasetGenerator(-1).load(\n",
        "    dir=\"/content/drive/My Drive/NN_PDE_SPEEDUP/Jacobi_data\",\n",
        "    load_history=True\n",
        "))['history']"
      ],
      "execution_count": 0,
      "outputs": []
    },
    {
      "cell_type": "markdown",
      "metadata": {
        "id": "G9N1yq7TerTV",
        "colab_type": "text"
      },
      "source": [
        "Научимся сжимать данные:"
      ]
    },
    {
      "cell_type": "code",
      "metadata": {
        "id": "G8Dk5JIO9W2h",
        "colab_type": "code",
        "outputId": "ad6dd1da-34ed-4936-8267-27a28dad4f99",
        "colab": {
          "base_uri": "https://localhost:8080/",
          "height": 53
        }
      },
      "source": [
        "arxivizer = PCA(n_components=1000)\n",
        "train_data = data[:750]\n",
        "test_data = data[750:]\n",
        "\n",
        "arxivizer.fit(\n",
        "    data[:250].reshape(-1, 101 * 101)\n",
        ")"
      ],
      "execution_count": 0,
      "outputs": [
        {
          "output_type": "execute_result",
          "data": {
            "text/plain": [
              "PCA(copy=True, iterated_power='auto', n_components=1000, random_state=None,\n",
              "    svd_solver='auto', tol=0.0, whiten=False)"
            ]
          },
          "metadata": {
            "tags": []
          },
          "execution_count": 5
        }
      ]
    },
    {
      "cell_type": "markdown",
      "metadata": {
        "id": "fjwChhNAewLT",
        "colab_type": "text"
      },
      "source": [
        "Теперь подготовим выборку для нашего датасета:"
      ]
    },
    {
      "cell_type": "code",
      "metadata": {
        "id": "kcpHsDNaEhzl",
        "colab_type": "code",
        "colab": {}
      },
      "source": [
        "X_train = arxivizer.transform(\n",
        "    train_data.reshape(-1, 101 * 101)\n",
        ").reshape(750, 100, -1)\n",
        "\n",
        "X_test = arxivizer.transform(\n",
        "    test_data.reshape(-1, 101 * 101)\n",
        ").reshape(250, 100, -1)\n",
        "\n",
        "del data"
      ],
      "execution_count": 0,
      "outputs": []
    },
    {
      "cell_type": "markdown",
      "metadata": {
        "id": "BPc4aHYfe3Z6",
        "colab_type": "text"
      },
      "source": [
        "Предсатвим модель. Она сжиамет данные до 500, после обучается на LSTM."
      ]
    },
    {
      "cell_type": "code",
      "metadata": {
        "id": "ObKKxlTHEv4P",
        "colab_type": "code",
        "colab": {}
      },
      "source": [
        "class LSTM_step_predictor(nn.Module):\n",
        "\n",
        "    def __init__(self, hidden_size, reduce_to):\n",
        "        super().__init__()\n",
        "        self.encoder = nn.Linear(1000, reduce_to)\n",
        "        self.relu = nn.ReLU()\n",
        "        self.rnn = nn.LSTM(reduce_to, hidden_size, num_layers=3)\n",
        "        self.decoder_1 = nn.Linear(hidden_size, reduce_to)\n",
        "        self.decoder_2 = nn.Linear(reduce_to, 1000)\n",
        "\n",
        "    def forward(self, seq, hidden=None):\n",
        "        x = self.encoder(seq)\n",
        "        x = self.relu(x)\n",
        "        output, last_hidden = self.rnn(x, hidden)\n",
        "        x = self.decoder_1(output)\n",
        "        x = self.relu(x)\n",
        "        x = self.decoder_2(x)\n",
        "        return x, last_hidden"
      ],
      "execution_count": 0,
      "outputs": []
    },
    {
      "cell_type": "code",
      "metadata": {
        "id": "4MlHb5yEF76b",
        "colab_type": "code",
        "outputId": "b19f0741-2002-4fa4-d84a-d6b708b15598",
        "colab": {
          "base_uri": "https://localhost:8080/",
          "height": 143
        }
      },
      "source": [
        "model = LSTM_step_predictor(500, 500)\n",
        "model = model.float()\n",
        "model.cuda()"
      ],
      "execution_count": 0,
      "outputs": [
        {
          "output_type": "execute_result",
          "data": {
            "text/plain": [
              "LSTM_step_predictor(\n",
              "  (encoder): Linear(in_features=1000, out_features=100, bias=True)\n",
              "  (relu): ReLU()\n",
              "  (rnn): LSTM(100, 500, num_layers=3)\n",
              "  (decoder_1): Linear(in_features=500, out_features=100, bias=True)\n",
              "  (decoder_2): Linear(in_features=100, out_features=1000, bias=True)\n",
              ")"
            ]
          },
          "metadata": {
            "tags": []
          },
          "execution_count": 25
        }
      ]
    },
    {
      "cell_type": "code",
      "metadata": {
        "id": "ixx-29mRHtV3",
        "colab_type": "code",
        "colab": {}
      },
      "source": [
        "test_data = torch.from_numpy(X_test).transpose(0, 1).cuda()"
      ],
      "execution_count": 0,
      "outputs": []
    },
    {
      "cell_type": "code",
      "metadata": {
        "id": "Hi1vblsuGR01",
        "colab_type": "code",
        "colab": {}
      },
      "source": [
        "data_loader = DataLoader(X_train, batch_size=50)\n",
        "num_epochs = 100\n",
        "criterion = nn.MSELoss()\n",
        "loss_test = []"
      ],
      "execution_count": 0,
      "outputs": []
    },
    {
      "cell_type": "code",
      "metadata": {
        "id": "Jkrlep_9HL3C",
        "colab_type": "code",
        "outputId": "f53cb410-535f-4277-e5e8-a8b1a0ba9b39",
        "colab": {
          "base_uri": "https://localhost:8080/",
          "height": 67,
          "referenced_widgets": [
            "c0149718c7f242179f166de7d4ada55f",
            "c55b10719b3f466387fb2f5d69675f12",
            "d626318cd56446c4b83f7c0121f68ab7",
            "bcce500ba81d4cc08c09bf520a97bc64",
            "c7cd28d0634d443881be7c240124cffa",
            "8d2acc4bc21245f1a8f300cc322d8924",
            "67e0eef0be6a4f938bfee00f4c54daca",
            "9fcf252a7200435ba19e33ba9c941c69"
          ]
        }
      },
      "source": [
        "optimizer = optim.Adam(model.parameters(), lr=1e-3)\n",
        "for epoch in tqdm(range(num_epochs)):\n",
        "    model.train()\n",
        "    for batch in data_loader:\n",
        "        batch = batch.transpose(0, 1)\n",
        "        batch = batch.float()\n",
        "        batch = batch.cuda()\n",
        "\n",
        "        scores, _ = model(batch[:-1])\n",
        "        loss = criterion(scores, batch[1:])\n",
        "        \n",
        "        optimizer.zero_grad()\n",
        "        loss.backward()\n",
        "        optimizer.step()\n",
        "    \n",
        "    model.eval()\n",
        "    scores, _ = model(test_data[:-1].float())\n",
        "    loss = criterion(scores, test_data[1:])\n",
        "    loss_test.append(np.log(loss.item()))\n"
      ],
      "execution_count": 0,
      "outputs": [
        {
          "output_type": "display_data",
          "data": {
            "application/vnd.jupyter.widget-view+json": {
              "model_id": "c0149718c7f242179f166de7d4ada55f",
              "version_minor": 0,
              "version_major": 2
            },
            "text/plain": [
              "HBox(children=(IntProgress(value=0), HTML(value='')))"
            ]
          },
          "metadata": {
            "tags": []
          }
        },
        {
          "output_type": "stream",
          "text": [
            "\n"
          ],
          "name": "stdout"
        }
      ]
    },
    {
      "cell_type": "code",
      "metadata": {
        "id": "IOwIZSmPHO_8",
        "colab_type": "code",
        "outputId": "d3fc59ff-ef00-4f30-ff6c-cef1ba684cb6",
        "colab": {
          "base_uri": "https://localhost:8080/",
          "height": 298
        }
      },
      "source": [
        "plt.plot(loss_test)\n",
        "plt.xlabel('Номер эпохи')\n",
        "plt.ylabel('Ошибка на тесте')\n",
        "plt.show()"
      ],
      "execution_count": 0,
      "outputs": [
        {
          "output_type": "display_data",
          "data": {
            "image/png": "[encoded data removed]",
            "text/plain": [
              "<Figure size 432x288 with 1 Axes>"
            ]
          },
          "metadata": {
            "tags": []
          }
        }
      ]
    },
    {
      "cell_type": "markdown",
      "metadata": {
        "id": "O9rF8hFTPcm4",
        "colab_type": "text"
      },
      "source": [
        "Заметим, что GRU дет чуть меньшую ошибку, чем LSTM, но очень незначительную. Посмотрим, как хорошо аппроксимирует происходящее сеть. Для этого рассмотрим эволюцию системы на произвольном тестовом решении."
      ]
    },
    {
      "cell_type": "code",
      "metadata": {
        "id": "sZwBaLSqQBVG",
        "colab_type": "code",
        "outputId": "179700ea-5761-46eb-bbb5-8c4f3433a4a3",
        "colab": {
          "base_uri": "https://localhost:8080/",
          "height": 35
        }
      },
      "source": [
        "test = next(DatasetGenerator(-1).load(\n",
        "    dir=\"/content/drive/My Drive/NN_PDE_SPEEDUP/Jacobi_data/test\",\n",
        "    load_history=True\n",
        "))['history']\n",
        "\n",
        "test.shape"
      ],
      "execution_count": 0,
      "outputs": [
        {
          "output_type": "execute_result",
          "data": {
            "text/plain": [
              "(1, 100, 101, 101)"
            ]
          },
          "metadata": {
            "tags": []
          },
          "execution_count": 13
        }
      ]
    },
    {
      "cell_type": "code",
      "metadata": {
        "id": "C7TbVya-QXiX",
        "colab_type": "code",
        "outputId": "fb8792d2-37ad-456e-ce97-51d2319ce39d",
        "colab": {
          "base_uri": "https://localhost:8080/",
          "height": 35
        }
      },
      "source": [
        "transformed_test = arxivizer.transform(test[0].reshape(-1, 101 * 101))\n",
        "transformed_test.shape"
      ],
      "execution_count": 0,
      "outputs": [
        {
          "output_type": "execute_result",
          "data": {
            "text/plain": [
              "(100, 1000)"
            ]
          },
          "metadata": {
            "tags": []
          },
          "execution_count": 14
        }
      ]
    },
    {
      "cell_type": "code",
      "metadata": {
        "id": "FTrtOFHCjI0L",
        "colab_type": "code",
        "outputId": "2333e1a5-0818-4c04-c87c-b14282277ab6",
        "colab": {
          "base_uri": "https://localhost:8080/",
          "height": 35
        }
      },
      "source": [
        "start_index = 1\n",
        "start_point = transformed_test[:start_index].reshape(start_index, 1, 1000)\n",
        "output, hidden = model(torch.from_numpy(start_point).float().cuda())\n",
        "answers = []\n",
        "for i in range(start_index, 100):\n",
        "    output, hidden = model(output[-1:], hidden)\n",
        "    answers.append(\n",
        "        arxivizer.inverse_transform(\n",
        "            output[-1].cpu().detach().numpy()\n",
        "            ).reshape(101, 101)\n",
        "    )\n",
        "len(answers)"
      ],
      "execution_count": 0,
      "outputs": [
        {
          "output_type": "execute_result",
          "data": {
            "text/plain": [
              "99"
            ]
          },
          "metadata": {
            "tags": []
          },
          "execution_count": 30
        }
      ]
    },
    {
      "cell_type": "code",
      "metadata": {
        "id": "EJ0g7Zigk_jh",
        "colab_type": "code",
        "colab": {}
      },
      "source": [
        "answers = list(test[0, :start_index]) + answers "
      ],
      "execution_count": 0,
      "outputs": []
    },
    {
      "cell_type": "code",
      "metadata": {
        "id": "4TuPm4MrkTnJ",
        "colab_type": "code",
        "colab": {}
      },
      "source": [
        "from ipywidgets import interact\n",
        "import ipywidgets as widgets"
      ],
      "execution_count": 0,
      "outputs": []
    },
    {
      "cell_type": "markdown",
      "metadata": {
        "id": "Y20B8lHdfTfp",
        "colab_type": "text"
      },
      "source": [
        "ОБозначенная тут невязка также в действительности является величиной LSTMtol из предыдущего пункта."
      ]
    },
    {
      "cell_type": "code",
      "metadata": {
        "id": "DQ4uDNPqkyQQ",
        "colab_type": "code",
        "colab": {}
      },
      "source": [
        "def plt_imshow(index):\n",
        "\n",
        "    print('Невязка:',\n",
        "        np.max(np.abs(test[0, -1] - answers[index]))/\n",
        "        np.max(np.abs(test[0, -1]))\n",
        "    )\n",
        "\n",
        "    plt.figure(figsize=(20, 10))\n",
        "    plt.subplot(1, 2, 1)\n",
        "    im = plt.imshow(test[0, index], vmin=-2, vmax=2)\n",
        "    plt.colorbar(im)\n",
        "    plt.grid(False)\n",
        "    plt.title(f'Изначальная функция {index}')\n",
        "\n",
        "    plt.subplot(1, 2, 2)\n",
        "    im = plt.imshow(answers[index],  vmin=-2, vmax=2)\n",
        "    plt.colorbar(im)\n",
        "    plt.grid(False)\n",
        "    plt.title(f'Предсказание LSTM {index}')\n",
        "    plt.show()"
      ],
      "execution_count": 0,
      "outputs": []
    },
    {
      "cell_type": "code",
      "metadata": {
        "id": "RaGSyBRElpdV",
        "colab_type": "code",
        "outputId": "9587eab3-712e-49ce-9802-95d9aa3ffee2",
        "colab": {
          "base_uri": "https://localhost:8080/",
          "height": 625,
          "referenced_widgets": [
            "9c02e375282340be967a8e673582810d",
            "f71198f806a1451d8d0e5e5b2023623d",
            "8a25aebf31404528b544bd2ab4511ee3",
            "ca37cce595a64b598169f52b88c864bf",
            "edf6202470654ecc822e165d23895190",
            "309af177646c4d00a9f156b9fc327abf",
            "907e2d70eeff42288cbba734217b401f"
          ]
        }
      },
      "source": [
        "interact(plt_imshow, index=(0, 99, 1));"
      ],
      "execution_count": 0,
      "outputs": [
        {
          "output_type": "display_data",
          "data": {
            "application/vnd.jupyter.widget-view+json": {
              "model_id": "9c02e375282340be967a8e673582810d",
              "version_minor": 0,
              "version_major": 2
            },
            "text/plain": [
              "interactive(children=(IntSlider(value=49, description='index', max=99), Output()), _dom_classes=('widget-inter…"
            ]
          },
          "metadata": {
            "tags": []
          }
        }
      ]
    },
    {
      "cell_type": "markdown",
      "metadata": {
        "id": "71YGnRG5nyeE",
        "colab_type": "text"
      },
      "source": [
        "Анимированный результат можно посмотреть в папке `img` на GitHub под названием `lstm_1.gif`."
      ]
    },
    {
      "cell_type": "markdown",
      "metadata": {
        "id": "2IiA0Vo6pe0Y",
        "colab_type": "text"
      },
      "source": [
        "## Автоэнкодер + RNN (Автоэнкодер построен неверно, его не получилось обучить)"
      ]
    },
    {
      "cell_type": "code",
      "metadata": {
        "id": "q4cSwYIppi9H",
        "colab_type": "code",
        "outputId": "e31b7e71-be84-4326-ec5d-f5fc37550328",
        "colab": {
          "base_uri": "https://localhost:8080/",
          "height": 35
        }
      },
      "source": [
        "data = next(DatasetGenerator(-1).load(\n",
        "    dir=\"/content/drive/My Drive/NN_PDE_SPEEDUP/Jacobi_data\",\n",
        "    load_history=True\n",
        "))['history']\n",
        "data.shape"
      ],
      "execution_count": 0,
      "outputs": [
        {
          "output_type": "execute_result",
          "data": {
            "text/plain": [
              "(1000, 100, 101, 101)"
            ]
          },
          "metadata": {
            "tags": []
          },
          "execution_count": 3
        }
      ]
    },
    {
      "cell_type": "code",
      "metadata": {
        "id": "b4mparqbp9hB",
        "colab_type": "code",
        "colab": {}
      },
      "source": [
        "class DenseLayer(nn.Module):\n",
        "\n",
        "    def __init__(self, in_channels):\n",
        "        super().__init__()\n",
        "     \n",
        "        self.conv_1_1 = nn.Conv2d(in_channels, 5, kernel_size=3, padding=1)\n",
        "        self.conv_2_1 = nn.Conv2d(in_channels, 5, kernel_size=5, padding=2)\n",
        "        self.conv_3_1 = nn.Conv2d(in_channels, 5, kernel_size=7, padding=3)\n",
        "        self.conv_4_1 = nn.Conv2d(in_channels, 5, kernel_size=9, padding=4)\n",
        "        self.batch_norm_1 = nn.BatchNorm2d(20)\n",
        "\n",
        "        self.conv_1_2 = nn.Conv2d(20, 5, kernel_size=3, padding=1)\n",
        "        self.conv_2_2 = nn.Conv2d(20, 5, kernel_size=5, padding=2)\n",
        "        self.conv_3_2 = nn.Conv2d(20, 5, kernel_size=7, padding=3)\n",
        "        self.conv_4_2 = nn.Conv2d(20, 5, kernel_size=9, padding=4)\n",
        "        self.batch_norm_2 = nn.BatchNorm2d(20)\n",
        "\n",
        "        self.conv_1_3 = nn.Conv2d(20, 5, kernel_size=3, padding=1)\n",
        "        self.conv_2_3 = nn.Conv2d(20, 5, kernel_size=5, padding=2)\n",
        "        self.conv_3_3 = nn.Conv2d(20, 5, kernel_size=7, padding=3)\n",
        "        self.conv_4_3 = nn.Conv2d(20, 5, kernel_size=9, padding=4)\n",
        "        self.batch_norm_3 = nn.BatchNorm2d(20)\n",
        "\n",
        "        self.conv_1_4 = nn.Conv2d(20, 5, kernel_size=3, padding=1)\n",
        "        self.conv_2_4 = nn.Conv2d(20, 5, kernel_size=5, padding=2)\n",
        "        self.conv_3_4 = nn.Conv2d(20, 5, kernel_size=7, padding=3)\n",
        "        self.conv_4_4 = nn.Conv2d(20, 5, kernel_size=9, padding=4)\n",
        "        self.batch_norm_4 = nn.BatchNorm2d(20)\n",
        "\n",
        "        self.max_pooling = nn.MaxPool2d(kernel_size=2)\n",
        "        self.relu = nn.ReLU()\n",
        "\n",
        "\n",
        "    def forward(self, x):\n",
        "\n",
        "        output_1 = torch.cat((\n",
        "            self.conv_1_1(x),\n",
        "            self.conv_2_1(x),\n",
        "            self.conv_3_1(x),\n",
        "            self.conv_4_1(x)\n",
        "        ), dim=1)\n",
        "\n",
        "        output_1 = self.batch_norm_1(output_1)\n",
        "        output_1 = self.relu(output_1)\n",
        "\n",
        "        output_2 = torch.cat((\n",
        "            self.conv_1_2(output_1 + x),\n",
        "            self.conv_2_2(output_1 + x),\n",
        "            self.conv_3_2(output_1 + x),\n",
        "            self.conv_4_2(output_1 + x)\n",
        "        ), dim=1)\n",
        "\n",
        "        output_2 = self.batch_norm_2(output_2)\n",
        "        output_2 = self.relu(output_2)\n",
        "\n",
        "        output_3 = torch.cat((\n",
        "            self.conv_1_3(output_2 + output_1 + x),\n",
        "            self.conv_2_3(output_2 + output_1 + x),\n",
        "            self.conv_3_3(output_2 + output_1 + x),\n",
        "            self.conv_4_3(output_2 + output_1 + x)\n",
        "        ), dim=1)\n",
        "\n",
        "        output_3 = self.batch_norm_3(output_3)\n",
        "        output_3 = self.relu(output_3)\n",
        "\n",
        "        output_4 = torch.cat((\n",
        "            self.conv_1_4(output_3 + output_2 + output_1 + x),\n",
        "            self.conv_2_4(output_3 + output_2 + output_1 + x),\n",
        "            self.conv_3_4(output_3 + output_2 + output_1 + x),\n",
        "            self.conv_4_4(output_3 + output_2 + output_1 + x)\n",
        "        ), dim=1)\n",
        "\n",
        "        output_4 = self.batch_norm_4(output_4)\n",
        "        output_4 = self.relu(output_4)\n",
        "\n",
        "        x = self.max_pooling(output_4)\n",
        "        return x\n",
        "\n",
        "class DenseLayerTranspose(nn.Module):\n",
        "\n",
        "    def __init__(self, pool, stride):\n",
        "        super().__init__()\n",
        "\n",
        "        self.convT_1_1 = nn.ConvTranspose2d(20, 5, \n",
        "                                            kernel_size=3,\n",
        "                                            padding=1)\n",
        "        self.convT_2_1 = nn.ConvTranspose2d(20, 5, \n",
        "                                            kernel_size=5,\n",
        "                                            padding=2)\n",
        "        self.convT_3_1 = nn.ConvTranspose2d(20, 5, \n",
        "                                            kernel_size=7,\n",
        "                                            padding=3)\n",
        "        self.convT_4_1 = nn.ConvTranspose2d(20, 5,\n",
        "                                            kernel_size=9,\n",
        "                                            padding=4)\n",
        "\n",
        "        self.batch_norm_1 = nn.BatchNorm2d(20)\n",
        "\n",
        "        self.convT_1_2 = nn.ConvTranspose2d(20, 5, \n",
        "                                            kernel_size=3,\n",
        "                                            padding=1)\n",
        "        self.convT_2_2 = nn.ConvTranspose2d(20, 5, \n",
        "                                            kernel_size=5,\n",
        "                                            padding=2)\n",
        "        self.convT_3_2 = nn.ConvTranspose2d(20, 5,\n",
        "                                            kernel_size=7,\n",
        "                                            padding=3)\n",
        "        self.convT_4_2 = nn.ConvTranspose2d(20, 5, \n",
        "                                            kernel_size=9,\n",
        "                                            padding=4)\n",
        "\n",
        "        self.batch_norm_2 = nn.BatchNorm2d(20)\n",
        "\n",
        "        self.convT_1_3 = nn.ConvTranspose2d(20, 5, \n",
        "                                            kernel_size=3,\n",
        "                                            padding=1)\n",
        "        self.convT_2_3 = nn.ConvTranspose2d(20, 5, \n",
        "                                            kernel_size=5,\n",
        "                                            padding=2)\n",
        "        self.convT_3_3 = nn.ConvTranspose2d(20, 5,\n",
        "                                            kernel_size=7,\n",
        "                                            padding=3)\n",
        "        self.convT_4_3 = nn.ConvTranspose2d(20, 5,\n",
        "                                            kernel_size=9,\n",
        "                                            padding=4)\n",
        "        \n",
        "        self.batch_norm_3 = nn.BatchNorm2d(20)\n",
        "        \n",
        "        self.convT_1_4 = nn.ConvTranspose2d(20, 5,\n",
        "                                            kernel_size=3,\n",
        "                                            padding=1,\n",
        "                                            stride=stride)\n",
        "        self.convT_2_4 = nn.ConvTranspose2d(20, 5,\n",
        "                                            kernel_size=5,\n",
        "                                            padding=2,\n",
        "                                            stride=stride)\n",
        "        self.convT_3_4 = nn.ConvTranspose2d(20, 5,\n",
        "                                            kernel_size=7,\n",
        "                                            padding=3,\n",
        "                                            stride=stride)\n",
        "        self.convT_4_4 = nn.ConvTranspose2d(20, 5,\n",
        "                                            kernel_size=9,\n",
        "                                            padding=4,\n",
        "                                            stride=stride)\n",
        "        \n",
        "        self.batch_norm_4 = nn.BatchNorm2d(20)\n",
        "\n",
        "        self.relu = nn.ReLU()\n",
        "        self.pool = pool\n",
        "\n",
        "    def forward(self, x):\n",
        "        \n",
        "        input_1 = torch.cat((\n",
        "            self.convT_1_1(x),\n",
        "            self.convT_2_1(x),\n",
        "            self.convT_3_1(x),\n",
        "            self.convT_4_1(x)\n",
        "        ), dim=1)\n",
        "\n",
        "        input_1 = self.batch_norm_1(input_1)\n",
        "        input_1 = self.relu(input_1)\n",
        "\n",
        "        input_2 = torch.cat((\n",
        "            self.convT_1_2(x + input_1),\n",
        "            self.convT_2_2(x + input_1),\n",
        "            self.convT_3_2(x + input_1),\n",
        "            self.convT_4_2(x + input_1)\n",
        "        ), dim=1)\n",
        "\n",
        "        input_2 = self.batch_norm_2(input_2)\n",
        "        input_2 = self.relu(input_2)\n",
        "\n",
        "        input_3 = torch.cat((\n",
        "            self.convT_1_3(x + input_1 + input_2),\n",
        "            self.convT_2_3(x + input_1 + input_2),\n",
        "            self.convT_3_3(x + input_1 + input_2),\n",
        "            self.convT_4_3(x + input_1 + input_2)\n",
        "        ), dim=1)\n",
        "\n",
        "        input_3 = self.batch_norm_3(input_3)\n",
        "        input_3 = self.relu(input_3)\n",
        "\n",
        "        input_4 = torch.cat((\n",
        "            self.convT_1_4(x + input_1 + input_2 + input_3),\n",
        "            self.convT_2_4(x + input_1 + input_2 + input_3),\n",
        "            self.convT_3_4(x + input_1 + input_2 + input_3),\n",
        "            self.convT_4_4(x + input_1 + input_2 + input_3)\n",
        "        ), dim=1)\n",
        "\n",
        "        input_4 = self.batch_norm_4(input_4)\n",
        "        input_4 = self.relu(input_4)\n",
        "        \n",
        "        return input_4\n",
        "\n"
      ],
      "execution_count": 0,
      "outputs": []
    },
    {
      "cell_type": "code",
      "metadata": {
        "id": "OPQzYwwHvJOl",
        "colab_type": "code",
        "colab": {}
      },
      "source": [
        "class Encoder(nn.Module):\n",
        "\n",
        "    def __init__(self):\n",
        "        super().__init__()\n",
        "        self.dense_1 = DenseLayer(1)\n",
        "        self.dense_2 = DenseLayer(20)\n",
        "        self.dense_3 = DenseLayer(20)\n",
        "        self.dense_4 = DenseLayer(20)\n",
        "\n",
        "    def forward(self, x):\n",
        "        x = self.dense_1(x)\n",
        "        x = self.dense_2(x)\n",
        "        x = self.dense_3(x)\n",
        "        x = self.dense_4(x)\n",
        "        return x\n",
        "\n",
        "class Decoder(nn.Module):\n",
        "\n",
        "    def __init__(self):\n",
        "        super().__init__()\n",
        "        self.denseT_1 = DenseLayerTranspose(False, 3)\n",
        "        self.denseT_2 = DenseLayerTranspose(False, 2)\n",
        "        self.denseT_3 = DenseLayerTranspose(False, 2)\n",
        "        self.denseT_4 = DenseLayerTranspose(True, 2)\n",
        "        self.conv_last = nn.Conv2d(20, 1, 21)\n",
        "\n",
        "    def forward(self, x):\n",
        "        x = self.denseT_1(x)\n",
        "        x = self.denseT_2(x)\n",
        "        x = self.denseT_3(x)\n",
        "        x = self.denseT_4(x)\n",
        "        x = self.conv_last(x)\n",
        "        return x\n",
        "        "
      ],
      "execution_count": 0,
      "outputs": []
    },
    {
      "cell_type": "markdown",
      "metadata": {
        "id": "KFsyULzxnZ8I",
        "colab_type": "text"
      },
      "source": [
        "Сначала проверим работу автоэнкодера:"
      ]
    },
    {
      "cell_type": "code",
      "metadata": {
        "id": "H51ePpJzjYLr",
        "colab_type": "code",
        "colab": {}
      },
      "source": [
        "class Autoencoder(nn.Module):\n",
        "\n",
        "    def __init__(self):\n",
        "        super().__init__()\n",
        "        self.encoder = Encoder()\n",
        "        self.decoder = Decoder()\n",
        "\n",
        "    def forward(self, x):\n",
        "        x = self.encoder(x)\n",
        "        x = self.decoder(x)\n",
        "        return x"
      ],
      "execution_count": 0,
      "outputs": []
    },
    {
      "cell_type": "code",
      "metadata": {
        "id": "mw7jEb_Bj1bz",
        "colab_type": "code",
        "outputId": "c45ac6a7-d427-4cae-a30e-1765a4d5bb39",
        "colab": {
          "base_uri": "https://localhost:8080/",
          "height": 1000
        }
      },
      "source": [
        "model = Autoencoder()\n",
        "model = model.double()\n",
        "model.cuda()"
      ],
      "execution_count": 0,
      "outputs": [
        {
          "output_type": "execute_result",
          "data": {
            "text/plain": [
              "Autoencoder(\n",
              "  (encoder): Encoder(\n",
              "    (dense_1): DenseLayer(\n",
              "      (conv_1_1): Conv2d(1, 5, kernel_size=(3, 3), stride=(1, 1), padding=(1, 1))\n",
              "      (conv_2_1): Conv2d(1, 5, kernel_size=(5, 5), stride=(1, 1), padding=(2, 2))\n",
              "      (conv_3_1): Conv2d(1, 5, kernel_size=(7, 7), stride=(1, 1), padding=(3, 3))\n",
              "      (conv_4_1): Conv2d(1, 5, kernel_size=(9, 9), stride=(1, 1), padding=(4, 4))\n",
              "      (batch_norm_1): BatchNorm2d(20, eps=1e-05, momentum=0.1, affine=True, track_running_stats=True)\n",
              "      (conv_1_2): Conv2d(20, 5, kernel_size=(3, 3), stride=(1, 1), padding=(1, 1))\n",
              "      (conv_2_2): Conv2d(20, 5, kernel_size=(5, 5), stride=(1, 1), padding=(2, 2))\n",
              "      (conv_3_2): Conv2d(20, 5, kernel_size=(7, 7), stride=(1, 1), padding=(3, 3))\n",
              "      (conv_4_2): Conv2d(20, 5, kernel_size=(9, 9), stride=(1, 1), padding=(4, 4))\n",
              "      (batch_norm_2): BatchNorm2d(20, eps=1e-05, momentum=0.1, affine=True, track_running_stats=True)\n",
              "      (conv_1_3): Conv2d(20, 5, kernel_size=(3, 3), stride=(1, 1), padding=(1, 1))\n",
              "      (conv_2_3): Conv2d(20, 5, kernel_size=(5, 5), stride=(1, 1), padding=(2, 2))\n",
              "      (conv_3_3): Conv2d(20, 5, kernel_size=(7, 7), stride=(1, 1), padding=(3, 3))\n",
              "      (conv_4_3): Conv2d(20, 5, kernel_size=(9, 9), stride=(1, 1), padding=(4, 4))\n",
              "      (batch_norm_3): BatchNorm2d(20, eps=1e-05, momentum=0.1, affine=True, track_running_stats=True)\n",
              "      (conv_1_4): Conv2d(20, 5, kernel_size=(3, 3), stride=(1, 1), padding=(1, 1))\n",
              "      (conv_2_4): Conv2d(20, 5, kernel_size=(5, 5), stride=(1, 1), padding=(2, 2))\n",
              "      (conv_3_4): Conv2d(20, 5, kernel_size=(7, 7), stride=(1, 1), padding=(3, 3))\n",
              "      (conv_4_4): Conv2d(20, 5, kernel_size=(9, 9), stride=(1, 1), padding=(4, 4))\n",
              "      (batch_norm_4): BatchNorm2d(20, eps=1e-05, momentum=0.1, affine=True, track_running_stats=True)\n",
              "      (max_pooling): MaxPool2d(kernel_size=2, stride=2, padding=0, dilation=1, ceil_mode=False)\n",
              "      (relu): ReLU()\n",
              "    )\n",
              "    (dense_2): DenseLayer(\n",
              "      (conv_1_1): Conv2d(20, 5, kernel_size=(3, 3), stride=(1, 1), padding=(1, 1))\n",
              "      (conv_2_1): Conv2d(20, 5, kernel_size=(5, 5), stride=(1, 1), padding=(2, 2))\n",
              "      (conv_3_1): Conv2d(20, 5, kernel_size=(7, 7), stride=(1, 1), padding=(3, 3))\n",
              "      (conv_4_1): Conv2d(20, 5, kernel_size=(9, 9), stride=(1, 1), padding=(4, 4))\n",
              "      (batch_norm_1): BatchNorm2d(20, eps=1e-05, momentum=0.1, affine=True, track_running_stats=True)\n",
              "      (conv_1_2): Conv2d(20, 5, kernel_size=(3, 3), stride=(1, 1), padding=(1, 1))\n",
              "      (conv_2_2): Conv2d(20, 5, kernel_size=(5, 5), stride=(1, 1), padding=(2, 2))\n",
              "      (conv_3_2): Conv2d(20, 5, kernel_size=(7, 7), stride=(1, 1), padding=(3, 3))\n",
              "      (conv_4_2): Conv2d(20, 5, kernel_size=(9, 9), stride=(1, 1), padding=(4, 4))\n",
              "      (batch_norm_2): BatchNorm2d(20, eps=1e-05, momentum=0.1, affine=True, track_running_stats=True)\n",
              "      (conv_1_3): Conv2d(20, 5, kernel_size=(3, 3), stride=(1, 1), padding=(1, 1))\n",
              "      (conv_2_3): Conv2d(20, 5, kernel_size=(5, 5), stride=(1, 1), padding=(2, 2))\n",
              "      (conv_3_3): Conv2d(20, 5, kernel_size=(7, 7), stride=(1, 1), padding=(3, 3))\n",
              "      (conv_4_3): Conv2d(20, 5, kernel_size=(9, 9), stride=(1, 1), padding=(4, 4))\n",
              "      (batch_norm_3): BatchNorm2d(20, eps=1e-05, momentum=0.1, affine=True, track_running_stats=True)\n",
              "      (conv_1_4): Conv2d(20, 5, kernel_size=(3, 3), stride=(1, 1), padding=(1, 1))\n",
              "      (conv_2_4): Conv2d(20, 5, kernel_size=(5, 5), stride=(1, 1), padding=(2, 2))\n",
              "      (conv_3_4): Conv2d(20, 5, kernel_size=(7, 7), stride=(1, 1), padding=(3, 3))\n",
              "      (conv_4_4): Conv2d(20, 5, kernel_size=(9, 9), stride=(1, 1), padding=(4, 4))\n",
              "      (batch_norm_4): BatchNorm2d(20, eps=1e-05, momentum=0.1, affine=True, track_running_stats=True)\n",
              "      (max_pooling): MaxPool2d(kernel_size=2, stride=2, padding=0, dilation=1, ceil_mode=False)\n",
              "      (relu): ReLU()\n",
              "    )\n",
              "    (dense_3): DenseLayer(\n",
              "      (conv_1_1): Conv2d(20, 5, kernel_size=(3, 3), stride=(1, 1), padding=(1, 1))\n",
              "      (conv_2_1): Conv2d(20, 5, kernel_size=(5, 5), stride=(1, 1), padding=(2, 2))\n",
              "      (conv_3_1): Conv2d(20, 5, kernel_size=(7, 7), stride=(1, 1), padding=(3, 3))\n",
              "      (conv_4_1): Conv2d(20, 5, kernel_size=(9, 9), stride=(1, 1), padding=(4, 4))\n",
              "      (batch_norm_1): BatchNorm2d(20, eps=1e-05, momentum=0.1, affine=True, track_running_stats=True)\n",
              "      (conv_1_2): Conv2d(20, 5, kernel_size=(3, 3), stride=(1, 1), padding=(1, 1))\n",
              "      (conv_2_2): Conv2d(20, 5, kernel_size=(5, 5), stride=(1, 1), padding=(2, 2))\n",
              "      (conv_3_2): Conv2d(20, 5, kernel_size=(7, 7), stride=(1, 1), padding=(3, 3))\n",
              "      (conv_4_2): Conv2d(20, 5, kernel_size=(9, 9), stride=(1, 1), padding=(4, 4))\n",
              "      (batch_norm_2): BatchNorm2d(20, eps=1e-05, momentum=0.1, affine=True, track_running_stats=True)\n",
              "      (conv_1_3): Conv2d(20, 5, kernel_size=(3, 3), stride=(1, 1), padding=(1, 1))\n",
              "      (conv_2_3): Conv2d(20, 5, kernel_size=(5, 5), stride=(1, 1), padding=(2, 2))\n",
              "      (conv_3_3): Conv2d(20, 5, kernel_size=(7, 7), stride=(1, 1), padding=(3, 3))\n",
              "      (conv_4_3): Conv2d(20, 5, kernel_size=(9, 9), stride=(1, 1), padding=(4, 4))\n",
              "      (batch_norm_3): BatchNorm2d(20, eps=1e-05, momentum=0.1, affine=True, track_running_stats=True)\n",
              "      (conv_1_4): Conv2d(20, 5, kernel_size=(3, 3), stride=(1, 1), padding=(1, 1))\n",
              "      (conv_2_4): Conv2d(20, 5, kernel_size=(5, 5), stride=(1, 1), padding=(2, 2))\n",
              "      (conv_3_4): Conv2d(20, 5, kernel_size=(7, 7), stride=(1, 1), padding=(3, 3))\n",
              "      (conv_4_4): Conv2d(20, 5, kernel_size=(9, 9), stride=(1, 1), padding=(4, 4))\n",
              "      (batch_norm_4): BatchNorm2d(20, eps=1e-05, momentum=0.1, affine=True, track_running_stats=True)\n",
              "      (max_pooling): MaxPool2d(kernel_size=2, stride=2, padding=0, dilation=1, ceil_mode=False)\n",
              "      (relu): ReLU()\n",
              "    )\n",
              "    (dense_4): DenseLayer(\n",
              "      (conv_1_1): Conv2d(20, 5, kernel_size=(3, 3), stride=(1, 1), padding=(1, 1))\n",
              "      (conv_2_1): Conv2d(20, 5, kernel_size=(5, 5), stride=(1, 1), padding=(2, 2))\n",
              "      (conv_3_1): Conv2d(20, 5, kernel_size=(7, 7), stride=(1, 1), padding=(3, 3))\n",
              "      (conv_4_1): Conv2d(20, 5, kernel_size=(9, 9), stride=(1, 1), padding=(4, 4))\n",
              "      (batch_norm_1): BatchNorm2d(20, eps=1e-05, momentum=0.1, affine=True, track_running_stats=True)\n",
              "      (conv_1_2): Conv2d(20, 5, kernel_size=(3, 3), stride=(1, 1), padding=(1, 1))\n",
              "      (conv_2_2): Conv2d(20, 5, kernel_size=(5, 5), stride=(1, 1), padding=(2, 2))\n",
              "      (conv_3_2): Conv2d(20, 5, kernel_size=(7, 7), stride=(1, 1), padding=(3, 3))\n",
              "      (conv_4_2): Conv2d(20, 5, kernel_size=(9, 9), stride=(1, 1), padding=(4, 4))\n",
              "      (batch_norm_2): BatchNorm2d(20, eps=1e-05, momentum=0.1, affine=True, track_running_stats=True)\n",
              "      (conv_1_3): Conv2d(20, 5, kernel_size=(3, 3), stride=(1, 1), padding=(1, 1))\n",
              "      (conv_2_3): Conv2d(20, 5, kernel_size=(5, 5), stride=(1, 1), padding=(2, 2))\n",
              "      (conv_3_3): Conv2d(20, 5, kernel_size=(7, 7), stride=(1, 1), padding=(3, 3))\n",
              "      (conv_4_3): Conv2d(20, 5, kernel_size=(9, 9), stride=(1, 1), padding=(4, 4))\n",
              "      (batch_norm_3): BatchNorm2d(20, eps=1e-05, momentum=0.1, affine=True, track_running_stats=True)\n",
              "      (conv_1_4): Conv2d(20, 5, kernel_size=(3, 3), stride=(1, 1), padding=(1, 1))\n",
              "      (conv_2_4): Conv2d(20, 5, kernel_size=(5, 5), stride=(1, 1), padding=(2, 2))\n",
              "      (conv_3_4): Conv2d(20, 5, kernel_size=(7, 7), stride=(1, 1), padding=(3, 3))\n",
              "      (conv_4_4): Conv2d(20, 5, kernel_size=(9, 9), stride=(1, 1), padding=(4, 4))\n",
              "      (batch_norm_4): BatchNorm2d(20, eps=1e-05, momentum=0.1, affine=True, track_running_stats=True)\n",
              "      (max_pooling): MaxPool2d(kernel_size=2, stride=2, padding=0, dilation=1, ceil_mode=False)\n",
              "      (relu): ReLU()\n",
              "    )\n",
              "  )\n",
              "  (decoder): Decoder(\n",
              "    (denseT_1): DenseLayerTranspose(\n",
              "      (convT_1_1): ConvTranspose2d(20, 5, kernel_size=(3, 3), stride=(1, 1), padding=(1, 1))\n",
              "      (convT_2_1): ConvTranspose2d(20, 5, kernel_size=(5, 5), stride=(1, 1), padding=(2, 2))\n",
              "      (convT_3_1): ConvTranspose2d(20, 5, kernel_size=(7, 7), stride=(1, 1), padding=(3, 3))\n",
              "      (convT_4_1): ConvTranspose2d(20, 5, kernel_size=(9, 9), stride=(1, 1), padding=(4, 4))\n",
              "      (batch_norm_1): BatchNorm2d(20, eps=1e-05, momentum=0.1, affine=True, track_running_stats=True)\n",
              "      (convT_1_2): ConvTranspose2d(20, 5, kernel_size=(3, 3), stride=(1, 1), padding=(1, 1))\n",
              "      (convT_2_2): ConvTranspose2d(20, 5, kernel_size=(5, 5), stride=(1, 1), padding=(2, 2))\n",
              "      (convT_3_2): ConvTranspose2d(20, 5, kernel_size=(7, 7), stride=(1, 1), padding=(3, 3))\n",
              "      (convT_4_2): ConvTranspose2d(20, 5, kernel_size=(9, 9), stride=(1, 1), padding=(4, 4))\n",
              "      (batch_norm_2): BatchNorm2d(20, eps=1e-05, momentum=0.1, affine=True, track_running_stats=True)\n",
              "      (convT_1_3): ConvTranspose2d(20, 5, kernel_size=(3, 3), stride=(1, 1), padding=(1, 1))\n",
              "      (convT_2_3): ConvTranspose2d(20, 5, kernel_size=(5, 5), stride=(1, 1), padding=(2, 2))\n",
              "      (convT_3_3): ConvTranspose2d(20, 5, kernel_size=(7, 7), stride=(1, 1), padding=(3, 3))\n",
              "      (convT_4_3): ConvTranspose2d(20, 5, kernel_size=(9, 9), stride=(1, 1), padding=(4, 4))\n",
              "      (batch_norm_3): BatchNorm2d(20, eps=1e-05, momentum=0.1, affine=True, track_running_stats=True)\n",
              "      (convT_1_4): ConvTranspose2d(20, 5, kernel_size=(3, 3), stride=(3, 3), padding=(1, 1))\n",
              "      (convT_2_4): ConvTranspose2d(20, 5, kernel_size=(5, 5), stride=(3, 3), padding=(2, 2))\n",
              "      (convT_3_4): ConvTranspose2d(20, 5, kernel_size=(7, 7), stride=(3, 3), padding=(3, 3))\n",
              "      (convT_4_4): ConvTranspose2d(20, 5, kernel_size=(9, 9), stride=(3, 3), padding=(4, 4))\n",
              "      (batch_norm_4): BatchNorm2d(20, eps=1e-05, momentum=0.1, affine=True, track_running_stats=True)\n",
              "      (relu): ReLU()\n",
              "    )\n",
              "    (denseT_2): DenseLayerTranspose(\n",
              "      (convT_1_1): ConvTranspose2d(20, 5, kernel_size=(3, 3), stride=(1, 1), padding=(1, 1))\n",
              "      (convT_2_1): ConvTranspose2d(20, 5, kernel_size=(5, 5), stride=(1, 1), padding=(2, 2))\n",
              "      (convT_3_1): ConvTranspose2d(20, 5, kernel_size=(7, 7), stride=(1, 1), padding=(3, 3))\n",
              "      (convT_4_1): ConvTranspose2d(20, 5, kernel_size=(9, 9), stride=(1, 1), padding=(4, 4))\n",
              "      (batch_norm_1): BatchNorm2d(20, eps=1e-05, momentum=0.1, affine=True, track_running_stats=True)\n",
              "      (convT_1_2): ConvTranspose2d(20, 5, kernel_size=(3, 3), stride=(1, 1), padding=(1, 1))\n",
              "      (convT_2_2): ConvTranspose2d(20, 5, kernel_size=(5, 5), stride=(1, 1), padding=(2, 2))\n",
              "      (convT_3_2): ConvTranspose2d(20, 5, kernel_size=(7, 7), stride=(1, 1), padding=(3, 3))\n",
              "      (convT_4_2): ConvTranspose2d(20, 5, kernel_size=(9, 9), stride=(1, 1), padding=(4, 4))\n",
              "      (batch_norm_2): BatchNorm2d(20, eps=1e-05, momentum=0.1, affine=True, track_running_stats=True)\n",
              "      (convT_1_3): ConvTranspose2d(20, 5, kernel_size=(3, 3), stride=(1, 1), padding=(1, 1))\n",
              "      (convT_2_3): ConvTranspose2d(20, 5, kernel_size=(5, 5), stride=(1, 1), padding=(2, 2))\n",
              "      (convT_3_3): ConvTranspose2d(20, 5, kernel_size=(7, 7), stride=(1, 1), padding=(3, 3))\n",
              "      (convT_4_3): ConvTranspose2d(20, 5, kernel_size=(9, 9), stride=(1, 1), padding=(4, 4))\n",
              "      (batch_norm_3): BatchNorm2d(20, eps=1e-05, momentum=0.1, affine=True, track_running_stats=True)\n",
              "      (convT_1_4): ConvTranspose2d(20, 5, kernel_size=(3, 3), stride=(2, 2), padding=(1, 1))\n",
              "      (convT_2_4): ConvTranspose2d(20, 5, kernel_size=(5, 5), stride=(2, 2), padding=(2, 2))\n",
              "      (convT_3_4): ConvTranspose2d(20, 5, kernel_size=(7, 7), stride=(2, 2), padding=(3, 3))\n",
              "      (convT_4_4): ConvTranspose2d(20, 5, kernel_size=(9, 9), stride=(2, 2), padding=(4, 4))\n",
              "      (batch_norm_4): BatchNorm2d(20, eps=1e-05, momentum=0.1, affine=True, track_running_stats=True)\n",
              "      (relu): ReLU()\n",
              "    )\n",
              "    (denseT_3): DenseLayerTranspose(\n",
              "      (convT_1_1): ConvTranspose2d(20, 5, kernel_size=(3, 3), stride=(1, 1), padding=(1, 1))\n",
              "      (convT_2_1): ConvTranspose2d(20, 5, kernel_size=(5, 5), stride=(1, 1), padding=(2, 2))\n",
              "      (convT_3_1): ConvTranspose2d(20, 5, kernel_size=(7, 7), stride=(1, 1), padding=(3, 3))\n",
              "      (convT_4_1): ConvTranspose2d(20, 5, kernel_size=(9, 9), stride=(1, 1), padding=(4, 4))\n",
              "      (batch_norm_1): BatchNorm2d(20, eps=1e-05, momentum=0.1, affine=True, track_running_stats=True)\n",
              "      (convT_1_2): ConvTranspose2d(20, 5, kernel_size=(3, 3), stride=(1, 1), padding=(1, 1))\n",
              "      (convT_2_2): ConvTranspose2d(20, 5, kernel_size=(5, 5), stride=(1, 1), padding=(2, 2))\n",
              "      (convT_3_2): ConvTranspose2d(20, 5, kernel_size=(7, 7), stride=(1, 1), padding=(3, 3))\n",
              "      (convT_4_2): ConvTranspose2d(20, 5, kernel_size=(9, 9), stride=(1, 1), padding=(4, 4))\n",
              "      (batch_norm_2): BatchNorm2d(20, eps=1e-05, momentum=0.1, affine=True, track_running_stats=True)\n",
              "      (convT_1_3): ConvTranspose2d(20, 5, kernel_size=(3, 3), stride=(1, 1), padding=(1, 1))\n",
              "      (convT_2_3): ConvTranspose2d(20, 5, kernel_size=(5, 5), stride=(1, 1), padding=(2, 2))\n",
              "      (convT_3_3): ConvTranspose2d(20, 5, kernel_size=(7, 7), stride=(1, 1), padding=(3, 3))\n",
              "      (convT_4_3): ConvTranspose2d(20, 5, kernel_size=(9, 9), stride=(1, 1), padding=(4, 4))\n",
              "      (batch_norm_3): BatchNorm2d(20, eps=1e-05, momentum=0.1, affine=True, track_running_stats=True)\n",
              "      (convT_1_4): ConvTranspose2d(20, 5, kernel_size=(3, 3), stride=(2, 2), padding=(1, 1))\n",
              "      (convT_2_4): ConvTranspose2d(20, 5, kernel_size=(5, 5), stride=(2, 2), padding=(2, 2))\n",
              "      (convT_3_4): ConvTranspose2d(20, 5, kernel_size=(7, 7), stride=(2, 2), padding=(3, 3))\n",
              "      (convT_4_4): ConvTranspose2d(20, 5, kernel_size=(9, 9), stride=(2, 2), padding=(4, 4))\n",
              "      (batch_norm_4): BatchNorm2d(20, eps=1e-05, momentum=0.1, affine=True, track_running_stats=True)\n",
              "      (relu): ReLU()\n",
              "    )\n",
              "    (denseT_4): DenseLayerTranspose(\n",
              "      (convT_1_1): ConvTranspose2d(20, 5, kernel_size=(3, 3), stride=(1, 1), padding=(1, 1))\n",
              "      (convT_2_1): ConvTranspose2d(20, 5, kernel_size=(5, 5), stride=(1, 1), padding=(2, 2))\n",
              "      (convT_3_1): ConvTranspose2d(20, 5, kernel_size=(7, 7), stride=(1, 1), padding=(3, 3))\n",
              "      (convT_4_1): ConvTranspose2d(20, 5, kernel_size=(9, 9), stride=(1, 1), padding=(4, 4))\n",
              "      (batch_norm_1): BatchNorm2d(20, eps=1e-05, momentum=0.1, affine=True, track_running_stats=True)\n",
              "      (convT_1_2): ConvTranspose2d(20, 5, kernel_size=(3, 3), stride=(1, 1), padding=(1, 1))\n",
              "      (convT_2_2): ConvTranspose2d(20, 5, kernel_size=(5, 5), stride=(1, 1), padding=(2, 2))\n",
              "      (convT_3_2): ConvTranspose2d(20, 5, kernel_size=(7, 7), stride=(1, 1), padding=(3, 3))\n",
              "      (convT_4_2): ConvTranspose2d(20, 5, kernel_size=(9, 9), stride=(1, 1), padding=(4, 4))\n",
              "      (batch_norm_2): BatchNorm2d(20, eps=1e-05, momentum=0.1, affine=True, track_running_stats=True)\n",
              "      (convT_1_3): ConvTranspose2d(20, 5, kernel_size=(3, 3), stride=(1, 1), padding=(1, 1))\n",
              "      (convT_2_3): ConvTranspose2d(20, 5, kernel_size=(5, 5), stride=(1, 1), padding=(2, 2))\n",
              "      (convT_3_3): ConvTranspose2d(20, 5, kernel_size=(7, 7), stride=(1, 1), padding=(3, 3))\n",
              "      (convT_4_3): ConvTranspose2d(20, 5, kernel_size=(9, 9), stride=(1, 1), padding=(4, 4))\n",
              "      (batch_norm_3): BatchNorm2d(20, eps=1e-05, momentum=0.1, affine=True, track_running_stats=True)\n",
              "      (convT_1_4): ConvTranspose2d(20, 5, kernel_size=(3, 3), stride=(2, 2), padding=(1, 1))\n",
              "      (convT_2_4): ConvTranspose2d(20, 5, kernel_size=(5, 5), stride=(2, 2), padding=(2, 2))\n",
              "      (convT_3_4): ConvTranspose2d(20, 5, kernel_size=(7, 7), stride=(2, 2), padding=(3, 3))\n",
              "      (convT_4_4): ConvTranspose2d(20, 5, kernel_size=(9, 9), stride=(2, 2), padding=(4, 4))\n",
              "      (batch_norm_4): BatchNorm2d(20, eps=1e-05, momentum=0.1, affine=True, track_running_stats=True)\n",
              "      (relu): ReLU()\n",
              "    )\n",
              "    (conv_last): Conv2d(20, 1, kernel_size=(21, 21), stride=(1, 1))\n",
              "  )\n",
              ")"
            ]
          },
          "metadata": {
            "tags": []
          },
          "execution_count": 7
        }
      ]
    },
    {
      "cell_type": "code",
      "metadata": {
        "id": "60pHuBwypKaf",
        "colab_type": "code",
        "colab": {}
      },
      "source": [
        "class Dataset():\n",
        "\n",
        "    def __init__(self, history_data):\n",
        "        self.data = history_data\n",
        "\n",
        "    def __getitem__(self, index):\n",
        "        result = self.data[index // 100, index % 100]\n",
        "        result = torch.tensor(result, dtype=torch.double).cuda()\n",
        "        result = result.view(1, *result.shape)\n",
        "        return result\n",
        "\n",
        "    def __len__(self):\n",
        "        return len(self.data) * 100"
      ],
      "execution_count": 0,
      "outputs": []
    },
    {
      "cell_type": "code",
      "metadata": {
        "id": "tDDr89pbqPW3",
        "colab_type": "code",
        "outputId": "d591c234-3f41-4df0-824c-0149ac21148b",
        "colab": {
          "base_uri": "https://localhost:8080/",
          "height": 35
        }
      },
      "source": [
        "train_data = Dataset(data[:900])\n",
        "test_data = Dataset(data[900:])\n",
        "train_data[0].shape"
      ],
      "execution_count": 0,
      "outputs": [
        {
          "output_type": "execute_result",
          "data": {
            "text/plain": [
              "torch.Size([1, 101, 101])"
            ]
          },
          "metadata": {
            "tags": []
          },
          "execution_count": 9
        }
      ]
    },
    {
      "cell_type": "code",
      "metadata": {
        "id": "6XJV-I0bqaR4",
        "colab_type": "code",
        "outputId": "f80e78aa-20e6-4d99-e017-a8d6ddf1cf20",
        "colab": {
          "base_uri": "https://localhost:8080/",
          "height": 35
        }
      },
      "source": [
        "train_loader = DataLoader(train_data, batch_size=50)\n",
        "test_loader = DataLoader(test_data, batch_size=50)\n",
        "for batch in train_loader:\n",
        "    print(batch.shape)\n",
        "    break"
      ],
      "execution_count": 0,
      "outputs": [
        {
          "output_type": "stream",
          "text": [
            "torch.Size([50, 1, 101, 101])\n"
          ],
          "name": "stdout"
        }
      ]
    },
    {
      "cell_type": "code",
      "metadata": {
        "id": "8E9aAAEKq0y3",
        "colab_type": "code",
        "outputId": "0d024288-93d7-4524-cf45-9671accf90db",
        "colab": {
          "base_uri": "https://localhost:8080/",
          "height": 35
        }
      },
      "source": [
        "criterion = nn.MSELoss()\n",
        "optimizer = optim.Adam(model.parameters(), lr=0.01)\n",
        "num_epochs = 5\n",
        "test_loss = []\n",
        "\n",
        "model.load_state_dict(torch.load(\n",
        "    \"/content/drive/My Drive/NN_PDE_SPEEDUP/Autoencoder/autoencoder.model\"\n",
        "    ))"
      ],
      "execution_count": 0,
      "outputs": [
        {
          "output_type": "execute_result",
          "data": {
            "text/plain": [
              "<All keys matched successfully>"
            ]
          },
          "metadata": {
            "tags": []
          },
          "execution_count": 38
        }
      ]
    },
    {
      "cell_type": "code",
      "metadata": {
        "id": "Ru_sY8qlrJp3",
        "colab_type": "code",
        "outputId": "505145fd-ce6a-4c93-a600-1762c9d77eff",
        "colab": {
          "base_uri": "https://localhost:8080/",
          "height": 81,
          "referenced_widgets": [
            "70ef905144e34f85af9054192c1cb0da",
            "5b60920707df40c2a2154366b46421e8",
            "7e42970696204885b4b1bf18b3f08e2b",
            "7c8aba1c6c744cc0bddba3143da807ce",
            "012d774a7b7c42b2afcb01471634bbf0",
            "1f74a906c9cb49309acbc5ddb4dd1fa3",
            "eb475225866a41a3ba8a99b392e6dff7",
            "51718ba5a60b43fbbf0faa402593d57e",
            "a2115a6a71684d6cadefa38f07c44ccf",
            "048176063e654732a380a102ebcb2728",
            "00659dbf2e024c3ba69f76cedddfdbe4",
            "9da8a7ca7a364250939ac0cb5e9d779c",
            "e9109984f12a4a699009058877b21ccc",
            "7e73d58555d94729bfc954a1d8cd7d9c",
            "94b5423817ff4d0aa15ec8426e06097e",
            "1b8c16c285cf48799afd15e735292721"
          ]
        }
      },
      "source": [
        "for epoch in tqdm(range(1)):\n",
        "    model.train()\n",
        "    for batch in tqdm(train_loader):\n",
        "        scores = model(batch)\n",
        "\n",
        "        loss = criterion(scores, batch)\n",
        "\n",
        "        optimizer.zero_grad()\n",
        "        loss.backward()\n",
        "        optimizer.step()\n",
        "    torch.save(model.state_dict(), \n",
        "    \"/content/drive/My Drive/NN_PDE_SPEEDUP/Autoencoder/autoencoder.model\"\n",
        "    )\n"
      ],
      "execution_count": 0,
      "outputs": [
        {
          "output_type": "display_data",
          "data": {
            "application/vnd.jupyter.widget-view+json": {
              "model_id": "70ef905144e34f85af9054192c1cb0da",
              "version_minor": 0,
              "version_major": 2
            },
            "text/plain": [
              "HBox(children=(IntProgress(value=0, max=1), HTML(value='')))"
            ]
          },
          "metadata": {
            "tags": []
          }
        },
        {
          "output_type": "display_data",
          "data": {
            "application/vnd.jupyter.widget-view+json": {
              "model_id": "a2115a6a71684d6cadefa38f07c44ccf",
              "version_minor": 0,
              "version_major": 2
            },
            "text/plain": [
              "HBox(children=(IntProgress(value=0, max=1800), HTML(value='')))"
            ]
          },
          "metadata": {
            "tags": []
          }
        }
      ]
    },
    {
      "cell_type": "code",
      "metadata": {
        "id": "6jI6CRQ8zEdl",
        "colab_type": "code",
        "outputId": "080477b2-84cd-4d89-b74a-408189c0a92c",
        "colab": {
          "base_uri": "https://localhost:8080/",
          "height": 85,
          "referenced_widgets": [
            "841d7034680b4f38bfd993c4678bd555",
            "3a201e33718241469a8724efdcad3e3e",
            "85e8d1f5a0bf4dc08ce82fb3ee4975bd",
            "4966ee75674849f69bb573589fa8c717",
            "165f6fa42c674c5aae86e1816a7fe0cd",
            "8b591ea49e5a4d1bb95fa7eb70be8ef1",
            "52314f9468d246cb8885f4b075d77309",
            "cd21303fdc0b4a828269b99efaa4cdbb"
          ]
        }
      },
      "source": [
        "model.eval()\n",
        "loss = 0\n",
        "for batch in tqdm(test_loader):\n",
        "        scores = model(batch)\n",
        "        loss += criterion(scores, batch).item()\n",
        "loss / len(test_loader)"
      ],
      "execution_count": 0,
      "outputs": [
        {
          "output_type": "display_data",
          "data": {
            "application/vnd.jupyter.widget-view+json": {
              "model_id": "841d7034680b4f38bfd993c4678bd555",
              "version_minor": 0,
              "version_major": 2
            },
            "text/plain": [
              "HBox(children=(IntProgress(value=0, max=200), HTML(value='')))"
            ]
          },
          "metadata": {
            "tags": []
          }
        },
        {
          "output_type": "stream",
          "text": [
            "\n"
          ],
          "name": "stdout"
        },
        {
          "output_type": "execute_result",
          "data": {
            "text/plain": [
              "25.788325236595206"
            ]
          },
          "metadata": {
            "tags": []
          },
          "execution_count": 37
        }
      ]
    },
    {
      "cell_type": "code",
      "metadata": {
        "id": "YOA5w4OIh21I",
        "colab_type": "code",
        "outputId": "5b9f016c-a699-4134-f955-3f9a87748131",
        "colab": {
          "base_uri": "https://localhost:8080/",
          "height": 35
        }
      },
      "source": [
        "input_data = test_data[99]\n",
        "scores = model(input_data.view(1, *input_data.shape))\n",
        "torch.max(torch.abs(scores[0] - input_data)) / torch.max(torch.abs(input_data))"
      ],
      "execution_count": 0,
      "outputs": [
        {
          "output_type": "execute_result",
          "data": {
            "text/plain": [
              "tensor(1.0071, device='cuda:0', dtype=torch.float64, grad_fn=<DivBackward0>)"
            ]
          },
          "metadata": {
            "tags": []
          },
          "execution_count": 32
        }
      ]
    },
    {
      "cell_type": "code",
      "metadata": {
        "id": "ZGaI4ZYc_Dg4",
        "colab_type": "code",
        "outputId": "02eb6b72-d03b-4838-9f75-bc649d41e0bf",
        "colab": {
          "base_uri": "https://localhost:8080/",
          "height": 555
        }
      },
      "source": [
        "fig = plt.figure(figsize=(20, 10))\n",
        "\n",
        "plt.subplot(1, 2, 1)\n",
        "im = plt.imshow(input_data[0].detach().cpu().numpy())\n",
        "plt.colorbar(im)\n",
        "plt.grid(False)\n",
        "plt.title('Изначальная функция')\n",
        "\n",
        "plt.subplot(1, 2, 2)\n",
        "im = plt.imshow(scores[0, 0].detach().cpu().numpy())\n",
        "plt.colorbar(im)\n",
        "plt.grid(False)\n",
        "plt.title('Сжатая функция')\n",
        "plt.show()"
      ],
      "execution_count": 0,
      "outputs": [
        {
          "output_type": "display_data",
          "data": {
            "image/png": "[encoded data removed]",
            "text/plain": [
              "<Figure size 1440x720 with 4 Axes>"
            ]
          },
          "metadata": {
            "tags": []
          }
        }
      ]
    },
    {
      "cell_type": "markdown",
      "metadata": {
        "id": "r28qObjWaadh",
        "colab_type": "text"
      },
      "source": [
        "# Еще один подход: попробуем с помощью нелинейной функции ускорить процесс сходимости алгоритма Якоби"
      ]
    },
    {
      "cell_type": "markdown",
      "metadata": {
        "id": "Bh7612o1agJa",
        "colab_type": "text"
      },
      "source": [
        "Мы пытаемся с помощью некоего существенно нелинейного преобразования ускорить сеть. Важно понять, за счет чего это можно сделать. Обратим внимание, что сверточная сеть подходит мало: она работает на преобразование фрагмента изображения и долго передает внутри себя информацию от одного окна к другому. \n",
        "\n",
        "Посмотрим, что будет, если мы попытаемся снизить размерность с помощью PCA. Может ли, хотя бы в теории, использование нелинейного преобразования (т.е. не аппроксимация степени матрицы Якоби) ускорить нашу сходимость. \n",
        "\n",
        "Пусть $n = N^2$ --- размер нашего изображения. За один шаг совершается $4 N^2$ операций. Если мы хотим снизить размерность, то делается это умножением матрицы. Стоимость перемножения матрицы на вектор --- $d \\cdot N^2$, где мы умножаем на матрицу из PCA. Таким образом, снижение размерность обходиться в $d / 4$ операций алгоритма Якоби. Учитывая обратное преобразование, только на снижение размерности мы затрачиваем $d / 2$ итераций алгоритма Якоби. В нашем случае $d = 1000$, а всего итераций алгоритма --- $10000^2 = 10^{8}$.\n",
        "\n",
        "Предположим, что мы приближаем двухслойной сетью. Пусть размер скрутого слоя --- $H$. Тогда сеть осуществляет $2 H d$ операций.\n",
        "\n",
        "Еще замечание. Пусть $E$ --- матрица PCA. Тогда домножим обе части итерации алгоритма Якоби на $E$:\n",
        "\n",
        "$$\n",
        "E u' = E (Tu - \\frac{h^2}{4} f) = E T E^T (E u) - \\frac{h^2}{4} Ef\n",
        "$$\n",
        "\n",
        "Запишем происходящее в нотации Эйнштейна:\n",
        "\n",
        "$$\n",
        "(E T E^T)_{lk} = (ET)_{lpq} E_{k pq} = E_{lij} T_{ijpq} E_{kpq}\n",
        "$$\n",
        "\n",
        "$$\n",
        "T_{ij pq} = \\frac{1}{4} (\\delta_{i p + 1} \\delta_{j q} + \\delta_{ip-1} \\delta_{jq} + \\delta_{i p} \\delta_{j q+1} + \\delta_{i p} \\delta_{j q-1}) I\\{i \\in [1, n-2], j \\in [1, n-2]\\} + I\\{i \\in \\{0, n-1\\} \\text{ or } j \\in \\{0, n-1\\} \\} \\delta_{ip} \\delta_{jq}\n",
        "$$\n",
        "\n",
        "Распишем, что такое  $E_{lij} \\delta_{i p + 1} \\delta_{j q} E_{kpq}I\\{i \\in [1, n-2], j \\in [1, n-2]\\} $:\n",
        "\n",
        "$$\n",
        "E_{lij} \\delta_{i p + 1} \\delta_{j q} E_{kpq} = E_{lp+1 q} E_{kpq} I\\{p \\in [0, n-3], q \\in [1, n-2]\\}.\n",
        "$$\n",
        "\n",
        "Далее обратим внимание, что трехмерному тензору $E_{kpq}$, действующему на $u_{pq}$ соответствует матрица $E_{k (Np + q)}$, которая уже работает с $u_{Np + q}$. Тогда $E_{lp+1 q} E_{kpq} = E_{k (s + N)} E_{ls}$. В конечном итоге мы хотим найти степень преобразования:\n",
        "\n",
        "$$\n",
        "\\frac{1}{4} \\left (E_{k (s + N)} E_{ls} + E_{k (s - N)} E_{ls} + E_{k (s +1)}E_{ls} + E_{k (s-1)} E_{ls} \\right) - \\frac{h^2}{4} E f.\n",
        "$$\n",
        "\n",
        "Индикаторы, чтобы не загромождать формулами лист, опущены. Таким образом, сжимаемость с помощью PCA означает возможность совершения в алгоритме Якоби вместо $N^6$ операций $2 dN^2 + N^4 d^2 \\approx N^4 d^2$ операций. Заметим, однако, что это бессмысленно: в действительности количество операций возрасло в нашем случае в 10 раз, т.к. мы перешли к плотному преобразованию, требующему $d^2$ операций, в то время как преобразование в пространстве размерности $N^2$ требовало всего лишь $O(N^2)$ операций.\n",
        "\n",
        "Обозначим за $F$ скобку в полученном нами уравнении. Пусть мы совершили $r$ итераций в малоразмрном пространстве. Тогда итоговое преобразование имеет вид:\n",
        "\n",
        "$$\n",
        "F^r - \\frac{h^2}{4} \\sum_{i=1}^r Ef \n",
        "$$\n",
        "\n",
        "Такое преобразование может быть предпосчитано (потому что матрица $F$ имеет размерность $d \\times d$). Более того, кажется, это можно сделать быстрее, чем обучить нейросеть."
      ]
    }
  ]
}