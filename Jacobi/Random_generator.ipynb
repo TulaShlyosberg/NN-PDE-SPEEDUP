{
  "nbformat": 4,
  "nbformat_minor": 0,
  "metadata": {
    "colab": {
      "name": "Random_generator.ipynb",
      "provenance": [],
      "collapsed_sections": [],
      "machine_shape": "hm"
    },
    "kernelspec": {
      "name": "python3",
      "display_name": "Python 3"
    },
    "accelerator": "GPU",
    "widgets": {
      "application/vnd.jupyter.widget-state+json": {
        "1d1ee1b4a08340b89c463c8d2e53e538": {
          "model_module": "@jupyter-widgets/controls",
          "model_name": "HBoxModel",
          "state": {
            "_view_name": "HBoxView",
            "_dom_classes": [],
            "_model_name": "HBoxModel",
            "_view_module": "@jupyter-widgets/controls",
            "_model_module_version": "1.5.0",
            "_view_count": null,
            "_view_module_version": "1.5.0",
            "box_style": "",
            "layout": "IPY_MODEL_1e2b6fa495a94157b740a403158e1ef6",
            "_model_module": "@jupyter-widgets/controls",
            "children": [
              "IPY_MODEL_72fc09a2e0564bdc851b782a2399af60",
              "IPY_MODEL_a5c86b28001345a5b6a04416b8a951fd"
            ]
          }
        },
        "1e2b6fa495a94157b740a403158e1ef6": {
          "model_module": "@jupyter-widgets/base",
          "model_name": "LayoutModel",
          "state": {
            "_view_name": "LayoutView",
            "grid_template_rows": null,
            "right": null,
            "justify_content": null,
            "_view_module": "@jupyter-widgets/base",
            "overflow": null,
            "_model_module_version": "1.2.0",
            "_view_count": null,
            "flex_flow": null,
            "width": null,
            "min_width": null,
            "border": null,
            "align_items": null,
            "bottom": null,
            "_model_module": "@jupyter-widgets/base",
            "top": null,
            "grid_column": null,
            "overflow_y": null,
            "overflow_x": null,
            "grid_auto_flow": null,
            "grid_area": null,
            "grid_template_columns": null,
            "flex": null,
            "_model_name": "LayoutModel",
            "justify_items": null,
            "grid_row": null,
            "max_height": null,
            "align_content": null,
            "visibility": null,
            "align_self": null,
            "height": null,
            "min_height": null,
            "padding": null,
            "grid_auto_rows": null,
            "grid_gap": null,
            "max_width": null,
            "order": null,
            "_view_module_version": "1.2.0",
            "grid_template_areas": null,
            "object_position": null,
            "object_fit": null,
            "grid_auto_columns": null,
            "margin": null,
            "display": null,
            "left": null
          }
        },
        "72fc09a2e0564bdc851b782a2399af60": {
          "model_module": "@jupyter-widgets/controls",
          "model_name": "IntProgressModel",
          "state": {
            "_view_name": "ProgressView",
            "style": "IPY_MODEL_11066ba68ec74b49ae4073105bd63873",
            "_dom_classes": [],
            "description": "100%",
            "_model_name": "IntProgressModel",
            "bar_style": "success",
            "max": 1,
            "_view_module": "@jupyter-widgets/controls",
            "_model_module_version": "1.5.0",
            "value": 1,
            "_view_count": null,
            "_view_module_version": "1.5.0",
            "orientation": "horizontal",
            "min": 0,
            "description_tooltip": null,
            "_model_module": "@jupyter-widgets/controls",
            "layout": "IPY_MODEL_96cdca3814da4cecb23740006b0c19ca"
          }
        },
        "a5c86b28001345a5b6a04416b8a951fd": {
          "model_module": "@jupyter-widgets/controls",
          "model_name": "HTMLModel",
          "state": {
            "_view_name": "HTMLView",
            "style": "IPY_MODEL_b562626423d642b8a1709621b4089d27",
            "_dom_classes": [],
            "description": "",
            "_model_name": "HTMLModel",
            "placeholder": "​",
            "_view_module": "@jupyter-widgets/controls",
            "_model_module_version": "1.5.0",
            "value": " 1/1 [00:21&lt;00:00, 21.24s/it]",
            "_view_count": null,
            "_view_module_version": "1.5.0",
            "description_tooltip": null,
            "_model_module": "@jupyter-widgets/controls",
            "layout": "IPY_MODEL_2ef70563587e4b869231aa44c7174c82"
          }
        },
        "11066ba68ec74b49ae4073105bd63873": {
          "model_module": "@jupyter-widgets/controls",
          "model_name": "ProgressStyleModel",
          "state": {
            "_view_name": "StyleView",
            "_model_name": "ProgressStyleModel",
            "description_width": "initial",
            "_view_module": "@jupyter-widgets/base",
            "_model_module_version": "1.5.0",
            "_view_count": null,
            "_view_module_version": "1.2.0",
            "bar_color": null,
            "_model_module": "@jupyter-widgets/controls"
          }
        },
        "96cdca3814da4cecb23740006b0c19ca": {
          "model_module": "@jupyter-widgets/base",
          "model_name": "LayoutModel",
          "state": {
            "_view_name": "LayoutView",
            "grid_template_rows": null,
            "right": null,
            "justify_content": null,
            "_view_module": "@jupyter-widgets/base",
            "overflow": null,
            "_model_module_version": "1.2.0",
            "_view_count": null,
            "flex_flow": null,
            "width": null,
            "min_width": null,
            "border": null,
            "align_items": null,
            "bottom": null,
            "_model_module": "@jupyter-widgets/base",
            "top": null,
            "grid_column": null,
            "overflow_y": null,
            "overflow_x": null,
            "grid_auto_flow": null,
            "grid_area": null,
            "grid_template_columns": null,
            "flex": null,
            "_model_name": "LayoutModel",
            "justify_items": null,
            "grid_row": null,
            "max_height": null,
            "align_content": null,
            "visibility": null,
            "align_self": null,
            "height": null,
            "min_height": null,
            "padding": null,
            "grid_auto_rows": null,
            "grid_gap": null,
            "max_width": null,
            "order": null,
            "_view_module_version": "1.2.0",
            "grid_template_areas": null,
            "object_position": null,
            "object_fit": null,
            "grid_auto_columns": null,
            "margin": null,
            "display": null,
            "left": null
          }
        },
        "b562626423d642b8a1709621b4089d27": {
          "model_module": "@jupyter-widgets/controls",
          "model_name": "DescriptionStyleModel",
          "state": {
            "_view_name": "StyleView",
            "_model_name": "DescriptionStyleModel",
            "description_width": "",
            "_view_module": "@jupyter-widgets/base",
            "_model_module_version": "1.5.0",
            "_view_count": null,
            "_view_module_version": "1.2.0",
            "_model_module": "@jupyter-widgets/controls"
          }
        },
        "2ef70563587e4b869231aa44c7174c82": {
          "model_module": "@jupyter-widgets/base",
          "model_name": "LayoutModel",
          "state": {
            "_view_name": "LayoutView",
            "grid_template_rows": null,
            "right": null,
            "justify_content": null,
            "_view_module": "@jupyter-widgets/base",
            "overflow": null,
            "_model_module_version": "1.2.0",
            "_view_count": null,
            "flex_flow": null,
            "width": null,
            "min_width": null,
            "border": null,
            "align_items": null,
            "bottom": null,
            "_model_module": "@jupyter-widgets/base",
            "top": null,
            "grid_column": null,
            "overflow_y": null,
            "overflow_x": null,
            "grid_auto_flow": null,
            "grid_area": null,
            "grid_template_columns": null,
            "flex": null,
            "_model_name": "LayoutModel",
            "justify_items": null,
            "grid_row": null,
            "max_height": null,
            "align_content": null,
            "visibility": null,
            "align_self": null,
            "height": null,
            "min_height": null,
            "padding": null,
            "grid_auto_rows": null,
            "grid_gap": null,
            "max_width": null,
            "order": null,
            "_view_module_version": "1.2.0",
            "grid_template_areas": null,
            "object_position": null,
            "object_fit": null,
            "grid_auto_columns": null,
            "margin": null,
            "display": null,
            "left": null
          }
        },
        "5e9ad0e8d4f34608bace7e6958f7df3c": {
          "model_module": "@jupyter-widgets/controls",
          "model_name": "HBoxModel",
          "state": {
            "_view_name": "HBoxView",
            "_dom_classes": [],
            "_model_name": "HBoxModel",
            "_view_module": "@jupyter-widgets/controls",
            "_model_module_version": "1.5.0",
            "_view_count": null,
            "_view_module_version": "1.5.0",
            "box_style": "",
            "layout": "IPY_MODEL_c519bbe35ba347deb737374c096fdf72",
            "_model_module": "@jupyter-widgets/controls",
            "children": [
              "IPY_MODEL_1e8851af56dd43f2a012d525f8b931c4",
              "IPY_MODEL_2736225bbaa640fd94f2d63c1ea7f40d"
            ]
          }
        },
        "c519bbe35ba347deb737374c096fdf72": {
          "model_module": "@jupyter-widgets/base",
          "model_name": "LayoutModel",
          "state": {
            "_view_name": "LayoutView",
            "grid_template_rows": null,
            "right": null,
            "justify_content": null,
            "_view_module": "@jupyter-widgets/base",
            "overflow": null,
            "_model_module_version": "1.2.0",
            "_view_count": null,
            "flex_flow": null,
            "width": null,
            "min_width": null,
            "border": null,
            "align_items": null,
            "bottom": null,
            "_model_module": "@jupyter-widgets/base",
            "top": null,
            "grid_column": null,
            "overflow_y": null,
            "overflow_x": null,
            "grid_auto_flow": null,
            "grid_area": null,
            "grid_template_columns": null,
            "flex": null,
            "_model_name": "LayoutModel",
            "justify_items": null,
            "grid_row": null,
            "max_height": null,
            "align_content": null,
            "visibility": null,
            "align_self": null,
            "height": null,
            "min_height": null,
            "padding": null,
            "grid_auto_rows": null,
            "grid_gap": null,
            "max_width": null,
            "order": null,
            "_view_module_version": "1.2.0",
            "grid_template_areas": null,
            "object_position": null,
            "object_fit": null,
            "grid_auto_columns": null,
            "margin": null,
            "display": null,
            "left": null
          }
        },
        "1e8851af56dd43f2a012d525f8b931c4": {
          "model_module": "@jupyter-widgets/controls",
          "model_name": "IntProgressModel",
          "state": {
            "_view_name": "ProgressView",
            "style": "IPY_MODEL_83fddd8a66a0445a9ef313ae232cdda7",
            "_dom_classes": [],
            "description": "100%",
            "_model_name": "IntProgressModel",
            "bar_style": "success",
            "max": 10000,
            "_view_module": "@jupyter-widgets/controls",
            "_model_module_version": "1.5.0",
            "value": 10000,
            "_view_count": null,
            "_view_module_version": "1.5.0",
            "orientation": "horizontal",
            "min": 0,
            "description_tooltip": null,
            "_model_module": "@jupyter-widgets/controls",
            "layout": "IPY_MODEL_03f5960ce1e34dfbbbffbe4cad8de5a1"
          }
        },
        "2736225bbaa640fd94f2d63c1ea7f40d": {
          "model_module": "@jupyter-widgets/controls",
          "model_name": "HTMLModel",
          "state": {
            "_view_name": "HTMLView",
            "style": "IPY_MODEL_11bc4c5d7dda499ba9f2dc9403f2a443",
            "_dom_classes": [],
            "description": "",
            "_model_name": "HTMLModel",
            "placeholder": "​",
            "_view_module": "@jupyter-widgets/controls",
            "_model_module_version": "1.5.0",
            "value": " 10000/10000 [00:20&lt;00:00, 479.30it/s]",
            "_view_count": null,
            "_view_module_version": "1.5.0",
            "description_tooltip": null,
            "_model_module": "@jupyter-widgets/controls",
            "layout": "IPY_MODEL_50638a6f58c448b488a99d67f53bab2b"
          }
        },
        "83fddd8a66a0445a9ef313ae232cdda7": {
          "model_module": "@jupyter-widgets/controls",
          "model_name": "ProgressStyleModel",
          "state": {
            "_view_name": "StyleView",
            "_model_name": "ProgressStyleModel",
            "description_width": "initial",
            "_view_module": "@jupyter-widgets/base",
            "_model_module_version": "1.5.0",
            "_view_count": null,
            "_view_module_version": "1.2.0",
            "bar_color": null,
            "_model_module": "@jupyter-widgets/controls"
          }
        },
        "03f5960ce1e34dfbbbffbe4cad8de5a1": {
          "model_module": "@jupyter-widgets/base",
          "model_name": "LayoutModel",
          "state": {
            "_view_name": "LayoutView",
            "grid_template_rows": null,
            "right": null,
            "justify_content": null,
            "_view_module": "@jupyter-widgets/base",
            "overflow": null,
            "_model_module_version": "1.2.0",
            "_view_count": null,
            "flex_flow": null,
            "width": null,
            "min_width": null,
            "border": null,
            "align_items": null,
            "bottom": null,
            "_model_module": "@jupyter-widgets/base",
            "top": null,
            "grid_column": null,
            "overflow_y": null,
            "overflow_x": null,
            "grid_auto_flow": null,
            "grid_area": null,
            "grid_template_columns": null,
            "flex": null,
            "_model_name": "LayoutModel",
            "justify_items": null,
            "grid_row": null,
            "max_height": null,
            "align_content": null,
            "visibility": null,
            "align_self": null,
            "height": null,
            "min_height": null,
            "padding": null,
            "grid_auto_rows": null,
            "grid_gap": null,
            "max_width": null,
            "order": null,
            "_view_module_version": "1.2.0",
            "grid_template_areas": null,
            "object_position": null,
            "object_fit": null,
            "grid_auto_columns": null,
            "margin": null,
            "display": null,
            "left": null
          }
        },
        "11bc4c5d7dda499ba9f2dc9403f2a443": {
          "model_module": "@jupyter-widgets/controls",
          "model_name": "DescriptionStyleModel",
          "state": {
            "_view_name": "StyleView",
            "_model_name": "DescriptionStyleModel",
            "description_width": "",
            "_view_module": "@jupyter-widgets/base",
            "_model_module_version": "1.5.0",
            "_view_count": null,
            "_view_module_version": "1.2.0",
            "_model_module": "@jupyter-widgets/controls"
          }
        },
        "50638a6f58c448b488a99d67f53bab2b": {
          "model_module": "@jupyter-widgets/base",
          "model_name": "LayoutModel",
          "state": {
            "_view_name": "LayoutView",
            "grid_template_rows": null,
            "right": null,
            "justify_content": null,
            "_view_module": "@jupyter-widgets/base",
            "overflow": null,
            "_model_module_version": "1.2.0",
            "_view_count": null,
            "flex_flow": null,
            "width": null,
            "min_width": null,
            "border": null,
            "align_items": null,
            "bottom": null,
            "_model_module": "@jupyter-widgets/base",
            "top": null,
            "grid_column": null,
            "overflow_y": null,
            "overflow_x": null,
            "grid_auto_flow": null,
            "grid_area": null,
            "grid_template_columns": null,
            "flex": null,
            "_model_name": "LayoutModel",
            "justify_items": null,
            "grid_row": null,
            "max_height": null,
            "align_content": null,
            "visibility": null,
            "align_self": null,
            "height": null,
            "min_height": null,
            "padding": null,
            "grid_auto_rows": null,
            "grid_gap": null,
            "max_width": null,
            "order": null,
            "_view_module_version": "1.2.0",
            "grid_template_areas": null,
            "object_position": null,
            "object_fit": null,
            "grid_auto_columns": null,
            "margin": null,
            "display": null,
            "left": null
          }
        },
        "e345e062d2b0446b9aa6bfdef109ae9e": {
          "model_module": "@jupyter-widgets/controls",
          "model_name": "HBoxModel",
          "state": {
            "_view_name": "HBoxView",
            "_dom_classes": [],
            "_model_name": "HBoxModel",
            "_view_module": "@jupyter-widgets/controls",
            "_model_module_version": "1.5.0",
            "_view_count": null,
            "_view_module_version": "1.5.0",
            "box_style": "",
            "layout": "IPY_MODEL_017c47e78939473bbf1935e3f0af3c49",
            "_model_module": "@jupyter-widgets/controls",
            "children": [
              "IPY_MODEL_255e1f7afa4a43a9960d9f18c3558150",
              "IPY_MODEL_0eb306f9f5414f4c9b682dfb8f31c73f"
            ]
          }
        },
        "017c47e78939473bbf1935e3f0af3c49": {
          "model_module": "@jupyter-widgets/base",
          "model_name": "LayoutModel",
          "state": {
            "_view_name": "LayoutView",
            "grid_template_rows": null,
            "right": null,
            "justify_content": null,
            "_view_module": "@jupyter-widgets/base",
            "overflow": null,
            "_model_module_version": "1.2.0",
            "_view_count": null,
            "flex_flow": null,
            "width": null,
            "min_width": null,
            "border": null,
            "align_items": null,
            "bottom": null,
            "_model_module": "@jupyter-widgets/base",
            "top": null,
            "grid_column": null,
            "overflow_y": null,
            "overflow_x": null,
            "grid_auto_flow": null,
            "grid_area": null,
            "grid_template_columns": null,
            "flex": null,
            "_model_name": "LayoutModel",
            "justify_items": null,
            "grid_row": null,
            "max_height": null,
            "align_content": null,
            "visibility": null,
            "align_self": null,
            "height": null,
            "min_height": null,
            "padding": null,
            "grid_auto_rows": null,
            "grid_gap": null,
            "max_width": null,
            "order": null,
            "_view_module_version": "1.2.0",
            "grid_template_areas": null,
            "object_position": null,
            "object_fit": null,
            "grid_auto_columns": null,
            "margin": null,
            "display": null,
            "left": null
          }
        },
        "255e1f7afa4a43a9960d9f18c3558150": {
          "model_module": "@jupyter-widgets/controls",
          "model_name": "IntProgressModel",
          "state": {
            "_view_name": "ProgressView",
            "style": "IPY_MODEL_72a96859ac2b42e5845a289114080f0e",
            "_dom_classes": [],
            "description": "100%",
            "_model_name": "IntProgressModel",
            "bar_style": "success",
            "max": 1,
            "_view_module": "@jupyter-widgets/controls",
            "_model_module_version": "1.5.0",
            "value": 1,
            "_view_count": null,
            "_view_module_version": "1.5.0",
            "orientation": "horizontal",
            "min": 0,
            "description_tooltip": null,
            "_model_module": "@jupyter-widgets/controls",
            "layout": "IPY_MODEL_85f0ffe506dc4fbb8d0395c90b24cf55"
          }
        },
        "0eb306f9f5414f4c9b682dfb8f31c73f": {
          "model_module": "@jupyter-widgets/controls",
          "model_name": "HTMLModel",
          "state": {
            "_view_name": "HTMLView",
            "style": "IPY_MODEL_37d67da2b3994a019312d5caf4195611",
            "_dom_classes": [],
            "description": "",
            "_model_name": "HTMLModel",
            "placeholder": "​",
            "_view_module": "@jupyter-widgets/controls",
            "_model_module_version": "1.5.0",
            "value": " 1/1 [57:17&lt;00:00, 3437.56s/it]",
            "_view_count": null,
            "_view_module_version": "1.5.0",
            "description_tooltip": null,
            "_model_module": "@jupyter-widgets/controls",
            "layout": "IPY_MODEL_f826aa7ae88c4a48a021af02a177cb25"
          }
        },
        "72a96859ac2b42e5845a289114080f0e": {
          "model_module": "@jupyter-widgets/controls",
          "model_name": "ProgressStyleModel",
          "state": {
            "_view_name": "StyleView",
            "_model_name": "ProgressStyleModel",
            "description_width": "initial",
            "_view_module": "@jupyter-widgets/base",
            "_model_module_version": "1.5.0",
            "_view_count": null,
            "_view_module_version": "1.2.0",
            "bar_color": null,
            "_model_module": "@jupyter-widgets/controls"
          }
        },
        "85f0ffe506dc4fbb8d0395c90b24cf55": {
          "model_module": "@jupyter-widgets/base",
          "model_name": "LayoutModel",
          "state": {
            "_view_name": "LayoutView",
            "grid_template_rows": null,
            "right": null,
            "justify_content": null,
            "_view_module": "@jupyter-widgets/base",
            "overflow": null,
            "_model_module_version": "1.2.0",
            "_view_count": null,
            "flex_flow": null,
            "width": null,
            "min_width": null,
            "border": null,
            "align_items": null,
            "bottom": null,
            "_model_module": "@jupyter-widgets/base",
            "top": null,
            "grid_column": null,
            "overflow_y": null,
            "overflow_x": null,
            "grid_auto_flow": null,
            "grid_area": null,
            "grid_template_columns": null,
            "flex": null,
            "_model_name": "LayoutModel",
            "justify_items": null,
            "grid_row": null,
            "max_height": null,
            "align_content": null,
            "visibility": null,
            "align_self": null,
            "height": null,
            "min_height": null,
            "padding": null,
            "grid_auto_rows": null,
            "grid_gap": null,
            "max_width": null,
            "order": null,
            "_view_module_version": "1.2.0",
            "grid_template_areas": null,
            "object_position": null,
            "object_fit": null,
            "grid_auto_columns": null,
            "margin": null,
            "display": null,
            "left": null
          }
        },
        "37d67da2b3994a019312d5caf4195611": {
          "model_module": "@jupyter-widgets/controls",
          "model_name": "DescriptionStyleModel",
          "state": {
            "_view_name": "StyleView",
            "_model_name": "DescriptionStyleModel",
            "description_width": "",
            "_view_module": "@jupyter-widgets/base",
            "_model_module_version": "1.5.0",
            "_view_count": null,
            "_view_module_version": "1.2.0",
            "_model_module": "@jupyter-widgets/controls"
          }
        },
        "f826aa7ae88c4a48a021af02a177cb25": {
          "model_module": "@jupyter-widgets/base",
          "model_name": "LayoutModel",
          "state": {
            "_view_name": "LayoutView",
            "grid_template_rows": null,
            "right": null,
            "justify_content": null,
            "_view_module": "@jupyter-widgets/base",
            "overflow": null,
            "_model_module_version": "1.2.0",
            "_view_count": null,
            "flex_flow": null,
            "width": null,
            "min_width": null,
            "border": null,
            "align_items": null,
            "bottom": null,
            "_model_module": "@jupyter-widgets/base",
            "top": null,
            "grid_column": null,
            "overflow_y": null,
            "overflow_x": null,
            "grid_auto_flow": null,
            "grid_area": null,
            "grid_template_columns": null,
            "flex": null,
            "_model_name": "LayoutModel",
            "justify_items": null,
            "grid_row": null,
            "max_height": null,
            "align_content": null,
            "visibility": null,
            "align_self": null,
            "height": null,
            "min_height": null,
            "padding": null,
            "grid_auto_rows": null,
            "grid_gap": null,
            "max_width": null,
            "order": null,
            "_view_module_version": "1.2.0",
            "grid_template_areas": null,
            "object_position": null,
            "object_fit": null,
            "grid_auto_columns": null,
            "margin": null,
            "display": null,
            "left": null
          }
        },
        "64f93292a643454180c3253e12e8dad7": {
          "model_module": "@jupyter-widgets/controls",
          "model_name": "HBoxModel",
          "state": {
            "_view_name": "HBoxView",
            "_dom_classes": [],
            "_model_name": "HBoxModel",
            "_view_module": "@jupyter-widgets/controls",
            "_model_module_version": "1.5.0",
            "_view_count": null,
            "_view_module_version": "1.5.0",
            "box_style": "",
            "layout": "IPY_MODEL_87c96ced3e2a4210bd4e006a475050a2",
            "_model_module": "@jupyter-widgets/controls",
            "children": [
              "IPY_MODEL_8b35fc1e18a5445a9a9e03bb96518858",
              "IPY_MODEL_22fcbe1290334c189346aa4cafe05fe5"
            ]
          }
        },
        "87c96ced3e2a4210bd4e006a475050a2": {
          "model_module": "@jupyter-widgets/base",
          "model_name": "LayoutModel",
          "state": {
            "_view_name": "LayoutView",
            "grid_template_rows": null,
            "right": null,
            "justify_content": null,
            "_view_module": "@jupyter-widgets/base",
            "overflow": null,
            "_model_module_version": "1.2.0",
            "_view_count": null,
            "flex_flow": null,
            "width": null,
            "min_width": null,
            "border": null,
            "align_items": null,
            "bottom": null,
            "_model_module": "@jupyter-widgets/base",
            "top": null,
            "grid_column": null,
            "overflow_y": null,
            "overflow_x": null,
            "grid_auto_flow": null,
            "grid_area": null,
            "grid_template_columns": null,
            "flex": null,
            "_model_name": "LayoutModel",
            "justify_items": null,
            "grid_row": null,
            "max_height": null,
            "align_content": null,
            "visibility": null,
            "align_self": null,
            "height": null,
            "min_height": null,
            "padding": null,
            "grid_auto_rows": null,
            "grid_gap": null,
            "max_width": null,
            "order": null,
            "_view_module_version": "1.2.0",
            "grid_template_areas": null,
            "object_position": null,
            "object_fit": null,
            "grid_auto_columns": null,
            "margin": null,
            "display": null,
            "left": null
          }
        },
        "8b35fc1e18a5445a9a9e03bb96518858": {
          "model_module": "@jupyter-widgets/controls",
          "model_name": "IntProgressModel",
          "state": {
            "_view_name": "ProgressView",
            "style": "IPY_MODEL_b88bd6ca0a8d4049b16c1cf1fa078d1c",
            "_dom_classes": [],
            "description": "100%",
            "_model_name": "IntProgressModel",
            "bar_style": "success",
            "max": 10000,
            "_view_module": "@jupyter-widgets/controls",
            "_model_module_version": "1.5.0",
            "value": 10000,
            "_view_count": null,
            "_view_module_version": "1.5.0",
            "orientation": "horizontal",
            "min": 0,
            "description_tooltip": null,
            "_model_module": "@jupyter-widgets/controls",
            "layout": "IPY_MODEL_99e2037262d846eea00fcf4f2ce450c0"
          }
        },
        "22fcbe1290334c189346aa4cafe05fe5": {
          "model_module": "@jupyter-widgets/controls",
          "model_name": "HTMLModel",
          "state": {
            "_view_name": "HTMLView",
            "style": "IPY_MODEL_58a142f0a11440c3aeeda5d5695eb162",
            "_dom_classes": [],
            "description": "",
            "_model_name": "HTMLModel",
            "placeholder": "​",
            "_view_module": "@jupyter-widgets/controls",
            "_model_module_version": "1.5.0",
            "value": " 10000/10000 [57:12&lt;00:00,  2.91it/s]",
            "_view_count": null,
            "_view_module_version": "1.5.0",
            "description_tooltip": null,
            "_model_module": "@jupyter-widgets/controls",
            "layout": "IPY_MODEL_c761507015d142359c8df3bedcfe3540"
          }
        },
        "b88bd6ca0a8d4049b16c1cf1fa078d1c": {
          "model_module": "@jupyter-widgets/controls",
          "model_name": "ProgressStyleModel",
          "state": {
            "_view_name": "StyleView",
            "_model_name": "ProgressStyleModel",
            "description_width": "initial",
            "_view_module": "@jupyter-widgets/base",
            "_model_module_version": "1.5.0",
            "_view_count": null,
            "_view_module_version": "1.2.0",
            "bar_color": null,
            "_model_module": "@jupyter-widgets/controls"
          }
        },
        "99e2037262d846eea00fcf4f2ce450c0": {
          "model_module": "@jupyter-widgets/base",
          "model_name": "LayoutModel",
          "state": {
            "_view_name": "LayoutView",
            "grid_template_rows": null,
            "right": null,
            "justify_content": null,
            "_view_module": "@jupyter-widgets/base",
            "overflow": null,
            "_model_module_version": "1.2.0",
            "_view_count": null,
            "flex_flow": null,
            "width": null,
            "min_width": null,
            "border": null,
            "align_items": null,
            "bottom": null,
            "_model_module": "@jupyter-widgets/base",
            "top": null,
            "grid_column": null,
            "overflow_y": null,
            "overflow_x": null,
            "grid_auto_flow": null,
            "grid_area": null,
            "grid_template_columns": null,
            "flex": null,
            "_model_name": "LayoutModel",
            "justify_items": null,
            "grid_row": null,
            "max_height": null,
            "align_content": null,
            "visibility": null,
            "align_self": null,
            "height": null,
            "min_height": null,
            "padding": null,
            "grid_auto_rows": null,
            "grid_gap": null,
            "max_width": null,
            "order": null,
            "_view_module_version": "1.2.0",
            "grid_template_areas": null,
            "object_position": null,
            "object_fit": null,
            "grid_auto_columns": null,
            "margin": null,
            "display": null,
            "left": null
          }
        },
        "58a142f0a11440c3aeeda5d5695eb162": {
          "model_module": "@jupyter-widgets/controls",
          "model_name": "DescriptionStyleModel",
          "state": {
            "_view_name": "StyleView",
            "_model_name": "DescriptionStyleModel",
            "description_width": "",
            "_view_module": "@jupyter-widgets/base",
            "_model_module_version": "1.5.0",
            "_view_count": null,
            "_view_module_version": "1.2.0",
            "_model_module": "@jupyter-widgets/controls"
          }
        },
        "c761507015d142359c8df3bedcfe3540": {
          "model_module": "@jupyter-widgets/base",
          "model_name": "LayoutModel",
          "state": {
            "_view_name": "LayoutView",
            "grid_template_rows": null,
            "right": null,
            "justify_content": null,
            "_view_module": "@jupyter-widgets/base",
            "overflow": null,
            "_model_module_version": "1.2.0",
            "_view_count": null,
            "flex_flow": null,
            "width": null,
            "min_width": null,
            "border": null,
            "align_items": null,
            "bottom": null,
            "_model_module": "@jupyter-widgets/base",
            "top": null,
            "grid_column": null,
            "overflow_y": null,
            "overflow_x": null,
            "grid_auto_flow": null,
            "grid_area": null,
            "grid_template_columns": null,
            "flex": null,
            "_model_name": "LayoutModel",
            "justify_items": null,
            "grid_row": null,
            "max_height": null,
            "align_content": null,
            "visibility": null,
            "align_self": null,
            "height": null,
            "min_height": null,
            "padding": null,
            "grid_auto_rows": null,
            "grid_gap": null,
            "max_width": null,
            "order": null,
            "_view_module_version": "1.2.0",
            "grid_template_areas": null,
            "object_position": null,
            "object_fit": null,
            "grid_auto_columns": null,
            "margin": null,
            "display": null,
            "left": null
          }
        },
        "f5babaa23d7f4321a69f896faa5d2dea": {
          "model_module": "@jupyter-widgets/controls",
          "model_name": "HBoxModel",
          "state": {
            "_view_name": "HBoxView",
            "_dom_classes": [],
            "_model_name": "HBoxModel",
            "_view_module": "@jupyter-widgets/controls",
            "_model_module_version": "1.5.0",
            "_view_count": null,
            "_view_module_version": "1.5.0",
            "box_style": "",
            "layout": "IPY_MODEL_1a03d90ad0b641c786aff77088021fe8",
            "_model_module": "@jupyter-widgets/controls",
            "children": [
              "IPY_MODEL_8d603ac176c94814956c5f72492e9498",
              "IPY_MODEL_04703e5959124865a599e5dd4d3860a9"
            ]
          }
        },
        "1a03d90ad0b641c786aff77088021fe8": {
          "model_module": "@jupyter-widgets/base",
          "model_name": "LayoutModel",
          "state": {
            "_view_name": "LayoutView",
            "grid_template_rows": null,
            "right": null,
            "justify_content": null,
            "_view_module": "@jupyter-widgets/base",
            "overflow": null,
            "_model_module_version": "1.2.0",
            "_view_count": null,
            "flex_flow": null,
            "width": null,
            "min_width": null,
            "border": null,
            "align_items": null,
            "bottom": null,
            "_model_module": "@jupyter-widgets/base",
            "top": null,
            "grid_column": null,
            "overflow_y": null,
            "overflow_x": null,
            "grid_auto_flow": null,
            "grid_area": null,
            "grid_template_columns": null,
            "flex": null,
            "_model_name": "LayoutModel",
            "justify_items": null,
            "grid_row": null,
            "max_height": null,
            "align_content": null,
            "visibility": null,
            "align_self": null,
            "height": null,
            "min_height": null,
            "padding": null,
            "grid_auto_rows": null,
            "grid_gap": null,
            "max_width": null,
            "order": null,
            "_view_module_version": "1.2.0",
            "grid_template_areas": null,
            "object_position": null,
            "object_fit": null,
            "grid_auto_columns": null,
            "margin": null,
            "display": null,
            "left": null
          }
        },
        "8d603ac176c94814956c5f72492e9498": {
          "model_module": "@jupyter-widgets/controls",
          "model_name": "IntProgressModel",
          "state": {
            "_view_name": "ProgressView",
            "style": "IPY_MODEL_947e1636148340508e75943fa6095398",
            "_dom_classes": [],
            "description": "  4%",
            "_model_name": "IntProgressModel",
            "bar_style": "danger",
            "max": 100,
            "_view_module": "@jupyter-widgets/controls",
            "_model_module_version": "1.5.0",
            "value": 4,
            "_view_count": null,
            "_view_module_version": "1.5.0",
            "orientation": "horizontal",
            "min": 0,
            "description_tooltip": null,
            "_model_module": "@jupyter-widgets/controls",
            "layout": "IPY_MODEL_c1e6cc90e9ab42269915c955dd9d40df"
          }
        },
        "04703e5959124865a599e5dd4d3860a9": {
          "model_module": "@jupyter-widgets/controls",
          "model_name": "HTMLModel",
          "state": {
            "_view_name": "HTMLView",
            "style": "IPY_MODEL_849edab4788c42f698bb520d7244c419",
            "_dom_classes": [],
            "description": "",
            "_model_name": "HTMLModel",
            "placeholder": "​",
            "_view_module": "@jupyter-widgets/controls",
            "_model_module_version": "1.5.0",
            "value": " 4/100 [00:48&lt;15:42,  9.82s/it]",
            "_view_count": null,
            "_view_module_version": "1.5.0",
            "description_tooltip": null,
            "_model_module": "@jupyter-widgets/controls",
            "layout": "IPY_MODEL_e780e082843944a69d31763c5047cad4"
          }
        },
        "947e1636148340508e75943fa6095398": {
          "model_module": "@jupyter-widgets/controls",
          "model_name": "ProgressStyleModel",
          "state": {
            "_view_name": "StyleView",
            "_model_name": "ProgressStyleModel",
            "description_width": "initial",
            "_view_module": "@jupyter-widgets/base",
            "_model_module_version": "1.5.0",
            "_view_count": null,
            "_view_module_version": "1.2.0",
            "bar_color": null,
            "_model_module": "@jupyter-widgets/controls"
          }
        },
        "c1e6cc90e9ab42269915c955dd9d40df": {
          "model_module": "@jupyter-widgets/base",
          "model_name": "LayoutModel",
          "state": {
            "_view_name": "LayoutView",
            "grid_template_rows": null,
            "right": null,
            "justify_content": null,
            "_view_module": "@jupyter-widgets/base",
            "overflow": null,
            "_model_module_version": "1.2.0",
            "_view_count": null,
            "flex_flow": null,
            "width": null,
            "min_width": null,
            "border": null,
            "align_items": null,
            "bottom": null,
            "_model_module": "@jupyter-widgets/base",
            "top": null,
            "grid_column": null,
            "overflow_y": null,
            "overflow_x": null,
            "grid_auto_flow": null,
            "grid_area": null,
            "grid_template_columns": null,
            "flex": null,
            "_model_name": "LayoutModel",
            "justify_items": null,
            "grid_row": null,
            "max_height": null,
            "align_content": null,
            "visibility": null,
            "align_self": null,
            "height": null,
            "min_height": null,
            "padding": null,
            "grid_auto_rows": null,
            "grid_gap": null,
            "max_width": null,
            "order": null,
            "_view_module_version": "1.2.0",
            "grid_template_areas": null,
            "object_position": null,
            "object_fit": null,
            "grid_auto_columns": null,
            "margin": null,
            "display": null,
            "left": null
          }
        },
        "849edab4788c42f698bb520d7244c419": {
          "model_module": "@jupyter-widgets/controls",
          "model_name": "DescriptionStyleModel",
          "state": {
            "_view_name": "StyleView",
            "_model_name": "DescriptionStyleModel",
            "description_width": "",
            "_view_module": "@jupyter-widgets/base",
            "_model_module_version": "1.5.0",
            "_view_count": null,
            "_view_module_version": "1.2.0",
            "_model_module": "@jupyter-widgets/controls"
          }
        },
        "e780e082843944a69d31763c5047cad4": {
          "model_module": "@jupyter-widgets/base",
          "model_name": "LayoutModel",
          "state": {
            "_view_name": "LayoutView",
            "grid_template_rows": null,
            "right": null,
            "justify_content": null,
            "_view_module": "@jupyter-widgets/base",
            "overflow": null,
            "_model_module_version": "1.2.0",
            "_view_count": null,
            "flex_flow": null,
            "width": null,
            "min_width": null,
            "border": null,
            "align_items": null,
            "bottom": null,
            "_model_module": "@jupyter-widgets/base",
            "top": null,
            "grid_column": null,
            "overflow_y": null,
            "overflow_x": null,
            "grid_auto_flow": null,
            "grid_area": null,
            "grid_template_columns": null,
            "flex": null,
            "_model_name": "LayoutModel",
            "justify_items": null,
            "grid_row": null,
            "max_height": null,
            "align_content": null,
            "visibility": null,
            "align_self": null,
            "height": null,
            "min_height": null,
            "padding": null,
            "grid_auto_rows": null,
            "grid_gap": null,
            "max_width": null,
            "order": null,
            "_view_module_version": "1.2.0",
            "grid_template_areas": null,
            "object_position": null,
            "object_fit": null,
            "grid_auto_columns": null,
            "margin": null,
            "display": null,
            "left": null
          }
        }
      }
    }
  },
  "cells": [
    {
      "cell_type": "markdown",
      "metadata": {
        "id": "UXgjtqiDjNrP",
        "colab_type": "text"
      },
      "source": [
        "# Применение нейронных сетей для ускорения метода Якоби\n",
        "\n",
        "Здесь мы попытаемся применить нейронные сети, чтобы ускорить метод Якоби."
      ]
    },
    {
      "cell_type": "markdown",
      "metadata": {
        "id": "11yaNKMGjhUO",
        "colab_type": "text"
      },
      "source": [
        "## Генерация датасета\n",
        "\n",
        "Множество решаемых уравнений:\n",
        "\n",
        "$$\n",
        "        \\Delta u = g(x), \n",
        "$$\n",
        "$$\n",
        "        u(x) = f(x), \\quad x \\in \\partial G.\n",
        "$$\n",
        "\n",
        "Пусть $G$ --- квадрат $[0, 1] \\times [0, 1]$. Рассмотрим одну из его четырех сторон, назовем ее $l_1 = \\{0\\} \\times [0,1]$. Сгенерируем $n$ случайных значений от 0 до 1 и отсортируем их, получим набор $a_1, \\ldots, a_n$, $a_0 = 0$, $a_{n+1} = 1$. После сгенерируем $n+1$ значение из отрезка $[-1, 1]$, получим набор $b_0, \\ldots, b_n$. Точкам $a_i$ можно однозначно сопоставить точки на $l_1$, а $a_0$ и $a_{n+1}$ отождествить с ее концами. В таком случае, запишем:\n",
        "    \n",
        "$$\n",
        "    u(x) = T + b_i, \\quad x \\in \\{0\\} \\times [a_i, a_{i+1}].\n",
        "$$\n",
        "Аналогично поступим с остальными сторонами квадрата.\n",
        "\n",
        "Для генерации различных функций $g(x)$ воспользуемся тем фактом, что средние Рисса сходятся равномерно, т.е.\n",
        "\n",
        "$$\n",
        "g(x) \\approx \\sum_{|n| < \\mu} \\left (1 - \\frac{|n|^2}{\\mu^2} \\right)^s (a_n sin(2 \\pi n \\cdot x) + b_n cos(2 \\pi n \\cdot x)), \\quad s > \\frac{1}{2}.\n",
        "$$\n",
        "\n",
        "Возможно, это не оптимальный вариант перебора. Общая его идея основывается на том, чтобы перебрать различные аппроксимации. Про средние Рисса известно, что они сходятся равномерно, но скорость сходимости мне найти не удалось. Подробности в Overleaf'e. \n",
        "\n",
        "Числа $a_n$ и $b_n$ будем семплировать из $U[-1, 1]$.\n",
        "\n",
        "Запишем генерацию на сетке:\n",
        "\n",
        "$$\n",
        "g_{ij}^{(m)} = \\sum_{p = - \\mu}^{\\mu} \\sum_{k = -\\mu}^{\\mu} \\left (1 - \\frac{p^2 + k^2}{\\mu^2} \\right)^s  \\left ( a_{pk}^{(m)} sin(2 \\pi (p x_i + k y_j)) + b_{pk}^{(m)}cos(2 \\pi (p x_i + k y_j)) \\right ) I\\{p^ 2 + k^2 < \\mu^2\\},\n",
        "$$\n",
        "\n",
        "где $m$ --- номер семпла. Возможно, что множитель не несет смысла --- ведь $a_n$ и $b_n$ случайны, и он задает только их убывание, что можно было бы сделать другим способом."
      ]
    },
    {
      "cell_type": "code",
      "metadata": {
        "id": "ErttOfFAi-zs",
        "colab_type": "code",
        "colab": {}
      },
      "source": [
        "import matplotlib\n",
        "import numpy as np\n",
        "import matplotlib.pyplot as plt\n",
        "import matplotlib.cm as cm\n",
        "import scipy.stats as sps\n",
        "import seaborn as sns\n",
        "from tqdm.notebook import tqdm\n",
        "from time import time\n",
        "import json\n",
        "import os\n",
        "\n",
        "sns.set(font_scale=1.4)"
      ],
      "execution_count": 0,
      "outputs": []
    },
    {
      "cell_type": "code",
      "metadata": {
        "id": "je5j9psyAcsl",
        "colab_type": "code",
        "colab": {}
      },
      "source": [
        "class DatasetGenerator:\n",
        "\n",
        "    def __init__(self, N):\n",
        "        self.N = N\n",
        "\n",
        "    def sample_init_conditionals_(self, sample_size):\n",
        "        \"\"\"\n",
        "        Генерирует sample_size начальных условий\n",
        "        \"\"\"\n",
        "        n = 20\n",
        "        limits = sps.uniform.rvs(size=(sample_size * 4, n))\n",
        "        limits = (np.sort(limits, axis=1) * (self.N + 1))\n",
        "        limits = limits.astype(np.int)\n",
        "        repeats = np.hstack((\n",
        "            limits[:, 0].reshape(-1, 1),\n",
        "            limits[:, 1:] - limits[:, :-1],\n",
        "            ((self.N + 1) - limits[:, -1]).reshape(-1, 1)\n",
        "        ))\n",
        "\n",
        "\n",
        "        values = sps.uniform(loc=-1, scale=2).rvs(size=(sample_size * 4, n + 1))\n",
        "        # дадим случайный подогорев каждой из сторон\n",
        "        # чтобы темепарутра в центре не равна 0\n",
        "        T = sps.uniform(loc=-1, scale=2).rvs(size=(sample_size * 4))\n",
        "        values = T.reshape(-1, 1) + values\n",
        "\n",
        "        self.init_condtionals_ = np.repeat(\n",
        "            values.flatten(), \n",
        "            repeats.flatten()\n",
        "            ).reshape(sample_size, 4, self.N + 1)\n",
        "\n",
        "\n",
        "    def sample_f_(self, sample_size):\n",
        "        \"\"\"\n",
        "        Генерирует sample_size правых частей\n",
        "        \"\"\"\n",
        "        x = np.linspace(0, 1, self.N - 1).repeat(self.N - 1)\n",
        "        y = np.linspace(0, 1, self.N - 1).reshape(1, -1)\n",
        "        y = y.repeat(self.N - 1, axis=0).flatten()\n",
        "        X = np.hstack((\n",
        "            x.reshape(-1, 1),\n",
        "            y.reshape(-1, 1)\n",
        "        ))\n",
        "\n",
        "        assert X.shape == ((self.N - 1) ** 2, 2), \"Неверные размеры\"\n",
        "\n",
        "        mu = 10\n",
        "        amount = 2 * mu + 1\n",
        "        p = np.arange(-mu, mu + 1).repeat(amount)\n",
        "        k = np.arange(-mu, mu + 1).reshape(1, -1)\n",
        "        k = k.repeat(amount, axis=0).flatten()\n",
        "        Z = np.hstack((\n",
        "            p.reshape(-1, 1),\n",
        "            k.reshape(-1, 1)\n",
        "        ))\n",
        "\n",
        "        assert Z.shape == (amount ** 2, 2), \"Неверные размеры\"\n",
        "\n",
        "        # p = [-mu, ..., 0, ..., mu]\n",
        "        # x = [0, h, 2 h, ..., 1]\n",
        "        # Arg[i, j] = 2 \\pi (p[i // amount] * x[j // (self.N - 1)] + \n",
        "        # + p[i % amount] * x[j % (self.N - 1)])\n",
        "        Arg = 2 * np.pi * Z @ X.T\n",
        "\n",
        "        sq_sum = p ** 2 + k ** 2\n",
        "\n",
        "        cos = np.cos(Arg)\n",
        "        sin = np.sin(Arg)\n",
        "\n",
        "        a = sps.uniform(loc=-1, scale=2).rvs(size=(sample_size, amount ** 2))\n",
        "        b = sps.uniform(loc=-1, scale=2).rvs(size=(sample_size, amount ** 2))\n",
        "        \n",
        "        s = 4 / 7\n",
        "        factor = ((1 - sq_sum / mu ** 2) * (sq_sum < mu ** 2)) ** s\n",
        "        a = a * factor\n",
        "        b = b * factor\n",
        "\n",
        "        f = a @ cos + b @ sin\n",
        "        f = f.reshape(sample_size, self.N - 1, self.N -1)\n",
        "        return f\n",
        "        \n",
        "\n",
        "\n",
        "\n",
        "    def __call__(self, num_sample=500, batch_size=100, dir=\"\", save=True):\n",
        "        \"\"\"\n",
        "        Генерирует датасет и сохраняет батчи в директорию\n",
        "        num_samples --- количество элементов датасета\n",
        "        batch_size ---  размер батча\n",
        "        dir --- директория датасета\n",
        "        \"\"\"\n",
        "        assert num_sample % batch_size == 0, \"Некорректный размер батча\"\n",
        "\n",
        "        labels_file_name = os.path.join(dir, 'labels.json')\n",
        "        try:\n",
        "            with open(labels_file_name, 'r') as labels_file:\n",
        "                labels = json.load(labels_file)\n",
        "        except FileNotFoundError:\n",
        "            labels = []\n",
        "\n",
        "\n",
        "        for i in tqdm(range(num_sample // batch_size)):\n",
        "            current_time = time()\n",
        "            labels.append(current_time)\n",
        "            u = np.zeros((batch_size, self.N + 1, self.N + 1))\n",
        "            self.sample_init_conditionals_(batch_size)\n",
        "            u[:, :, 0] = self.init_condtionals_[:, 0, :]\n",
        "            u[:, 0, :] = self.init_condtionals_[:, 1, :]\n",
        "            u[:, :, -1] = self.init_condtionals_[:, 2, :]\n",
        "            u[:, -1, :] = self.init_condtionals_[:, 3, :]\n",
        "\n",
        "            h = 1.0/self.N\n",
        "            max_it = self.N ** 2\n",
        "            x = np.arange(self.N+1) * h # x = i * h, i = 0,...,N\n",
        "            y = np.arange(self.N+1) * h # y = j * h, j = 0,...,N\n",
        "\n",
        "            # согласно Деммелю, это примерное количество итераций\n",
        "            # для получения адекватной неувязки\n",
        "            max_it = self.N ** 2\n",
        "            history = np.zeros(\n",
        "                (batch_size, \n",
        "                max_it // self.N, self.N + 1, \n",
        "                self.N + 1)\n",
        "                )\n",
        "            \n",
        "            x_index = np.repeat(np.arange(1, self.N)[:, np.newaxis], \n",
        "                                self.N-1, axis=1)\n",
        "            y_index = np.repeat(np.arange(1, self.N)[np.newaxis, :], \n",
        "                                self.N-1, axis=0)\n",
        "            f = self.sample_f_(batch_size)\n",
        "\n",
        "            np.save(os.path.join(dir, f'init_cond_{current_time}'),\n",
        "                    self.init_condtionals_)\n",
        "            np.save(os.path.join(dir, f'right_side_{current_time}'), f)\n",
        "            \n",
        "            for j in tqdm(range(max_it)):\n",
        "                u[:, x_index, y_index] = 0.25 * (u[:, x_index + 1, y_index] + \n",
        "                                        u[:, x_index - 1, y_index] + \n",
        "                                        u[:, x_index, y_index + 1] + \n",
        "                                        u[:, x_index, y_index - 1] - h ** 2 * f)\n",
        "                if (j % self.N == 0):\n",
        "                    history[:, j // self.N] = u\n",
        "            \n",
        "            # посмотрим неувязку для первого уравнения\n",
        "            u_new = u[-1].copy()\n",
        "            delta = u_new[x_index, y_index] -\\\n",
        "                                 0.25 * (u_new[x_index + 1, y_index] + \n",
        "                                        u_new[x_index - 1, y_index] + \n",
        "                                        u_new[x_index, y_index + 1] + \n",
        "                                        u_new[x_index, y_index - 1] - \n",
        "                                       h ** 2 * f[-1])\n",
        "            self.log_delta = np.log(np.max(np.abs(delta)) / np.max(np.abs(u_new)))\n",
        "            \n",
        "            np.save(os.path.join(dir, f'solution_{current_time}'), u)\n",
        "            np.save(os.path.join(dir, f'history_{current_time}'), history)\n",
        "\n",
        "            # сохраним времена создания данных\n",
        "            if (save):\n",
        "                with open(labels_file_name, 'w') as labels_file:\n",
        "                    json.dump(labels, labels_file)\n",
        "        # возвратим последнее значение\n",
        "        return u[-1]\n",
        "\n",
        "    def load(self, dir=\"\", load_history=False):\n",
        "        labels_file_name = os.path.join(dir, 'labels.json')\n",
        "        with open(labels_file_name, 'r') as labels_file:\n",
        "            labels = json.load(labels_file)\n",
        "\n",
        "        result = dict()\n",
        "        for label in labels:\n",
        "            solution_path = os.path.join(dir, f'solution_{label}.npy')\n",
        "            init_conditionals_path =\\\n",
        "                    os.path.join(dir, f'init_cond_{label}.npy')\n",
        "            right_side_path = \\\n",
        "                    os.path.join(dir, f'right_side_{label}.npy')\n",
        "            \n",
        "            if (load_history):\n",
        "                history_path = os.path.join(dir, f'history_{label}.npy')\n",
        "\n",
        "\n",
        "            result['solution'] = np.load(solution_path, allow_pickle=True)\n",
        "            result['init_condtionals'] = np.load(init_conditionals_path,\n",
        "                                                 allow_pickle=True)\n",
        "            result['right_side'] = np.load(right_side_path, allow_pickle=True)\n",
        "            \n",
        "            if (load_history):\n",
        "                result['history'] = np.load(history_path, allow_pickle=True)\n",
        "\n",
        "            self.N = result['solution'].shape[-1] - 1\n",
        "\n",
        "            yield result\n",
        "        \n",
        "\n"
      ],
      "execution_count": 0,
      "outputs": []
    },
    {
      "cell_type": "code",
      "metadata": {
        "id": "LG6bNfpaIwfF",
        "colab_type": "code",
        "colab": {}
      },
      "source": [
        "N = 100\n",
        "dg = DatasetGenerator(N)"
      ],
      "execution_count": 0,
      "outputs": []
    },
    {
      "cell_type": "markdown",
      "metadata": {
        "id": "UkfbVZPqO08U",
        "colab_type": "text"
      },
      "source": [
        "Посмотрим на слуйчайно сгенерированную функцию $g$:"
      ]
    },
    {
      "cell_type": "code",
      "metadata": {
        "id": "C9A5oS9Wa46y",
        "colab_type": "code",
        "outputId": "7496054b-0186-4919-9207-32797f4f9877",
        "colab": {
          "base_uri": "https://localhost:8080/",
          "height": 466
        }
      },
      "source": [
        "f  = dg.sample_f_(1)[0]\n",
        "\n",
        "fig = plt.figure(figsize=(8, 8))\n",
        "im = plt.imshow(f)\n",
        "fig.colorbar(im)\n",
        "plt.grid(False)\n",
        "plt.show()"
      ],
      "execution_count": 0,
      "outputs": [
        {
          "output_type": "display_data",
          "data": {
            "image/png": "[encoded data removed]",
            "text/plain": [
              "<Figure size 576x576 with 2 Axes>"
            ]
          },
          "metadata": {
            "tags": []
          }
        }
      ]
    },
    {
      "cell_type": "markdown",
      "metadata": {
        "id": "MQuKSXTCeEjq",
        "colab_type": "text"
      },
      "source": [
        "Видно, что она вполне гладкая и случайная, однако остается вопрос, научится ли наш солвер решать здачи для более \"однородных\" $g$."
      ]
    },
    {
      "cell_type": "markdown",
      "metadata": {
        "id": "53qyo__0i5fM",
        "colab_type": "text"
      },
      "source": [
        "Проверим корректность работы алгоритма:"
      ]
    },
    {
      "cell_type": "code",
      "metadata": {
        "id": "on2GBZgQi8q3",
        "colab_type": "code",
        "outputId": "12b887a6-3ecd-45b8-fdee-c285c4c55390",
        "colab": {
          "base_uri": "https://localhost:8080/",
          "height": 117,
          "referenced_widgets": [
            "1d1ee1b4a08340b89c463c8d2e53e538",
            "1e2b6fa495a94157b740a403158e1ef6",
            "72fc09a2e0564bdc851b782a2399af60",
            "a5c86b28001345a5b6a04416b8a951fd",
            "11066ba68ec74b49ae4073105bd63873",
            "96cdca3814da4cecb23740006b0c19ca",
            "b562626423d642b8a1709621b4089d27",
            "2ef70563587e4b869231aa44c7174c82",
            "5e9ad0e8d4f34608bace7e6958f7df3c",
            "c519bbe35ba347deb737374c096fdf72",
            "1e8851af56dd43f2a012d525f8b931c4",
            "2736225bbaa640fd94f2d63c1ea7f40d",
            "83fddd8a66a0445a9ef313ae232cdda7",
            "03f5960ce1e34dfbbbffbe4cad8de5a1",
            "11bc4c5d7dda499ba9f2dc9403f2a443",
            "50638a6f58c448b488a99d67f53bab2b"
          ]
        }
      },
      "source": [
        "result = dg(num_sample=2, batch_size=2, save=False)"
      ],
      "execution_count": 0,
      "outputs": [
        {
          "output_type": "display_data",
          "data": {
            "application/vnd.jupyter.widget-view+json": {
              "model_id": "1d1ee1b4a08340b89c463c8d2e53e538",
              "version_minor": 0,
              "version_major": 2
            },
            "text/plain": [
              "HBox(children=(IntProgress(value=0, max=1), HTML(value='')))"
            ]
          },
          "metadata": {
            "tags": []
          }
        },
        {
          "output_type": "display_data",
          "data": {
            "application/vnd.jupyter.widget-view+json": {
              "model_id": "5e9ad0e8d4f34608bace7e6958f7df3c",
              "version_minor": 0,
              "version_major": 2
            },
            "text/plain": [
              "HBox(children=(IntProgress(value=0, max=10000), HTML(value='')))"
            ]
          },
          "metadata": {
            "tags": []
          }
        },
        {
          "output_type": "stream",
          "text": [
            "\n",
            "\n"
          ],
          "name": "stdout"
        }
      ]
    },
    {
      "cell_type": "code",
      "metadata": {
        "id": "azA_xBdRmL5z",
        "colab_type": "code",
        "outputId": "9ce6ed8f-15a3-46ff-9d17-e9a9ac2f06ff",
        "colab": {
          "base_uri": "https://localhost:8080/",
          "height": 35
        }
      },
      "source": [
        "print(\"Логарифм невязки:\", dg.log_delta / np.log(10))"
      ],
      "execution_count": 0,
      "outputs": [
        {
          "output_type": "stream",
          "text": [
            "Логарифм неувязки: -7.026925335836878\n"
          ],
          "name": "stdout"
        }
      ]
    },
    {
      "cell_type": "markdown",
      "metadata": {
        "id": "qg2DwvGZu8aH",
        "colab_type": "text"
      },
      "source": [
        "Вполне адекватное значение. Посмотрим на одно из решений."
      ]
    },
    {
      "cell_type": "code",
      "metadata": {
        "id": "_8IHHRfC7bbq",
        "colab_type": "code",
        "outputId": "c573eacb-6c64-4161-cc14-7f084501355d",
        "colab": {
          "base_uri": "https://localhost:8080/",
          "height": 466
        }
      },
      "source": [
        "fig = plt.figure(figsize=(8, 8))\n",
        "im = plt.imshow(result)\n",
        "fig.colorbar(im)\n",
        "plt.grid(False)\n",
        "plt.show()"
      ],
      "execution_count": 0,
      "outputs": [
        {
          "output_type": "display_data",
          "data": {
            "image/png": "[encoded data removed]",
            "text/plain": [
              "<Figure size 576x576 with 2 Axes>"
            ]
          },
          "metadata": {
            "tags": []
          }
        }
      ]
    },
    {
      "cell_type": "markdown",
      "metadata": {
        "id": "lNNJ9wYG8vze",
        "colab_type": "text"
      },
      "source": [
        "Теперь приступим к генерации."
      ]
    },
    {
      "cell_type": "code",
      "metadata": {
        "id": "4hCaGUv4A8zC",
        "colab_type": "code",
        "outputId": "eeb65b42-0a5b-4818-8dc2-dfaa73f6f880",
        "colab": {
          "base_uri": "https://localhost:8080/",
          "height": 117,
          "referenced_widgets": [
            "e345e062d2b0446b9aa6bfdef109ae9e",
            "017c47e78939473bbf1935e3f0af3c49",
            "255e1f7afa4a43a9960d9f18c3558150",
            "0eb306f9f5414f4c9b682dfb8f31c73f",
            "72a96859ac2b42e5845a289114080f0e",
            "85f0ffe506dc4fbb8d0395c90b24cf55",
            "37d67da2b3994a019312d5caf4195611",
            "f826aa7ae88c4a48a021af02a177cb25",
            "64f93292a643454180c3253e12e8dad7",
            "87c96ced3e2a4210bd4e006a475050a2",
            "8b35fc1e18a5445a9a9e03bb96518858",
            "22fcbe1290334c189346aa4cafe05fe5",
            "b88bd6ca0a8d4049b16c1cf1fa078d1c",
            "99e2037262d846eea00fcf4f2ce450c0",
            "58a142f0a11440c3aeeda5d5695eb162",
            "c761507015d142359c8df3bedcfe3540"
          ]
        }
      },
      "source": [
        "dg(num_sample=1000, batch_size=1000, \n",
        "   dir=\"/content/drive/My Drive/NN_PDE_SPEEDUP/Jacobi_data\");"
      ],
      "execution_count": 0,
      "outputs": [
        {
          "output_type": "display_data",
          "data": {
            "application/vnd.jupyter.widget-view+json": {
              "model_id": "e345e062d2b0446b9aa6bfdef109ae9e",
              "version_minor": 0,
              "version_major": 2
            },
            "text/plain": [
              "HBox(children=(IntProgress(value=0, max=1), HTML(value='')))"
            ]
          },
          "metadata": {
            "tags": []
          }
        },
        {
          "output_type": "display_data",
          "data": {
            "application/vnd.jupyter.widget-view+json": {
              "model_id": "64f93292a643454180c3253e12e8dad7",
              "version_minor": 0,
              "version_major": 2
            },
            "text/plain": [
              "HBox(children=(IntProgress(value=0, max=10000), HTML(value='')))"
            ]
          },
          "metadata": {
            "tags": []
          }
        },
        {
          "output_type": "stream",
          "text": [
            "\n",
            "\n"
          ],
          "name": "stdout"
        }
      ]
    },
    {
      "cell_type": "markdown",
      "metadata": {
        "id": "7KGgQBRZT8sU",
        "colab_type": "text"
      },
      "source": [
        "## Поиск решения методами машинного обучения"
      ]
    },
    {
      "cell_type": "markdown",
      "metadata": {
        "id": "dXWzo-qgXY0K",
        "colab_type": "text"
      },
      "source": [
        "### UMAP и простые нейронные сети\n",
        "\n",
        "Попробуем решить задачу тривиальным способом. Возьмем начальные условия, переведем правую часть уравнения Пуассона в вектор размера N + 1 или еще меньше, распрямим. Помним, что мы хотим достичь точности $10^{-6}$."
      ]
    },
    {
      "cell_type": "code",
      "metadata": {
        "id": "utuzjruW0hUP",
        "colab_type": "code",
        "colab": {}
      },
      "source": [
        "import torch\n",
        "import torch.nn as nn\n",
        "import torch.optim as optim\n",
        "\n",
        "from umap import UMAP\n",
        "from sklearn.decomposition import PCA\n",
        "\n",
        "from time import time"
      ],
      "execution_count": 0,
      "outputs": []
    },
    {
      "cell_type": "markdown",
      "metadata": {
        "id": "Zw0vRC0V1Rzu",
        "colab_type": "text"
      },
      "source": [
        "Пока возьмем небольшой датасет из сгенированных нами (1250 различных задач), разобьем его на тренировочную и тестовую выборки."
      ]
    },
    {
      "cell_type": "code",
      "metadata": {
        "id": "Q7gbciuiOyjU",
        "colab_type": "code",
        "colab": {}
      },
      "source": [
        "class TransformData:\n",
        "\n",
        "    def __init__(self, N, neighbors_ic=15, neighbors_u=15):\n",
        "        \"\"\"\n",
        "        N --- размер сетки\n",
        "        neighbors_ic --- количество соседей для UMAP в случае граничных условий\n",
        "        neighbors_u --- количетсво соседей для UMAP в случае решения u\n",
        "        pow --- степень, в формуле снижения размерности для u \n",
        "        \"\"\"\n",
        "        \n",
        "        self.umap_transformer_ic = UMAP(\n",
        "            n_neighbors=neighbors_ic,\n",
        "            n_components=N // 2\n",
        "        )\n",
        "\n",
        "        # количество параметров для mu=10 есть 171\n",
        "        # возьмем 200\n",
        "        self.pca_transformer_g = PCA(\n",
        "            n_components=171\n",
        "        )\n",
        "\n",
        "        # наугад взятая размерность\n",
        "        # мы знаем, что u однозначно задается 2N + 171 параметром,\n",
        "        # но на нам следует взять лишнего\n",
        "        # и в будущем попробовать автоэнкодер\n",
        "        self.pca_inverse = PCA(\n",
        "            n_components=int(N ** 1.5)\n",
        "        )\n",
        "\n",
        "    def target_transform(self, solution):\n",
        "        y = self.pca_inverse.transform(\n",
        "            solution.reshape(solution.shape[0], -1)\n",
        "        )\n",
        "        y = torch.from_numpy(y)\n",
        "        return y\n",
        "\n",
        "\n",
        "    def fit_transform(self, init_cond, right_side, solution):\n",
        "        \"\"\"\n",
        "        init_cond --- начальные условия\n",
        "        right_side --- правая часть\n",
        "        solution --- решение\n",
        "        \"\"\"\n",
        "\n",
        "        print(\"Обучение преобразования снижения размерности для начальных условий...\")\n",
        "        init_cond_trsfmed = self.umap_transformer_ic.fit_transform(\n",
        "            init_cond.reshape(-1, init_cond.shape[-1])\n",
        "        )\n",
        "        init_cond_trsfmed = init_cond_trsfmed.reshape(right_side.shape[0], -1)\n",
        "\n",
        "        print(\"Обучение преобразования снижения размерности для правой части...\")\n",
        "        right_side_trsfmed = self.pca_transformer_g.fit_transform(\n",
        "            right_side.reshape(right_side.shape[0], -1)\n",
        "        )\n",
        "\n",
        "        X = np.hstack((\n",
        "            init_cond_trsfmed,\n",
        "            right_side_trsfmed\n",
        "        ))\n",
        "\n",
        "        X = torch.from_numpy(X)\n",
        "\n",
        "        print(\"Обучение преобразования снижения размерности для решения...\")\n",
        "        y = self.pca_inverse.fit_transform(\n",
        "            solution.reshape(solution.shape[0], -1)\n",
        "        )\n",
        "\n",
        "        y = torch.from_numpy(y)\n",
        "\n",
        "        return X, y\n",
        "\n",
        "    def forward_transform(self, init_cond, right_side):\n",
        "        \"\"\"\n",
        "        init_cond --- начальные условия\n",
        "        right_side --- правая часть\n",
        "        \"\"\"\n",
        "\n",
        "        print('Снижаю размерность начальных условий...')\n",
        "        init_cond_trsfmed = self.umap_transformer_ic.transform(\n",
        "            init_cond.reshape(-1, init_cond.shape[-1])\n",
        "        )\n",
        "        init_cond_trsfmed = init_cond_trsfmed.reshape(right_side.shape[0], -1)\n",
        "\n",
        "        print('Снижаю размерность правой части...')\n",
        "        right_side_trsfmed = self.pca_transformer_g.transform(\n",
        "            right_side.reshape(right_side.shape[0], -1)\n",
        "        )\n",
        "\n",
        "        X = np.hstack((\n",
        "            init_cond_trsfmed,\n",
        "            right_side_trsfmed\n",
        "        ))\n",
        "\n",
        "        X = torch.from_numpy(X)\n",
        "\n",
        "        return X\n",
        "\n",
        "\n",
        "    def reverse_transform(self, solution_trsfmed):\n",
        "\n",
        "        y = solution_trsfmed.detach().numpy()\n",
        "\n",
        "        result = self.pca_inverse.inverse_transform(y)\n",
        "\n",
        "        side = int(np.sqrt(result.shape[1]))\n",
        "\n",
        "        result = result.reshape(-1, side, side)\n",
        "\n",
        "        return result"
      ],
      "execution_count": 0,
      "outputs": []
    },
    {
      "cell_type": "code",
      "metadata": {
        "id": "mTsd7N9a4Tel",
        "colab_type": "code",
        "colab": {}
      },
      "source": [
        "class DataLoader:\n",
        "\n",
        "    def __init__(self, dir=\"\", batch_size=50):\n",
        "        self.dir = dir\n",
        "        self.generator = DatasetGenerator(-1)\n",
        "        self.batch_size = batch_size\n",
        "\n",
        "    def __call__(self, transformer):\n",
        "        for data in self.generator.load(self.dir):\n",
        "            sample_size = data['solution'].shape[0]\n",
        "\n",
        "            X = transformer.forward_transform(\n",
        "                data['init_condtionals'],\n",
        "                data['right_side']\n",
        "            )\n",
        "\n",
        "            y = transformer.target_transform(\n",
        "                data['solution']\n",
        "            )\n",
        "\n",
        "            for t in np.arange(0, sample_size, self.batch_size):\n",
        "                result =  (X[t:t + self.batch_size], y[t:t + self.batch_size])\n",
        "                yield result\n",
        "\n",
        "\n",
        "data_loader = DataLoader(\n",
        "    dir=\"/content/drive/My Drive/NN_PDE_SPEEDUP/Jacobi_data\"\n",
        ")"
      ],
      "execution_count": 0,
      "outputs": []
    },
    {
      "cell_type": "code",
      "metadata": {
        "id": "ro2Q72UwZqQ8",
        "colab_type": "code",
        "outputId": "8269b001-bab1-4fae-e4c6-23ca0e8b0feb",
        "colab": {
          "base_uri": "https://localhost:8080/",
          "height": 71
        }
      },
      "source": [
        "data = next(dg.load(\n",
        "     dir=\"/content/drive/My Drive/NN_PDE_SPEEDUP/Jacobi_data\"\n",
        "))\n",
        "\n",
        "data_transformer = TransformData(N)\n",
        "data_transformer.fit_transform(\n",
        "    data['init_condtionals'],\n",
        "    data['right_side'],\n",
        "    data['solution']\n",
        ");"
      ],
      "execution_count": 0,
      "outputs": [
        {
          "output_type": "stream",
          "text": [
            "Обучение преобразования снижения размерности для начальных условий...\n",
            "Обучение преобразования снижения размерности для правой части...\n",
            "Обучение преобразования снижения размерности для решения...\n"
          ],
          "name": "stdout"
        }
      ]
    },
    {
      "cell_type": "markdown",
      "metadata": {
        "id": "4QTYYk6GlQx_",
        "colab_type": "text"
      },
      "source": [
        "Проверим, что размерность восстанавливается корректно:"
      ]
    },
    {
      "cell_type": "code",
      "metadata": {
        "id": "agWlJAB_lV3Z",
        "colab_type": "code",
        "colab": {}
      },
      "source": [
        "u = data_transformer.reverse_transform(y[150].reshape(1, -1))[0]"
      ],
      "execution_count": 0,
      "outputs": []
    },
    {
      "cell_type": "code",
      "metadata": {
        "id": "EQXBbaR0lgtX",
        "colab_type": "code",
        "outputId": "caa449c9-c77d-4c67-f297-d8707c21d20c",
        "colab": {
          "base_uri": "https://localhost:8080/",
          "height": 928
        }
      },
      "source": [
        "fig = plt.figure(figsize=(16, 16))\n",
        "\n",
        "plt.subplot(2, 2, 1)\n",
        "im = plt.imshow(u)\n",
        "plt.colorbar(im)\n",
        "plt.grid(False)\n",
        "plt.title('Сжатая функция')\n",
        "\n",
        "plt.subplot(2, 2, 2)\n",
        "im = plt.imshow(data['solution'][150])\n",
        "plt.colorbar(im)\n",
        "plt.grid(False)\n",
        "plt.title('Изначальная функция')\n",
        "\n",
        "plt.subplot(2, 2, 3)\n",
        "im = plt.imshow(np.abs(data['solution'][150] - u))\n",
        "plt.colorbar(im)\n",
        "plt.grid(False)\n",
        "plt.title('Остатки')\n",
        "\n",
        "plt.subplot(2, 2, 4)\n",
        "im = plt.imshow(data['right_side'][0])\n",
        "plt.colorbar(im)\n",
        "plt.grid(False)\n",
        "plt.title('Правая часть')\n",
        "\n",
        "print('Невязка:', \\\n",
        "      np.max(np.abs(data['solution'][150] - u)) / \n",
        "      np.max(np.abs(data['solution'][150])))\n",
        "plt.show()"
      ],
      "execution_count": 0,
      "outputs": [
        {
          "output_type": "stream",
          "text": [
            "Невязка: 1.4771319383334605e-14\n"
          ],
          "name": "stdout"
        },
        {
          "output_type": "display_data",
          "data": {
            "image/png": "[encoded data removed]",
            "text/plain": [
              "<Figure size 1152x1152 with 8 Axes>"
            ]
          },
          "metadata": {
            "tags": []
          }
        }
      ]
    },
    {
      "cell_type": "markdown",
      "metadata": {
        "id": "z4iM-OXvy73T",
        "colab_type": "text"
      },
      "source": [
        "Как видим, невязка оказалось очень маленькой (в сравнении с тем, какую точность дает метод Якоби в нашем случае). Стоит заметить, что если взять показатель степени хотя бы 1.4, то невязка возрастает до $10^{-3}$."
      ]
    },
    {
      "cell_type": "code",
      "metadata": {
        "id": "S1T8tQMB5D7n",
        "colab_type": "code",
        "outputId": "64fab82e-e281-430b-93a1-d99050ee0116",
        "colab": {
          "base_uri": "https://localhost:8080/",
          "height": 35
        }
      },
      "source": [
        "USE_GPU = True\n",
        "\n",
        "dtype = torch.float32 # we will be using float throughout this tutorial\n",
        "\n",
        "if USE_GPU and torch.cuda.is_available():\n",
        "    device = torch.device('cuda')\n",
        "else:\n",
        "    device = torch.device('cpu')\n",
        "\n",
        "print('using device:', device)"
      ],
      "execution_count": 0,
      "outputs": [
        {
          "output_type": "stream",
          "text": [
            "using device: cuda\n"
          ],
          "name": "stdout"
        }
      ]
    },
    {
      "cell_type": "code",
      "metadata": {
        "id": "a50EUqFNGOlK",
        "colab_type": "code",
        "colab": {}
      },
      "source": [
        "hidden_layer_size = 150\n",
        "learning_rate = 1e-2"
      ],
      "execution_count": 0,
      "outputs": []
    },
    {
      "cell_type": "code",
      "metadata": {
        "id": "dgdu3SCb2SdG",
        "colab_type": "code",
        "colab": {}
      },
      "source": [
        "model = nn.Sequential(\n",
        "    nn.Linear(N * 2 + 171, 400),\n",
        "    nn.ReLU(),\n",
        "    nn.Linear(400, 500),\n",
        "    nn.Linear(500, 600),\n",
        "    nn.ReLU(),\n",
        "    nn.Linear(600, int(N ** 1.5))\n",
        ")\n",
        "\n",
        "optimizer = optim.SGD(model.parameters(), lr=learning_rate)"
      ],
      "execution_count": 0,
      "outputs": []
    },
    {
      "cell_type": "code",
      "metadata": {
        "id": "UneC1SXC4l2W",
        "colab_type": "code",
        "colab": {}
      },
      "source": [
        "def train(model, optimizer, epochs=1):\n",
        "    \"\"\"\n",
        "    Train a model on dataset using the PyTorch Module API.\n",
        "    \n",
        "    Inputs:\n",
        "    - model: A PyTorch Module giving the model to train.\n",
        "    - optimizer: An Optimizer object we will use to train the model\n",
        "    - epochs: (Optional) A Python integer giving the number of epochs to train for\n",
        "    \n",
        "    Returns: Nothing, but prints model accuracies during training.\n",
        "    \"\"\"\n",
        "    model = model.to(device=device)  # move the model parameters to CPU/GPU\n",
        "    loss = nn.MSELoss()\n",
        "    for e in tqdm(range(epochs)):\n",
        "        generator = data_loader(data_transformer)\n",
        "        for x, y in generator:\n",
        "            model.train()  # put model to training mode\n",
        "            x = x.to(device=device, dtype=dtype)  # move to device, e.g. GPU\n",
        "            y = y.to(device=device, dtype=dtype)\n",
        "\n",
        "            scores = model(x)\n",
        "            output = loss(scores, y)\n",
        "\n",
        "            # Zero out all of the gradients for the variables which the optimizer\n",
        "            # will update.\n",
        "            optimizer.zero_grad()\n",
        "\n",
        "            # This is the backwards pass: compute the gradient of the loss with\n",
        "            # respect to each  parameter of the model.\n",
        "            output.backward()\n",
        "\n",
        "            # Actually update the parameters of the model using the gradients\n",
        "            # computed by the backwards pass.\n",
        "            optimizer.step()"
      ],
      "execution_count": 0,
      "outputs": []
    },
    {
      "cell_type": "code",
      "metadata": {
        "id": "BFrmrYlo8fzN",
        "colab_type": "code",
        "outputId": "c3888a6b-e917-473f-d4fe-9c880b934777",
        "colab": {
          "base_uri": "https://localhost:8080/",
          "height": 876,
          "referenced_widgets": [
            "f5babaa23d7f4321a69f896faa5d2dea",
            "1a03d90ad0b641c786aff77088021fe8",
            "8d603ac176c94814956c5f72492e9498",
            "04703e5959124865a599e5dd4d3860a9",
            "947e1636148340508e75943fa6095398",
            "c1e6cc90e9ab42269915c955dd9d40df",
            "849edab4788c42f698bb520d7244c419",
            "e780e082843944a69d31763c5047cad4"
          ]
        }
      },
      "source": [
        "train(model, optimizer, epochs=100)"
      ],
      "execution_count": 0,
      "outputs": [
        {
          "output_type": "display_data",
          "data": {
            "application/vnd.jupyter.widget-view+json": {
              "model_id": "f5babaa23d7f4321a69f896faa5d2dea",
              "version_minor": 0,
              "version_major": 2
            },
            "text/plain": [
              "HBox(children=(IntProgress(value=0), HTML(value='')))"
            ]
          },
          "metadata": {
            "tags": []
          }
        },
        {
          "output_type": "stream",
          "text": [
            "1000\n",
            "Снижаю размерность начальных условий...\n",
            "Снижаю размерность правой части...\n",
            "1000\n",
            "Снижаю размерность начальных условий...\n",
            "Снижаю размерность правой части...\n",
            "1000\n",
            "Снижаю размерность начальных условий...\n",
            "Снижаю размерность правой части...\n",
            "1000\n",
            "Снижаю размерность начальных условий...\n",
            "Снижаю размерность правой части...\n",
            "1000\n",
            "Снижаю размерность начальных условий...\n",
            "Снижаю размерность правой части...\n",
            "1000\n",
            "Снижаю размерность начальных условий...\n",
            "Снижаю размерность правой части...\n",
            "1000\n",
            "Снижаю размерность начальных условий...\n",
            "Снижаю размерность правой части...\n",
            "1000\n",
            "Снижаю размерность начальных условий...\n",
            "Снижаю размерность правой части...\n",
            "1000\n",
            "Снижаю размерность начальных условий...\n",
            "Снижаю размерность правой части...\n",
            "1000\n",
            "Снижаю размерность начальных условий...\n"
          ],
          "name": "stdout"
        },
        {
          "output_type": "error",
          "ename": "KeyboardInterrupt",
          "evalue": "ignored",
          "traceback": [
            "\u001b[0;31m---------------------------------------------------------------------------\u001b[0m",
            "\u001b[0;31mKeyboardInterrupt\u001b[0m                         Traceback (most recent call last)",
            "\u001b[0;32m<ipython-input-252-c340eada8c99>\u001b[0m in \u001b[0;36m<module>\u001b[0;34m()\u001b[0m\n\u001b[0;32m----> 1\u001b[0;31m \u001b[0mtrain\u001b[0m\u001b[0;34m(\u001b[0m\u001b[0mmodel\u001b[0m\u001b[0;34m,\u001b[0m \u001b[0moptimizer\u001b[0m\u001b[0;34m,\u001b[0m \u001b[0mepochs\u001b[0m\u001b[0;34m=\u001b[0m\u001b[0;36m100\u001b[0m\u001b[0;34m)\u001b[0m\u001b[0;34m\u001b[0m\u001b[0;34m\u001b[0m\u001b[0m\n\u001b[0m",
            "\u001b[0;32m<ipython-input-251-bac04b695a03>\u001b[0m in \u001b[0;36mtrain\u001b[0;34m(model, optimizer, epochs)\u001b[0m\n\u001b[1;32m     14\u001b[0m     \u001b[0;32mfor\u001b[0m \u001b[0me\u001b[0m \u001b[0;32min\u001b[0m \u001b[0mtqdm\u001b[0m\u001b[0;34m(\u001b[0m\u001b[0mrange\u001b[0m\u001b[0;34m(\u001b[0m\u001b[0mepochs\u001b[0m\u001b[0;34m)\u001b[0m\u001b[0;34m)\u001b[0m\u001b[0;34m:\u001b[0m\u001b[0;34m\u001b[0m\u001b[0;34m\u001b[0m\u001b[0m\n\u001b[1;32m     15\u001b[0m         \u001b[0mgenerator\u001b[0m \u001b[0;34m=\u001b[0m \u001b[0mdata_loader\u001b[0m\u001b[0;34m(\u001b[0m\u001b[0mdata_transformer\u001b[0m\u001b[0;34m)\u001b[0m\u001b[0;34m\u001b[0m\u001b[0;34m\u001b[0m\u001b[0m\n\u001b[0;32m---> 16\u001b[0;31m         \u001b[0;32mfor\u001b[0m \u001b[0mx\u001b[0m\u001b[0;34m,\u001b[0m \u001b[0my\u001b[0m \u001b[0;32min\u001b[0m \u001b[0mgenerator\u001b[0m\u001b[0;34m:\u001b[0m\u001b[0;34m\u001b[0m\u001b[0;34m\u001b[0m\u001b[0m\n\u001b[0m\u001b[1;32m     17\u001b[0m             \u001b[0mmodel\u001b[0m\u001b[0;34m.\u001b[0m\u001b[0mtrain\u001b[0m\u001b[0;34m(\u001b[0m\u001b[0;34m)\u001b[0m  \u001b[0;31m# put model to training mode\u001b[0m\u001b[0;34m\u001b[0m\u001b[0;34m\u001b[0m\u001b[0m\n\u001b[1;32m     18\u001b[0m             \u001b[0mx\u001b[0m \u001b[0;34m=\u001b[0m \u001b[0mx\u001b[0m\u001b[0;34m.\u001b[0m\u001b[0mto\u001b[0m\u001b[0;34m(\u001b[0m\u001b[0mdevice\u001b[0m\u001b[0;34m=\u001b[0m\u001b[0mdevice\u001b[0m\u001b[0;34m,\u001b[0m \u001b[0mdtype\u001b[0m\u001b[0;34m=\u001b[0m\u001b[0mdtype\u001b[0m\u001b[0;34m)\u001b[0m  \u001b[0;31m# move to device, e.g. GPU\u001b[0m\u001b[0;34m\u001b[0m\u001b[0;34m\u001b[0m\u001b[0m\n",
            "\u001b[0;32m<ipython-input-250-b45c6044ff00>\u001b[0m in \u001b[0;36m__call__\u001b[0;34m(self, transformer)\u001b[0m\n\u001b[1;32m     13\u001b[0m             X = transformer.forward_transform(\n\u001b[1;32m     14\u001b[0m                 \u001b[0mdata\u001b[0m\u001b[0;34m[\u001b[0m\u001b[0;34m'init_condtionals'\u001b[0m\u001b[0;34m]\u001b[0m\u001b[0;34m,\u001b[0m\u001b[0;34m\u001b[0m\u001b[0;34m\u001b[0m\u001b[0m\n\u001b[0;32m---> 15\u001b[0;31m                 \u001b[0mdata\u001b[0m\u001b[0;34m[\u001b[0m\u001b[0;34m'right_side'\u001b[0m\u001b[0;34m]\u001b[0m\u001b[0;34m\u001b[0m\u001b[0;34m\u001b[0m\u001b[0m\n\u001b[0m\u001b[1;32m     16\u001b[0m             )\n\u001b[1;32m     17\u001b[0m \u001b[0;34m\u001b[0m\u001b[0m\n",
            "\u001b[0;32m<ipython-input-201-41a74f4a012a>\u001b[0m in \u001b[0;36mforward_transform\u001b[0;34m(self, init_cond, right_side)\u001b[0m\n\u001b[1;32m     78\u001b[0m         \u001b[0mprint\u001b[0m\u001b[0;34m(\u001b[0m\u001b[0;34m'Снижаю размерность начальных условий...'\u001b[0m\u001b[0;34m)\u001b[0m\u001b[0;34m\u001b[0m\u001b[0;34m\u001b[0m\u001b[0m\n\u001b[1;32m     79\u001b[0m         init_cond_trsfmed = self.umap_transformer_ic.transform(\n\u001b[0;32m---> 80\u001b[0;31m             \u001b[0minit_cond\u001b[0m\u001b[0;34m.\u001b[0m\u001b[0mreshape\u001b[0m\u001b[0;34m(\u001b[0m\u001b[0;34m-\u001b[0m\u001b[0;36m1\u001b[0m\u001b[0;34m,\u001b[0m \u001b[0minit_cond\u001b[0m\u001b[0;34m.\u001b[0m\u001b[0mshape\u001b[0m\u001b[0;34m[\u001b[0m\u001b[0;34m-\u001b[0m\u001b[0;36m1\u001b[0m\u001b[0;34m]\u001b[0m\u001b[0;34m)\u001b[0m\u001b[0;34m\u001b[0m\u001b[0;34m\u001b[0m\u001b[0m\n\u001b[0m\u001b[1;32m     81\u001b[0m         )\n\u001b[1;32m     82\u001b[0m         \u001b[0minit_cond_trsfmed\u001b[0m \u001b[0;34m=\u001b[0m \u001b[0minit_cond_trsfmed\u001b[0m\u001b[0;34m.\u001b[0m\u001b[0mreshape\u001b[0m\u001b[0;34m(\u001b[0m\u001b[0mright_side\u001b[0m\u001b[0;34m.\u001b[0m\u001b[0mshape\u001b[0m\u001b[0;34m[\u001b[0m\u001b[0;36m0\u001b[0m\u001b[0;34m]\u001b[0m\u001b[0;34m,\u001b[0m \u001b[0;34m-\u001b[0m\u001b[0;36m1\u001b[0m\u001b[0;34m)\u001b[0m\u001b[0;34m\u001b[0m\u001b[0;34m\u001b[0m\u001b[0m\n",
            "\u001b[0;32m/usr/local/lib/python3.6/dist-packages/umap/umap_.py\u001b[0m in \u001b[0;36mtransform\u001b[0;34m(self, X)\u001b[0m\n\u001b[1;32m   1717\u001b[0m             \u001b[0mself\u001b[0m\u001b[0;34m.\u001b[0m\u001b[0m_initial_alpha\u001b[0m\u001b[0;34m,\u001b[0m\u001b[0;34m\u001b[0m\u001b[0;34m\u001b[0m\u001b[0m\n\u001b[1;32m   1718\u001b[0m             \u001b[0mself\u001b[0m\u001b[0;34m.\u001b[0m\u001b[0mnegative_sample_rate\u001b[0m\u001b[0;34m,\u001b[0m\u001b[0;34m\u001b[0m\u001b[0;34m\u001b[0m\u001b[0m\n\u001b[0;32m-> 1719\u001b[0;31m             \u001b[0mverbose\u001b[0m\u001b[0;34m=\u001b[0m\u001b[0mself\u001b[0m\u001b[0;34m.\u001b[0m\u001b[0mverbose\u001b[0m\u001b[0;34m,\u001b[0m\u001b[0;34m\u001b[0m\u001b[0;34m\u001b[0m\u001b[0m\n\u001b[0m\u001b[1;32m   1720\u001b[0m         )\n\u001b[1;32m   1721\u001b[0m \u001b[0;34m\u001b[0m\u001b[0m\n",
            "\u001b[0;31mKeyboardInterrupt\u001b[0m: "
          ]
        }
      ]
    },
    {
      "cell_type": "code",
      "metadata": {
        "id": "zVHMikni8yOb",
        "colab_type": "code",
        "colab": {}
      },
      "source": [
        "def solver(init_cond, right_side):\n",
        "    output = data_transformer.forward_transform(init_cond, right_side)\n",
        "    output = output.to(device=device, dtype=dtype)\n",
        "    output = model(output)\n",
        "    output = torch.Tensor.cpu(output)\n",
        "    output = data_transformer.reverse_transform(output)\n",
        "    output[:, :, 0] = init_cond[:, 0, :]\n",
        "    output[:, 0, :] = init_cond[:, 1, :]\n",
        "    output[:, :, -1] = init_cond[:, 2, :]\n",
        "    output[:, -1, :] = init_cond[:, 3, :]\n",
        "    return output"
      ],
      "execution_count": 0,
      "outputs": []
    },
    {
      "cell_type": "code",
      "metadata": {
        "id": "rgCkFJOm9fRE",
        "colab_type": "code",
        "outputId": "b41d90ec-a1d7-47a5-ed5f-9b9ceba758b3",
        "colab": {
          "base_uri": "https://localhost:8080/",
          "height": 53
        }
      },
      "source": [
        "result = solver(data['init_condtionals'], data['right_side'])"
      ],
      "execution_count": 0,
      "outputs": [
        {
          "output_type": "stream",
          "text": [
            "Снижаю размерность начальных условий...\n",
            "Снижаю размерность правой части...\n"
          ],
          "name": "stdout"
        }
      ]
    },
    {
      "cell_type": "code",
      "metadata": {
        "id": "s3UUTr9k-_dG",
        "colab_type": "code",
        "outputId": "d6d9feeb-8477-454d-99b0-261272317108",
        "colab": {
          "base_uri": "https://localhost:8080/",
          "height": 473
        }
      },
      "source": [
        "fig = plt.figure(figsize=(16, 8))\n",
        "i = 400\n",
        "plt.subplot(1, 2, 1)\n",
        "im = plt.imshow(result[i])\n",
        "plt.colorbar(im)\n",
        "plt.grid(False)\n",
        "plt.title('Предсказанная функция')\n",
        "\n",
        "plt.subplot(1, 2, 2)\n",
        "im = plt.imshow(data['solution'][i])\n",
        "plt.colorbar(im)\n",
        "plt.grid(False)\n",
        "plt.title('Решение уравнения')\n",
        "plt.show()"
      ],
      "execution_count": 0,
      "outputs": [
        {
          "output_type": "display_data",
          "data": {
            "image/png": "[encoded data removed]",
            "text/plain": [
              "<Figure size 1152x576 with 4 Axes>"
            ]
          },
          "metadata": {
            "tags": []
          }
        }
      ]
    },
    {
      "cell_type": "markdown",
      "metadata": {
        "id": "gOL5BoG1SbbD",
        "colab_type": "text"
      },
      "source": [
        "Как мы видим, качество оставляет желать лучшего. Посмотрим, смогли ли мы ускорить сходимость метода Якоби:"
      ]
    },
    {
      "cell_type": "code",
      "metadata": {
        "id": "ZsEGEvR5Qk9a",
        "colab_type": "code",
        "colab": {}
      },
      "source": [
        "def solve_poisson(u, f):\n",
        "    N = u.shape[0] - 1\n",
        "    x_index = np.repeat(np.arange(1, self.N)[:, np.newaxis], \n",
        "                                self.N-1, axis=1)\n",
        "    y_index = np.repeat(np.arange(1, self.N)[np.newaxis, :], \n",
        "                        self.N-1, axis=0)\n",
        "    \n",
        "    while True:\n",
        "        u_new = u.copy()\n",
        "        u_new[x_index, y_index] = 0.25 * (u[x_index + 1, y_index] + \n",
        "                                        u[x_index - 1, y_index] + \n",
        "                                        u[x_index, y_index + 1] + \n",
        "                                        u[x_index, y_index - 1] - h ** 2 * f)\n",
        "        delta = np.max(np.abs(u_new - u)) / np.max(np.abs(u))\n",
        "        u = u_new\n",
        "\n",
        "        if (delta < 1e-6):\n",
        "            break\n",
        "    return u"
      ],
      "execution_count": 0,
      "outputs": []
    },
    {
      "cell_type": "code",
      "metadata": {
        "id": "2w-jgs7PW-LZ",
        "colab_type": "code",
        "colab": {}
      },
      "source": [
        "def NN_solver(init_cond, right_side):\n",
        "    output = solver(init_cond.reshape(1, *init_cond.shape),\n",
        "                    right_side.reshape(1, *right_side.shape))[0]\n",
        "    output = solve_poisson(output, right_side[0])\n",
        "    return output\n",
        "\n",
        "def Jacobi_solver(init_cond, right_side):\n",
        "    N = init_cond.shape[0] - 1\n",
        "    output = np.zeros((N + 1, N + 1))\n",
        "    output[:, 0] = init_cond[0, :]\n",
        "    output[0, :] = init_cond[1, :]\n",
        "    output[:, -1] = init_cond[2, :]\n",
        "    output[-1, :] = init_cond[3, :]\n",
        "    return solve_poisson(output, right_side)"
      ],
      "execution_count": 0,
      "outputs": []
    },
    {
      "cell_type": "code",
      "metadata": {
        "id": "gfDxSqjNfGQk",
        "colab_type": "code",
        "colab": {}
      },
      "source": [
        "dg(num_sample=100, batch_size=100, \n",
        "   dir=\"/content/drive/My Drive/NN_PDE_SPEEDUP/Jacobi_data/test\");\n",
        "\n",
        "test_data = next(\n",
        "    dg.load(dir=\"/content/drive/My Drive/NN_PDE_SPEEDUP/Jacobi_data/test\")\n",
        ")"
      ],
      "execution_count": 0,
      "outputs": []
    },
    {
      "cell_type": "code",
      "metadata": {
        "id": "aPFsT65HgVQd",
        "colab_type": "code",
        "colab": {}
      },
      "source": [
        "time_nn = []\n",
        "time_jacobi = []\n",
        "\n",
        "for i in range(10):\n",
        "    init_cond = data['init_cond'][i]\n",
        "    right_side = data['right_side'][i]\n",
        "\n",
        "    begin_time = time()\n",
        "    NN_solver(init_cond, right_side)\n",
        "    end_time = time()\n",
        "\n",
        "    time_nn.append(end_time - begin_time)\n",
        "\n",
        "    begin_time = time()\n",
        "    Jacobi_solver(init_cond, right_side)\n",
        "    end_time = time()\n",
        "\n",
        "    time_jacobi.append(end_time - begin_time)\n",
        "\n",
        "print('Среднее время работы с нейросетями:', np.mean(time_nn))\n",
        "print('Среднее время работы методя Якоби:', np.mean(time_jacobi))"
      ],
      "execution_count": 0,
      "outputs": []
    }
  ]
}