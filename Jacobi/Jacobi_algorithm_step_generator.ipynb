{
 "cells": [
  {
   "cell_type": "markdown",
   "metadata": {
    "collapsed": true
   },
   "source": [
    "# Генератор шагов алгоритма Якоби для решения уравнения Пуассона"
   ]
  },
  {
   "cell_type": "code",
   "execution_count": null,
   "metadata": {},
   "outputs": [],
   "source": [
    "%matplotlib inline\n",
    "import matplotlib\n",
    "import numpy as np\n",
    "from matplotlib import pyplot as plt\n",
    "from mpl_toolkits.mplot3d import Axes3D\n",
    "matplotlib.rcParams.update({'font.size': 16})\n",
    "plt.rcParams['figure.figsize'] = (10,5)"
   ]
  },
  {
   "cell_type": "code",
   "execution_count": null,
   "metadata": {},
   "outputs": [],
   "source": [
    "def solve_poisson_to(file, N, T1, T2, f, tol = 1e-3, max_it = 1e+4):\n",
    "    \"\"\"\n",
    "    file --- файл, куда сохранять итерации\n",
    "    N-1 --- количество внутренних узлов сетки\n",
    "    T1  --- температура на левой и нижней границе\n",
    "    T2  --- темепература на середине верхней и правой границ\n",
    "    f --- массив (N-1, N-1), правая часть уравнения Пуассона\n",
    "    tol --- относительная неувязка по целевой функции\n",
    "    max_i --- макимальное количество операций\n",
    "    \"\"\"\n",
    "    h = 1.0/N\n",
    "    u = np.zeros((N+1, N+1)) # initialize 2-d solution array\n",
    "    u_new = np.zeros((N+1, N+1))\n",
    "    x = np.arange(N+1) * h # x = i * h, i = 0,...,N\n",
    "    y = np.arange(N+1) * h # y = j * h, j = 0,...,N\n",
    "    # set boundary conditions\n",
    "    history = np.zeros((N + 1, N + 1, max_it))\n",
    "    u_new[:, 0] = T1 \n",
    "    u_new[0, :] = T1\n",
    "    u_new[:, N] = np.where(np.logical_or(x<0.4, x>0.6), T1, T2)         \n",
    "    u_new[N, :] = np.where(np.logical_or(y<0.2, y>0.8), T1, T2) \n",
    "    it = 0\n",
    "    x_index = np.repeat(np.arange(1, N)[:, np.newaxis], N-1, axis=1)\n",
    "    y_index = np.repeat(np.arange(1, N)[np.newaxis, :], N-1, axis=0)\n",
    "    while True:\n",
    "        u = np.copy(u_new)\n",
    "        u_new[x_index, y_index] = 0.25 * (u[x_index + 1, y_index] + \n",
    "                                        u[x_index - 1, y_index] + \n",
    "                                        u[x_index, y_index + 1] + \n",
    "                                        u[x_index, y_index - 1] - h ** 2 * f)\n",
    "        delta = np.max(np.abs(u_new - u)) / np.max(np.abs(u_new))\n",
    "        history[:, :, it] = u_new\n",
    "        it = it + 1\n",
    "        if ((delta < tol) or (it > max_it)):\n",
    "            break\n",
    "    np.save(file, history)\n",
    "    return u_new.T, x, y, it, delta"
   ]
  },
  {
   "cell_type": "code",
   "execution_count": null,
   "metadata": {},
   "outputs": [],
   "source": [
    "T1 = 300\n",
    "T2 = 500\n",
    "u, x, y, it, delta = solve_poisson(N = 40, T1 = T1, T2 = T2, f=0, tol = 1e-6, max_it=1e+4)\n",
    "T_c = u[u.shape[0]//2, u.shape[0]//2]\n",
    "print('it = {0:d}, delta = {1:5.2e}, u(0.5, 0.5) = {2:5.2f}'.format(it, delta, T_c))\n",
    "#\n",
    "# Draw figures\n",
    "#\n",
    "X, Y = np.meshgrid(x, y)\n",
    "fig = plt.figure(figsize = (16,8))\n",
    "ax1 = fig.add_subplot(1, 2, 1)\n",
    "cf = ax1.contourf(X, Y, u, 100, cmap = 'jet')\n",
    "ax1.set_title('T1 = {0:5.1f}, T2 = {1:5.1f}, T_c = {2:5.1f}'.format(T1,T2,T_c))\n",
    "fig.colorbar(cf, ax=ax1)\n",
    "ax1.set_aspect('equal')\n",
    "ax2 = fig.add_subplot(1, 2, 2, projection='3d')\n",
    "ax2.set_xlabel('x')\n",
    "ax2.set_ylabel('y')\n",
    "ax2.view_init(30, 200)\n",
    "# ax2.set_aspect('equal')\n",
    "surf = ax2.plot_surface(X, Y, u, \n",
    "                        cmap ='jet', lw=0, antialiased=True)"
   ]
  }
 ],
 "metadata": {
  "kernelspec": {
   "display_name": "Python [conda env:mipt-stats] *",
   "language": "python",
   "name": "conda-env-mipt-stats-py"
  },
  "language_info": {
   "codemirror_mode": {
    "name": "ipython",
    "version": 3
   },
   "file_extension": ".py",
   "mimetype": "text/x-python",
   "name": "python",
   "nbconvert_exporter": "python",
   "pygments_lexer": "ipython3",
   "version": "3.7.6"
  }
 },
 "nbformat": 4,
 "nbformat_minor": 4
}
